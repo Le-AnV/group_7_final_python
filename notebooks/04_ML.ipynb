{
 "cells": [
  {
   "cell_type": "code",
   "execution_count": 13,
   "id": "947c0838",
   "metadata": {},
   "outputs": [],
   "source": [
    "import pandas as pd"
   ]
  },
  {
   "cell_type": "code",
   "execution_count": 14,
   "id": "33137370",
   "metadata": {},
   "outputs": [],
   "source": [
    "benchmark_scores = pd.read_csv('../data/processed/benchmark_scores_2021_2023_cleaned.csv')\n",
    "subject_groups = pd.read_csv('../data/processed/subject_groups.csv')"
   ]
  },
  {
   "cell_type": "code",
   "execution_count": 15,
   "id": "37fcd6ae",
   "metadata": {},
   "outputs": [
    {
     "data": {
      "application/vnd.microsoft.datawrangler.viewer.v0+json": {
       "columns": [
        {
         "name": "index",
         "rawType": "int64",
         "type": "integer"
        },
        {
         "name": "year_",
         "rawType": "int64",
         "type": "integer"
        },
        {
         "name": "university_code",
         "rawType": "object",
         "type": "string"
        },
        {
         "name": "major_code",
         "rawType": "object",
         "type": "string"
        },
        {
         "name": "major_name",
         "rawType": "object",
         "type": "string"
        },
        {
         "name": "subject_group_code",
         "rawType": "object",
         "type": "string"
        },
        {
         "name": "admission_method",
         "rawType": "object",
         "type": "string"
        },
        {
         "name": "score_scale",
         "rawType": "int64",
         "type": "integer"
        },
        {
         "name": "benchmark_score",
         "rawType": "float64",
         "type": "float"
        }
       ],
       "conversionMethod": "pd.DataFrame",
       "ref": "14aa09e0-db3f-43a8-837c-771689e64214",
       "rows": [
        [
         "0",
         "2021",
         "FTU2",
         "NTS02",
         "Kế toán, Tài chính - Ngân hàng",
         "D07",
         "Tốt nghiệp THPT",
         "30",
         "28.4"
        ],
        [
         "1",
         "2021",
         "GDU",
         "7220201",
         "Ngôn ngữ Anh",
         "D01",
         "Tốt nghiệp THPT",
         "30",
         "16.5"
        ],
        [
         "2",
         "2021",
         "GDU",
         "7220201",
         "Ngôn ngữ Anh",
         "D15",
         "Tốt nghiệp THPT",
         "30",
         "16.5"
        ],
        [
         "3",
         "2021",
         "GDU",
         "7220201",
         "Ngôn ngữ Anh",
         "XDHB",
         "Xét học bạ",
         "30",
         "16.5"
        ],
        [
         "4",
         "2021",
         "GDU",
         "7310608",
         "Đông phương học",
         "D01",
         "Tốt nghiệp THPT",
         "30",
         "16.5"
        ]
       ],
       "shape": {
        "columns": 8,
        "rows": 5
       }
      },
      "text/html": [
       "<div>\n",
       "<style scoped>\n",
       "    .dataframe tbody tr th:only-of-type {\n",
       "        vertical-align: middle;\n",
       "    }\n",
       "\n",
       "    .dataframe tbody tr th {\n",
       "        vertical-align: top;\n",
       "    }\n",
       "\n",
       "    .dataframe thead th {\n",
       "        text-align: right;\n",
       "    }\n",
       "</style>\n",
       "<table border=\"1\" class=\"dataframe\">\n",
       "  <thead>\n",
       "    <tr style=\"text-align: right;\">\n",
       "      <th></th>\n",
       "      <th>year_</th>\n",
       "      <th>university_code</th>\n",
       "      <th>major_code</th>\n",
       "      <th>major_name</th>\n",
       "      <th>subject_group_code</th>\n",
       "      <th>admission_method</th>\n",
       "      <th>score_scale</th>\n",
       "      <th>benchmark_score</th>\n",
       "    </tr>\n",
       "  </thead>\n",
       "  <tbody>\n",
       "    <tr>\n",
       "      <th>0</th>\n",
       "      <td>2021</td>\n",
       "      <td>FTU2</td>\n",
       "      <td>NTS02</td>\n",
       "      <td>Kế toán, Tài chính - Ngân hàng</td>\n",
       "      <td>D07</td>\n",
       "      <td>Tốt nghiệp THPT</td>\n",
       "      <td>30</td>\n",
       "      <td>28.4</td>\n",
       "    </tr>\n",
       "    <tr>\n",
       "      <th>1</th>\n",
       "      <td>2021</td>\n",
       "      <td>GDU</td>\n",
       "      <td>7220201</td>\n",
       "      <td>Ngôn ngữ Anh</td>\n",
       "      <td>D01</td>\n",
       "      <td>Tốt nghiệp THPT</td>\n",
       "      <td>30</td>\n",
       "      <td>16.5</td>\n",
       "    </tr>\n",
       "    <tr>\n",
       "      <th>2</th>\n",
       "      <td>2021</td>\n",
       "      <td>GDU</td>\n",
       "      <td>7220201</td>\n",
       "      <td>Ngôn ngữ Anh</td>\n",
       "      <td>D15</td>\n",
       "      <td>Tốt nghiệp THPT</td>\n",
       "      <td>30</td>\n",
       "      <td>16.5</td>\n",
       "    </tr>\n",
       "    <tr>\n",
       "      <th>3</th>\n",
       "      <td>2021</td>\n",
       "      <td>GDU</td>\n",
       "      <td>7220201</td>\n",
       "      <td>Ngôn ngữ Anh</td>\n",
       "      <td>XDHB</td>\n",
       "      <td>Xét học bạ</td>\n",
       "      <td>30</td>\n",
       "      <td>16.5</td>\n",
       "    </tr>\n",
       "    <tr>\n",
       "      <th>4</th>\n",
       "      <td>2021</td>\n",
       "      <td>GDU</td>\n",
       "      <td>7310608</td>\n",
       "      <td>Đông phương học</td>\n",
       "      <td>D01</td>\n",
       "      <td>Tốt nghiệp THPT</td>\n",
       "      <td>30</td>\n",
       "      <td>16.5</td>\n",
       "    </tr>\n",
       "  </tbody>\n",
       "</table>\n",
       "</div>"
      ],
      "text/plain": [
       "   year_ university_code major_code                      major_name  \\\n",
       "0   2021            FTU2      NTS02  Kế toán, Tài chính - Ngân hàng   \n",
       "1   2021             GDU    7220201                    Ngôn ngữ Anh   \n",
       "2   2021             GDU    7220201                    Ngôn ngữ Anh   \n",
       "3   2021             GDU    7220201                    Ngôn ngữ Anh   \n",
       "4   2021             GDU    7310608                 Đông phương học   \n",
       "\n",
       "  subject_group_code admission_method  score_scale  benchmark_score  \n",
       "0                D07  Tốt nghiệp THPT           30             28.4  \n",
       "1                D01  Tốt nghiệp THPT           30             16.5  \n",
       "2                D15  Tốt nghiệp THPT           30             16.5  \n",
       "3               XDHB       Xét học bạ           30             16.5  \n",
       "4                D01  Tốt nghiệp THPT           30             16.5  "
      ]
     },
     "execution_count": 15,
     "metadata": {},
     "output_type": "execute_result"
    }
   ],
   "source": [
    "benchmark_scores.head()"
   ]
  },
  {
   "cell_type": "code",
   "execution_count": 16,
   "id": "d06ec831",
   "metadata": {},
   "outputs": [
    {
     "data": {
      "application/vnd.microsoft.datawrangler.viewer.v0+json": {
       "columns": [
        {
         "name": "index",
         "rawType": "int64",
         "type": "integer"
        },
        {
         "name": "subject_group_code",
         "rawType": "object",
         "type": "string"
        },
        {
         "name": "subject_1",
         "rawType": "object",
         "type": "string"
        },
        {
         "name": "subject_2",
         "rawType": "object",
         "type": "string"
        },
        {
         "name": "subject_3",
         "rawType": "object",
         "type": "string"
        }
       ],
       "conversionMethod": "pd.DataFrame",
       "ref": "b66dc682-57dd-4678-8985-dc94c292f09b",
       "rows": [
        [
         "0",
         "A00",
         "Toán",
         "Vật lí",
         "Hóa học"
        ],
        [
         "1",
         "A01",
         "Toán",
         "Vật lí",
         "Tiếng Anh"
        ],
        [
         "2",
         "B00",
         "Toán",
         "Hóa học",
         "Sinh học"
        ],
        [
         "3",
         "C00",
         "Ngữ văn",
         "Lịch sử",
         "Địa lí"
        ],
        [
         "4",
         "D01",
         "Ngữ văn",
         "Toán",
         "Tiếng Anh"
        ]
       ],
       "shape": {
        "columns": 4,
        "rows": 5
       }
      },
      "text/html": [
       "<div>\n",
       "<style scoped>\n",
       "    .dataframe tbody tr th:only-of-type {\n",
       "        vertical-align: middle;\n",
       "    }\n",
       "\n",
       "    .dataframe tbody tr th {\n",
       "        vertical-align: top;\n",
       "    }\n",
       "\n",
       "    .dataframe thead th {\n",
       "        text-align: right;\n",
       "    }\n",
       "</style>\n",
       "<table border=\"1\" class=\"dataframe\">\n",
       "  <thead>\n",
       "    <tr style=\"text-align: right;\">\n",
       "      <th></th>\n",
       "      <th>subject_group_code</th>\n",
       "      <th>subject_1</th>\n",
       "      <th>subject_2</th>\n",
       "      <th>subject_3</th>\n",
       "    </tr>\n",
       "  </thead>\n",
       "  <tbody>\n",
       "    <tr>\n",
       "      <th>0</th>\n",
       "      <td>A00</td>\n",
       "      <td>Toán</td>\n",
       "      <td>Vật lí</td>\n",
       "      <td>Hóa học</td>\n",
       "    </tr>\n",
       "    <tr>\n",
       "      <th>1</th>\n",
       "      <td>A01</td>\n",
       "      <td>Toán</td>\n",
       "      <td>Vật lí</td>\n",
       "      <td>Tiếng Anh</td>\n",
       "    </tr>\n",
       "    <tr>\n",
       "      <th>2</th>\n",
       "      <td>B00</td>\n",
       "      <td>Toán</td>\n",
       "      <td>Hóa học</td>\n",
       "      <td>Sinh học</td>\n",
       "    </tr>\n",
       "    <tr>\n",
       "      <th>3</th>\n",
       "      <td>C00</td>\n",
       "      <td>Ngữ văn</td>\n",
       "      <td>Lịch sử</td>\n",
       "      <td>Địa lí</td>\n",
       "    </tr>\n",
       "    <tr>\n",
       "      <th>4</th>\n",
       "      <td>D01</td>\n",
       "      <td>Ngữ văn</td>\n",
       "      <td>Toán</td>\n",
       "      <td>Tiếng Anh</td>\n",
       "    </tr>\n",
       "  </tbody>\n",
       "</table>\n",
       "</div>"
      ],
      "text/plain": [
       "  subject_group_code subject_1 subject_2  subject_3\n",
       "0                A00      Toán    Vật lí    Hóa học\n",
       "1                A01      Toán    Vật lí  Tiếng Anh\n",
       "2                B00      Toán   Hóa học   Sinh học\n",
       "3                C00   Ngữ văn   Lịch sử     Địa lí\n",
       "4                D01   Ngữ văn      Toán  Tiếng Anh"
      ]
     },
     "execution_count": 16,
     "metadata": {},
     "output_type": "execute_result"
    }
   ],
   "source": [
    "subject_groups.head()"
   ]
  },
  {
   "cell_type": "code",
   "execution_count": 17,
   "id": "7ce6ceff",
   "metadata": {},
   "outputs": [],
   "source": [
    "df = pd.merge(benchmark_scores,subject_groups,on='subject_group_code',how='left')"
   ]
  },
  {
   "cell_type": "code",
   "execution_count": 18,
   "id": "bd391ce8",
   "metadata": {},
   "outputs": [
    {
     "data": {
      "application/vnd.microsoft.datawrangler.viewer.v0+json": {
       "columns": [
        {
         "name": "index",
         "rawType": "int64",
         "type": "integer"
        },
        {
         "name": "year_",
         "rawType": "int64",
         "type": "integer"
        },
        {
         "name": "university_code",
         "rawType": "object",
         "type": "string"
        },
        {
         "name": "major_code",
         "rawType": "object",
         "type": "string"
        },
        {
         "name": "major_name",
         "rawType": "object",
         "type": "string"
        },
        {
         "name": "subject_group_code",
         "rawType": "object",
         "type": "string"
        },
        {
         "name": "admission_method",
         "rawType": "object",
         "type": "string"
        },
        {
         "name": "score_scale",
         "rawType": "int64",
         "type": "integer"
        },
        {
         "name": "benchmark_score",
         "rawType": "float64",
         "type": "float"
        },
        {
         "name": "subject_1",
         "rawType": "object",
         "type": "unknown"
        },
        {
         "name": "subject_2",
         "rawType": "object",
         "type": "unknown"
        },
        {
         "name": "subject_3",
         "rawType": "object",
         "type": "unknown"
        }
       ],
       "conversionMethod": "pd.DataFrame",
       "ref": "b9f8bb65-bc00-446c-ab2e-60ac1235f400",
       "rows": [
        [
         "0",
         "2021",
         "FTU2",
         "NTS02",
         "Kế toán, Tài chính - Ngân hàng",
         "D07",
         "Tốt nghiệp THPT",
         "30",
         "28.4",
         "Toán",
         "Hóa học",
         "Tiếng Anh"
        ],
        [
         "1",
         "2021",
         "GDU",
         "7220201",
         "Ngôn ngữ Anh",
         "D01",
         "Tốt nghiệp THPT",
         "30",
         "16.5",
         "Ngữ văn",
         "Toán",
         "Tiếng Anh"
        ],
        [
         "2",
         "2021",
         "GDU",
         "7220201",
         "Ngôn ngữ Anh",
         "D15",
         "Tốt nghiệp THPT",
         "30",
         "16.5",
         "Ngữ văn",
         "Địa lí",
         "Tiếng Anh"
        ],
        [
         "3",
         "2021",
         "GDU",
         "7220201",
         "Ngôn ngữ Anh",
         "XDHB",
         "Xét học bạ",
         "30",
         "16.5",
         null,
         null,
         null
        ],
        [
         "4",
         "2021",
         "GDU",
         "7310608",
         "Đông phương học",
         "D01",
         "Tốt nghiệp THPT",
         "30",
         "16.5",
         "Ngữ văn",
         "Toán",
         "Tiếng Anh"
        ]
       ],
       "shape": {
        "columns": 11,
        "rows": 5
       }
      },
      "text/html": [
       "<div>\n",
       "<style scoped>\n",
       "    .dataframe tbody tr th:only-of-type {\n",
       "        vertical-align: middle;\n",
       "    }\n",
       "\n",
       "    .dataframe tbody tr th {\n",
       "        vertical-align: top;\n",
       "    }\n",
       "\n",
       "    .dataframe thead th {\n",
       "        text-align: right;\n",
       "    }\n",
       "</style>\n",
       "<table border=\"1\" class=\"dataframe\">\n",
       "  <thead>\n",
       "    <tr style=\"text-align: right;\">\n",
       "      <th></th>\n",
       "      <th>year_</th>\n",
       "      <th>university_code</th>\n",
       "      <th>major_code</th>\n",
       "      <th>major_name</th>\n",
       "      <th>subject_group_code</th>\n",
       "      <th>admission_method</th>\n",
       "      <th>score_scale</th>\n",
       "      <th>benchmark_score</th>\n",
       "      <th>subject_1</th>\n",
       "      <th>subject_2</th>\n",
       "      <th>subject_3</th>\n",
       "    </tr>\n",
       "  </thead>\n",
       "  <tbody>\n",
       "    <tr>\n",
       "      <th>0</th>\n",
       "      <td>2021</td>\n",
       "      <td>FTU2</td>\n",
       "      <td>NTS02</td>\n",
       "      <td>Kế toán, Tài chính - Ngân hàng</td>\n",
       "      <td>D07</td>\n",
       "      <td>Tốt nghiệp THPT</td>\n",
       "      <td>30</td>\n",
       "      <td>28.4</td>\n",
       "      <td>Toán</td>\n",
       "      <td>Hóa học</td>\n",
       "      <td>Tiếng Anh</td>\n",
       "    </tr>\n",
       "    <tr>\n",
       "      <th>1</th>\n",
       "      <td>2021</td>\n",
       "      <td>GDU</td>\n",
       "      <td>7220201</td>\n",
       "      <td>Ngôn ngữ Anh</td>\n",
       "      <td>D01</td>\n",
       "      <td>Tốt nghiệp THPT</td>\n",
       "      <td>30</td>\n",
       "      <td>16.5</td>\n",
       "      <td>Ngữ văn</td>\n",
       "      <td>Toán</td>\n",
       "      <td>Tiếng Anh</td>\n",
       "    </tr>\n",
       "    <tr>\n",
       "      <th>2</th>\n",
       "      <td>2021</td>\n",
       "      <td>GDU</td>\n",
       "      <td>7220201</td>\n",
       "      <td>Ngôn ngữ Anh</td>\n",
       "      <td>D15</td>\n",
       "      <td>Tốt nghiệp THPT</td>\n",
       "      <td>30</td>\n",
       "      <td>16.5</td>\n",
       "      <td>Ngữ văn</td>\n",
       "      <td>Địa lí</td>\n",
       "      <td>Tiếng Anh</td>\n",
       "    </tr>\n",
       "    <tr>\n",
       "      <th>3</th>\n",
       "      <td>2021</td>\n",
       "      <td>GDU</td>\n",
       "      <td>7220201</td>\n",
       "      <td>Ngôn ngữ Anh</td>\n",
       "      <td>XDHB</td>\n",
       "      <td>Xét học bạ</td>\n",
       "      <td>30</td>\n",
       "      <td>16.5</td>\n",
       "      <td>NaN</td>\n",
       "      <td>NaN</td>\n",
       "      <td>NaN</td>\n",
       "    </tr>\n",
       "    <tr>\n",
       "      <th>4</th>\n",
       "      <td>2021</td>\n",
       "      <td>GDU</td>\n",
       "      <td>7310608</td>\n",
       "      <td>Đông phương học</td>\n",
       "      <td>D01</td>\n",
       "      <td>Tốt nghiệp THPT</td>\n",
       "      <td>30</td>\n",
       "      <td>16.5</td>\n",
       "      <td>Ngữ văn</td>\n",
       "      <td>Toán</td>\n",
       "      <td>Tiếng Anh</td>\n",
       "    </tr>\n",
       "  </tbody>\n",
       "</table>\n",
       "</div>"
      ],
      "text/plain": [
       "   year_ university_code major_code                      major_name  \\\n",
       "0   2021            FTU2      NTS02  Kế toán, Tài chính - Ngân hàng   \n",
       "1   2021             GDU    7220201                    Ngôn ngữ Anh   \n",
       "2   2021             GDU    7220201                    Ngôn ngữ Anh   \n",
       "3   2021             GDU    7220201                    Ngôn ngữ Anh   \n",
       "4   2021             GDU    7310608                 Đông phương học   \n",
       "\n",
       "  subject_group_code admission_method  score_scale  benchmark_score subject_1  \\\n",
       "0                D07  Tốt nghiệp THPT           30             28.4      Toán   \n",
       "1                D01  Tốt nghiệp THPT           30             16.5   Ngữ văn   \n",
       "2                D15  Tốt nghiệp THPT           30             16.5   Ngữ văn   \n",
       "3               XDHB       Xét học bạ           30             16.5       NaN   \n",
       "4                D01  Tốt nghiệp THPT           30             16.5   Ngữ văn   \n",
       "\n",
       "  subject_2  subject_3  \n",
       "0   Hóa học  Tiếng Anh  \n",
       "1      Toán  Tiếng Anh  \n",
       "2    Địa lí  Tiếng Anh  \n",
       "3       NaN        NaN  \n",
       "4      Toán  Tiếng Anh  "
      ]
     },
     "execution_count": 18,
     "metadata": {},
     "output_type": "execute_result"
    }
   ],
   "source": [
    "df.head()"
   ]
  },
  {
   "cell_type": "code",
   "execution_count": 19,
   "id": "50100e1d",
   "metadata": {},
   "outputs": [
    {
     "data": {
      "text/plain": [
       "(4252, 11)"
      ]
     },
     "execution_count": 19,
     "metadata": {},
     "output_type": "execute_result"
    }
   ],
   "source": [
    "df.shape"
   ]
  },
  {
   "cell_type": "code",
   "execution_count": 21,
   "id": "4051fb59",
   "metadata": {},
   "outputs": [
    {
     "data": {
      "text/plain": [
       "(4252, 11)"
      ]
     },
     "execution_count": 21,
     "metadata": {},
     "output_type": "execute_result"
    }
   ],
   "source": [
    "df = df[['year_','university_code','major_code','major_name','subject_group_code','subject_1','subject_2','subject_3',\\\n",
    "         'admission_method','score_scale','benchmark_score']]\n",
    "df.shape"
   ]
  },
  {
   "cell_type": "code",
   "execution_count": 22,
   "id": "5f094e57",
   "metadata": {},
   "outputs": [
    {
     "data": {
      "application/vnd.microsoft.datawrangler.viewer.v0+json": {
       "columns": [
        {
         "name": "index",
         "rawType": "int64",
         "type": "integer"
        },
        {
         "name": "year_",
         "rawType": "int64",
         "type": "integer"
        },
        {
         "name": "university_code",
         "rawType": "object",
         "type": "string"
        },
        {
         "name": "major_code",
         "rawType": "object",
         "type": "string"
        },
        {
         "name": "major_name",
         "rawType": "object",
         "type": "string"
        },
        {
         "name": "subject_group_code",
         "rawType": "object",
         "type": "string"
        },
        {
         "name": "subject_1",
         "rawType": "object",
         "type": "unknown"
        },
        {
         "name": "subject_2",
         "rawType": "object",
         "type": "unknown"
        },
        {
         "name": "subject_3",
         "rawType": "object",
         "type": "unknown"
        },
        {
         "name": "admission_method",
         "rawType": "object",
         "type": "string"
        },
        {
         "name": "score_scale",
         "rawType": "int64",
         "type": "integer"
        },
        {
         "name": "benchmark_score",
         "rawType": "float64",
         "type": "float"
        }
       ],
       "conversionMethod": "pd.DataFrame",
       "ref": "ebdbb671-4eb6-4eff-9dfa-d6d0c318b8e6",
       "rows": [
        [
         "0",
         "2021",
         "FTU2",
         "NTS02",
         "Kế toán, Tài chính - Ngân hàng",
         "D07",
         "Toán",
         "Hóa học",
         "Tiếng Anh",
         "Tốt nghiệp THPT",
         "30",
         "28.4"
        ],
        [
         "1",
         "2021",
         "GDU",
         "7220201",
         "Ngôn ngữ Anh",
         "D01",
         "Ngữ văn",
         "Toán",
         "Tiếng Anh",
         "Tốt nghiệp THPT",
         "30",
         "16.5"
        ],
        [
         "2",
         "2021",
         "GDU",
         "7220201",
         "Ngôn ngữ Anh",
         "D15",
         "Ngữ văn",
         "Địa lí",
         "Tiếng Anh",
         "Tốt nghiệp THPT",
         "30",
         "16.5"
        ],
        [
         "3",
         "2021",
         "GDU",
         "7220201",
         "Ngôn ngữ Anh",
         "XDHB",
         null,
         null,
         null,
         "Xét học bạ",
         "30",
         "16.5"
        ],
        [
         "4",
         "2021",
         "GDU",
         "7310608",
         "Đông phương học",
         "D01",
         "Ngữ văn",
         "Toán",
         "Tiếng Anh",
         "Tốt nghiệp THPT",
         "30",
         "16.5"
        ]
       ],
       "shape": {
        "columns": 11,
        "rows": 5
       }
      },
      "text/html": [
       "<div>\n",
       "<style scoped>\n",
       "    .dataframe tbody tr th:only-of-type {\n",
       "        vertical-align: middle;\n",
       "    }\n",
       "\n",
       "    .dataframe tbody tr th {\n",
       "        vertical-align: top;\n",
       "    }\n",
       "\n",
       "    .dataframe thead th {\n",
       "        text-align: right;\n",
       "    }\n",
       "</style>\n",
       "<table border=\"1\" class=\"dataframe\">\n",
       "  <thead>\n",
       "    <tr style=\"text-align: right;\">\n",
       "      <th></th>\n",
       "      <th>year_</th>\n",
       "      <th>university_code</th>\n",
       "      <th>major_code</th>\n",
       "      <th>major_name</th>\n",
       "      <th>subject_group_code</th>\n",
       "      <th>subject_1</th>\n",
       "      <th>subject_2</th>\n",
       "      <th>subject_3</th>\n",
       "      <th>admission_method</th>\n",
       "      <th>score_scale</th>\n",
       "      <th>benchmark_score</th>\n",
       "    </tr>\n",
       "  </thead>\n",
       "  <tbody>\n",
       "    <tr>\n",
       "      <th>0</th>\n",
       "      <td>2021</td>\n",
       "      <td>FTU2</td>\n",
       "      <td>NTS02</td>\n",
       "      <td>Kế toán, Tài chính - Ngân hàng</td>\n",
       "      <td>D07</td>\n",
       "      <td>Toán</td>\n",
       "      <td>Hóa học</td>\n",
       "      <td>Tiếng Anh</td>\n",
       "      <td>Tốt nghiệp THPT</td>\n",
       "      <td>30</td>\n",
       "      <td>28.4</td>\n",
       "    </tr>\n",
       "    <tr>\n",
       "      <th>1</th>\n",
       "      <td>2021</td>\n",
       "      <td>GDU</td>\n",
       "      <td>7220201</td>\n",
       "      <td>Ngôn ngữ Anh</td>\n",
       "      <td>D01</td>\n",
       "      <td>Ngữ văn</td>\n",
       "      <td>Toán</td>\n",
       "      <td>Tiếng Anh</td>\n",
       "      <td>Tốt nghiệp THPT</td>\n",
       "      <td>30</td>\n",
       "      <td>16.5</td>\n",
       "    </tr>\n",
       "    <tr>\n",
       "      <th>2</th>\n",
       "      <td>2021</td>\n",
       "      <td>GDU</td>\n",
       "      <td>7220201</td>\n",
       "      <td>Ngôn ngữ Anh</td>\n",
       "      <td>D15</td>\n",
       "      <td>Ngữ văn</td>\n",
       "      <td>Địa lí</td>\n",
       "      <td>Tiếng Anh</td>\n",
       "      <td>Tốt nghiệp THPT</td>\n",
       "      <td>30</td>\n",
       "      <td>16.5</td>\n",
       "    </tr>\n",
       "    <tr>\n",
       "      <th>3</th>\n",
       "      <td>2021</td>\n",
       "      <td>GDU</td>\n",
       "      <td>7220201</td>\n",
       "      <td>Ngôn ngữ Anh</td>\n",
       "      <td>XDHB</td>\n",
       "      <td>NaN</td>\n",
       "      <td>NaN</td>\n",
       "      <td>NaN</td>\n",
       "      <td>Xét học bạ</td>\n",
       "      <td>30</td>\n",
       "      <td>16.5</td>\n",
       "    </tr>\n",
       "    <tr>\n",
       "      <th>4</th>\n",
       "      <td>2021</td>\n",
       "      <td>GDU</td>\n",
       "      <td>7310608</td>\n",
       "      <td>Đông phương học</td>\n",
       "      <td>D01</td>\n",
       "      <td>Ngữ văn</td>\n",
       "      <td>Toán</td>\n",
       "      <td>Tiếng Anh</td>\n",
       "      <td>Tốt nghiệp THPT</td>\n",
       "      <td>30</td>\n",
       "      <td>16.5</td>\n",
       "    </tr>\n",
       "  </tbody>\n",
       "</table>\n",
       "</div>"
      ],
      "text/plain": [
       "   year_ university_code major_code                      major_name  \\\n",
       "0   2021            FTU2      NTS02  Kế toán, Tài chính - Ngân hàng   \n",
       "1   2021             GDU    7220201                    Ngôn ngữ Anh   \n",
       "2   2021             GDU    7220201                    Ngôn ngữ Anh   \n",
       "3   2021             GDU    7220201                    Ngôn ngữ Anh   \n",
       "4   2021             GDU    7310608                 Đông phương học   \n",
       "\n",
       "  subject_group_code subject_1 subject_2  subject_3 admission_method  \\\n",
       "0                D07      Toán   Hóa học  Tiếng Anh  Tốt nghiệp THPT   \n",
       "1                D01   Ngữ văn      Toán  Tiếng Anh  Tốt nghiệp THPT   \n",
       "2                D15   Ngữ văn    Địa lí  Tiếng Anh  Tốt nghiệp THPT   \n",
       "3               XDHB       NaN       NaN        NaN       Xét học bạ   \n",
       "4                D01   Ngữ văn      Toán  Tiếng Anh  Tốt nghiệp THPT   \n",
       "\n",
       "   score_scale  benchmark_score  \n",
       "0           30             28.4  \n",
       "1           30             16.5  \n",
       "2           30             16.5  \n",
       "3           30             16.5  \n",
       "4           30             16.5  "
      ]
     },
     "execution_count": 22,
     "metadata": {},
     "output_type": "execute_result"
    }
   ],
   "source": [
    "df.head()"
   ]
  },
  {
   "cell_type": "code",
   "execution_count": 29,
   "id": "c60854b3",
   "metadata": {},
   "outputs": [],
   "source": [
    "majors = df.loc[:,['major_code','major_name']]"
   ]
  },
  {
   "cell_type": "code",
   "execution_count": 40,
   "id": "9f49f1b5",
   "metadata": {},
   "outputs": [
    {
     "data": {
      "application/vnd.microsoft.datawrangler.viewer.v0+json": {
       "columns": [
        {
         "name": "major_name",
         "rawType": "object",
         "type": "string"
        },
        {
         "name": "count",
         "rawType": "int64",
         "type": "integer"
        }
       ],
       "conversionMethod": "pd.DataFrame",
       "ref": "d7115de9-04ad-48b2-9e42-4dcfa0e06acd",
       "rows": [
        [
         "Quản trị kinh doanh",
         "194"
        ],
        [
         "Luật",
         "177"
        ],
        [
         "Công nghệ thông tin",
         "147"
        ],
        [
         "Kế toán",
         "139"
        ],
        [
         "Ngôn ngữ Anh",
         "138"
        ],
        [
         "Tài chính - Ngân hàng",
         "121"
        ],
        [
         "Marketing",
         "115"
        ],
        [
         "Kinh tế",
         "109"
        ],
        [
         "Kinh doanh quốc tế",
         "80"
        ],
        [
         "Công nghệ sinh học",
         "78"
        ],
        [
         "Công nghệ thực phẩm",
         "74"
        ],
        [
         "Quản trị dịch vụ du lịch và lữ hành",
         "74"
        ],
        [
         "Logistics và Quản lý chuỗi cung ứng",
         "73"
        ],
        [
         "Kỹ thuật xây dựng",
         "63"
        ],
        [
         "Thương mại điện tử",
         "61"
        ],
        [
         "Quản trị khách sạn",
         "54"
        ],
        [
         "Ngôn ngữ Trung Quốc",
         "51"
        ],
        [
         "Kỹ thuật điện tử - viễn thông",
         "48"
        ],
        [
         "Bất động sản",
         "48"
        ],
        [
         "Khoa học hàng hải",
         "46"
        ],
        [
         "Tâm lý học",
         "42"
        ],
        [
         "Công nghệ kỹ thuật điện, điện tử",
         "41"
        ],
        [
         "Khoa học máy tính",
         "39"
        ],
        [
         "Quản trị nhà hàng và dịch vụ ăn uống",
         "38"
        ],
        [
         "Ngôn ngữ Nhật",
         "38"
        ],
        [
         "Công nghệ kỹ thuật hoá học",
         "38"
        ],
        [
         "Công nghệ kỹ thuật điện tử - viễn thông",
         "37"
        ],
        [
         "Khoa học dữ liệu",
         "37"
        ],
        [
         "Công nghệ kỹ thuật môi trường",
         "36"
        ],
        [
         "Quan hệ công chúng",
         "36"
        ],
        [
         "Thiết kế đồ họa",
         "36"
        ],
        [
         "Công nghệ kỹ thuật cơ điện tử",
         "35"
        ],
        [
         "Công tác xã hội",
         "35"
        ],
        [
         "Đông phương học",
         "35"
        ],
        [
         "Hệ thống thông tin quản lý",
         "35"
        ],
        [
         "Công nghệ kỹ thuật điều khiển và tự động hóa",
         "34"
        ],
        [
         "Quản lý tài nguyên và môi trường",
         "34"
        ],
        [
         "Truyền thông đa phương tiện",
         "33"
        ],
        [
         "Kỹ thuật điều khiển và tự động hoá",
         "33"
        ],
        [
         "Việt Nam học",
         "32"
        ],
        [
         "Kiểm toán",
         "31"
        ],
        [
         "Công nghệ kỹ thuật ô tô",
         "30"
        ],
        [
         "Thiết kế thời trang",
         "29"
        ],
        [
         "Kỹ thuật phần mềm",
         "29"
        ],
        [
         "Quản lý xây dựng",
         "29"
        ],
        [
         "Kỹ thuật điện",
         "27"
        ],
        [
         "Công nghệ chế tạo máy",
         "27"
        ],
        [
         "Kiến trúc",
         "27"
        ],
        [
         "kỹ thuật xây dựng công trình giao thông",
         "25"
        ],
        [
         "Quan hệ quốc tế",
         "25"
        ]
       ],
       "shape": {
        "columns": 1,
        "rows": 256
       }
      },
      "text/html": [
       "<div>\n",
       "<style scoped>\n",
       "    .dataframe tbody tr th:only-of-type {\n",
       "        vertical-align: middle;\n",
       "    }\n",
       "\n",
       "    .dataframe tbody tr th {\n",
       "        vertical-align: top;\n",
       "    }\n",
       "\n",
       "    .dataframe thead th {\n",
       "        text-align: right;\n",
       "    }\n",
       "</style>\n",
       "<table border=\"1\" class=\"dataframe\">\n",
       "  <thead>\n",
       "    <tr style=\"text-align: right;\">\n",
       "      <th></th>\n",
       "      <th>count</th>\n",
       "    </tr>\n",
       "    <tr>\n",
       "      <th>major_name</th>\n",
       "      <th></th>\n",
       "    </tr>\n",
       "  </thead>\n",
       "  <tbody>\n",
       "    <tr>\n",
       "      <th>Quản trị kinh doanh</th>\n",
       "      <td>194</td>\n",
       "    </tr>\n",
       "    <tr>\n",
       "      <th>Luật</th>\n",
       "      <td>177</td>\n",
       "    </tr>\n",
       "    <tr>\n",
       "      <th>Công nghệ thông tin</th>\n",
       "      <td>147</td>\n",
       "    </tr>\n",
       "    <tr>\n",
       "      <th>Kế toán</th>\n",
       "      <td>139</td>\n",
       "    </tr>\n",
       "    <tr>\n",
       "      <th>Ngôn ngữ Anh</th>\n",
       "      <td>138</td>\n",
       "    </tr>\n",
       "    <tr>\n",
       "      <th>...</th>\n",
       "      <td>...</td>\n",
       "    </tr>\n",
       "    <tr>\n",
       "      <th>Kỹ thuật công trình xây dựng</th>\n",
       "      <td>1</td>\n",
       "    </tr>\n",
       "    <tr>\n",
       "      <th>Quản trị nhà hàng khách sạn</th>\n",
       "      <td>1</td>\n",
       "    </tr>\n",
       "    <tr>\n",
       "      <th>Tài chính và kiểm soát</th>\n",
       "      <td>1</td>\n",
       "    </tr>\n",
       "    <tr>\n",
       "      <th>Kỹ thuật điện, điện tử</th>\n",
       "      <td>1</td>\n",
       "    </tr>\n",
       "    <tr>\n",
       "      <th>Công nghệ thẩm mỹ</th>\n",
       "      <td>1</td>\n",
       "    </tr>\n",
       "  </tbody>\n",
       "</table>\n",
       "<p>256 rows × 1 columns</p>\n",
       "</div>"
      ],
      "text/plain": [
       "                              count\n",
       "major_name                         \n",
       "Quản trị kinh doanh             194\n",
       "Luật                            177\n",
       "Công nghệ thông tin             147\n",
       "Kế toán                         139\n",
       "Ngôn ngữ Anh                    138\n",
       "...                             ...\n",
       "Kỹ thuật công trình xây dựng      1\n",
       "Quản trị nhà hàng khách sạn       1\n",
       "Tài chính và kiểm soát            1\n",
       "Kỹ thuật điện, điện tử            1\n",
       "Công nghệ thẩm mỹ                 1\n",
       "\n",
       "[256 rows x 1 columns]"
      ]
     },
     "execution_count": 40,
     "metadata": {},
     "output_type": "execute_result"
    }
   ],
   "source": [
    "majors['major_name'].value_counts().to_frame()"
   ]
  },
  {
   "cell_type": "code",
   "execution_count": 41,
   "id": "e3912f63",
   "metadata": {},
   "outputs": [
    {
     "data": {
      "application/vnd.microsoft.datawrangler.viewer.v0+json": {
       "columns": [
        {
         "name": "('major_code', 'major_name')",
         "rawType": "object",
         "type": "unknown"
        },
        {
         "name": "count",
         "rawType": "int64",
         "type": "integer"
        }
       ],
       "conversionMethod": "pd.DataFrame",
       "ref": "181760ef-7e1b-40fe-a03c-84fe83894437",
       "rows": [
        [
         "('7340101', 'Quản trị kinh doanh')",
         "109"
        ],
        [
         "('7340101C', 'Quản trị kinh doanh')",
         "20"
        ],
        [
         "('7340129', 'Quản trị kinh doanh')",
         "11"
        ],
        [
         "('7340101_WE4', 'Quản trị kinh doanh')",
         "4"
        ],
        [
         "('7340101_AND', 'Quản trị kinh doanh')",
         "3"
        ],
        [
         "('7340101_UN', 'Quản trị kinh doanh')",
         "3"
        ],
        [
         "('7340002', 'Quản trị kinh doanh')",
         "3"
        ],
        [
         "('7340101K', 'Quản trị kinh doanh')",
         "3"
        ],
        [
         "('7340101_TH', 'Quản trị kinh doanh')",
         "3"
        ],
        [
         "('FA7340101N', 'Quản trị kinh doanh')",
         "3"
        ],
        [
         "('7340101_415', 'Quản trị kinh doanh')",
         "2"
        ],
        [
         "('7340101_407E', 'Quản trị kinh doanh')",
         "2"
        ],
        [
         "('7340101_AU', 'Quản trị kinh doanh')",
         "2"
        ],
        [
         "('7340001', 'Quản trị kinh doanh')",
         "2"
        ],
        [
         "('7340101_407', 'Quản trị kinh doanh')",
         "2"
        ],
        [
         "('7340101E', 'Quản trị kinh doanh')",
         "2"
        ],
        [
         "('7340102', 'Quản trị kinh doanh')",
         "2"
        ],
        [
         "('N7340101N', 'Quản trị kinh doanh')",
         "2"
        ],
        [
         "('7340101_UH', 'Quản trị kinh doanh')",
         "2"
        ],
        [
         "('7340101_TATP', 'Quản trị kinh doanh')",
         "2"
        ],
        [
         "('7340101N', 'Quản trị kinh doanh')",
         "1"
        ],
        [
         "('7340101_407CA', 'Quản trị kinh doanh')",
         "1"
        ],
        [
         "('7340101_407C', 'Quản trị kinh doanh')",
         "1"
        ],
        [
         "('7340101Q', 'Quản trị kinh doanh')",
         "1"
        ],
        [
         "('7340101_LU', 'Quản trị kinh doanh')",
         "1"
        ],
        [
         "('7340101_WE', 'Quản trị kinh doanh')",
         "1"
        ],
        [
         "('7340101_SY', 'Quản trị kinh doanh')",
         "1"
        ],
        [
         "('7340101_NS', 'Quản trị kinh doanh')",
         "1"
        ],
        [
         "('F7340101', 'Quản trị kinh doanh')",
         "1"
        ],
        [
         "('7340101__01', 'Quản trị kinh doanh')",
         "1"
        ],
        [
         "('F7340101N', 'Quản trị kinh doanh')",
         "1"
        ],
        [
         "('K7340101', 'Quản trị kinh doanh')",
         "1"
        ]
       ],
       "shape": {
        "columns": 1,
        "rows": 32
       }
      },
      "text/html": [
       "<div>\n",
       "<style scoped>\n",
       "    .dataframe tbody tr th:only-of-type {\n",
       "        vertical-align: middle;\n",
       "    }\n",
       "\n",
       "    .dataframe tbody tr th {\n",
       "        vertical-align: top;\n",
       "    }\n",
       "\n",
       "    .dataframe thead th {\n",
       "        text-align: right;\n",
       "    }\n",
       "</style>\n",
       "<table border=\"1\" class=\"dataframe\">\n",
       "  <thead>\n",
       "    <tr style=\"text-align: right;\">\n",
       "      <th></th>\n",
       "      <th></th>\n",
       "      <th>count</th>\n",
       "    </tr>\n",
       "    <tr>\n",
       "      <th>major_code</th>\n",
       "      <th>major_name</th>\n",
       "      <th></th>\n",
       "    </tr>\n",
       "  </thead>\n",
       "  <tbody>\n",
       "    <tr>\n",
       "      <th>7340101</th>\n",
       "      <th>Quản trị kinh doanh</th>\n",
       "      <td>109</td>\n",
       "    </tr>\n",
       "    <tr>\n",
       "      <th>7340101C</th>\n",
       "      <th>Quản trị kinh doanh</th>\n",
       "      <td>20</td>\n",
       "    </tr>\n",
       "    <tr>\n",
       "      <th>7340129</th>\n",
       "      <th>Quản trị kinh doanh</th>\n",
       "      <td>11</td>\n",
       "    </tr>\n",
       "    <tr>\n",
       "      <th>7340101_WE4</th>\n",
       "      <th>Quản trị kinh doanh</th>\n",
       "      <td>4</td>\n",
       "    </tr>\n",
       "    <tr>\n",
       "      <th>7340101_AND</th>\n",
       "      <th>Quản trị kinh doanh</th>\n",
       "      <td>3</td>\n",
       "    </tr>\n",
       "    <tr>\n",
       "      <th>7340101_UN</th>\n",
       "      <th>Quản trị kinh doanh</th>\n",
       "      <td>3</td>\n",
       "    </tr>\n",
       "    <tr>\n",
       "      <th>7340002</th>\n",
       "      <th>Quản trị kinh doanh</th>\n",
       "      <td>3</td>\n",
       "    </tr>\n",
       "    <tr>\n",
       "      <th>7340101K</th>\n",
       "      <th>Quản trị kinh doanh</th>\n",
       "      <td>3</td>\n",
       "    </tr>\n",
       "    <tr>\n",
       "      <th>7340101_TH</th>\n",
       "      <th>Quản trị kinh doanh</th>\n",
       "      <td>3</td>\n",
       "    </tr>\n",
       "    <tr>\n",
       "      <th>FA7340101N</th>\n",
       "      <th>Quản trị kinh doanh</th>\n",
       "      <td>3</td>\n",
       "    </tr>\n",
       "    <tr>\n",
       "      <th>7340101_415</th>\n",
       "      <th>Quản trị kinh doanh</th>\n",
       "      <td>2</td>\n",
       "    </tr>\n",
       "    <tr>\n",
       "      <th>7340101_407E</th>\n",
       "      <th>Quản trị kinh doanh</th>\n",
       "      <td>2</td>\n",
       "    </tr>\n",
       "    <tr>\n",
       "      <th>7340101_AU</th>\n",
       "      <th>Quản trị kinh doanh</th>\n",
       "      <td>2</td>\n",
       "    </tr>\n",
       "    <tr>\n",
       "      <th>7340001</th>\n",
       "      <th>Quản trị kinh doanh</th>\n",
       "      <td>2</td>\n",
       "    </tr>\n",
       "    <tr>\n",
       "      <th>7340101_407</th>\n",
       "      <th>Quản trị kinh doanh</th>\n",
       "      <td>2</td>\n",
       "    </tr>\n",
       "    <tr>\n",
       "      <th>7340101E</th>\n",
       "      <th>Quản trị kinh doanh</th>\n",
       "      <td>2</td>\n",
       "    </tr>\n",
       "    <tr>\n",
       "      <th>7340102</th>\n",
       "      <th>Quản trị kinh doanh</th>\n",
       "      <td>2</td>\n",
       "    </tr>\n",
       "    <tr>\n",
       "      <th>N7340101N</th>\n",
       "      <th>Quản trị kinh doanh</th>\n",
       "      <td>2</td>\n",
       "    </tr>\n",
       "    <tr>\n",
       "      <th>7340101_UH</th>\n",
       "      <th>Quản trị kinh doanh</th>\n",
       "      <td>2</td>\n",
       "    </tr>\n",
       "    <tr>\n",
       "      <th>7340101_TATP</th>\n",
       "      <th>Quản trị kinh doanh</th>\n",
       "      <td>2</td>\n",
       "    </tr>\n",
       "    <tr>\n",
       "      <th>7340101N</th>\n",
       "      <th>Quản trị kinh doanh</th>\n",
       "      <td>1</td>\n",
       "    </tr>\n",
       "    <tr>\n",
       "      <th>7340101_407CA</th>\n",
       "      <th>Quản trị kinh doanh</th>\n",
       "      <td>1</td>\n",
       "    </tr>\n",
       "    <tr>\n",
       "      <th>7340101_407C</th>\n",
       "      <th>Quản trị kinh doanh</th>\n",
       "      <td>1</td>\n",
       "    </tr>\n",
       "    <tr>\n",
       "      <th>7340101Q</th>\n",
       "      <th>Quản trị kinh doanh</th>\n",
       "      <td>1</td>\n",
       "    </tr>\n",
       "    <tr>\n",
       "      <th>7340101_LU</th>\n",
       "      <th>Quản trị kinh doanh</th>\n",
       "      <td>1</td>\n",
       "    </tr>\n",
       "    <tr>\n",
       "      <th>7340101_WE</th>\n",
       "      <th>Quản trị kinh doanh</th>\n",
       "      <td>1</td>\n",
       "    </tr>\n",
       "    <tr>\n",
       "      <th>7340101_SY</th>\n",
       "      <th>Quản trị kinh doanh</th>\n",
       "      <td>1</td>\n",
       "    </tr>\n",
       "    <tr>\n",
       "      <th>7340101_NS</th>\n",
       "      <th>Quản trị kinh doanh</th>\n",
       "      <td>1</td>\n",
       "    </tr>\n",
       "    <tr>\n",
       "      <th>F7340101</th>\n",
       "      <th>Quản trị kinh doanh</th>\n",
       "      <td>1</td>\n",
       "    </tr>\n",
       "    <tr>\n",
       "      <th>7340101__01</th>\n",
       "      <th>Quản trị kinh doanh</th>\n",
       "      <td>1</td>\n",
       "    </tr>\n",
       "    <tr>\n",
       "      <th>F7340101N</th>\n",
       "      <th>Quản trị kinh doanh</th>\n",
       "      <td>1</td>\n",
       "    </tr>\n",
       "    <tr>\n",
       "      <th>K7340101</th>\n",
       "      <th>Quản trị kinh doanh</th>\n",
       "      <td>1</td>\n",
       "    </tr>\n",
       "  </tbody>\n",
       "</table>\n",
       "</div>"
      ],
      "text/plain": [
       "                                   count\n",
       "major_code    major_name                \n",
       "7340101       Quản trị kinh doanh    109\n",
       "7340101C      Quản trị kinh doanh     20\n",
       "7340129       Quản trị kinh doanh     11\n",
       "7340101_WE4   Quản trị kinh doanh      4\n",
       "7340101_AND   Quản trị kinh doanh      3\n",
       "7340101_UN    Quản trị kinh doanh      3\n",
       "7340002       Quản trị kinh doanh      3\n",
       "7340101K      Quản trị kinh doanh      3\n",
       "7340101_TH    Quản trị kinh doanh      3\n",
       "FA7340101N    Quản trị kinh doanh      3\n",
       "7340101_415   Quản trị kinh doanh      2\n",
       "7340101_407E  Quản trị kinh doanh      2\n",
       "7340101_AU    Quản trị kinh doanh      2\n",
       "7340001       Quản trị kinh doanh      2\n",
       "7340101_407   Quản trị kinh doanh      2\n",
       "7340101E      Quản trị kinh doanh      2\n",
       "7340102       Quản trị kinh doanh      2\n",
       "N7340101N     Quản trị kinh doanh      2\n",
       "7340101_UH    Quản trị kinh doanh      2\n",
       "7340101_TATP  Quản trị kinh doanh      2\n",
       "7340101N      Quản trị kinh doanh      1\n",
       "7340101_407CA Quản trị kinh doanh      1\n",
       "7340101_407C  Quản trị kinh doanh      1\n",
       "7340101Q      Quản trị kinh doanh      1\n",
       "7340101_LU    Quản trị kinh doanh      1\n",
       "7340101_WE    Quản trị kinh doanh      1\n",
       "7340101_SY    Quản trị kinh doanh      1\n",
       "7340101_NS    Quản trị kinh doanh      1\n",
       "F7340101      Quản trị kinh doanh      1\n",
       "7340101__01   Quản trị kinh doanh      1\n",
       "F7340101N     Quản trị kinh doanh      1\n",
       "K7340101      Quản trị kinh doanh      1"
      ]
     },
     "execution_count": 41,
     "metadata": {},
     "output_type": "execute_result"
    }
   ],
   "source": [
    "majors.loc[majors['major_name'].str.contains('kinh doanh'),:].value_counts().to_frame()"
   ]
  },
  {
   "cell_type": "markdown",
   "id": "50056d3b",
   "metadata": {},
   "source": [
    "Các đặt trưng:   \n",
    "+ `year_`\n",
    "+ university_code\n",
    "+ major_code\n",
    "+ major_name"
   ]
  }
 ],
 "metadata": {
  "kernelspec": {
   "display_name": "Python 3",
   "language": "python",
   "name": "python3"
  },
  "language_info": {
   "codemirror_mode": {
    "name": "ipython",
    "version": 3
   },
   "file_extension": ".py",
   "mimetype": "text/x-python",
   "name": "python",
   "nbconvert_exporter": "python",
   "pygments_lexer": "ipython3",
   "version": "3.10.2"
  }
 },
 "nbformat": 4,
 "nbformat_minor": 5
}
