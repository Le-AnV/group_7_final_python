{
 "cells": [
  {
   "cell_type": "code",
   "execution_count": 346,
   "id": "947c0838",
   "metadata": {},
   "outputs": [],
   "source": [
    "import pandas as pd\n",
    "import numpy as np \n",
    "import matplotlib.pyplot as plt\n",
    "import seaborn as sns"
   ]
  },
  {
   "cell_type": "code",
   "execution_count": 347,
   "id": "33137370",
   "metadata": {},
   "outputs": [],
   "source": [
    "benchmark_scores = pd.read_csv('../data/processed/benchmark_scores_2021_2023_cleaned.csv')\n",
    "df = benchmark_scores.copy()"
   ]
  },
  {
   "cell_type": "code",
   "execution_count": 348,
   "id": "66af2e5a",
   "metadata": {},
   "outputs": [
    {
     "data": {
      "application/vnd.microsoft.datawrangler.viewer.v0+json": {
       "columns": [
        {
         "name": "index",
         "rawType": "int64",
         "type": "integer"
        },
        {
         "name": "year",
         "rawType": "int64",
         "type": "integer"
        },
        {
         "name": "university_code",
         "rawType": "object",
         "type": "string"
        },
        {
         "name": "program_type",
         "rawType": "object",
         "type": "string"
        },
        {
         "name": "uni_major_code",
         "rawType": "object",
         "type": "string"
        },
        {
         "name": "major_code",
         "rawType": "int64",
         "type": "integer"
        },
        {
         "name": "major_name",
         "rawType": "object",
         "type": "string"
        },
        {
         "name": "subject_group_code",
         "rawType": "object",
         "type": "string"
        },
        {
         "name": "admission_method",
         "rawType": "object",
         "type": "string"
        },
        {
         "name": "score_scale",
         "rawType": "int64",
         "type": "integer"
        },
        {
         "name": "benchmark_score",
         "rawType": "float64",
         "type": "float"
        }
       ],
       "conversionMethod": "pd.DataFrame",
       "ref": "c71b1b03-d0b4-4821-a155-ae87eebfc1f6",
       "rows": [
        [
         "0",
         "2021",
         "FTU2",
         "DT",
         "NTS01",
         "7310101",
         "Kinh tế",
         "D01",
         "Tốt nghiệp THPT",
         "30",
         "28.55"
        ],
        [
         "1",
         "2021",
         "GDU",
         "DT",
         "7380101",
         "73801",
         "Luật",
         "A01",
         "Tốt nghiệp THPT",
         "30",
         "15.0"
        ],
        [
         "2",
         "2021",
         "GDU",
         "DT",
         "7380101",
         "73801",
         "Luật",
         "XDHB",
         "Xét học bạ",
         "30",
         "16.5"
        ],
        [
         "3",
         "2021",
         "GDU",
         "DT",
         "7480201",
         "74802",
         "Công nghệ thông tin",
         "A01",
         "Tốt nghiệp THPT",
         "30",
         "16.0"
        ],
        [
         "4",
         "2021",
         "GDU",
         "DT",
         "7480201",
         "74802",
         "Công nghệ thông tin",
         "A01",
         "Tốt nghiệp THPT",
         "30",
         "16.5"
        ]
       ],
       "shape": {
        "columns": 10,
        "rows": 5
       }
      },
      "text/html": [
       "<div>\n",
       "<style scoped>\n",
       "    .dataframe tbody tr th:only-of-type {\n",
       "        vertical-align: middle;\n",
       "    }\n",
       "\n",
       "    .dataframe tbody tr th {\n",
       "        vertical-align: top;\n",
       "    }\n",
       "\n",
       "    .dataframe thead th {\n",
       "        text-align: right;\n",
       "    }\n",
       "</style>\n",
       "<table border=\"1\" class=\"dataframe\">\n",
       "  <thead>\n",
       "    <tr style=\"text-align: right;\">\n",
       "      <th></th>\n",
       "      <th>year</th>\n",
       "      <th>university_code</th>\n",
       "      <th>program_type</th>\n",
       "      <th>uni_major_code</th>\n",
       "      <th>major_code</th>\n",
       "      <th>major_name</th>\n",
       "      <th>subject_group_code</th>\n",
       "      <th>admission_method</th>\n",
       "      <th>score_scale</th>\n",
       "      <th>benchmark_score</th>\n",
       "    </tr>\n",
       "  </thead>\n",
       "  <tbody>\n",
       "    <tr>\n",
       "      <th>0</th>\n",
       "      <td>2021</td>\n",
       "      <td>FTU2</td>\n",
       "      <td>DT</td>\n",
       "      <td>NTS01</td>\n",
       "      <td>7310101</td>\n",
       "      <td>Kinh tế</td>\n",
       "      <td>D01</td>\n",
       "      <td>Tốt nghiệp THPT</td>\n",
       "      <td>30</td>\n",
       "      <td>28.55</td>\n",
       "    </tr>\n",
       "    <tr>\n",
       "      <th>1</th>\n",
       "      <td>2021</td>\n",
       "      <td>GDU</td>\n",
       "      <td>DT</td>\n",
       "      <td>7380101</td>\n",
       "      <td>73801</td>\n",
       "      <td>Luật</td>\n",
       "      <td>A01</td>\n",
       "      <td>Tốt nghiệp THPT</td>\n",
       "      <td>30</td>\n",
       "      <td>15.00</td>\n",
       "    </tr>\n",
       "    <tr>\n",
       "      <th>2</th>\n",
       "      <td>2021</td>\n",
       "      <td>GDU</td>\n",
       "      <td>DT</td>\n",
       "      <td>7380101</td>\n",
       "      <td>73801</td>\n",
       "      <td>Luật</td>\n",
       "      <td>XDHB</td>\n",
       "      <td>Xét học bạ</td>\n",
       "      <td>30</td>\n",
       "      <td>16.50</td>\n",
       "    </tr>\n",
       "    <tr>\n",
       "      <th>3</th>\n",
       "      <td>2021</td>\n",
       "      <td>GDU</td>\n",
       "      <td>DT</td>\n",
       "      <td>7480201</td>\n",
       "      <td>74802</td>\n",
       "      <td>Công nghệ thông tin</td>\n",
       "      <td>A01</td>\n",
       "      <td>Tốt nghiệp THPT</td>\n",
       "      <td>30</td>\n",
       "      <td>16.00</td>\n",
       "    </tr>\n",
       "    <tr>\n",
       "      <th>4</th>\n",
       "      <td>2021</td>\n",
       "      <td>GDU</td>\n",
       "      <td>DT</td>\n",
       "      <td>7480201</td>\n",
       "      <td>74802</td>\n",
       "      <td>Công nghệ thông tin</td>\n",
       "      <td>A01</td>\n",
       "      <td>Tốt nghiệp THPT</td>\n",
       "      <td>30</td>\n",
       "      <td>16.50</td>\n",
       "    </tr>\n",
       "  </tbody>\n",
       "</table>\n",
       "</div>"
      ],
      "text/plain": [
       "   year university_code program_type uni_major_code  major_code  \\\n",
       "0  2021            FTU2           DT          NTS01     7310101   \n",
       "1  2021             GDU           DT        7380101       73801   \n",
       "2  2021             GDU           DT        7380101       73801   \n",
       "3  2021             GDU           DT        7480201       74802   \n",
       "4  2021             GDU           DT        7480201       74802   \n",
       "\n",
       "            major_name subject_group_code admission_method  score_scale  \\\n",
       "0              Kinh tế                D01  Tốt nghiệp THPT           30   \n",
       "1                 Luật                A01  Tốt nghiệp THPT           30   \n",
       "2                 Luật               XDHB       Xét học bạ           30   \n",
       "3  Công nghệ thông tin                A01  Tốt nghiệp THPT           30   \n",
       "4  Công nghệ thông tin                A01  Tốt nghiệp THPT           30   \n",
       "\n",
       "   benchmark_score  \n",
       "0            28.55  \n",
       "1            15.00  \n",
       "2            16.50  \n",
       "3            16.00  \n",
       "4            16.50  "
      ]
     },
     "execution_count": 348,
     "metadata": {},
     "output_type": "execute_result"
    }
   ],
   "source": [
    "df.head()"
   ]
  },
  {
   "cell_type": "markdown",
   "id": "c1c36e83",
   "metadata": {},
   "source": [
    "##### Các feature cho mô hình:\n",
    "+   `year`\n",
    "+   `university_code`\n",
    "+   `program_type`\n",
    "+   `major_code`\n",
    "+   `subject_group_code`\n",
    "+   `admission_method`   \n",
    "##### Label:\n",
    "+   `benchmark_score`"
   ]
  },
  {
   "cell_type": "markdown",
   "id": "f201b0f9",
   "metadata": {},
   "source": [
    "---"
   ]
  },
  {
   "cell_type": "code",
   "execution_count": 349,
   "id": "df2fc11d",
   "metadata": {},
   "outputs": [
    {
     "data": {
      "text/plain": [
       "np.int64(0)"
      ]
     },
     "execution_count": 349,
     "metadata": {},
     "output_type": "execute_result"
    }
   ],
   "source": [
    "df.duplicated().sum()"
   ]
  },
  {
   "cell_type": "code",
   "execution_count": 350,
   "id": "ff8d5008",
   "metadata": {},
   "outputs": [
    {
     "data": {
      "text/plain": [
       "year                  0\n",
       "university_code       0\n",
       "program_type          0\n",
       "uni_major_code        0\n",
       "major_code            0\n",
       "major_name            0\n",
       "subject_group_code    0\n",
       "admission_method      0\n",
       "score_scale           0\n",
       "benchmark_score       0\n",
       "dtype: int64"
      ]
     },
     "execution_count": 350,
     "metadata": {},
     "output_type": "execute_result"
    }
   ],
   "source": [
    "df.isnull().sum()"
   ]
  },
  {
   "cell_type": "code",
   "execution_count": 351,
   "id": "a3b337da",
   "metadata": {},
   "outputs": [
    {
     "data": {
      "application/vnd.microsoft.datawrangler.viewer.v0+json": {
       "columns": [
        {
         "name": "index",
         "rawType": "int64",
         "type": "integer"
        },
        {
         "name": "year",
         "rawType": "int64",
         "type": "integer"
        },
        {
         "name": "university_code",
         "rawType": "object",
         "type": "string"
        },
        {
         "name": "program_type",
         "rawType": "object",
         "type": "string"
        },
        {
         "name": "uni_major_code",
         "rawType": "object",
         "type": "string"
        },
        {
         "name": "major_code",
         "rawType": "int64",
         "type": "integer"
        },
        {
         "name": "major_name",
         "rawType": "object",
         "type": "string"
        },
        {
         "name": "subject_group_code",
         "rawType": "object",
         "type": "string"
        },
        {
         "name": "admission_method",
         "rawType": "object",
         "type": "string"
        },
        {
         "name": "score_scale",
         "rawType": "int64",
         "type": "integer"
        },
        {
         "name": "benchmark_score",
         "rawType": "float64",
         "type": "float"
        }
       ],
       "conversionMethod": "pd.DataFrame",
       "ref": "495a8758-5791-4e82-be99-c2f4fd5bf429",
       "rows": [
        [
         "0",
         "2021",
         "FTU2",
         "DT",
         "NTS01",
         "7310101",
         "Kinh tế",
         "D01",
         "Tốt nghiệp THPT",
         "30",
         "28.55"
        ],
        [
         "1",
         "2021",
         "GDU",
         "DT",
         "7380101",
         "73801",
         "Luật",
         "A01",
         "Tốt nghiệp THPT",
         "30",
         "15.0"
        ],
        [
         "2",
         "2021",
         "GDU",
         "DT",
         "7380101",
         "73801",
         "Luật",
         "XDHB",
         "Xét học bạ",
         "30",
         "16.5"
        ],
        [
         "3",
         "2021",
         "GDU",
         "DT",
         "7480201",
         "74802",
         "Công nghệ thông tin",
         "A01",
         "Tốt nghiệp THPT",
         "30",
         "16.0"
        ],
        [
         "4",
         "2021",
         "GDU",
         "DT",
         "7480201",
         "74802",
         "Công nghệ thông tin",
         "A01",
         "Tốt nghiệp THPT",
         "30",
         "16.5"
        ],
        [
         "5",
         "2021",
         "GDU",
         "DT",
         "7480201",
         "74802",
         "Công nghệ thông tin",
         "XDHB",
         "Xét học bạ",
         "30",
         "16.5"
        ],
        [
         "6",
         "2021",
         "GDU",
         "DT",
         "7220201",
         "7220201",
         "Ngôn ngữ Anh",
         "A01",
         "Tốt nghiệp THPT",
         "30",
         "15.5"
        ],
        [
         "7",
         "2021",
         "GDU",
         "DT",
         "7220201",
         "7220201",
         "Ngôn ngữ Anh",
         "D96",
         "Tốt nghiệp THPT",
         "30",
         "16.5"
        ],
        [
         "8",
         "2021",
         "GDU",
         "DT",
         "7220201",
         "7220201",
         "Ngôn ngữ Anh",
         "XDHB",
         "Xét học bạ",
         "30",
         "16.5"
        ],
        [
         "9",
         "2021",
         "GDU",
         "DT",
         "7310608",
         "7310608",
         "Đông phương học",
         "A01",
         "Tốt nghiệp THPT",
         "30",
         "15.5"
        ],
        [
         "10",
         "2021",
         "GDU",
         "DT",
         "7310608",
         "7310608",
         "Đông phương học",
         "D01",
         "Tốt nghiệp THPT",
         "30",
         "16.5"
        ],
        [
         "11",
         "2021",
         "GDU",
         "DT",
         "7310608",
         "7310608",
         "Đông phương học",
         "XDHB",
         "Xét học bạ",
         "30",
         "16.5"
        ],
        [
         "12",
         "2021",
         "GDU",
         "DT",
         "7320104",
         "7320104",
         "Truyền thông đa phương tiện",
         "A01",
         "Tốt nghiệp THPT",
         "30",
         "15.0"
        ],
        [
         "13",
         "2021",
         "GDU",
         "DT",
         "7320104",
         "7320104",
         "Truyền thông đa phương tiện",
         "XDHB",
         "Xét học bạ",
         "30",
         "16.5"
        ],
        [
         "14",
         "2021",
         "GDU",
         "DT",
         "7340101",
         "7340101",
         "Quản trị kinh doanh",
         "A01",
         "Tốt nghiệp THPT",
         "30",
         "16.5"
        ],
        [
         "15",
         "2021",
         "GDU",
         "DT",
         "7340101",
         "7340101",
         "Quản trị kinh doanh",
         "XDHB",
         "Xét học bạ",
         "30",
         "16.5"
        ],
        [
         "16",
         "2021",
         "GDU",
         "DT",
         "7340115",
         "7340115",
         "Marketing",
         "A01",
         "Tốt nghiệp THPT",
         "30",
         "16.0"
        ],
        [
         "17",
         "2021",
         "GDU",
         "DT",
         "7340115",
         "7340115",
         "Marketing",
         "XDHB",
         "Xét học bạ",
         "30",
         "16.5"
        ],
        [
         "18",
         "2021",
         "GDU",
         "DT",
         "7340120",
         "7340120",
         "Kinh doanh quốc tế",
         "A01",
         "Tốt nghiệp THPT",
         "30",
         "15.0"
        ],
        [
         "19",
         "2021",
         "GDU",
         "DT",
         "7340120",
         "7340120",
         "Kinh doanh quốc tế",
         "XDHB",
         "Xét học bạ",
         "30",
         "16.5"
        ],
        [
         "20",
         "2021",
         "GDU",
         "DT",
         "7340201",
         "7340201",
         "Tài chính - Ngân hàng",
         "A01",
         "Tốt nghiệp THPT",
         "30",
         "15.0"
        ],
        [
         "21",
         "2021",
         "GDU",
         "DT",
         "7340201",
         "7340201",
         "Tài chính - Ngân hàng",
         "D01",
         "Tốt nghiệp THPT",
         "30",
         "16.5"
        ],
        [
         "22",
         "2021",
         "GDU",
         "DT",
         "7340301",
         "7340301",
         "Kế toán",
         "A01",
         "Tốt nghiệp THPT",
         "30",
         "15.0"
        ],
        [
         "23",
         "2021",
         "GDU",
         "DT",
         "7340301",
         "7340301",
         "Kế toán",
         "D01",
         "Tốt nghiệp THPT",
         "30",
         "16.5"
        ],
        [
         "24",
         "2021",
         "GDU",
         "DT",
         "7340301",
         "7340301",
         "Kế toán",
         "XDHB",
         "Xét học bạ",
         "30",
         "16.5"
        ],
        [
         "25",
         "2021",
         "GDU",
         "DT",
         "7380101",
         "7380101",
         "Luật",
         "A01",
         "Tốt nghiệp THPT",
         "30",
         "15.0"
        ],
        [
         "26",
         "2021",
         "GDU",
         "DT",
         "7380101",
         "7380101",
         "Luật",
         "XDHB",
         "Xét học bạ",
         "30",
         "16.5"
        ],
        [
         "27",
         "2021",
         "GDU",
         "DT",
         "7480103",
         "7480103",
         "Kỹ thuật phần mềm",
         "A01",
         "Tốt nghiệp THPT",
         "30",
         "15.0"
        ],
        [
         "28",
         "2021",
         "GDU",
         "DT",
         "7480103",
         "7480103",
         "Kỹ thuật phần mềm",
         "A01",
         "Tốt nghiệp THPT",
         "30",
         "16.5"
        ],
        [
         "29",
         "2021",
         "GDU",
         "DT",
         "7480103",
         "7480103",
         "Kỹ thuật phần mềm",
         "XDHB",
         "Xét học bạ",
         "30",
         "16.5"
        ],
        [
         "30",
         "2021",
         "GDU",
         "DT",
         "7480201",
         "7480201",
         "Công nghệ thông tin",
         "A01",
         "Tốt nghiệp THPT",
         "30",
         "16.0"
        ],
        [
         "31",
         "2021",
         "GDU",
         "DT",
         "7480201",
         "7480201",
         "Công nghệ thông tin",
         "A01",
         "Tốt nghiệp THPT",
         "30",
         "16.5"
        ],
        [
         "32",
         "2021",
         "GDU",
         "DT",
         "7480201",
         "7480201",
         "Công nghệ thông tin",
         "XDHB",
         "Xét học bạ",
         "30",
         "16.5"
        ],
        [
         "33",
         "2021",
         "GDU",
         "DT",
         "7510605",
         "7510605",
         "Logistics và Quản lý chuỗi cung ứng",
         "A01",
         "Tốt nghiệp THPT",
         "30",
         "15.0"
        ],
        [
         "34",
         "2021",
         "GDU",
         "DT",
         "7510605",
         "7510605",
         "Logistics và Quản lý chuỗi cung ứng",
         "XDHB",
         "Xét học bạ",
         "30",
         "16.5"
        ],
        [
         "35",
         "2021",
         "GDU",
         "DT",
         "734115",
         "7810201",
         "Quản trị khách sạn",
         "A01",
         "Tốt nghiệp THPT",
         "30",
         "16.5"
        ],
        [
         "36",
         "2021",
         "GDU",
         "DT",
         "734115",
         "7810201",
         "Quản trị khách sạn",
         "XDHB",
         "Xét học bạ",
         "30",
         "16.5"
        ],
        [
         "37",
         "2021",
         "GDU",
         "DT",
         "7810201",
         "7810201",
         "Quản trị khách sạn",
         "A01",
         "Tốt nghiệp THPT",
         "30",
         "15.0"
        ],
        [
         "38",
         "2021",
         "HCA",
         "DT",
         "7380101",
         "73801",
         "Luật",
         "A01",
         "Tốt nghiệp THPT",
         "30",
         "26.35"
        ],
        [
         "39",
         "2021",
         "HCA",
         "DT",
         "7380101",
         "73801",
         "Luật",
         "XDHB",
         "Xét học bạ",
         "30",
         "26.35"
        ],
        [
         "40",
         "2021",
         "HCA",
         "DT",
         "7760101",
         "77601",
         "Công tác xã hội",
         "C00",
         "Tốt nghiệp THPT",
         "30",
         "23.65"
        ],
        [
         "41",
         "2021",
         "HCA",
         "DT",
         "7760101",
         "77601",
         "Công tác xã hội",
         "XDHB",
         "Xét học bạ",
         "30",
         "23.65"
        ],
        [
         "42",
         "2021",
         "HCA",
         "DT",
         "7310201",
         "7310201",
         "Chính trị học",
         "C04",
         "Tốt nghiệp THPT",
         "30",
         "24.5"
        ],
        [
         "43",
         "2021",
         "HCA",
         "DT",
         "7310201",
         "7310201",
         "Chính trị học",
         "XDHB",
         "Xét học bạ",
         "30",
         "24.5"
        ],
        [
         "44",
         "2021",
         "HCA",
         "DT",
         "7310202",
         "7310202",
         "Xây dựng Đảng và chính quyền nhà nước",
         "C04",
         "Tốt nghiệp THPT",
         "30",
         "25.0"
        ],
        [
         "45",
         "2021",
         "HCA",
         "DT",
         "7310202",
         "7310202",
         "Xây dựng Đảng và chính quyền nhà nước",
         "XDHB",
         "Xét học bạ",
         "30",
         "25.0"
        ],
        [
         "46",
         "2021",
         "HCA",
         "DT",
         "7310205",
         "7310205",
         "Quản lý nhà nước",
         "A01",
         "Tốt nghiệp THPT",
         "30",
         "26.25"
        ],
        [
         "47",
         "2021",
         "HCA",
         "DT",
         "7310205",
         "7310205",
         "Quản lý nhà nước",
         "XDHB",
         "Xét học bạ",
         "30",
         "26.25"
        ],
        [
         "48",
         "2021",
         "HCA",
         "DT",
         "7380101",
         "7380101",
         "Luật",
         "A01",
         "Tốt nghiệp THPT",
         "30",
         "26.35"
        ],
        [
         "49",
         "2021",
         "HCA",
         "DT",
         "7380101",
         "7380101",
         "Luật",
         "XDHB",
         "Xét học bạ",
         "30",
         "26.35"
        ]
       ],
       "shape": {
        "columns": 10,
        "rows": 7712
       }
      },
      "text/html": [
       "<div>\n",
       "<style scoped>\n",
       "    .dataframe tbody tr th:only-of-type {\n",
       "        vertical-align: middle;\n",
       "    }\n",
       "\n",
       "    .dataframe tbody tr th {\n",
       "        vertical-align: top;\n",
       "    }\n",
       "\n",
       "    .dataframe thead th {\n",
       "        text-align: right;\n",
       "    }\n",
       "</style>\n",
       "<table border=\"1\" class=\"dataframe\">\n",
       "  <thead>\n",
       "    <tr style=\"text-align: right;\">\n",
       "      <th></th>\n",
       "      <th>year</th>\n",
       "      <th>university_code</th>\n",
       "      <th>program_type</th>\n",
       "      <th>uni_major_code</th>\n",
       "      <th>major_code</th>\n",
       "      <th>major_name</th>\n",
       "      <th>subject_group_code</th>\n",
       "      <th>admission_method</th>\n",
       "      <th>score_scale</th>\n",
       "      <th>benchmark_score</th>\n",
       "    </tr>\n",
       "  </thead>\n",
       "  <tbody>\n",
       "    <tr>\n",
       "      <th>0</th>\n",
       "      <td>2021</td>\n",
       "      <td>FTU2</td>\n",
       "      <td>DT</td>\n",
       "      <td>NTS01</td>\n",
       "      <td>7310101</td>\n",
       "      <td>Kinh tế</td>\n",
       "      <td>D01</td>\n",
       "      <td>Tốt nghiệp THPT</td>\n",
       "      <td>30</td>\n",
       "      <td>28.55</td>\n",
       "    </tr>\n",
       "    <tr>\n",
       "      <th>1</th>\n",
       "      <td>2021</td>\n",
       "      <td>GDU</td>\n",
       "      <td>DT</td>\n",
       "      <td>7380101</td>\n",
       "      <td>73801</td>\n",
       "      <td>Luật</td>\n",
       "      <td>A01</td>\n",
       "      <td>Tốt nghiệp THPT</td>\n",
       "      <td>30</td>\n",
       "      <td>15.00</td>\n",
       "    </tr>\n",
       "    <tr>\n",
       "      <th>2</th>\n",
       "      <td>2021</td>\n",
       "      <td>GDU</td>\n",
       "      <td>DT</td>\n",
       "      <td>7380101</td>\n",
       "      <td>73801</td>\n",
       "      <td>Luật</td>\n",
       "      <td>XDHB</td>\n",
       "      <td>Xét học bạ</td>\n",
       "      <td>30</td>\n",
       "      <td>16.50</td>\n",
       "    </tr>\n",
       "    <tr>\n",
       "      <th>3</th>\n",
       "      <td>2021</td>\n",
       "      <td>GDU</td>\n",
       "      <td>DT</td>\n",
       "      <td>7480201</td>\n",
       "      <td>74802</td>\n",
       "      <td>Công nghệ thông tin</td>\n",
       "      <td>A01</td>\n",
       "      <td>Tốt nghiệp THPT</td>\n",
       "      <td>30</td>\n",
       "      <td>16.00</td>\n",
       "    </tr>\n",
       "    <tr>\n",
       "      <th>4</th>\n",
       "      <td>2021</td>\n",
       "      <td>GDU</td>\n",
       "      <td>DT</td>\n",
       "      <td>7480201</td>\n",
       "      <td>74802</td>\n",
       "      <td>Công nghệ thông tin</td>\n",
       "      <td>A01</td>\n",
       "      <td>Tốt nghiệp THPT</td>\n",
       "      <td>30</td>\n",
       "      <td>16.50</td>\n",
       "    </tr>\n",
       "    <tr>\n",
       "      <th>...</th>\n",
       "      <td>...</td>\n",
       "      <td>...</td>\n",
       "      <td>...</td>\n",
       "      <td>...</td>\n",
       "      <td>...</td>\n",
       "      <td>...</td>\n",
       "      <td>...</td>\n",
       "      <td>...</td>\n",
       "      <td>...</td>\n",
       "      <td>...</td>\n",
       "    </tr>\n",
       "    <tr>\n",
       "      <th>7707</th>\n",
       "      <td>2023</td>\n",
       "      <td>VNUHCM-USSH</td>\n",
       "      <td>DT</td>\n",
       "      <td>7760101</td>\n",
       "      <td>7760101</td>\n",
       "      <td>Công tác xã hội</td>\n",
       "      <td>C00</td>\n",
       "      <td>Tốt nghiệp THPT</td>\n",
       "      <td>30</td>\n",
       "      <td>24.70</td>\n",
       "    </tr>\n",
       "    <tr>\n",
       "      <th>7708</th>\n",
       "      <td>2023</td>\n",
       "      <td>VNUHCM-USSH</td>\n",
       "      <td>DT</td>\n",
       "      <td>7760101</td>\n",
       "      <td>7760101</td>\n",
       "      <td>Công tác xã hội</td>\n",
       "      <td>DGNL</td>\n",
       "      <td>Đánh giá năng lực ĐHQG-HCM</td>\n",
       "      <td>1200</td>\n",
       "      <td>670.00</td>\n",
       "    </tr>\n",
       "    <tr>\n",
       "      <th>7709</th>\n",
       "      <td>2023</td>\n",
       "      <td>VNUHCM-USSH</td>\n",
       "      <td>DT</td>\n",
       "      <td>7810103</td>\n",
       "      <td>7810103</td>\n",
       "      <td>Quản trị dịch vụ du lịch và lữ hành</td>\n",
       "      <td>D01</td>\n",
       "      <td>Tốt nghiệp THPT</td>\n",
       "      <td>30</td>\n",
       "      <td>25.80</td>\n",
       "    </tr>\n",
       "    <tr>\n",
       "      <th>7710</th>\n",
       "      <td>2023</td>\n",
       "      <td>VNUHCM-USSH</td>\n",
       "      <td>DT</td>\n",
       "      <td>7810103</td>\n",
       "      <td>7810103</td>\n",
       "      <td>Quản trị dịch vụ du lịch và lữ hành</td>\n",
       "      <td>C00</td>\n",
       "      <td>Tốt nghiệp THPT</td>\n",
       "      <td>30</td>\n",
       "      <td>27.40</td>\n",
       "    </tr>\n",
       "    <tr>\n",
       "      <th>7711</th>\n",
       "      <td>2023</td>\n",
       "      <td>VNUHCM-USSH</td>\n",
       "      <td>DT</td>\n",
       "      <td>7810103</td>\n",
       "      <td>7810103</td>\n",
       "      <td>Quản trị dịch vụ du lịch và lữ hành</td>\n",
       "      <td>DGNL</td>\n",
       "      <td>Đánh giá năng lực ĐHQG-HCM</td>\n",
       "      <td>1200</td>\n",
       "      <td>790.00</td>\n",
       "    </tr>\n",
       "  </tbody>\n",
       "</table>\n",
       "<p>7712 rows × 10 columns</p>\n",
       "</div>"
      ],
      "text/plain": [
       "      year university_code program_type uni_major_code  major_code  \\\n",
       "0     2021            FTU2           DT          NTS01     7310101   \n",
       "1     2021             GDU           DT        7380101       73801   \n",
       "2     2021             GDU           DT        7380101       73801   \n",
       "3     2021             GDU           DT        7480201       74802   \n",
       "4     2021             GDU           DT        7480201       74802   \n",
       "...    ...             ...          ...            ...         ...   \n",
       "7707  2023     VNUHCM-USSH           DT        7760101     7760101   \n",
       "7708  2023     VNUHCM-USSH           DT        7760101     7760101   \n",
       "7709  2023     VNUHCM-USSH           DT        7810103     7810103   \n",
       "7710  2023     VNUHCM-USSH           DT        7810103     7810103   \n",
       "7711  2023     VNUHCM-USSH           DT        7810103     7810103   \n",
       "\n",
       "                               major_name subject_group_code  \\\n",
       "0                                 Kinh tế                D01   \n",
       "1                                    Luật                A01   \n",
       "2                                    Luật               XDHB   \n",
       "3                     Công nghệ thông tin                A01   \n",
       "4                     Công nghệ thông tin                A01   \n",
       "...                                   ...                ...   \n",
       "7707                      Công tác xã hội                C00   \n",
       "7708                      Công tác xã hội               DGNL   \n",
       "7709  Quản trị dịch vụ du lịch và lữ hành                D01   \n",
       "7710  Quản trị dịch vụ du lịch và lữ hành                C00   \n",
       "7711  Quản trị dịch vụ du lịch và lữ hành               DGNL   \n",
       "\n",
       "                admission_method  score_scale  benchmark_score  \n",
       "0                Tốt nghiệp THPT           30            28.55  \n",
       "1                Tốt nghiệp THPT           30            15.00  \n",
       "2                     Xét học bạ           30            16.50  \n",
       "3                Tốt nghiệp THPT           30            16.00  \n",
       "4                Tốt nghiệp THPT           30            16.50  \n",
       "...                          ...          ...              ...  \n",
       "7707             Tốt nghiệp THPT           30            24.70  \n",
       "7708  Đánh giá năng lực ĐHQG-HCM         1200           670.00  \n",
       "7709             Tốt nghiệp THPT           30            25.80  \n",
       "7710             Tốt nghiệp THPT           30            27.40  \n",
       "7711  Đánh giá năng lực ĐHQG-HCM         1200           790.00  \n",
       "\n",
       "[7712 rows x 10 columns]"
      ]
     },
     "execution_count": 351,
     "metadata": {},
     "output_type": "execute_result"
    }
   ],
   "source": [
    "df"
   ]
  },
  {
   "cell_type": "markdown",
   "id": "655b4a0e",
   "metadata": {},
   "source": [
    "- Chuyển thang điểm 1200 sang 30 (tránh tồn tại các giá trị ngoại lai)\n",
    "- Xoá các mẫu trùng lập"
   ]
  },
  {
   "cell_type": "code",
   "execution_count": 352,
   "id": "4051fb59",
   "metadata": {},
   "outputs": [
    {
     "name": "stdout",
     "output_type": "stream",
     "text": [
      "302\n"
     ]
    }
   ],
   "source": [
    "# Chuyển đổi các thang điểm về lại thành thang điểm 30\n",
    "df.loc[df['score_scale'] == 1200,'benchmark_score'] = df.loc[df['score_scale'] == 1200,'benchmark_score'] * 30.0 / 1200.0\n",
    "\n",
    "df.drop(columns=['score_scale','major_name','uni_major_code'],inplace=True)\n",
    "print(df.duplicated().sum())\n",
    "\n",
    "# drop_duplicated\n",
    "df.drop_duplicates(subset=['year','university_code','program_type','subject_group_code','major_code','admission_method'],\\\n",
    "                     keep='first',inplace=True)"
   ]
  },
  {
   "cell_type": "code",
   "execution_count": 353,
   "id": "386d874b",
   "metadata": {},
   "outputs": [],
   "source": [
    "def group_top_n_labels(series, top_n=10):\n",
    "    '''Giữ lại n dữ liệu xuất hiện nhiều nhất, còn lại sẽ được chuyển thành Other'''\n",
    "    top_values = series.value_counts().nlargest(top_n).index\n",
    "    return series.apply(lambda x: x if x in top_values else 'Other')"
   ]
  },
  {
   "cell_type": "code",
   "execution_count": 354,
   "id": "e1d350a5",
   "metadata": {},
   "outputs": [],
   "source": [
    "df['university_code'] = group_top_n_labels(df['university_code'],20)\n",
    "df['major_code'] = group_top_n_labels(df['major_code'],40)\n",
    "df['subject_group_code'] = group_top_n_labels(df['subject_group_code'],20)"
   ]
  },
  {
   "cell_type": "code",
   "execution_count": 355,
   "id": "2e9fd07c",
   "metadata": {},
   "outputs": [
    {
     "name": "stdout",
     "output_type": "stream",
     "text": [
      "0\n",
      "0\n"
     ]
    }
   ],
   "source": [
    "# Trường hợp 1: Duplicated cả x và y\n",
    "df.drop_duplicates(inplace=True)\n",
    "\n",
    "# Trường hợp 2: Duplicated x nhưng lại khác y\n",
    "cols_X = ['year', 'university_code', 'major_code', 'subject_group_code', 'program_type', 'admission_method']\n",
    "df.drop_duplicates(subset=cols_X, keep='first', inplace=True)\n",
    "\n",
    "print(df.duplicated(subset=['year','university_code','major_code','subject_group_code','program_type','admission_method']).sum())\n",
    "print(df.duplicated().sum())"
   ]
  },
  {
   "cell_type": "markdown",
   "id": "896b75d4",
   "metadata": {},
   "source": [
    "split DataFrame thành x và y"
   ]
  },
  {
   "cell_type": "code",
   "execution_count": 356,
   "id": "18b2e07a",
   "metadata": {},
   "outputs": [],
   "source": [
    "x = df.drop(columns='benchmark_score').reset_index(drop=True)\n",
    "y = df.loc[:,'benchmark_score'].reset_index(drop=True)"
   ]
  },
  {
   "cell_type": "code",
   "execution_count": 357,
   "id": "02cc0f71",
   "metadata": {},
   "outputs": [
    {
     "data": {
      "application/vnd.microsoft.datawrangler.viewer.v0+json": {
       "columns": [
        {
         "name": "index",
         "rawType": "int64",
         "type": "integer"
        },
        {
         "name": "year",
         "rawType": "int64",
         "type": "integer"
        },
        {
         "name": "university_code",
         "rawType": "object",
         "type": "string"
        },
        {
         "name": "program_type",
         "rawType": "object",
         "type": "string"
        },
        {
         "name": "major_code",
         "rawType": "object",
         "type": "unknown"
        },
        {
         "name": "subject_group_code",
         "rawType": "object",
         "type": "string"
        },
        {
         "name": "admission_method",
         "rawType": "object",
         "type": "string"
        }
       ],
       "conversionMethod": "pd.DataFrame",
       "ref": "3384dfec-2f5c-4433-8462-f347561f257a",
       "rows": [
        [
         "0",
         "2021",
         "Other",
         "DT",
         "7310101",
         "D01",
         "Tốt nghiệp THPT"
        ],
        [
         "1",
         "2021",
         "GDU",
         "DT",
         "73801",
         "A01",
         "Tốt nghiệp THPT"
        ],
        [
         "2",
         "2021",
         "GDU",
         "DT",
         "73801",
         "XDHB",
         "Xét học bạ"
        ],
        [
         "3",
         "2021",
         "GDU",
         "DT",
         "74802",
         "A01",
         "Tốt nghiệp THPT"
        ],
        [
         "4",
         "2021",
         "GDU",
         "DT",
         "74802",
         "XDHB",
         "Xét học bạ"
        ],
        [
         "5",
         "2021",
         "GDU",
         "DT",
         "7220201",
         "A01",
         "Tốt nghiệp THPT"
        ],
        [
         "6",
         "2021",
         "GDU",
         "DT",
         "7220201",
         "D96",
         "Tốt nghiệp THPT"
        ],
        [
         "7",
         "2021",
         "GDU",
         "DT",
         "7220201",
         "XDHB",
         "Xét học bạ"
        ],
        [
         "8",
         "2021",
         "GDU",
         "DT",
         "7310608",
         "A01",
         "Tốt nghiệp THPT"
        ],
        [
         "9",
         "2021",
         "GDU",
         "DT",
         "7310608",
         "D01",
         "Tốt nghiệp THPT"
        ],
        [
         "10",
         "2021",
         "GDU",
         "DT",
         "7310608",
         "XDHB",
         "Xét học bạ"
        ],
        [
         "11",
         "2021",
         "GDU",
         "DT",
         "7320104",
         "A01",
         "Tốt nghiệp THPT"
        ],
        [
         "12",
         "2021",
         "GDU",
         "DT",
         "7320104",
         "XDHB",
         "Xét học bạ"
        ],
        [
         "13",
         "2021",
         "GDU",
         "DT",
         "7340101",
         "A01",
         "Tốt nghiệp THPT"
        ],
        [
         "14",
         "2021",
         "GDU",
         "DT",
         "7340101",
         "XDHB",
         "Xét học bạ"
        ],
        [
         "15",
         "2021",
         "GDU",
         "DT",
         "7340115",
         "A01",
         "Tốt nghiệp THPT"
        ],
        [
         "16",
         "2021",
         "GDU",
         "DT",
         "7340115",
         "XDHB",
         "Xét học bạ"
        ],
        [
         "17",
         "2021",
         "GDU",
         "DT",
         "7340120",
         "A01",
         "Tốt nghiệp THPT"
        ],
        [
         "18",
         "2021",
         "GDU",
         "DT",
         "7340120",
         "XDHB",
         "Xét học bạ"
        ],
        [
         "19",
         "2021",
         "GDU",
         "DT",
         "7340201",
         "A01",
         "Tốt nghiệp THPT"
        ],
        [
         "20",
         "2021",
         "GDU",
         "DT",
         "7340201",
         "D01",
         "Tốt nghiệp THPT"
        ],
        [
         "21",
         "2021",
         "GDU",
         "DT",
         "7340301",
         "A01",
         "Tốt nghiệp THPT"
        ],
        [
         "22",
         "2021",
         "GDU",
         "DT",
         "7340301",
         "D01",
         "Tốt nghiệp THPT"
        ],
        [
         "23",
         "2021",
         "GDU",
         "DT",
         "7340301",
         "XDHB",
         "Xét học bạ"
        ],
        [
         "24",
         "2021",
         "GDU",
         "DT",
         "7380101",
         "A01",
         "Tốt nghiệp THPT"
        ],
        [
         "25",
         "2021",
         "GDU",
         "DT",
         "7380101",
         "XDHB",
         "Xét học bạ"
        ],
        [
         "26",
         "2021",
         "GDU",
         "DT",
         "Other",
         "A01",
         "Tốt nghiệp THPT"
        ],
        [
         "27",
         "2021",
         "GDU",
         "DT",
         "Other",
         "XDHB",
         "Xét học bạ"
        ],
        [
         "28",
         "2021",
         "GDU",
         "DT",
         "7480201",
         "A01",
         "Tốt nghiệp THPT"
        ],
        [
         "29",
         "2021",
         "GDU",
         "DT",
         "7480201",
         "XDHB",
         "Xét học bạ"
        ],
        [
         "30",
         "2021",
         "GDU",
         "DT",
         "7510605",
         "A01",
         "Tốt nghiệp THPT"
        ],
        [
         "31",
         "2021",
         "GDU",
         "DT",
         "7510605",
         "XDHB",
         "Xét học bạ"
        ],
        [
         "32",
         "2021",
         "GDU",
         "DT",
         "7810201",
         "A01",
         "Tốt nghiệp THPT"
        ],
        [
         "33",
         "2021",
         "GDU",
         "DT",
         "7810201",
         "XDHB",
         "Xét học bạ"
        ],
        [
         "34",
         "2021",
         "Other",
         "DT",
         "73801",
         "A01",
         "Tốt nghiệp THPT"
        ],
        [
         "35",
         "2021",
         "Other",
         "DT",
         "73801",
         "XDHB",
         "Xét học bạ"
        ],
        [
         "36",
         "2021",
         "Other",
         "DT",
         "77601",
         "C00",
         "Tốt nghiệp THPT"
        ],
        [
         "37",
         "2021",
         "Other",
         "DT",
         "77601",
         "XDHB",
         "Xét học bạ"
        ],
        [
         "38",
         "2021",
         "Other",
         "DT",
         "Other",
         "C04",
         "Tốt nghiệp THPT"
        ],
        [
         "39",
         "2021",
         "Other",
         "DT",
         "Other",
         "XDHB",
         "Xét học bạ"
        ],
        [
         "40",
         "2021",
         "Other",
         "DT",
         "Other",
         "A01",
         "Tốt nghiệp THPT"
        ],
        [
         "41",
         "2021",
         "Other",
         "DT",
         "7380101",
         "A01",
         "Tốt nghiệp THPT"
        ],
        [
         "42",
         "2021",
         "Other",
         "DT",
         "7380101",
         "XDHB",
         "Xét học bạ"
        ],
        [
         "43",
         "2021",
         "Other",
         "DT",
         "7760101",
         "C00",
         "Tốt nghiệp THPT"
        ],
        [
         "44",
         "2021",
         "Other",
         "DT",
         "7760101",
         "XDHB",
         "Xét học bạ"
        ],
        [
         "45",
         "2021",
         "HCMIU",
         "DT",
         "74802",
         "A01",
         "Tốt nghiệp THPT"
        ],
        [
         "46",
         "2021",
         "HCMIU",
         "DT",
         "74802",
         "XDHB",
         "Xét học bạ"
        ],
        [
         "47",
         "2021",
         "HCMIU",
         "DT",
         "7220201",
         "D01",
         "Tốt nghiệp THPT"
        ],
        [
         "48",
         "2021",
         "HCMIU",
         "DT",
         "7220201",
         "XDHB",
         "Xét học bạ"
        ],
        [
         "49",
         "2021",
         "HCMIU",
         "DT",
         "7340201",
         "A00",
         "Tốt nghiệp THPT"
        ]
       ],
       "shape": {
        "columns": 6,
        "rows": 3417
       }
      },
      "text/html": [
       "<div>\n",
       "<style scoped>\n",
       "    .dataframe tbody tr th:only-of-type {\n",
       "        vertical-align: middle;\n",
       "    }\n",
       "\n",
       "    .dataframe tbody tr th {\n",
       "        vertical-align: top;\n",
       "    }\n",
       "\n",
       "    .dataframe thead th {\n",
       "        text-align: right;\n",
       "    }\n",
       "</style>\n",
       "<table border=\"1\" class=\"dataframe\">\n",
       "  <thead>\n",
       "    <tr style=\"text-align: right;\">\n",
       "      <th></th>\n",
       "      <th>year</th>\n",
       "      <th>university_code</th>\n",
       "      <th>program_type</th>\n",
       "      <th>major_code</th>\n",
       "      <th>subject_group_code</th>\n",
       "      <th>admission_method</th>\n",
       "    </tr>\n",
       "  </thead>\n",
       "  <tbody>\n",
       "    <tr>\n",
       "      <th>0</th>\n",
       "      <td>2021</td>\n",
       "      <td>Other</td>\n",
       "      <td>DT</td>\n",
       "      <td>7310101</td>\n",
       "      <td>D01</td>\n",
       "      <td>Tốt nghiệp THPT</td>\n",
       "    </tr>\n",
       "    <tr>\n",
       "      <th>1</th>\n",
       "      <td>2021</td>\n",
       "      <td>GDU</td>\n",
       "      <td>DT</td>\n",
       "      <td>73801</td>\n",
       "      <td>A01</td>\n",
       "      <td>Tốt nghiệp THPT</td>\n",
       "    </tr>\n",
       "    <tr>\n",
       "      <th>2</th>\n",
       "      <td>2021</td>\n",
       "      <td>GDU</td>\n",
       "      <td>DT</td>\n",
       "      <td>73801</td>\n",
       "      <td>XDHB</td>\n",
       "      <td>Xét học bạ</td>\n",
       "    </tr>\n",
       "    <tr>\n",
       "      <th>3</th>\n",
       "      <td>2021</td>\n",
       "      <td>GDU</td>\n",
       "      <td>DT</td>\n",
       "      <td>74802</td>\n",
       "      <td>A01</td>\n",
       "      <td>Tốt nghiệp THPT</td>\n",
       "    </tr>\n",
       "    <tr>\n",
       "      <th>4</th>\n",
       "      <td>2021</td>\n",
       "      <td>GDU</td>\n",
       "      <td>DT</td>\n",
       "      <td>74802</td>\n",
       "      <td>XDHB</td>\n",
       "      <td>Xét học bạ</td>\n",
       "    </tr>\n",
       "    <tr>\n",
       "      <th>...</th>\n",
       "      <td>...</td>\n",
       "      <td>...</td>\n",
       "      <td>...</td>\n",
       "      <td>...</td>\n",
       "      <td>...</td>\n",
       "      <td>...</td>\n",
       "    </tr>\n",
       "    <tr>\n",
       "      <th>3412</th>\n",
       "      <td>2023</td>\n",
       "      <td>VNUHCM-USSH</td>\n",
       "      <td>DT</td>\n",
       "      <td>7760101</td>\n",
       "      <td>C00</td>\n",
       "      <td>Tốt nghiệp THPT</td>\n",
       "    </tr>\n",
       "    <tr>\n",
       "      <th>3413</th>\n",
       "      <td>2023</td>\n",
       "      <td>VNUHCM-USSH</td>\n",
       "      <td>DT</td>\n",
       "      <td>7760101</td>\n",
       "      <td>DGNL</td>\n",
       "      <td>Đánh giá năng lực ĐHQG-HCM</td>\n",
       "    </tr>\n",
       "    <tr>\n",
       "      <th>3414</th>\n",
       "      <td>2023</td>\n",
       "      <td>VNUHCM-USSH</td>\n",
       "      <td>DT</td>\n",
       "      <td>7810103</td>\n",
       "      <td>D01</td>\n",
       "      <td>Tốt nghiệp THPT</td>\n",
       "    </tr>\n",
       "    <tr>\n",
       "      <th>3415</th>\n",
       "      <td>2023</td>\n",
       "      <td>VNUHCM-USSH</td>\n",
       "      <td>DT</td>\n",
       "      <td>7810103</td>\n",
       "      <td>C00</td>\n",
       "      <td>Tốt nghiệp THPT</td>\n",
       "    </tr>\n",
       "    <tr>\n",
       "      <th>3416</th>\n",
       "      <td>2023</td>\n",
       "      <td>VNUHCM-USSH</td>\n",
       "      <td>DT</td>\n",
       "      <td>7810103</td>\n",
       "      <td>DGNL</td>\n",
       "      <td>Đánh giá năng lực ĐHQG-HCM</td>\n",
       "    </tr>\n",
       "  </tbody>\n",
       "</table>\n",
       "<p>3417 rows × 6 columns</p>\n",
       "</div>"
      ],
      "text/plain": [
       "      year university_code program_type major_code subject_group_code  \\\n",
       "0     2021           Other           DT    7310101                D01   \n",
       "1     2021             GDU           DT      73801                A01   \n",
       "2     2021             GDU           DT      73801               XDHB   \n",
       "3     2021             GDU           DT      74802                A01   \n",
       "4     2021             GDU           DT      74802               XDHB   \n",
       "...    ...             ...          ...        ...                ...   \n",
       "3412  2023     VNUHCM-USSH           DT    7760101                C00   \n",
       "3413  2023     VNUHCM-USSH           DT    7760101               DGNL   \n",
       "3414  2023     VNUHCM-USSH           DT    7810103                D01   \n",
       "3415  2023     VNUHCM-USSH           DT    7810103                C00   \n",
       "3416  2023     VNUHCM-USSH           DT    7810103               DGNL   \n",
       "\n",
       "                admission_method  \n",
       "0                Tốt nghiệp THPT  \n",
       "1                Tốt nghiệp THPT  \n",
       "2                     Xét học bạ  \n",
       "3                Tốt nghiệp THPT  \n",
       "4                     Xét học bạ  \n",
       "...                          ...  \n",
       "3412             Tốt nghiệp THPT  \n",
       "3413  Đánh giá năng lực ĐHQG-HCM  \n",
       "3414             Tốt nghiệp THPT  \n",
       "3415             Tốt nghiệp THPT  \n",
       "3416  Đánh giá năng lực ĐHQG-HCM  \n",
       "\n",
       "[3417 rows x 6 columns]"
      ]
     },
     "execution_count": 357,
     "metadata": {},
     "output_type": "execute_result"
    }
   ],
   "source": [
    "x"
   ]
  },
  {
   "cell_type": "code",
   "execution_count": 358,
   "id": "6a10c57d",
   "metadata": {},
   "outputs": [],
   "source": [
    "df[['year','university_code','program_type','major_code','subject_group_code','admission_method']] = \\\n",
    "    df[['year','university_code','program_type','major_code','subject_group_code','admission_method']].astype('category')"
   ]
  },
  {
   "cell_type": "code",
   "execution_count": 359,
   "id": "31d922be",
   "metadata": {},
   "outputs": [
    {
     "ename": "TypeError",
     "evalue": "Encoders require their input argument must be uniformly strings or numbers. Got ['int', 'str']",
     "output_type": "error",
     "traceback": [
      "\u001b[1;31m---------------------------------------------------------------------------\u001b[0m",
      "\u001b[1;31mTypeError\u001b[0m                                 Traceback (most recent call last)",
      "File \u001b[1;32mc:\\Users\\WELCOM AN\\AppData\\Local\\Programs\\Python\\Python310\\lib\\site-packages\\sklearn\\utils\\_encode.py:183\u001b[0m, in \u001b[0;36m_unique_python\u001b[1;34m(values, return_inverse, return_counts)\u001b[0m\n\u001b[0;32m    181\u001b[0m uniques_set, missing_values \u001b[38;5;241m=\u001b[39m _extract_missing(uniques_set)\n\u001b[1;32m--> 183\u001b[0m uniques \u001b[38;5;241m=\u001b[39m \u001b[38;5;28;43msorted\u001b[39;49m\u001b[43m(\u001b[49m\u001b[43muniques_set\u001b[49m\u001b[43m)\u001b[49m\n\u001b[0;32m    184\u001b[0m uniques\u001b[38;5;241m.\u001b[39mextend(missing_values\u001b[38;5;241m.\u001b[39mto_list())\n",
      "\u001b[1;31mTypeError\u001b[0m: '<' not supported between instances of 'str' and 'int'",
      "\nDuring handling of the above exception, another exception occurred:\n",
      "\u001b[1;31mTypeError\u001b[0m                                 Traceback (most recent call last)",
      "Cell \u001b[1;32mIn[359], line 8\u001b[0m\n\u001b[0;32m      4\u001b[0m \u001b[38;5;66;03m# Encode categorical attributes in x\u001b[39;00m\n\u001b[0;32m      5\u001b[0m ct \u001b[38;5;241m=\u001b[39m ColumnTransformer(transformers\u001b[38;5;241m=\u001b[39m[\n\u001b[0;32m      6\u001b[0m     (\u001b[38;5;124m'\u001b[39m\u001b[38;5;124mencoder\u001b[39m\u001b[38;5;124m'\u001b[39m, OneHotEncoder(), [\u001b[38;5;124m'\u001b[39m\u001b[38;5;124muniversity_code\u001b[39m\u001b[38;5;124m'\u001b[39m, \u001b[38;5;124m'\u001b[39m\u001b[38;5;124mprogram_type\u001b[39m\u001b[38;5;124m'\u001b[39m, \u001b[38;5;124m'\u001b[39m\u001b[38;5;124mmajor_code\u001b[39m\u001b[38;5;124m'\u001b[39m, \u001b[38;5;124m'\u001b[39m\u001b[38;5;124msubject_group_code\u001b[39m\u001b[38;5;124m'\u001b[39m, \u001b[38;5;124m'\u001b[39m\u001b[38;5;124madmission_method\u001b[39m\u001b[38;5;124m'\u001b[39m])\n\u001b[0;32m      7\u001b[0m ], remainder\u001b[38;5;241m=\u001b[39m\u001b[38;5;124m'\u001b[39m\u001b[38;5;124mpassthrough\u001b[39m\u001b[38;5;124m'\u001b[39m)\n\u001b[1;32m----> 8\u001b[0m x_encoded \u001b[38;5;241m=\u001b[39m \u001b[43mct\u001b[49m\u001b[38;5;241;43m.\u001b[39;49m\u001b[43mfit_transform\u001b[49m\u001b[43m(\u001b[49m\u001b[43mx\u001b[49m\u001b[43m)\u001b[49m\n",
      "File \u001b[1;32mc:\\Users\\WELCOM AN\\AppData\\Local\\Programs\\Python\\Python310\\lib\\site-packages\\sklearn\\utils\\_set_output.py:319\u001b[0m, in \u001b[0;36m_wrap_method_output.<locals>.wrapped\u001b[1;34m(self, X, *args, **kwargs)\u001b[0m\n\u001b[0;32m    317\u001b[0m \u001b[38;5;129m@wraps\u001b[39m(f)\n\u001b[0;32m    318\u001b[0m \u001b[38;5;28;01mdef\u001b[39;00m\u001b[38;5;250m \u001b[39m\u001b[38;5;21mwrapped\u001b[39m(\u001b[38;5;28mself\u001b[39m, X, \u001b[38;5;241m*\u001b[39margs, \u001b[38;5;241m*\u001b[39m\u001b[38;5;241m*\u001b[39mkwargs):\n\u001b[1;32m--> 319\u001b[0m     data_to_wrap \u001b[38;5;241m=\u001b[39m f(\u001b[38;5;28mself\u001b[39m, X, \u001b[38;5;241m*\u001b[39margs, \u001b[38;5;241m*\u001b[39m\u001b[38;5;241m*\u001b[39mkwargs)\n\u001b[0;32m    320\u001b[0m     \u001b[38;5;28;01mif\u001b[39;00m \u001b[38;5;28misinstance\u001b[39m(data_to_wrap, \u001b[38;5;28mtuple\u001b[39m):\n\u001b[0;32m    321\u001b[0m         \u001b[38;5;66;03m# only wrap the first output for cross decomposition\u001b[39;00m\n\u001b[0;32m    322\u001b[0m         return_tuple \u001b[38;5;241m=\u001b[39m (\n\u001b[0;32m    323\u001b[0m             _wrap_data_with_container(method, data_to_wrap[\u001b[38;5;241m0\u001b[39m], X, \u001b[38;5;28mself\u001b[39m),\n\u001b[0;32m    324\u001b[0m             \u001b[38;5;241m*\u001b[39mdata_to_wrap[\u001b[38;5;241m1\u001b[39m:],\n\u001b[0;32m    325\u001b[0m         )\n",
      "File \u001b[1;32mc:\\Users\\WELCOM AN\\AppData\\Local\\Programs\\Python\\Python310\\lib\\site-packages\\sklearn\\base.py:1389\u001b[0m, in \u001b[0;36m_fit_context.<locals>.decorator.<locals>.wrapper\u001b[1;34m(estimator, *args, **kwargs)\u001b[0m\n\u001b[0;32m   1382\u001b[0m     estimator\u001b[38;5;241m.\u001b[39m_validate_params()\n\u001b[0;32m   1384\u001b[0m \u001b[38;5;28;01mwith\u001b[39;00m config_context(\n\u001b[0;32m   1385\u001b[0m     skip_parameter_validation\u001b[38;5;241m=\u001b[39m(\n\u001b[0;32m   1386\u001b[0m         prefer_skip_nested_validation \u001b[38;5;129;01mor\u001b[39;00m global_skip_validation\n\u001b[0;32m   1387\u001b[0m     )\n\u001b[0;32m   1388\u001b[0m ):\n\u001b[1;32m-> 1389\u001b[0m     \u001b[38;5;28;01mreturn\u001b[39;00m fit_method(estimator, \u001b[38;5;241m*\u001b[39margs, \u001b[38;5;241m*\u001b[39m\u001b[38;5;241m*\u001b[39mkwargs)\n",
      "File \u001b[1;32mc:\\Users\\WELCOM AN\\AppData\\Local\\Programs\\Python\\Python310\\lib\\site-packages\\sklearn\\compose\\_column_transformer.py:1001\u001b[0m, in \u001b[0;36mColumnTransformer.fit_transform\u001b[1;34m(self, X, y, **params)\u001b[0m\n\u001b[0;32m    998\u001b[0m \u001b[38;5;28;01melse\u001b[39;00m:\n\u001b[0;32m    999\u001b[0m     routed_params \u001b[38;5;241m=\u001b[39m \u001b[38;5;28mself\u001b[39m\u001b[38;5;241m.\u001b[39m_get_empty_routing()\n\u001b[1;32m-> 1001\u001b[0m result \u001b[38;5;241m=\u001b[39m \u001b[38;5;28;43mself\u001b[39;49m\u001b[38;5;241;43m.\u001b[39;49m\u001b[43m_call_func_on_transformers\u001b[49m\u001b[43m(\u001b[49m\n\u001b[0;32m   1002\u001b[0m \u001b[43m    \u001b[49m\u001b[43mX\u001b[49m\u001b[43m,\u001b[49m\n\u001b[0;32m   1003\u001b[0m \u001b[43m    \u001b[49m\u001b[43my\u001b[49m\u001b[43m,\u001b[49m\n\u001b[0;32m   1004\u001b[0m \u001b[43m    \u001b[49m\u001b[43m_fit_transform_one\u001b[49m\u001b[43m,\u001b[49m\n\u001b[0;32m   1005\u001b[0m \u001b[43m    \u001b[49m\u001b[43mcolumn_as_labels\u001b[49m\u001b[38;5;241;43m=\u001b[39;49m\u001b[38;5;28;43;01mFalse\u001b[39;49;00m\u001b[43m,\u001b[49m\n\u001b[0;32m   1006\u001b[0m \u001b[43m    \u001b[49m\u001b[43mrouted_params\u001b[49m\u001b[38;5;241;43m=\u001b[39;49m\u001b[43mrouted_params\u001b[49m\u001b[43m,\u001b[49m\n\u001b[0;32m   1007\u001b[0m \u001b[43m\u001b[49m\u001b[43m)\u001b[49m\n\u001b[0;32m   1009\u001b[0m \u001b[38;5;28;01mif\u001b[39;00m \u001b[38;5;129;01mnot\u001b[39;00m result:\n\u001b[0;32m   1010\u001b[0m     \u001b[38;5;28mself\u001b[39m\u001b[38;5;241m.\u001b[39m_update_fitted_transformers([])\n",
      "File \u001b[1;32mc:\\Users\\WELCOM AN\\AppData\\Local\\Programs\\Python\\Python310\\lib\\site-packages\\sklearn\\compose\\_column_transformer.py:910\u001b[0m, in \u001b[0;36mColumnTransformer._call_func_on_transformers\u001b[1;34m(self, X, y, func, column_as_labels, routed_params)\u001b[0m\n\u001b[0;32m    898\u001b[0m             extra_args \u001b[38;5;241m=\u001b[39m {}\n\u001b[0;32m    899\u001b[0m         jobs\u001b[38;5;241m.\u001b[39mappend(\n\u001b[0;32m    900\u001b[0m             delayed(func)(\n\u001b[0;32m    901\u001b[0m                 transformer\u001b[38;5;241m=\u001b[39mclone(trans) \u001b[38;5;28;01mif\u001b[39;00m \u001b[38;5;129;01mnot\u001b[39;00m fitted \u001b[38;5;28;01melse\u001b[39;00m trans,\n\u001b[1;32m   (...)\u001b[0m\n\u001b[0;32m    907\u001b[0m             )\n\u001b[0;32m    908\u001b[0m         )\n\u001b[1;32m--> 910\u001b[0m     \u001b[38;5;28;01mreturn\u001b[39;00m \u001b[43mParallel\u001b[49m\u001b[43m(\u001b[49m\u001b[43mn_jobs\u001b[49m\u001b[38;5;241;43m=\u001b[39;49m\u001b[38;5;28;43mself\u001b[39;49m\u001b[38;5;241;43m.\u001b[39;49m\u001b[43mn_jobs\u001b[49m\u001b[43m)\u001b[49m\u001b[43m(\u001b[49m\u001b[43mjobs\u001b[49m\u001b[43m)\u001b[49m\n\u001b[0;32m    912\u001b[0m \u001b[38;5;28;01mexcept\u001b[39;00m \u001b[38;5;167;01mValueError\u001b[39;00m \u001b[38;5;28;01mas\u001b[39;00m e:\n\u001b[0;32m    913\u001b[0m     \u001b[38;5;28;01mif\u001b[39;00m \u001b[38;5;124m\"\u001b[39m\u001b[38;5;124mExpected 2D array, got 1D array instead\u001b[39m\u001b[38;5;124m\"\u001b[39m \u001b[38;5;129;01min\u001b[39;00m \u001b[38;5;28mstr\u001b[39m(e):\n",
      "File \u001b[1;32mc:\\Users\\WELCOM AN\\AppData\\Local\\Programs\\Python\\Python310\\lib\\site-packages\\sklearn\\utils\\parallel.py:77\u001b[0m, in \u001b[0;36mParallel.__call__\u001b[1;34m(self, iterable)\u001b[0m\n\u001b[0;32m     72\u001b[0m config \u001b[38;5;241m=\u001b[39m get_config()\n\u001b[0;32m     73\u001b[0m iterable_with_config \u001b[38;5;241m=\u001b[39m (\n\u001b[0;32m     74\u001b[0m     (_with_config(delayed_func, config), args, kwargs)\n\u001b[0;32m     75\u001b[0m     \u001b[38;5;28;01mfor\u001b[39;00m delayed_func, args, kwargs \u001b[38;5;129;01min\u001b[39;00m iterable\n\u001b[0;32m     76\u001b[0m )\n\u001b[1;32m---> 77\u001b[0m \u001b[38;5;28;01mreturn\u001b[39;00m \u001b[38;5;28;43msuper\u001b[39;49m\u001b[43m(\u001b[49m\u001b[43m)\u001b[49m\u001b[38;5;241;43m.\u001b[39;49m\u001b[38;5;21;43m__call__\u001b[39;49m\u001b[43m(\u001b[49m\u001b[43miterable_with_config\u001b[49m\u001b[43m)\u001b[49m\n",
      "File \u001b[1;32mc:\\Users\\WELCOM AN\\AppData\\Local\\Programs\\Python\\Python310\\lib\\site-packages\\joblib\\parallel.py:1918\u001b[0m, in \u001b[0;36mParallel.__call__\u001b[1;34m(self, iterable)\u001b[0m\n\u001b[0;32m   1916\u001b[0m     output \u001b[38;5;241m=\u001b[39m \u001b[38;5;28mself\u001b[39m\u001b[38;5;241m.\u001b[39m_get_sequential_output(iterable)\n\u001b[0;32m   1917\u001b[0m     \u001b[38;5;28mnext\u001b[39m(output)\n\u001b[1;32m-> 1918\u001b[0m     \u001b[38;5;28;01mreturn\u001b[39;00m output \u001b[38;5;28;01mif\u001b[39;00m \u001b[38;5;28mself\u001b[39m\u001b[38;5;241m.\u001b[39mreturn_generator \u001b[38;5;28;01melse\u001b[39;00m \u001b[38;5;28;43mlist\u001b[39;49m\u001b[43m(\u001b[49m\u001b[43moutput\u001b[49m\u001b[43m)\u001b[49m\n\u001b[0;32m   1920\u001b[0m \u001b[38;5;66;03m# Let's create an ID that uniquely identifies the current call. If the\u001b[39;00m\n\u001b[0;32m   1921\u001b[0m \u001b[38;5;66;03m# call is interrupted early and that the same instance is immediately\u001b[39;00m\n\u001b[0;32m   1922\u001b[0m \u001b[38;5;66;03m# re-used, this id will be used to prevent workers that were\u001b[39;00m\n\u001b[0;32m   1923\u001b[0m \u001b[38;5;66;03m# concurrently finalizing a task from the previous call to run the\u001b[39;00m\n\u001b[0;32m   1924\u001b[0m \u001b[38;5;66;03m# callback.\u001b[39;00m\n\u001b[0;32m   1925\u001b[0m \u001b[38;5;28;01mwith\u001b[39;00m \u001b[38;5;28mself\u001b[39m\u001b[38;5;241m.\u001b[39m_lock:\n",
      "File \u001b[1;32mc:\\Users\\WELCOM AN\\AppData\\Local\\Programs\\Python\\Python310\\lib\\site-packages\\joblib\\parallel.py:1847\u001b[0m, in \u001b[0;36mParallel._get_sequential_output\u001b[1;34m(self, iterable)\u001b[0m\n\u001b[0;32m   1845\u001b[0m \u001b[38;5;28mself\u001b[39m\u001b[38;5;241m.\u001b[39mn_dispatched_batches \u001b[38;5;241m+\u001b[39m\u001b[38;5;241m=\u001b[39m \u001b[38;5;241m1\u001b[39m\n\u001b[0;32m   1846\u001b[0m \u001b[38;5;28mself\u001b[39m\u001b[38;5;241m.\u001b[39mn_dispatched_tasks \u001b[38;5;241m+\u001b[39m\u001b[38;5;241m=\u001b[39m \u001b[38;5;241m1\u001b[39m\n\u001b[1;32m-> 1847\u001b[0m res \u001b[38;5;241m=\u001b[39m func(\u001b[38;5;241m*\u001b[39margs, \u001b[38;5;241m*\u001b[39m\u001b[38;5;241m*\u001b[39mkwargs)\n\u001b[0;32m   1848\u001b[0m \u001b[38;5;28mself\u001b[39m\u001b[38;5;241m.\u001b[39mn_completed_tasks \u001b[38;5;241m+\u001b[39m\u001b[38;5;241m=\u001b[39m \u001b[38;5;241m1\u001b[39m\n\u001b[0;32m   1849\u001b[0m \u001b[38;5;28mself\u001b[39m\u001b[38;5;241m.\u001b[39mprint_progress()\n",
      "File \u001b[1;32mc:\\Users\\WELCOM AN\\AppData\\Local\\Programs\\Python\\Python310\\lib\\site-packages\\sklearn\\utils\\parallel.py:139\u001b[0m, in \u001b[0;36m_FuncWrapper.__call__\u001b[1;34m(self, *args, **kwargs)\u001b[0m\n\u001b[0;32m    137\u001b[0m     config \u001b[38;5;241m=\u001b[39m {}\n\u001b[0;32m    138\u001b[0m \u001b[38;5;28;01mwith\u001b[39;00m config_context(\u001b[38;5;241m*\u001b[39m\u001b[38;5;241m*\u001b[39mconfig):\n\u001b[1;32m--> 139\u001b[0m     \u001b[38;5;28;01mreturn\u001b[39;00m \u001b[38;5;28mself\u001b[39m\u001b[38;5;241m.\u001b[39mfunction(\u001b[38;5;241m*\u001b[39margs, \u001b[38;5;241m*\u001b[39m\u001b[38;5;241m*\u001b[39mkwargs)\n",
      "File \u001b[1;32mc:\\Users\\WELCOM AN\\AppData\\Local\\Programs\\Python\\Python310\\lib\\site-packages\\sklearn\\pipeline.py:1551\u001b[0m, in \u001b[0;36m_fit_transform_one\u001b[1;34m(transformer, X, y, weight, message_clsname, message, params)\u001b[0m\n\u001b[0;32m   1549\u001b[0m \u001b[38;5;28;01mwith\u001b[39;00m _print_elapsed_time(message_clsname, message):\n\u001b[0;32m   1550\u001b[0m     \u001b[38;5;28;01mif\u001b[39;00m \u001b[38;5;28mhasattr\u001b[39m(transformer, \u001b[38;5;124m\"\u001b[39m\u001b[38;5;124mfit_transform\u001b[39m\u001b[38;5;124m\"\u001b[39m):\n\u001b[1;32m-> 1551\u001b[0m         res \u001b[38;5;241m=\u001b[39m transformer\u001b[38;5;241m.\u001b[39mfit_transform(X, y, \u001b[38;5;241m*\u001b[39m\u001b[38;5;241m*\u001b[39mparams\u001b[38;5;241m.\u001b[39mget(\u001b[38;5;124m\"\u001b[39m\u001b[38;5;124mfit_transform\u001b[39m\u001b[38;5;124m\"\u001b[39m, {}))\n\u001b[0;32m   1552\u001b[0m     \u001b[38;5;28;01melse\u001b[39;00m:\n\u001b[0;32m   1553\u001b[0m         res \u001b[38;5;241m=\u001b[39m transformer\u001b[38;5;241m.\u001b[39mfit(X, y, \u001b[38;5;241m*\u001b[39m\u001b[38;5;241m*\u001b[39mparams\u001b[38;5;241m.\u001b[39mget(\u001b[38;5;124m\"\u001b[39m\u001b[38;5;124mfit\u001b[39m\u001b[38;5;124m\"\u001b[39m, {}))\u001b[38;5;241m.\u001b[39mtransform(\n\u001b[0;32m   1554\u001b[0m             X, \u001b[38;5;241m*\u001b[39m\u001b[38;5;241m*\u001b[39mparams\u001b[38;5;241m.\u001b[39mget(\u001b[38;5;124m\"\u001b[39m\u001b[38;5;124mtransform\u001b[39m\u001b[38;5;124m\"\u001b[39m, {})\n\u001b[0;32m   1555\u001b[0m         )\n",
      "File \u001b[1;32mc:\\Users\\WELCOM AN\\AppData\\Local\\Programs\\Python\\Python310\\lib\\site-packages\\sklearn\\utils\\_set_output.py:319\u001b[0m, in \u001b[0;36m_wrap_method_output.<locals>.wrapped\u001b[1;34m(self, X, *args, **kwargs)\u001b[0m\n\u001b[0;32m    317\u001b[0m \u001b[38;5;129m@wraps\u001b[39m(f)\n\u001b[0;32m    318\u001b[0m \u001b[38;5;28;01mdef\u001b[39;00m\u001b[38;5;250m \u001b[39m\u001b[38;5;21mwrapped\u001b[39m(\u001b[38;5;28mself\u001b[39m, X, \u001b[38;5;241m*\u001b[39margs, \u001b[38;5;241m*\u001b[39m\u001b[38;5;241m*\u001b[39mkwargs):\n\u001b[1;32m--> 319\u001b[0m     data_to_wrap \u001b[38;5;241m=\u001b[39m f(\u001b[38;5;28mself\u001b[39m, X, \u001b[38;5;241m*\u001b[39margs, \u001b[38;5;241m*\u001b[39m\u001b[38;5;241m*\u001b[39mkwargs)\n\u001b[0;32m    320\u001b[0m     \u001b[38;5;28;01mif\u001b[39;00m \u001b[38;5;28misinstance\u001b[39m(data_to_wrap, \u001b[38;5;28mtuple\u001b[39m):\n\u001b[0;32m    321\u001b[0m         \u001b[38;5;66;03m# only wrap the first output for cross decomposition\u001b[39;00m\n\u001b[0;32m    322\u001b[0m         return_tuple \u001b[38;5;241m=\u001b[39m (\n\u001b[0;32m    323\u001b[0m             _wrap_data_with_container(method, data_to_wrap[\u001b[38;5;241m0\u001b[39m], X, \u001b[38;5;28mself\u001b[39m),\n\u001b[0;32m    324\u001b[0m             \u001b[38;5;241m*\u001b[39mdata_to_wrap[\u001b[38;5;241m1\u001b[39m:],\n\u001b[0;32m    325\u001b[0m         )\n",
      "File \u001b[1;32mc:\\Users\\WELCOM AN\\AppData\\Local\\Programs\\Python\\Python310\\lib\\site-packages\\sklearn\\base.py:918\u001b[0m, in \u001b[0;36mTransformerMixin.fit_transform\u001b[1;34m(self, X, y, **fit_params)\u001b[0m\n\u001b[0;32m    903\u001b[0m         warnings\u001b[38;5;241m.\u001b[39mwarn(\n\u001b[0;32m    904\u001b[0m             (\n\u001b[0;32m    905\u001b[0m                 \u001b[38;5;124mf\u001b[39m\u001b[38;5;124m\"\u001b[39m\u001b[38;5;124mThis object (\u001b[39m\u001b[38;5;132;01m{\u001b[39;00m\u001b[38;5;28mself\u001b[39m\u001b[38;5;241m.\u001b[39m\u001b[38;5;18m__class__\u001b[39m\u001b[38;5;241m.\u001b[39m\u001b[38;5;18m__name__\u001b[39m\u001b[38;5;132;01m}\u001b[39;00m\u001b[38;5;124m) has a `transform`\u001b[39m\u001b[38;5;124m\"\u001b[39m\n\u001b[1;32m   (...)\u001b[0m\n\u001b[0;32m    913\u001b[0m             \u001b[38;5;167;01mUserWarning\u001b[39;00m,\n\u001b[0;32m    914\u001b[0m         )\n\u001b[0;32m    916\u001b[0m \u001b[38;5;28;01mif\u001b[39;00m y \u001b[38;5;129;01mis\u001b[39;00m \u001b[38;5;28;01mNone\u001b[39;00m:\n\u001b[0;32m    917\u001b[0m     \u001b[38;5;66;03m# fit method of arity 1 (unsupervised transformation)\u001b[39;00m\n\u001b[1;32m--> 918\u001b[0m     \u001b[38;5;28;01mreturn\u001b[39;00m \u001b[38;5;28mself\u001b[39m\u001b[38;5;241m.\u001b[39mfit(X, \u001b[38;5;241m*\u001b[39m\u001b[38;5;241m*\u001b[39mfit_params)\u001b[38;5;241m.\u001b[39mtransform(X)\n\u001b[0;32m    919\u001b[0m \u001b[38;5;28;01melse\u001b[39;00m:\n\u001b[0;32m    920\u001b[0m     \u001b[38;5;66;03m# fit method of arity 2 (supervised transformation)\u001b[39;00m\n\u001b[0;32m    921\u001b[0m     \u001b[38;5;28;01mreturn\u001b[39;00m \u001b[38;5;28mself\u001b[39m\u001b[38;5;241m.\u001b[39mfit(X, y, \u001b[38;5;241m*\u001b[39m\u001b[38;5;241m*\u001b[39mfit_params)\u001b[38;5;241m.\u001b[39mtransform(X)\n",
      "File \u001b[1;32mc:\\Users\\WELCOM AN\\AppData\\Local\\Programs\\Python\\Python310\\lib\\site-packages\\sklearn\\base.py:1389\u001b[0m, in \u001b[0;36m_fit_context.<locals>.decorator.<locals>.wrapper\u001b[1;34m(estimator, *args, **kwargs)\u001b[0m\n\u001b[0;32m   1382\u001b[0m     estimator\u001b[38;5;241m.\u001b[39m_validate_params()\n\u001b[0;32m   1384\u001b[0m \u001b[38;5;28;01mwith\u001b[39;00m config_context(\n\u001b[0;32m   1385\u001b[0m     skip_parameter_validation\u001b[38;5;241m=\u001b[39m(\n\u001b[0;32m   1386\u001b[0m         prefer_skip_nested_validation \u001b[38;5;129;01mor\u001b[39;00m global_skip_validation\n\u001b[0;32m   1387\u001b[0m     )\n\u001b[0;32m   1388\u001b[0m ):\n\u001b[1;32m-> 1389\u001b[0m     \u001b[38;5;28;01mreturn\u001b[39;00m fit_method(estimator, \u001b[38;5;241m*\u001b[39margs, \u001b[38;5;241m*\u001b[39m\u001b[38;5;241m*\u001b[39mkwargs)\n",
      "File \u001b[1;32mc:\\Users\\WELCOM AN\\AppData\\Local\\Programs\\Python\\Python310\\lib\\site-packages\\sklearn\\preprocessing\\_encoders.py:991\u001b[0m, in \u001b[0;36mOneHotEncoder.fit\u001b[1;34m(self, X, y)\u001b[0m\n\u001b[0;32m    972\u001b[0m \u001b[38;5;129m@_fit_context\u001b[39m(prefer_skip_nested_validation\u001b[38;5;241m=\u001b[39m\u001b[38;5;28;01mTrue\u001b[39;00m)\n\u001b[0;32m    973\u001b[0m \u001b[38;5;28;01mdef\u001b[39;00m\u001b[38;5;250m \u001b[39m\u001b[38;5;21mfit\u001b[39m(\u001b[38;5;28mself\u001b[39m, X, y\u001b[38;5;241m=\u001b[39m\u001b[38;5;28;01mNone\u001b[39;00m):\n\u001b[0;32m    974\u001b[0m \u001b[38;5;250m    \u001b[39m\u001b[38;5;124;03m\"\"\"\u001b[39;00m\n\u001b[0;32m    975\u001b[0m \u001b[38;5;124;03m    Fit OneHotEncoder to X.\u001b[39;00m\n\u001b[0;32m    976\u001b[0m \n\u001b[1;32m   (...)\u001b[0m\n\u001b[0;32m    989\u001b[0m \u001b[38;5;124;03m        Fitted encoder.\u001b[39;00m\n\u001b[0;32m    990\u001b[0m \u001b[38;5;124;03m    \"\"\"\u001b[39;00m\n\u001b[1;32m--> 991\u001b[0m     \u001b[38;5;28;43mself\u001b[39;49m\u001b[38;5;241;43m.\u001b[39;49m\u001b[43m_fit\u001b[49m\u001b[43m(\u001b[49m\n\u001b[0;32m    992\u001b[0m \u001b[43m        \u001b[49m\u001b[43mX\u001b[49m\u001b[43m,\u001b[49m\n\u001b[0;32m    993\u001b[0m \u001b[43m        \u001b[49m\u001b[43mhandle_unknown\u001b[49m\u001b[38;5;241;43m=\u001b[39;49m\u001b[38;5;28;43mself\u001b[39;49m\u001b[38;5;241;43m.\u001b[39;49m\u001b[43mhandle_unknown\u001b[49m\u001b[43m,\u001b[49m\n\u001b[0;32m    994\u001b[0m \u001b[43m        \u001b[49m\u001b[43mensure_all_finite\u001b[49m\u001b[38;5;241;43m=\u001b[39;49m\u001b[38;5;124;43m\"\u001b[39;49m\u001b[38;5;124;43mallow-nan\u001b[39;49m\u001b[38;5;124;43m\"\u001b[39;49m\u001b[43m,\u001b[49m\n\u001b[0;32m    995\u001b[0m \u001b[43m    \u001b[49m\u001b[43m)\u001b[49m\n\u001b[0;32m    996\u001b[0m     \u001b[38;5;28mself\u001b[39m\u001b[38;5;241m.\u001b[39m_set_drop_idx()\n\u001b[0;32m    997\u001b[0m     \u001b[38;5;28mself\u001b[39m\u001b[38;5;241m.\u001b[39m_n_features_outs \u001b[38;5;241m=\u001b[39m \u001b[38;5;28mself\u001b[39m\u001b[38;5;241m.\u001b[39m_compute_n_features_outs()\n",
      "File \u001b[1;32mc:\\Users\\WELCOM AN\\AppData\\Local\\Programs\\Python\\Python310\\lib\\site-packages\\sklearn\\preprocessing\\_encoders.py:103\u001b[0m, in \u001b[0;36m_BaseEncoder._fit\u001b[1;34m(self, X, handle_unknown, ensure_all_finite, return_counts, return_and_ignore_missing_for_infrequent)\u001b[0m\n\u001b[0;32m    100\u001b[0m Xi \u001b[38;5;241m=\u001b[39m X_list[i]\n\u001b[0;32m    102\u001b[0m \u001b[38;5;28;01mif\u001b[39;00m \u001b[38;5;28mself\u001b[39m\u001b[38;5;241m.\u001b[39mcategories \u001b[38;5;241m==\u001b[39m \u001b[38;5;124m\"\u001b[39m\u001b[38;5;124mauto\u001b[39m\u001b[38;5;124m\"\u001b[39m:\n\u001b[1;32m--> 103\u001b[0m     result \u001b[38;5;241m=\u001b[39m \u001b[43m_unique\u001b[49m\u001b[43m(\u001b[49m\u001b[43mXi\u001b[49m\u001b[43m,\u001b[49m\u001b[43m \u001b[49m\u001b[43mreturn_counts\u001b[49m\u001b[38;5;241;43m=\u001b[39;49m\u001b[43mcompute_counts\u001b[49m\u001b[43m)\u001b[49m\n\u001b[0;32m    104\u001b[0m     \u001b[38;5;28;01mif\u001b[39;00m compute_counts:\n\u001b[0;32m    105\u001b[0m         cats, counts \u001b[38;5;241m=\u001b[39m result\n",
      "File \u001b[1;32mc:\\Users\\WELCOM AN\\AppData\\Local\\Programs\\Python\\Python310\\lib\\site-packages\\sklearn\\utils\\_encode.py:52\u001b[0m, in \u001b[0;36m_unique\u001b[1;34m(values, return_inverse, return_counts)\u001b[0m\n\u001b[0;32m     21\u001b[0m \u001b[38;5;250m\u001b[39m\u001b[38;5;124;03m\"\"\"Helper function to find unique values with support for python objects.\u001b[39;00m\n\u001b[0;32m     22\u001b[0m \n\u001b[0;32m     23\u001b[0m \u001b[38;5;124;03mUses pure python method for object dtype, and numpy method for\u001b[39;00m\n\u001b[1;32m   (...)\u001b[0m\n\u001b[0;32m     49\u001b[0m \u001b[38;5;124;03m    array. Only provided if `return_counts` is True.\u001b[39;00m\n\u001b[0;32m     50\u001b[0m \u001b[38;5;124;03m\"\"\"\u001b[39;00m\n\u001b[0;32m     51\u001b[0m \u001b[38;5;28;01mif\u001b[39;00m values\u001b[38;5;241m.\u001b[39mdtype \u001b[38;5;241m==\u001b[39m \u001b[38;5;28mobject\u001b[39m:\n\u001b[1;32m---> 52\u001b[0m     \u001b[38;5;28;01mreturn\u001b[39;00m \u001b[43m_unique_python\u001b[49m\u001b[43m(\u001b[49m\n\u001b[0;32m     53\u001b[0m \u001b[43m        \u001b[49m\u001b[43mvalues\u001b[49m\u001b[43m,\u001b[49m\u001b[43m \u001b[49m\u001b[43mreturn_inverse\u001b[49m\u001b[38;5;241;43m=\u001b[39;49m\u001b[43mreturn_inverse\u001b[49m\u001b[43m,\u001b[49m\u001b[43m \u001b[49m\u001b[43mreturn_counts\u001b[49m\u001b[38;5;241;43m=\u001b[39;49m\u001b[43mreturn_counts\u001b[49m\n\u001b[0;32m     54\u001b[0m \u001b[43m    \u001b[49m\u001b[43m)\u001b[49m\n\u001b[0;32m     55\u001b[0m \u001b[38;5;66;03m# numerical\u001b[39;00m\n\u001b[0;32m     56\u001b[0m \u001b[38;5;28;01mreturn\u001b[39;00m _unique_np(\n\u001b[0;32m     57\u001b[0m     values, return_inverse\u001b[38;5;241m=\u001b[39mreturn_inverse, return_counts\u001b[38;5;241m=\u001b[39mreturn_counts\n\u001b[0;32m     58\u001b[0m )\n",
      "File \u001b[1;32mc:\\Users\\WELCOM AN\\AppData\\Local\\Programs\\Python\\Python310\\lib\\site-packages\\sklearn\\utils\\_encode.py:188\u001b[0m, in \u001b[0;36m_unique_python\u001b[1;34m(values, return_inverse, return_counts)\u001b[0m\n\u001b[0;32m    186\u001b[0m \u001b[38;5;28;01mexcept\u001b[39;00m \u001b[38;5;167;01mTypeError\u001b[39;00m:\n\u001b[0;32m    187\u001b[0m     types \u001b[38;5;241m=\u001b[39m \u001b[38;5;28msorted\u001b[39m(t\u001b[38;5;241m.\u001b[39m\u001b[38;5;18m__qualname__\u001b[39m \u001b[38;5;28;01mfor\u001b[39;00m t \u001b[38;5;129;01min\u001b[39;00m \u001b[38;5;28mset\u001b[39m(\u001b[38;5;28mtype\u001b[39m(v) \u001b[38;5;28;01mfor\u001b[39;00m v \u001b[38;5;129;01min\u001b[39;00m values))\n\u001b[1;32m--> 188\u001b[0m     \u001b[38;5;28;01mraise\u001b[39;00m \u001b[38;5;167;01mTypeError\u001b[39;00m(\n\u001b[0;32m    189\u001b[0m         \u001b[38;5;124m\"\u001b[39m\u001b[38;5;124mEncoders require their input argument must be uniformly \u001b[39m\u001b[38;5;124m\"\u001b[39m\n\u001b[0;32m    190\u001b[0m         \u001b[38;5;124mf\u001b[39m\u001b[38;5;124m\"\u001b[39m\u001b[38;5;124mstrings or numbers. Got \u001b[39m\u001b[38;5;132;01m{\u001b[39;00mtypes\u001b[38;5;132;01m}\u001b[39;00m\u001b[38;5;124m\"\u001b[39m\n\u001b[0;32m    191\u001b[0m     )\n\u001b[0;32m    192\u001b[0m ret \u001b[38;5;241m=\u001b[39m (uniques,)\n\u001b[0;32m    194\u001b[0m \u001b[38;5;28;01mif\u001b[39;00m return_inverse:\n",
      "\u001b[1;31mTypeError\u001b[0m: Encoders require their input argument must be uniformly strings or numbers. Got ['int', 'str']"
     ]
    }
   ],
   "source": [
    "from sklearn.compose import ColumnTransformer\n",
    "from sklearn.preprocessing import OneHotEncoder\n",
    "\n",
    "# Encode categorical attributes in x\n",
    "ct = ColumnTransformer(transformers=[\n",
    "    ('encoder', OneHotEncoder(), ['university_code', 'program_type', 'major_code', 'subject_group_code', 'admission_method'])\n",
    "], remainder='passthrough')\n",
    "x_encoded = ct.fit_transform(x)"
   ]
  },
  {
   "cell_type": "code",
   "execution_count": null,
   "id": "40858e55",
   "metadata": {},
   "outputs": [],
   "source": [
    "from sklearn.preprocessing import LabelEncoder\n",
    "\n",
    "# Encode the 'year' column\n",
    "label_encoder = LabelEncoder()\n",
    "x['year'] = label_encoder.fit_transform(x['year'])"
   ]
  },
  {
   "cell_type": "code",
   "execution_count": null,
   "id": "bb7f5c1c",
   "metadata": {},
   "outputs": [],
   "source": [
    "# df.to_csv('data_modeling.csv',index=False)"
   ]
  }
 ],
 "metadata": {
  "kernelspec": {
   "display_name": "Python 3",
   "language": "python",
   "name": "python3"
  },
  "language_info": {
   "codemirror_mode": {
    "name": "ipython",
    "version": 3
   },
   "file_extension": ".py",
   "mimetype": "text/x-python",
   "name": "python",
   "nbconvert_exporter": "python",
   "pygments_lexer": "ipython3",
   "version": "3.10.2"
  }
 },
 "nbformat": 4,
 "nbformat_minor": 5
}
