{
 "cells": [
  {
   "cell_type": "markdown",
   "id": "19597632",
   "metadata": {},
   "source": [
    "# Dự đoán điểm chuẩn bằng máy học"
   ]
  },
  {
   "cell_type": "code",
   "execution_count": 306,
   "id": "947c0838",
   "metadata": {},
   "outputs": [],
   "source": [
    "import pandas as pd\n",
    "import numpy as np\n",
    "import matplotlib.pyplot as plt\n",
    "import seaborn as sns"
   ]
  },
  {
   "cell_type": "code",
   "execution_count": 307,
   "id": "33137370",
   "metadata": {},
   "outputs": [],
   "source": [
    "# Đọc dữ liệu từ file CSV\n",
    "benchmark_scores = pd.read_csv('../data/processed/benchmark_scores_2021_2023_cleaned.csv')\n",
    "# Sao chép dữ liệu để xử lý\n",
    "df = benchmark_scores.copy()"
   ]
  },
  {
   "cell_type": "markdown",
   "id": "b6a6689a",
   "metadata": {},
   "source": [
    "---"
   ]
  },
  {
   "cell_type": "markdown",
   "id": "bd043449",
   "metadata": {},
   "source": [
    "## Khám phá dữ liệu\n",
    "Hiển thị một vài dòng đầu tiên của dữ liệu để kiểm tra cấu trúc."
   ]
  },
  {
   "cell_type": "code",
   "execution_count": 308,
   "id": "66af2e5a",
   "metadata": {},
   "outputs": [
    {
     "data": {
      "application/vnd.microsoft.datawrangler.viewer.v0+json": {
       "columns": [
        {
         "name": "index",
         "rawType": "int64",
         "type": "integer"
        },
        {
         "name": "year",
         "rawType": "int64",
         "type": "integer"
        },
        {
         "name": "university_code",
         "rawType": "object",
         "type": "string"
        },
        {
         "name": "program_type",
         "rawType": "object",
         "type": "string"
        },
        {
         "name": "uni_major_code",
         "rawType": "object",
         "type": "string"
        },
        {
         "name": "major_code",
         "rawType": "int64",
         "type": "integer"
        },
        {
         "name": "major_name",
         "rawType": "object",
         "type": "string"
        },
        {
         "name": "subject_group_code",
         "rawType": "object",
         "type": "string"
        },
        {
         "name": "admission_method",
         "rawType": "object",
         "type": "string"
        },
        {
         "name": "score_scale",
         "rawType": "int64",
         "type": "integer"
        },
        {
         "name": "benchmark_score",
         "rawType": "float64",
         "type": "float"
        }
       ],
       "conversionMethod": "pd.DataFrame",
       "ref": "5f62f81e-dbe9-4ea9-aaed-9d701f55bb4f",
       "rows": [
        [
         "0",
         "2021",
         "FTU2",
         "DT",
         "NTS01",
         "7310101",
         "Kinh tế",
         "D01",
         "Tốt nghiệp THPT",
         "30",
         "28.55"
        ],
        [
         "1",
         "2021",
         "GDU",
         "DT",
         "7380101",
         "73801",
         "Luật",
         "A01",
         "Tốt nghiệp THPT",
         "30",
         "15.0"
        ],
        [
         "2",
         "2021",
         "GDU",
         "DT",
         "7380101",
         "73801",
         "Luật",
         "XDHB",
         "Xét học bạ",
         "30",
         "16.5"
        ],
        [
         "3",
         "2021",
         "GDU",
         "DT",
         "7480201",
         "74802",
         "Công nghệ thông tin",
         "A01",
         "Tốt nghiệp THPT",
         "30",
         "16.0"
        ],
        [
         "4",
         "2021",
         "GDU",
         "DT",
         "7480201",
         "74802",
         "Công nghệ thông tin",
         "A01",
         "Tốt nghiệp THPT",
         "30",
         "16.5"
        ],
        [
         "5",
         "2021",
         "GDU",
         "DT",
         "7480201",
         "74802",
         "Công nghệ thông tin",
         "XDHB",
         "Xét học bạ",
         "30",
         "16.5"
        ],
        [
         "6",
         "2021",
         "GDU",
         "DT",
         "7220201",
         "7220201",
         "Ngôn ngữ Anh",
         "A01",
         "Tốt nghiệp THPT",
         "30",
         "15.5"
        ],
        [
         "7",
         "2021",
         "GDU",
         "DT",
         "7220201",
         "7220201",
         "Ngôn ngữ Anh",
         "D96",
         "Tốt nghiệp THPT",
         "30",
         "16.5"
        ],
        [
         "8",
         "2021",
         "GDU",
         "DT",
         "7220201",
         "7220201",
         "Ngôn ngữ Anh",
         "XDHB",
         "Xét học bạ",
         "30",
         "16.5"
        ],
        [
         "9",
         "2021",
         "GDU",
         "DT",
         "7310608",
         "7310608",
         "Đông phương học",
         "A01",
         "Tốt nghiệp THPT",
         "30",
         "15.5"
        ],
        [
         "10",
         "2021",
         "GDU",
         "DT",
         "7310608",
         "7310608",
         "Đông phương học",
         "D01",
         "Tốt nghiệp THPT",
         "30",
         "16.5"
        ],
        [
         "11",
         "2021",
         "GDU",
         "DT",
         "7310608",
         "7310608",
         "Đông phương học",
         "XDHB",
         "Xét học bạ",
         "30",
         "16.5"
        ],
        [
         "12",
         "2021",
         "GDU",
         "DT",
         "7320104",
         "7320104",
         "Truyền thông đa phương tiện",
         "A01",
         "Tốt nghiệp THPT",
         "30",
         "15.0"
        ],
        [
         "13",
         "2021",
         "GDU",
         "DT",
         "7320104",
         "7320104",
         "Truyền thông đa phương tiện",
         "XDHB",
         "Xét học bạ",
         "30",
         "16.5"
        ],
        [
         "14",
         "2021",
         "GDU",
         "DT",
         "7340101",
         "7340101",
         "Quản trị kinh doanh",
         "A01",
         "Tốt nghiệp THPT",
         "30",
         "16.5"
        ],
        [
         "15",
         "2021",
         "GDU",
         "DT",
         "7340101",
         "7340101",
         "Quản trị kinh doanh",
         "XDHB",
         "Xét học bạ",
         "30",
         "16.5"
        ],
        [
         "16",
         "2021",
         "GDU",
         "DT",
         "7340115",
         "7340115",
         "Marketing",
         "A01",
         "Tốt nghiệp THPT",
         "30",
         "16.0"
        ],
        [
         "17",
         "2021",
         "GDU",
         "DT",
         "7340115",
         "7340115",
         "Marketing",
         "XDHB",
         "Xét học bạ",
         "30",
         "16.5"
        ],
        [
         "18",
         "2021",
         "GDU",
         "DT",
         "7340120",
         "7340120",
         "Kinh doanh quốc tế",
         "A01",
         "Tốt nghiệp THPT",
         "30",
         "15.0"
        ],
        [
         "19",
         "2021",
         "GDU",
         "DT",
         "7340120",
         "7340120",
         "Kinh doanh quốc tế",
         "XDHB",
         "Xét học bạ",
         "30",
         "16.5"
        ],
        [
         "20",
         "2021",
         "GDU",
         "DT",
         "7340201",
         "7340201",
         "Tài chính - Ngân hàng",
         "A01",
         "Tốt nghiệp THPT",
         "30",
         "15.0"
        ],
        [
         "21",
         "2021",
         "GDU",
         "DT",
         "7340201",
         "7340201",
         "Tài chính - Ngân hàng",
         "D01",
         "Tốt nghiệp THPT",
         "30",
         "16.5"
        ],
        [
         "22",
         "2021",
         "GDU",
         "DT",
         "7340301",
         "7340301",
         "Kế toán",
         "A01",
         "Tốt nghiệp THPT",
         "30",
         "15.0"
        ],
        [
         "23",
         "2021",
         "GDU",
         "DT",
         "7340301",
         "7340301",
         "Kế toán",
         "D01",
         "Tốt nghiệp THPT",
         "30",
         "16.5"
        ],
        [
         "24",
         "2021",
         "GDU",
         "DT",
         "7340301",
         "7340301",
         "Kế toán",
         "XDHB",
         "Xét học bạ",
         "30",
         "16.5"
        ],
        [
         "25",
         "2021",
         "GDU",
         "DT",
         "7380101",
         "7380101",
         "Luật",
         "A01",
         "Tốt nghiệp THPT",
         "30",
         "15.0"
        ],
        [
         "26",
         "2021",
         "GDU",
         "DT",
         "7380101",
         "7380101",
         "Luật",
         "XDHB",
         "Xét học bạ",
         "30",
         "16.5"
        ],
        [
         "27",
         "2021",
         "GDU",
         "DT",
         "7480103",
         "7480103",
         "Kỹ thuật phần mềm",
         "A01",
         "Tốt nghiệp THPT",
         "30",
         "15.0"
        ],
        [
         "28",
         "2021",
         "GDU",
         "DT",
         "7480103",
         "7480103",
         "Kỹ thuật phần mềm",
         "A01",
         "Tốt nghiệp THPT",
         "30",
         "16.5"
        ],
        [
         "29",
         "2021",
         "GDU",
         "DT",
         "7480103",
         "7480103",
         "Kỹ thuật phần mềm",
         "XDHB",
         "Xét học bạ",
         "30",
         "16.5"
        ],
        [
         "30",
         "2021",
         "GDU",
         "DT",
         "7480201",
         "7480201",
         "Công nghệ thông tin",
         "A01",
         "Tốt nghiệp THPT",
         "30",
         "16.0"
        ],
        [
         "31",
         "2021",
         "GDU",
         "DT",
         "7480201",
         "7480201",
         "Công nghệ thông tin",
         "A01",
         "Tốt nghiệp THPT",
         "30",
         "16.5"
        ],
        [
         "32",
         "2021",
         "GDU",
         "DT",
         "7480201",
         "7480201",
         "Công nghệ thông tin",
         "XDHB",
         "Xét học bạ",
         "30",
         "16.5"
        ],
        [
         "33",
         "2021",
         "GDU",
         "DT",
         "7510605",
         "7510605",
         "Logistics và Quản lý chuỗi cung ứng",
         "A01",
         "Tốt nghiệp THPT",
         "30",
         "15.0"
        ],
        [
         "34",
         "2021",
         "GDU",
         "DT",
         "7510605",
         "7510605",
         "Logistics và Quản lý chuỗi cung ứng",
         "XDHB",
         "Xét học bạ",
         "30",
         "16.5"
        ],
        [
         "35",
         "2021",
         "GDU",
         "DT",
         "734115",
         "7810201",
         "Quản trị khách sạn",
         "A01",
         "Tốt nghiệp THPT",
         "30",
         "16.5"
        ],
        [
         "36",
         "2021",
         "GDU",
         "DT",
         "734115",
         "7810201",
         "Quản trị khách sạn",
         "XDHB",
         "Xét học bạ",
         "30",
         "16.5"
        ],
        [
         "37",
         "2021",
         "GDU",
         "DT",
         "7810201",
         "7810201",
         "Quản trị khách sạn",
         "A01",
         "Tốt nghiệp THPT",
         "30",
         "15.0"
        ],
        [
         "38",
         "2021",
         "HCA",
         "DT",
         "7380101",
         "73801",
         "Luật",
         "A01",
         "Tốt nghiệp THPT",
         "30",
         "26.35"
        ],
        [
         "39",
         "2021",
         "HCA",
         "DT",
         "7380101",
         "73801",
         "Luật",
         "XDHB",
         "Xét học bạ",
         "30",
         "26.35"
        ],
        [
         "40",
         "2021",
         "HCA",
         "DT",
         "7760101",
         "77601",
         "Công tác xã hội",
         "C00",
         "Tốt nghiệp THPT",
         "30",
         "23.65"
        ],
        [
         "41",
         "2021",
         "HCA",
         "DT",
         "7760101",
         "77601",
         "Công tác xã hội",
         "XDHB",
         "Xét học bạ",
         "30",
         "23.65"
        ],
        [
         "42",
         "2021",
         "HCA",
         "DT",
         "7310201",
         "7310201",
         "Chính trị học",
         "C04",
         "Tốt nghiệp THPT",
         "30",
         "24.5"
        ],
        [
         "43",
         "2021",
         "HCA",
         "DT",
         "7310201",
         "7310201",
         "Chính trị học",
         "XDHB",
         "Xét học bạ",
         "30",
         "24.5"
        ],
        [
         "44",
         "2021",
         "HCA",
         "DT",
         "7310202",
         "7310202",
         "Xây dựng Đảng và chính quyền nhà nước",
         "C04",
         "Tốt nghiệp THPT",
         "30",
         "25.0"
        ],
        [
         "45",
         "2021",
         "HCA",
         "DT",
         "7310202",
         "7310202",
         "Xây dựng Đảng và chính quyền nhà nước",
         "XDHB",
         "Xét học bạ",
         "30",
         "25.0"
        ],
        [
         "46",
         "2021",
         "HCA",
         "DT",
         "7310205",
         "7310205",
         "Quản lý nhà nước",
         "A01",
         "Tốt nghiệp THPT",
         "30",
         "26.25"
        ],
        [
         "47",
         "2021",
         "HCA",
         "DT",
         "7310205",
         "7310205",
         "Quản lý nhà nước",
         "XDHB",
         "Xét học bạ",
         "30",
         "26.25"
        ],
        [
         "48",
         "2021",
         "HCA",
         "DT",
         "7380101",
         "7380101",
         "Luật",
         "A01",
         "Tốt nghiệp THPT",
         "30",
         "26.35"
        ],
        [
         "49",
         "2021",
         "HCA",
         "DT",
         "7380101",
         "7380101",
         "Luật",
         "XDHB",
         "Xét học bạ",
         "30",
         "26.35"
        ]
       ],
       "shape": {
        "columns": 10,
        "rows": 7712
       }
      },
      "text/html": [
       "<div>\n",
       "<style scoped>\n",
       "    .dataframe tbody tr th:only-of-type {\n",
       "        vertical-align: middle;\n",
       "    }\n",
       "\n",
       "    .dataframe tbody tr th {\n",
       "        vertical-align: top;\n",
       "    }\n",
       "\n",
       "    .dataframe thead th {\n",
       "        text-align: right;\n",
       "    }\n",
       "</style>\n",
       "<table border=\"1\" class=\"dataframe\">\n",
       "  <thead>\n",
       "    <tr style=\"text-align: right;\">\n",
       "      <th></th>\n",
       "      <th>year</th>\n",
       "      <th>university_code</th>\n",
       "      <th>program_type</th>\n",
       "      <th>uni_major_code</th>\n",
       "      <th>major_code</th>\n",
       "      <th>major_name</th>\n",
       "      <th>subject_group_code</th>\n",
       "      <th>admission_method</th>\n",
       "      <th>score_scale</th>\n",
       "      <th>benchmark_score</th>\n",
       "    </tr>\n",
       "  </thead>\n",
       "  <tbody>\n",
       "    <tr>\n",
       "      <th>0</th>\n",
       "      <td>2021</td>\n",
       "      <td>FTU2</td>\n",
       "      <td>DT</td>\n",
       "      <td>NTS01</td>\n",
       "      <td>7310101</td>\n",
       "      <td>Kinh tế</td>\n",
       "      <td>D01</td>\n",
       "      <td>Tốt nghiệp THPT</td>\n",
       "      <td>30</td>\n",
       "      <td>28.55</td>\n",
       "    </tr>\n",
       "    <tr>\n",
       "      <th>1</th>\n",
       "      <td>2021</td>\n",
       "      <td>GDU</td>\n",
       "      <td>DT</td>\n",
       "      <td>7380101</td>\n",
       "      <td>73801</td>\n",
       "      <td>Luật</td>\n",
       "      <td>A01</td>\n",
       "      <td>Tốt nghiệp THPT</td>\n",
       "      <td>30</td>\n",
       "      <td>15.00</td>\n",
       "    </tr>\n",
       "    <tr>\n",
       "      <th>2</th>\n",
       "      <td>2021</td>\n",
       "      <td>GDU</td>\n",
       "      <td>DT</td>\n",
       "      <td>7380101</td>\n",
       "      <td>73801</td>\n",
       "      <td>Luật</td>\n",
       "      <td>XDHB</td>\n",
       "      <td>Xét học bạ</td>\n",
       "      <td>30</td>\n",
       "      <td>16.50</td>\n",
       "    </tr>\n",
       "    <tr>\n",
       "      <th>3</th>\n",
       "      <td>2021</td>\n",
       "      <td>GDU</td>\n",
       "      <td>DT</td>\n",
       "      <td>7480201</td>\n",
       "      <td>74802</td>\n",
       "      <td>Công nghệ thông tin</td>\n",
       "      <td>A01</td>\n",
       "      <td>Tốt nghiệp THPT</td>\n",
       "      <td>30</td>\n",
       "      <td>16.00</td>\n",
       "    </tr>\n",
       "    <tr>\n",
       "      <th>4</th>\n",
       "      <td>2021</td>\n",
       "      <td>GDU</td>\n",
       "      <td>DT</td>\n",
       "      <td>7480201</td>\n",
       "      <td>74802</td>\n",
       "      <td>Công nghệ thông tin</td>\n",
       "      <td>A01</td>\n",
       "      <td>Tốt nghiệp THPT</td>\n",
       "      <td>30</td>\n",
       "      <td>16.50</td>\n",
       "    </tr>\n",
       "    <tr>\n",
       "      <th>...</th>\n",
       "      <td>...</td>\n",
       "      <td>...</td>\n",
       "      <td>...</td>\n",
       "      <td>...</td>\n",
       "      <td>...</td>\n",
       "      <td>...</td>\n",
       "      <td>...</td>\n",
       "      <td>...</td>\n",
       "      <td>...</td>\n",
       "      <td>...</td>\n",
       "    </tr>\n",
       "    <tr>\n",
       "      <th>7707</th>\n",
       "      <td>2023</td>\n",
       "      <td>VNUHCM-USSH</td>\n",
       "      <td>DT</td>\n",
       "      <td>7760101</td>\n",
       "      <td>7760101</td>\n",
       "      <td>Công tác xã hội</td>\n",
       "      <td>C00</td>\n",
       "      <td>Tốt nghiệp THPT</td>\n",
       "      <td>30</td>\n",
       "      <td>24.70</td>\n",
       "    </tr>\n",
       "    <tr>\n",
       "      <th>7708</th>\n",
       "      <td>2023</td>\n",
       "      <td>VNUHCM-USSH</td>\n",
       "      <td>DT</td>\n",
       "      <td>7760101</td>\n",
       "      <td>7760101</td>\n",
       "      <td>Công tác xã hội</td>\n",
       "      <td>DGNL</td>\n",
       "      <td>Đánh giá năng lực ĐHQG-HCM</td>\n",
       "      <td>1200</td>\n",
       "      <td>670.00</td>\n",
       "    </tr>\n",
       "    <tr>\n",
       "      <th>7709</th>\n",
       "      <td>2023</td>\n",
       "      <td>VNUHCM-USSH</td>\n",
       "      <td>DT</td>\n",
       "      <td>7810103</td>\n",
       "      <td>7810103</td>\n",
       "      <td>Quản trị dịch vụ du lịch và lữ hành</td>\n",
       "      <td>D01</td>\n",
       "      <td>Tốt nghiệp THPT</td>\n",
       "      <td>30</td>\n",
       "      <td>25.80</td>\n",
       "    </tr>\n",
       "    <tr>\n",
       "      <th>7710</th>\n",
       "      <td>2023</td>\n",
       "      <td>VNUHCM-USSH</td>\n",
       "      <td>DT</td>\n",
       "      <td>7810103</td>\n",
       "      <td>7810103</td>\n",
       "      <td>Quản trị dịch vụ du lịch và lữ hành</td>\n",
       "      <td>C00</td>\n",
       "      <td>Tốt nghiệp THPT</td>\n",
       "      <td>30</td>\n",
       "      <td>27.40</td>\n",
       "    </tr>\n",
       "    <tr>\n",
       "      <th>7711</th>\n",
       "      <td>2023</td>\n",
       "      <td>VNUHCM-USSH</td>\n",
       "      <td>DT</td>\n",
       "      <td>7810103</td>\n",
       "      <td>7810103</td>\n",
       "      <td>Quản trị dịch vụ du lịch và lữ hành</td>\n",
       "      <td>DGNL</td>\n",
       "      <td>Đánh giá năng lực ĐHQG-HCM</td>\n",
       "      <td>1200</td>\n",
       "      <td>790.00</td>\n",
       "    </tr>\n",
       "  </tbody>\n",
       "</table>\n",
       "<p>7712 rows × 10 columns</p>\n",
       "</div>"
      ],
      "text/plain": [
       "      year university_code program_type uni_major_code  major_code  \\\n",
       "0     2021            FTU2           DT          NTS01     7310101   \n",
       "1     2021             GDU           DT        7380101       73801   \n",
       "2     2021             GDU           DT        7380101       73801   \n",
       "3     2021             GDU           DT        7480201       74802   \n",
       "4     2021             GDU           DT        7480201       74802   \n",
       "...    ...             ...          ...            ...         ...   \n",
       "7707  2023     VNUHCM-USSH           DT        7760101     7760101   \n",
       "7708  2023     VNUHCM-USSH           DT        7760101     7760101   \n",
       "7709  2023     VNUHCM-USSH           DT        7810103     7810103   \n",
       "7710  2023     VNUHCM-USSH           DT        7810103     7810103   \n",
       "7711  2023     VNUHCM-USSH           DT        7810103     7810103   \n",
       "\n",
       "                               major_name subject_group_code  \\\n",
       "0                                 Kinh tế                D01   \n",
       "1                                    Luật                A01   \n",
       "2                                    Luật               XDHB   \n",
       "3                     Công nghệ thông tin                A01   \n",
       "4                     Công nghệ thông tin                A01   \n",
       "...                                   ...                ...   \n",
       "7707                      Công tác xã hội                C00   \n",
       "7708                      Công tác xã hội               DGNL   \n",
       "7709  Quản trị dịch vụ du lịch và lữ hành                D01   \n",
       "7710  Quản trị dịch vụ du lịch và lữ hành                C00   \n",
       "7711  Quản trị dịch vụ du lịch và lữ hành               DGNL   \n",
       "\n",
       "                admission_method  score_scale  benchmark_score  \n",
       "0                Tốt nghiệp THPT           30            28.55  \n",
       "1                Tốt nghiệp THPT           30            15.00  \n",
       "2                     Xét học bạ           30            16.50  \n",
       "3                Tốt nghiệp THPT           30            16.00  \n",
       "4                Tốt nghiệp THPT           30            16.50  \n",
       "...                          ...          ...              ...  \n",
       "7707             Tốt nghiệp THPT           30            24.70  \n",
       "7708  Đánh giá năng lực ĐHQG-HCM         1200           670.00  \n",
       "7709             Tốt nghiệp THPT           30            25.80  \n",
       "7710             Tốt nghiệp THPT           30            27.40  \n",
       "7711  Đánh giá năng lực ĐHQG-HCM         1200           790.00  \n",
       "\n",
       "[7712 rows x 10 columns]"
      ]
     },
     "execution_count": 308,
     "metadata": {},
     "output_type": "execute_result"
    }
   ],
   "source": [
    "df"
   ]
  },
  {
   "cell_type": "markdown",
   "id": "34871e5a",
   "metadata": {},
   "source": [
    "### Các feature và label\n",
    "Dưới đây là danh sách các feature và label được sử dụng trong mô hình."
   ]
  },
  {
   "cell_type": "markdown",
   "id": "c1c36e83",
   "metadata": {},
   "source": [
    "#### Các feature cho mô hình:\n",
    "- `year`: Năm xét tuyển\n",
    "- `university_code`: Mã trường đại học\n",
    "- `program_type`: Loại chương trình đào tạo\n",
    "- `major_code`: Mã ngành học\n",
    "- `subject_group_code`: Mã tổ hợp môn\n",
    "- `admission_method`: Phương thức tuyển sinh\n",
    "#### Label:\n",
    "- `benchmark_score`: Điểm chuẩn đầu vào"
   ]
  },
  {
   "cell_type": "markdown",
   "id": "c9ee2c00",
   "metadata": {},
   "source": [
    "---"
   ]
  },
  {
   "cell_type": "markdown",
   "id": "584cca95",
   "metadata": {},
   "source": [
    "### Kiểm tra dữ liệu\n",
    "Kiểm tra dữ liệu trùng lặp và giá trị bị thiếu."
   ]
  },
  {
   "cell_type": "code",
   "execution_count": 309,
   "id": "df2fc11d",
   "metadata": {},
   "outputs": [
    {
     "data": {
      "text/plain": [
       "np.False_"
      ]
     },
     "execution_count": 309,
     "metadata": {},
     "output_type": "execute_result"
    }
   ],
   "source": [
    "# Kiểm tra dữ liệu trùng lặp\n",
    "df.duplicated().any()"
   ]
  },
  {
   "cell_type": "code",
   "execution_count": 310,
   "id": "ccc75a76",
   "metadata": {},
   "outputs": [
    {
     "data": {
      "text/plain": [
       "year                  False\n",
       "university_code       False\n",
       "program_type          False\n",
       "uni_major_code        False\n",
       "major_code            False\n",
       "major_name            False\n",
       "subject_group_code    False\n",
       "admission_method      False\n",
       "score_scale           False\n",
       "benchmark_score       False\n",
       "dtype: bool"
      ]
     },
     "execution_count": 310,
     "metadata": {},
     "output_type": "execute_result"
    }
   ],
   "source": [
    "# Kiểm tra giá trị bị thiếu\n",
    "df.isna().any()"
   ]
  },
  {
   "cell_type": "markdown",
   "id": "7a984c3a",
   "metadata": {},
   "source": [
    "---"
   ]
  },
  {
   "cell_type": "markdown",
   "id": "96d26b00",
   "metadata": {},
   "source": [
    "## Tiền xử lý dữ liệu"
   ]
  },
  {
   "cell_type": "markdown",
   "id": "33de0d26",
   "metadata": {},
   "source": [
    "Chuyển đổi thang điểm, loại bỏ dữ liệu trùng lặp và xử lý các giá trị ngoại lai."
   ]
  },
  {
   "cell_type": "code",
   "execution_count": 311,
   "id": "5f6803e1",
   "metadata": {},
   "outputs": [
    {
     "data": {
      "text/plain": [
       "year                    3\n",
       "university_code        45\n",
       "program_type            2\n",
       "uni_major_code        687\n",
       "major_code            220\n",
       "major_name            197\n",
       "subject_group_code     56\n",
       "admission_method        3\n",
       "score_scale             2\n",
       "benchmark_score       605\n",
       "dtype: int64"
      ]
     },
     "execution_count": 311,
     "metadata": {},
     "output_type": "execute_result"
    }
   ],
   "source": [
    "df.nunique()"
   ]
  },
  {
   "cell_type": "markdown",
   "id": "e672d6b4",
   "metadata": {},
   "source": [
    "- Ta có thể thấy số lượng unique value trong một số cột là rất nhiều, không thể One-hot encode hết   \n",
    "-> Lấy các giá trị xuật hiện phổ biển và các giá trị còn lại sẽ gán là 'Other'"
   ]
  },
  {
   "cell_type": "code",
   "execution_count": 312,
   "id": "4b50a2d8",
   "metadata": {},
   "outputs": [],
   "source": [
    "def group_top_n_labels(series, top_n=10):\n",
    "    '''Giữ lại n dữ liệu xuất hiện nhiều nhất, còn lại sẽ được chuyển thành Other'''\n",
    "    top_values = series.value_counts().nlargest(top_n).index\n",
    "    return series.apply(lambda x: x if x in top_values else 'Other')"
   ]
  },
  {
   "cell_type": "code",
   "execution_count": 313,
   "id": "9616bee1",
   "metadata": {},
   "outputs": [],
   "source": [
    "df['university_code'] = group_top_n_labels(df['university_code'],20)\n",
    "df['major_code'] = group_top_n_labels(df['major_code'],40)\n",
    "df['subject_group_code'] = group_top_n_labels(df['subject_group_code'],20)"
   ]
  },
  {
   "cell_type": "markdown",
   "id": "5a5f0c4e",
   "metadata": {},
   "source": [
    "drop_duplicated"
   ]
  },
  {
   "cell_type": "code",
   "execution_count": 314,
   "id": "1175e7bb",
   "metadata": {},
   "outputs": [],
   "source": [
    "# Trường hợp 1: Duplicated cả x và y\n",
    "df.drop_duplicates(inplace=True)\n",
    "\n",
    "# Trường hợp 2: Duplicated x nhưng lại khác y (duplicated features)\n",
    "cols_X = ['year', 'university_code', 'major_code', 'subject_group_code', 'program_type', 'admission_method']\n",
    "df.drop_duplicates(subset=cols_X, keep='first', inplace=True)"
   ]
  },
  {
   "cell_type": "code",
   "execution_count": 315,
   "id": "e09e74ff",
   "metadata": {},
   "outputs": [],
   "source": [
    "# Chuyển đổi thang điểm 1200 về thang điểm 30\n",
    "df.loc[df['score_scale'] == 1200, 'benchmark_score'] = \\\n",
    "    df.loc[df['score_scale'] == 1200, 'benchmark_score'] * 30.0 / 1200.0\n",
    "\n",
    "# Loại bỏ các cột không cần thiết\n",
    "df.drop(columns=['score_scale', 'major_name', 'uni_major_code'], inplace=True)\n",
    "\n",
    "# Loại bỏ các dòng trùng lặp\n",
    "df.drop_duplicates(subset=['year', 'university_code', 'program_type', \\\n",
    "                          'subject_group_code', 'major_code', 'admission_method'], \\\n",
    "                 keep='first', inplace=True)"
   ]
  },
  {
   "cell_type": "markdown",
   "id": "c29243e7",
   "metadata": {},
   "source": [
    "---"
   ]
  },
  {
   "cell_type": "markdown",
   "id": "3736ca57",
   "metadata": {},
   "source": [
    "### Chọn các feature và label\n",
    "Tách dữ liệu thành các feature (X) và label (y) để sử dụng trong mô hình."
   ]
  },
  {
   "cell_type": "code",
   "execution_count": 316,
   "id": "db4204d7",
   "metadata": {},
   "outputs": [],
   "source": [
    "# Hàm chọn feature và label\n",
    "def select_features(df: pd.DataFrame, labels_columns: str = 'benchmark_score'):\n",
    "    return df.drop(columns=labels_columns)\n",
    "\n",
    "def select_labels(df, labels_columns: str = 'benchmark_score'):\n",
    "    return df[labels_columns]"
   ]
  },
  {
   "cell_type": "code",
   "execution_count": 317,
   "id": "87c7022b",
   "metadata": {},
   "outputs": [],
   "source": [
    "# Tách feature và label\n",
    "features = select_features(df)\n",
    "labels = select_labels(df)"
   ]
  },
  {
   "cell_type": "markdown",
   "id": "60cdce29",
   "metadata": {},
   "source": [
    "---"
   ]
  },
  {
   "cell_type": "markdown",
   "id": "f60b8e21",
   "metadata": {},
   "source": [
    "### Mã hóa dữ liệu\n",
    "Chuyển đổi các feature dạng category thành dạng one-hot encoding để sử dụng trong mô hình."
   ]
  },
  {
   "cell_type": "code",
   "execution_count": 318,
   "id": "79b40a2a",
   "metadata": {},
   "outputs": [
    {
     "data": {
      "text/plain": [
       "year                   3\n",
       "university_code       21\n",
       "program_type           2\n",
       "major_code            41\n",
       "subject_group_code    21\n",
       "admission_method       3\n",
       "dtype: int64"
      ]
     },
     "execution_count": 318,
     "metadata": {},
     "output_type": "execute_result"
    }
   ],
   "source": [
    "features.nunique()"
   ]
  },
  {
   "cell_type": "code",
   "execution_count": 319,
   "id": "7b1b146a",
   "metadata": {},
   "outputs": [],
   "source": [
    "# Chuyển đổi kiểu dữ liệu cho các cột\n",
    "features[['year', 'major_code']] = \\\n",
    "    features[['year', 'major_code']].astype('str')\n",
    "\n",
    "features[features.columns.to_list()] = \\\n",
    "    features[features.columns.to_list()].astype('category')"
   ]
  },
  {
   "cell_type": "code",
   "execution_count": 320,
   "id": "31d922be",
   "metadata": {},
   "outputs": [],
   "source": [
    "from sklearn.compose import ColumnTransformer\n",
    "from sklearn.preprocessing import OneHotEncoder\n",
    "\n",
    "# Mã hóa các cột dạng category\n",
    "ct = ColumnTransformer(transformers=[\n",
    "    ('encoder', OneHotEncoder(), ['year', 'university_code', 'program_type', \\\n",
    "                                 'major_code', 'subject_group_code', 'admission_method'])\n",
    "], remainder='passthrough')\n",
    "\n",
    "# Áp dụng mã hóa\n",
    "x_encoded = ct.fit_transform(features)"
   ]
  },
  {
   "cell_type": "code",
   "execution_count": 321,
   "id": "a27ebe60",
   "metadata": {},
   "outputs": [
    {
     "data": {
      "application/vnd.microsoft.datawrangler.viewer.v0+json": {
       "columns": [
        {
         "name": "index",
         "rawType": "int64",
         "type": "integer"
        },
        {
         "name": "0",
         "rawType": "float64",
         "type": "float"
        },
        {
         "name": "1",
         "rawType": "float64",
         "type": "float"
        },
        {
         "name": "2",
         "rawType": "float64",
         "type": "float"
        },
        {
         "name": "3",
         "rawType": "float64",
         "type": "float"
        },
        {
         "name": "4",
         "rawType": "float64",
         "type": "float"
        },
        {
         "name": "5",
         "rawType": "float64",
         "type": "float"
        },
        {
         "name": "6",
         "rawType": "float64",
         "type": "float"
        },
        {
         "name": "7",
         "rawType": "float64",
         "type": "float"
        },
        {
         "name": "8",
         "rawType": "float64",
         "type": "float"
        },
        {
         "name": "9",
         "rawType": "float64",
         "type": "float"
        },
        {
         "name": "10",
         "rawType": "float64",
         "type": "float"
        },
        {
         "name": "11",
         "rawType": "float64",
         "type": "float"
        },
        {
         "name": "12",
         "rawType": "float64",
         "type": "float"
        },
        {
         "name": "13",
         "rawType": "float64",
         "type": "float"
        },
        {
         "name": "14",
         "rawType": "float64",
         "type": "float"
        },
        {
         "name": "15",
         "rawType": "float64",
         "type": "float"
        },
        {
         "name": "16",
         "rawType": "float64",
         "type": "float"
        },
        {
         "name": "17",
         "rawType": "float64",
         "type": "float"
        },
        {
         "name": "18",
         "rawType": "float64",
         "type": "float"
        },
        {
         "name": "19",
         "rawType": "float64",
         "type": "float"
        },
        {
         "name": "20",
         "rawType": "float64",
         "type": "float"
        },
        {
         "name": "21",
         "rawType": "float64",
         "type": "float"
        },
        {
         "name": "22",
         "rawType": "float64",
         "type": "float"
        },
        {
         "name": "23",
         "rawType": "float64",
         "type": "float"
        },
        {
         "name": "24",
         "rawType": "float64",
         "type": "float"
        },
        {
         "name": "25",
         "rawType": "float64",
         "type": "float"
        },
        {
         "name": "26",
         "rawType": "float64",
         "type": "float"
        },
        {
         "name": "27",
         "rawType": "float64",
         "type": "float"
        },
        {
         "name": "28",
         "rawType": "float64",
         "type": "float"
        },
        {
         "name": "29",
         "rawType": "float64",
         "type": "float"
        },
        {
         "name": "30",
         "rawType": "float64",
         "type": "float"
        },
        {
         "name": "31",
         "rawType": "float64",
         "type": "float"
        },
        {
         "name": "32",
         "rawType": "float64",
         "type": "float"
        },
        {
         "name": "33",
         "rawType": "float64",
         "type": "float"
        },
        {
         "name": "34",
         "rawType": "float64",
         "type": "float"
        },
        {
         "name": "35",
         "rawType": "float64",
         "type": "float"
        },
        {
         "name": "36",
         "rawType": "float64",
         "type": "float"
        },
        {
         "name": "37",
         "rawType": "float64",
         "type": "float"
        },
        {
         "name": "38",
         "rawType": "float64",
         "type": "float"
        },
        {
         "name": "39",
         "rawType": "float64",
         "type": "float"
        },
        {
         "name": "40",
         "rawType": "float64",
         "type": "float"
        },
        {
         "name": "41",
         "rawType": "float64",
         "type": "float"
        },
        {
         "name": "42",
         "rawType": "float64",
         "type": "float"
        },
        {
         "name": "43",
         "rawType": "float64",
         "type": "float"
        },
        {
         "name": "44",
         "rawType": "float64",
         "type": "float"
        },
        {
         "name": "45",
         "rawType": "float64",
         "type": "float"
        },
        {
         "name": "46",
         "rawType": "float64",
         "type": "float"
        },
        {
         "name": "47",
         "rawType": "float64",
         "type": "float"
        },
        {
         "name": "48",
         "rawType": "float64",
         "type": "float"
        },
        {
         "name": "49",
         "rawType": "float64",
         "type": "float"
        },
        {
         "name": "50",
         "rawType": "float64",
         "type": "float"
        },
        {
         "name": "51",
         "rawType": "float64",
         "type": "float"
        },
        {
         "name": "52",
         "rawType": "float64",
         "type": "float"
        },
        {
         "name": "53",
         "rawType": "float64",
         "type": "float"
        },
        {
         "name": "54",
         "rawType": "float64",
         "type": "float"
        },
        {
         "name": "55",
         "rawType": "float64",
         "type": "float"
        },
        {
         "name": "56",
         "rawType": "float64",
         "type": "float"
        },
        {
         "name": "57",
         "rawType": "float64",
         "type": "float"
        },
        {
         "name": "58",
         "rawType": "float64",
         "type": "float"
        },
        {
         "name": "59",
         "rawType": "float64",
         "type": "float"
        },
        {
         "name": "60",
         "rawType": "float64",
         "type": "float"
        },
        {
         "name": "61",
         "rawType": "float64",
         "type": "float"
        },
        {
         "name": "62",
         "rawType": "float64",
         "type": "float"
        },
        {
         "name": "63",
         "rawType": "float64",
         "type": "float"
        },
        {
         "name": "64",
         "rawType": "float64",
         "type": "float"
        },
        {
         "name": "65",
         "rawType": "float64",
         "type": "float"
        },
        {
         "name": "66",
         "rawType": "float64",
         "type": "float"
        },
        {
         "name": "67",
         "rawType": "float64",
         "type": "float"
        },
        {
         "name": "68",
         "rawType": "float64",
         "type": "float"
        },
        {
         "name": "69",
         "rawType": "float64",
         "type": "float"
        },
        {
         "name": "70",
         "rawType": "float64",
         "type": "float"
        },
        {
         "name": "71",
         "rawType": "float64",
         "type": "float"
        },
        {
         "name": "72",
         "rawType": "float64",
         "type": "float"
        },
        {
         "name": "73",
         "rawType": "float64",
         "type": "float"
        },
        {
         "name": "74",
         "rawType": "float64",
         "type": "float"
        },
        {
         "name": "75",
         "rawType": "float64",
         "type": "float"
        },
        {
         "name": "76",
         "rawType": "float64",
         "type": "float"
        },
        {
         "name": "77",
         "rawType": "float64",
         "type": "float"
        },
        {
         "name": "78",
         "rawType": "float64",
         "type": "float"
        },
        {
         "name": "79",
         "rawType": "float64",
         "type": "float"
        },
        {
         "name": "80",
         "rawType": "float64",
         "type": "float"
        },
        {
         "name": "81",
         "rawType": "float64",
         "type": "float"
        },
        {
         "name": "82",
         "rawType": "float64",
         "type": "float"
        },
        {
         "name": "83",
         "rawType": "float64",
         "type": "float"
        },
        {
         "name": "84",
         "rawType": "float64",
         "type": "float"
        },
        {
         "name": "85",
         "rawType": "float64",
         "type": "float"
        },
        {
         "name": "86",
         "rawType": "float64",
         "type": "float"
        },
        {
         "name": "87",
         "rawType": "float64",
         "type": "float"
        },
        {
         "name": "88",
         "rawType": "float64",
         "type": "float"
        },
        {
         "name": "89",
         "rawType": "float64",
         "type": "float"
        },
        {
         "name": "90",
         "rawType": "float64",
         "type": "float"
        }
       ],
       "conversionMethod": "pd.DataFrame",
       "ref": "09e2e9dd-95e4-4d99-a91e-868ab989415a",
       "rows": [
        [
         "0",
         "1.0",
         "0.0",
         "0.0",
         "0.0",
         "0.0",
         "0.0",
         "0.0",
         "0.0",
         "0.0",
         "0.0",
         "0.0",
         "0.0",
         "0.0",
         "1.0",
         "0.0",
         "0.0",
         "0.0",
         "0.0",
         "0.0",
         "0.0",
         "0.0",
         "0.0",
         "0.0",
         "0.0",
         "0.0",
         "1.0",
         "0.0",
         "0.0",
         "0.0",
         "1.0",
         "0.0",
         "0.0",
         "0.0",
         "0.0",
         "0.0",
         "0.0",
         "0.0",
         "0.0",
         "0.0",
         "0.0",
         "0.0",
         "0.0",
         "0.0",
         "0.0",
         "0.0",
         "0.0",
         "0.0",
         "0.0",
         "0.0",
         "0.0",
         "0.0",
         "0.0",
         "0.0",
         "0.0",
         "0.0",
         "0.0",
         "0.0",
         "0.0",
         "0.0",
         "0.0",
         "0.0",
         "0.0",
         "0.0",
         "0.0",
         "0.0",
         "0.0",
         "0.0",
         "0.0",
         "0.0",
         "0.0",
         "0.0",
         "0.0",
         "0.0",
         "1.0",
         "0.0",
         "0.0",
         "0.0",
         "0.0",
         "0.0",
         "0.0",
         "0.0",
         "0.0",
         "0.0",
         "0.0",
         "0.0",
         "0.0",
         "0.0",
         "0.0",
         "1.0",
         "0.0",
         "0.0"
        ],
        [
         "1",
         "1.0",
         "0.0",
         "0.0",
         "1.0",
         "0.0",
         "0.0",
         "0.0",
         "0.0",
         "0.0",
         "0.0",
         "0.0",
         "0.0",
         "0.0",
         "0.0",
         "0.0",
         "0.0",
         "0.0",
         "0.0",
         "0.0",
         "0.0",
         "0.0",
         "0.0",
         "0.0",
         "0.0",
         "0.0",
         "1.0",
         "0.0",
         "0.0",
         "0.0",
         "0.0",
         "0.0",
         "0.0",
         "0.0",
         "0.0",
         "0.0",
         "0.0",
         "0.0",
         "0.0",
         "0.0",
         "0.0",
         "0.0",
         "0.0",
         "0.0",
         "1.0",
         "0.0",
         "0.0",
         "0.0",
         "0.0",
         "0.0",
         "0.0",
         "0.0",
         "0.0",
         "0.0",
         "0.0",
         "0.0",
         "0.0",
         "0.0",
         "0.0",
         "0.0",
         "0.0",
         "0.0",
         "0.0",
         "0.0",
         "0.0",
         "0.0",
         "0.0",
         "0.0",
         "0.0",
         "1.0",
         "0.0",
         "0.0",
         "0.0",
         "0.0",
         "0.0",
         "0.0",
         "0.0",
         "0.0",
         "0.0",
         "0.0",
         "0.0",
         "0.0",
         "0.0",
         "0.0",
         "0.0",
         "0.0",
         "0.0",
         "0.0",
         "0.0",
         "1.0",
         "0.0",
         "0.0"
        ],
        [
         "2",
         "1.0",
         "0.0",
         "0.0",
         "1.0",
         "0.0",
         "0.0",
         "0.0",
         "0.0",
         "0.0",
         "0.0",
         "0.0",
         "0.0",
         "0.0",
         "0.0",
         "0.0",
         "0.0",
         "0.0",
         "0.0",
         "0.0",
         "0.0",
         "0.0",
         "0.0",
         "0.0",
         "0.0",
         "0.0",
         "1.0",
         "0.0",
         "0.0",
         "0.0",
         "0.0",
         "0.0",
         "0.0",
         "0.0",
         "0.0",
         "0.0",
         "0.0",
         "0.0",
         "0.0",
         "0.0",
         "0.0",
         "0.0",
         "0.0",
         "0.0",
         "1.0",
         "0.0",
         "0.0",
         "0.0",
         "0.0",
         "0.0",
         "0.0",
         "0.0",
         "0.0",
         "0.0",
         "0.0",
         "0.0",
         "0.0",
         "0.0",
         "0.0",
         "0.0",
         "0.0",
         "0.0",
         "0.0",
         "0.0",
         "0.0",
         "0.0",
         "0.0",
         "0.0",
         "0.0",
         "0.0",
         "0.0",
         "0.0",
         "0.0",
         "0.0",
         "0.0",
         "0.0",
         "0.0",
         "0.0",
         "0.0",
         "0.0",
         "0.0",
         "0.0",
         "0.0",
         "0.0",
         "0.0",
         "0.0",
         "0.0",
         "0.0",
         "1.0",
         "0.0",
         "1.0",
         "0.0"
        ],
        [
         "3",
         "1.0",
         "0.0",
         "0.0",
         "1.0",
         "0.0",
         "0.0",
         "0.0",
         "0.0",
         "0.0",
         "0.0",
         "0.0",
         "0.0",
         "0.0",
         "0.0",
         "0.0",
         "0.0",
         "0.0",
         "0.0",
         "0.0",
         "0.0",
         "0.0",
         "0.0",
         "0.0",
         "0.0",
         "0.0",
         "1.0",
         "0.0",
         "0.0",
         "0.0",
         "0.0",
         "0.0",
         "0.0",
         "0.0",
         "0.0",
         "0.0",
         "0.0",
         "0.0",
         "0.0",
         "0.0",
         "0.0",
         "0.0",
         "0.0",
         "0.0",
         "0.0",
         "0.0",
         "0.0",
         "0.0",
         "0.0",
         "1.0",
         "0.0",
         "0.0",
         "0.0",
         "0.0",
         "0.0",
         "0.0",
         "0.0",
         "0.0",
         "0.0",
         "0.0",
         "0.0",
         "0.0",
         "0.0",
         "0.0",
         "0.0",
         "0.0",
         "0.0",
         "0.0",
         "0.0",
         "1.0",
         "0.0",
         "0.0",
         "0.0",
         "0.0",
         "0.0",
         "0.0",
         "0.0",
         "0.0",
         "0.0",
         "0.0",
         "0.0",
         "0.0",
         "0.0",
         "0.0",
         "0.0",
         "0.0",
         "0.0",
         "0.0",
         "0.0",
         "1.0",
         "0.0",
         "0.0"
        ],
        [
         "4",
         "1.0",
         "0.0",
         "0.0",
         "1.0",
         "0.0",
         "0.0",
         "0.0",
         "0.0",
         "0.0",
         "0.0",
         "0.0",
         "0.0",
         "0.0",
         "0.0",
         "0.0",
         "0.0",
         "0.0",
         "0.0",
         "0.0",
         "0.0",
         "0.0",
         "0.0",
         "0.0",
         "0.0",
         "0.0",
         "1.0",
         "0.0",
         "0.0",
         "0.0",
         "0.0",
         "0.0",
         "0.0",
         "0.0",
         "0.0",
         "0.0",
         "0.0",
         "0.0",
         "0.0",
         "0.0",
         "0.0",
         "0.0",
         "0.0",
         "0.0",
         "0.0",
         "0.0",
         "0.0",
         "0.0",
         "0.0",
         "1.0",
         "0.0",
         "0.0",
         "0.0",
         "0.0",
         "0.0",
         "0.0",
         "0.0",
         "0.0",
         "0.0",
         "0.0",
         "0.0",
         "0.0",
         "0.0",
         "0.0",
         "0.0",
         "0.0",
         "0.0",
         "0.0",
         "0.0",
         "0.0",
         "0.0",
         "0.0",
         "0.0",
         "0.0",
         "0.0",
         "0.0",
         "0.0",
         "0.0",
         "0.0",
         "0.0",
         "0.0",
         "0.0",
         "0.0",
         "0.0",
         "0.0",
         "0.0",
         "0.0",
         "0.0",
         "1.0",
         "0.0",
         "1.0",
         "0.0"
        ]
       ],
       "shape": {
        "columns": 91,
        "rows": 5
       }
      },
      "text/html": [
       "<div>\n",
       "<style scoped>\n",
       "    .dataframe tbody tr th:only-of-type {\n",
       "        vertical-align: middle;\n",
       "    }\n",
       "\n",
       "    .dataframe tbody tr th {\n",
       "        vertical-align: top;\n",
       "    }\n",
       "\n",
       "    .dataframe thead th {\n",
       "        text-align: right;\n",
       "    }\n",
       "</style>\n",
       "<table border=\"1\" class=\"dataframe\">\n",
       "  <thead>\n",
       "    <tr style=\"text-align: right;\">\n",
       "      <th></th>\n",
       "      <th>0</th>\n",
       "      <th>1</th>\n",
       "      <th>2</th>\n",
       "      <th>3</th>\n",
       "      <th>4</th>\n",
       "      <th>5</th>\n",
       "      <th>6</th>\n",
       "      <th>7</th>\n",
       "      <th>8</th>\n",
       "      <th>9</th>\n",
       "      <th>...</th>\n",
       "      <th>81</th>\n",
       "      <th>82</th>\n",
       "      <th>83</th>\n",
       "      <th>84</th>\n",
       "      <th>85</th>\n",
       "      <th>86</th>\n",
       "      <th>87</th>\n",
       "      <th>88</th>\n",
       "      <th>89</th>\n",
       "      <th>90</th>\n",
       "    </tr>\n",
       "  </thead>\n",
       "  <tbody>\n",
       "    <tr>\n",
       "      <th>0</th>\n",
       "      <td>1.0</td>\n",
       "      <td>0.0</td>\n",
       "      <td>0.0</td>\n",
       "      <td>0.0</td>\n",
       "      <td>0.0</td>\n",
       "      <td>0.0</td>\n",
       "      <td>0.0</td>\n",
       "      <td>0.0</td>\n",
       "      <td>0.0</td>\n",
       "      <td>0.0</td>\n",
       "      <td>...</td>\n",
       "      <td>0.0</td>\n",
       "      <td>0.0</td>\n",
       "      <td>0.0</td>\n",
       "      <td>0.0</td>\n",
       "      <td>0.0</td>\n",
       "      <td>0.0</td>\n",
       "      <td>0.0</td>\n",
       "      <td>1.0</td>\n",
       "      <td>0.0</td>\n",
       "      <td>0.0</td>\n",
       "    </tr>\n",
       "    <tr>\n",
       "      <th>1</th>\n",
       "      <td>1.0</td>\n",
       "      <td>0.0</td>\n",
       "      <td>0.0</td>\n",
       "      <td>1.0</td>\n",
       "      <td>0.0</td>\n",
       "      <td>0.0</td>\n",
       "      <td>0.0</td>\n",
       "      <td>0.0</td>\n",
       "      <td>0.0</td>\n",
       "      <td>0.0</td>\n",
       "      <td>...</td>\n",
       "      <td>0.0</td>\n",
       "      <td>0.0</td>\n",
       "      <td>0.0</td>\n",
       "      <td>0.0</td>\n",
       "      <td>0.0</td>\n",
       "      <td>0.0</td>\n",
       "      <td>0.0</td>\n",
       "      <td>1.0</td>\n",
       "      <td>0.0</td>\n",
       "      <td>0.0</td>\n",
       "    </tr>\n",
       "    <tr>\n",
       "      <th>2</th>\n",
       "      <td>1.0</td>\n",
       "      <td>0.0</td>\n",
       "      <td>0.0</td>\n",
       "      <td>1.0</td>\n",
       "      <td>0.0</td>\n",
       "      <td>0.0</td>\n",
       "      <td>0.0</td>\n",
       "      <td>0.0</td>\n",
       "      <td>0.0</td>\n",
       "      <td>0.0</td>\n",
       "      <td>...</td>\n",
       "      <td>0.0</td>\n",
       "      <td>0.0</td>\n",
       "      <td>0.0</td>\n",
       "      <td>0.0</td>\n",
       "      <td>0.0</td>\n",
       "      <td>0.0</td>\n",
       "      <td>1.0</td>\n",
       "      <td>0.0</td>\n",
       "      <td>1.0</td>\n",
       "      <td>0.0</td>\n",
       "    </tr>\n",
       "    <tr>\n",
       "      <th>3</th>\n",
       "      <td>1.0</td>\n",
       "      <td>0.0</td>\n",
       "      <td>0.0</td>\n",
       "      <td>1.0</td>\n",
       "      <td>0.0</td>\n",
       "      <td>0.0</td>\n",
       "      <td>0.0</td>\n",
       "      <td>0.0</td>\n",
       "      <td>0.0</td>\n",
       "      <td>0.0</td>\n",
       "      <td>...</td>\n",
       "      <td>0.0</td>\n",
       "      <td>0.0</td>\n",
       "      <td>0.0</td>\n",
       "      <td>0.0</td>\n",
       "      <td>0.0</td>\n",
       "      <td>0.0</td>\n",
       "      <td>0.0</td>\n",
       "      <td>1.0</td>\n",
       "      <td>0.0</td>\n",
       "      <td>0.0</td>\n",
       "    </tr>\n",
       "    <tr>\n",
       "      <th>4</th>\n",
       "      <td>1.0</td>\n",
       "      <td>0.0</td>\n",
       "      <td>0.0</td>\n",
       "      <td>1.0</td>\n",
       "      <td>0.0</td>\n",
       "      <td>0.0</td>\n",
       "      <td>0.0</td>\n",
       "      <td>0.0</td>\n",
       "      <td>0.0</td>\n",
       "      <td>0.0</td>\n",
       "      <td>...</td>\n",
       "      <td>0.0</td>\n",
       "      <td>0.0</td>\n",
       "      <td>0.0</td>\n",
       "      <td>0.0</td>\n",
       "      <td>0.0</td>\n",
       "      <td>0.0</td>\n",
       "      <td>1.0</td>\n",
       "      <td>0.0</td>\n",
       "      <td>1.0</td>\n",
       "      <td>0.0</td>\n",
       "    </tr>\n",
       "  </tbody>\n",
       "</table>\n",
       "<p>5 rows × 91 columns</p>\n",
       "</div>"
      ],
      "text/plain": [
       "    0    1    2    3    4    5    6    7    8    9   ...   81   82   83   84  \\\n",
       "0  1.0  0.0  0.0  0.0  0.0  0.0  0.0  0.0  0.0  0.0  ...  0.0  0.0  0.0  0.0   \n",
       "1  1.0  0.0  0.0  1.0  0.0  0.0  0.0  0.0  0.0  0.0  ...  0.0  0.0  0.0  0.0   \n",
       "2  1.0  0.0  0.0  1.0  0.0  0.0  0.0  0.0  0.0  0.0  ...  0.0  0.0  0.0  0.0   \n",
       "3  1.0  0.0  0.0  1.0  0.0  0.0  0.0  0.0  0.0  0.0  ...  0.0  0.0  0.0  0.0   \n",
       "4  1.0  0.0  0.0  1.0  0.0  0.0  0.0  0.0  0.0  0.0  ...  0.0  0.0  0.0  0.0   \n",
       "\n",
       "    85   86   87   88   89   90  \n",
       "0  0.0  0.0  0.0  1.0  0.0  0.0  \n",
       "1  0.0  0.0  0.0  1.0  0.0  0.0  \n",
       "2  0.0  0.0  1.0  0.0  1.0  0.0  \n",
       "3  0.0  0.0  0.0  1.0  0.0  0.0  \n",
       "4  0.0  0.0  1.0  0.0  1.0  0.0  \n",
       "\n",
       "[5 rows x 91 columns]"
      ]
     },
     "execution_count": 321,
     "metadata": {},
     "output_type": "execute_result"
    }
   ],
   "source": [
    "x_dense = x_encoded.toarray()\n",
    "df_encoded = pd.DataFrame(x_dense)\n",
    "\n",
    "df_encoded.head()"
   ]
  },
  {
   "cell_type": "markdown",
   "id": "1fdfc8a9",
   "metadata": {},
   "source": [
    "---"
   ]
  },
  {
   "cell_type": "markdown",
   "id": "9256b174",
   "metadata": {},
   "source": [
    "### Chia dữ liệu\n",
    "Chia dữ liệu thành các tập train, validation và test."
   ]
  },
  {
   "cell_type": "code",
   "execution_count": 322,
   "id": "15979fa9",
   "metadata": {},
   "outputs": [],
   "source": [
    "# Import thư viện chia dữ liệu\n",
    "from sklearn.model_selection import train_test_split\n",
    "\n",
    "# Chia dữ liệu thành tập train (70%) và temp (30%)\n",
    "feature_train, feature_temp, label_train, label_temp = \\\n",
    "    train_test_split(features, labels, test_size=0.3, random_state=1)\n",
    "\n",
    "# Chia temp thành tập validation (15%) và test (15%)\n",
    "feature_valid, feature_test, label_valid, label_test = \\\n",
    "    train_test_split(feature_temp, label_temp, test_size=0.5, random_state=1)\n",
    "\n",
    "\n",
    "# Transform 3 tập training, validation, and test\n",
    "feature_train = ct.transform(feature_train)\n",
    "feature_valid = ct.transform(feature_valid)\n",
    "feature_test = ct.transform(feature_test)"
   ]
  },
  {
   "cell_type": "markdown",
   "id": "24929e12",
   "metadata": {},
   "source": [
    "---"
   ]
  },
  {
   "cell_type": "markdown",
   "id": "bfff5ae3",
   "metadata": {},
   "source": [
    "## Huấn luyện mô hình\n",
    "Sử dụng các mô hình khác nhau để huấn luyện và đánh giá hiệu suất."
   ]
  },
  {
   "cell_type": "code",
   "execution_count": 323,
   "id": "574025a6",
   "metadata": {},
   "outputs": [],
   "source": [
    "from sklearn.linear_model import LinearRegression\n",
    "from sklearn.ensemble import GradientBoostingRegressor, RandomForestRegressor\n",
    "from sklearn.tree import DecisionTreeRegressor\n",
    "from sklearn.metrics import mean_squared_error, r2_score"
   ]
  },
  {
   "cell_type": "code",
   "execution_count": 324,
   "id": "eb92cd65",
   "metadata": {},
   "outputs": [],
   "source": [
    "# Hàm đánh giá mô hình\n",
    "def evaluate_model(model, X_val, y_val):\n",
    "    y_pred = model.predict(X_val)\n",
    "    r2 = r2_score(y_val, y_pred)\n",
    "    mse = mean_squared_error(y_val, y_pred)\n",
    "    return r2, mse"
   ]
  },
  {
   "cell_type": "code",
   "execution_count": 325,
   "id": "9331c655",
   "metadata": {},
   "outputs": [
    {
     "name": "stdout",
     "output_type": "stream",
     "text": [
      "Linear Regression - R2: 0.67, MSE: 5.42\n",
      "Gradient Boosting - R2: 0.69, MSE: 5.14\n",
      "Random Forest - R2: 0.81, MSE: 3.13\n",
      "Decision Tree - R2: 0.70, MSE: 5.05\n"
     ]
    }
   ],
   "source": [
    "# Huấn luyện và đánh giá các mô hình\n",
    "\n",
    "# Linear Regression\n",
    "linear_model = LinearRegression()\n",
    "linear_model.fit(feature_train, label_train)\n",
    "r2, mse = evaluate_model(linear_model, feature_valid, label_valid)\n",
    "print(f\"Linear Regression - R2: {r2:.2f}, MSE: {mse:.2f}\")\n",
    "\n",
    "# Gradient Boosting Regressor\n",
    "gb_model = GradientBoostingRegressor(random_state=42)\n",
    "gb_model.fit(feature_train, label_train)\n",
    "r2, mse = evaluate_model(gb_model, feature_valid, label_valid)\n",
    "print(f\"Gradient Boosting - R2: {r2:.2f}, MSE: {mse:.2f}\")\n",
    "\n",
    "# Random Forest Regressor\n",
    "rf_model = RandomForestRegressor(random_state=42)\n",
    "rf_model.fit(feature_train, label_train)\n",
    "r2, mse = evaluate_model(rf_model, feature_valid, label_valid)\n",
    "print(f\"Random Forest - R2: {r2:.2f}, MSE: {mse:.2f}\")\n",
    "\n",
    "# Decision Tree Regressor\n",
    "dt_model = DecisionTreeRegressor(random_state=42)\n",
    "dt_model.fit(feature_train, label_train)\n",
    "r2, mse = evaluate_model(dt_model, feature_valid, label_valid)\n",
    "print(f\"Decision Tree - R2: {r2:.2f}, MSE: {mse:.2f}\")"
   ]
  },
  {
   "cell_type": "markdown",
   "id": "e9de4c7c",
   "metadata": {},
   "source": [
    "### Chọn mô hình tốt nhất\n",
    "Sử dụng RandomForestRegressor để huấn luyện mô hình cuối cùng với toàn bộ dữ liệu train và validation."
   ]
  },
  {
   "cell_type": "code",
   "execution_count": 326,
   "id": "23ba85e9",
   "metadata": {},
   "outputs": [],
   "source": [
    "# Chuyển sparse matrix thành DataFrame\n",
    "feature_train_df = pd.DataFrame.sparse.from_spmatrix(feature_train)\n",
    "feature_valid_df = pd.DataFrame.sparse.from_spmatrix(feature_valid)\n",
    "\n",
    "# Gộp train và valid lại để train mô hình \n",
    "feature_full = pd.concat([feature_train_df, feature_valid_df], axis=0)\n",
    "label_full = pd.concat([label_train, label_valid], axis=0)"
   ]
  },
  {
   "cell_type": "code",
   "execution_count": 327,
   "id": "133167a8",
   "metadata": {},
   "outputs": [
    {
     "name": "stdout",
     "output_type": "stream",
     "text": [
      "Final Model (Random Forest Regressor) - R2: 0.85, MSE: 2.46\n"
     ]
    }
   ],
   "source": [
    "# Huấn luyện mô hình cuối cùng\n",
    "final_model = RandomForestRegressor(random_state=42)\n",
    "final_model.fit(feature_full, label_full)\n",
    "r2, mse = evaluate_model(final_model, feature_test, label_test)\n",
    "\n",
    "print(f\"Final Model (Random Forest Regressor) - R2: {r2:.2f}, MSE: {mse:.2f}\")"
   ]
  },
  {
   "cell_type": "markdown",
   "id": "daa25613",
   "metadata": {},
   "source": [
    "### Trực quan hóa kết quả\n",
    "Hiển thị biểu đồ scatter giữa giá trị thực tế và giá trị dự đoán."
   ]
  },
  {
   "cell_type": "code",
   "execution_count": 328,
   "id": "4c1ebb3a",
   "metadata": {},
   "outputs": [
    {
     "data": {
      "image/png": "[encoded data removed]",
      "text/plain": [
       "<Figure size 1000x600 with 1 Axes>"
      ]
     },
     "metadata": {},
     "output_type": "display_data"
    }
   ],
   "source": [
    "y_true = label_test\n",
    "y_pred = final_model.predict(feature_test)\n",
    "\n",
    "plt.figure(figsize=(10, 6))\n",
    "\n",
    "# điểm thực tế\n",
    "plt.scatter(y_true, y_true, alpha=0.6, color='blue', label='Giá trị thực tế (y_true)')\n",
    "\n",
    "# điểm dự đoán\n",
    "plt.scatter(y_true, y_pred, alpha=0.6, color='orange', label='Giá trị dự đoán (y_pred)')\n",
    "\n",
    "# Đường chéo lý tưởng\n",
    "plt.plot([y_true.min(), y_true.max()], [y_true.min(), y_true.max()], 'r--', lw=2, label='Đường lý tưởng (y = x)')\n",
    "\n",
    "plt.xlabel('Giá trị thực tế (True values)')\n",
    "plt.ylabel('Giá trị dự đoán (Predicted values)')\n",
    "plt.title('So sánh giá trị thực tế và dự đoán')\n",
    "plt.legend()\n",
    "plt.grid(True)\n",
    "plt.show()\n"
   ]
  }
 ],
 "metadata": {
  "kernelspec": {
   "display_name": "Python 3",
   "language": "python",
   "name": "python3"
  },
  "language_info": {
   "codemirror_mode": {
    "name": "ipython",
    "version": 3
   },
   "file_extension": ".py",
   "mimetype": "text/x-python",
   "name": "python",
   "nbconvert_exporter": "python",
   "pygments_lexer": "ipython3",
   "version": "3.10.2"
  }
 },
 "nbformat": 4,
 "nbformat_minor": 5
}
