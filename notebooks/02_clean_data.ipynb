{
 "cells": [
  {
   "cell_type": "markdown",
   "id": "c90afb14",
   "metadata": {},
   "source": [
    "## Clean data set"
   ]
  },
  {
   "cell_type": "code",
   "execution_count": 72,
   "id": "ac7fc747",
   "metadata": {},
   "outputs": [],
   "source": [
    "import numpy as np\n",
    "import pandas as pd\n",
    "import matplotlib.pyplot as plt\n",
    "import seaborn as sns\n",
    "import sys"
   ]
  },
  {
   "cell_type": "markdown",
   "id": "6987c524",
   "metadata": {},
   "source": [
    "---"
   ]
  },
  {
   "cell_type": "markdown",
   "id": "11927e38",
   "metadata": {},
   "source": [
    "### Gộp dữ liệu năm 21,22,23 lại thành 1 DataFrame"
   ]
  },
  {
   "cell_type": "code",
   "execution_count": 73,
   "id": "29f59e7c",
   "metadata": {},
   "outputs": [],
   "source": [
    "uni_21 = pd.read_csv('../data/raw/raw_benchmark_scores_hcm_2021.csv')\n",
    "uni_22 = pd.read_csv('../data/raw/raw_benchmark_scores_hcm_2022.csv')\n",
    "uni_23 = pd.read_csv('../data/raw/raw_benchmark_scores_hcm_2023.csv')"
   ]
  },
  {
   "cell_type": "code",
   "execution_count": 74,
   "id": "1884a3b9",
   "metadata": {},
   "outputs": [],
   "source": [
    "# Thêm vào các năm tương ứng với từng dataset\n",
    "uni_21['year_'] = 2021\n",
    "uni_22['year_'] = 2022\n",
    "uni_23['year_'] = 2023"
   ]
  },
  {
   "cell_type": "code",
   "execution_count": 75,
   "id": "0cdf9d66",
   "metadata": {},
   "outputs": [],
   "source": [
    "# Ghép các dataframe lại với nhau\n",
    "df = pd.concat([uni_21,uni_22,uni_23],ignore_index=True)"
   ]
  },
  {
   "cell_type": "code",
   "execution_count": 76,
   "id": "40df0255",
   "metadata": {},
   "outputs": [],
   "source": [
    "df = df[['year_','university_code','specialized_major','major_code','major_name','subject_group_code','note','benchmark_score']]"
   ]
  },
  {
   "cell_type": "code",
   "execution_count": 77,
   "id": "4e973dd5",
   "metadata": {},
   "outputs": [
    {
     "name": "stdout",
     "output_type": "stream",
     "text": [
      "<class 'pandas.core.frame.DataFrame'>\n",
      "RangeIndex: 6759 entries, 0 to 6758\n",
      "Data columns (total 8 columns):\n",
      " #   Column              Non-Null Count  Dtype  \n",
      "---  ------              --------------  -----  \n",
      " 0   year_               6759 non-null   int64  \n",
      " 1   university_code     6759 non-null   object \n",
      " 2   specialized_major   2227 non-null   object \n",
      " 3   major_code          6759 non-null   object \n",
      " 4   major_name          6759 non-null   object \n",
      " 5   subject_group_code  6759 non-null   object \n",
      " 6   note                5888 non-null   object \n",
      " 7   benchmark_score     6759 non-null   float64\n",
      "dtypes: float64(1), int64(1), object(6)\n",
      "memory usage: 422.6+ KB\n"
     ]
    }
   ],
   "source": [
    "df.info()"
   ]
  },
  {
   "cell_type": "markdown",
   "id": "c4623434",
   "metadata": {},
   "source": [
    "---"
   ]
  },
  {
   "cell_type": "markdown",
   "id": "f2a8afba",
   "metadata": {},
   "source": [
    "### Tổng quan về dữ liệu và những việc cần phải xử lý"
   ]
  },
  {
   "cell_type": "markdown",
   "id": "b5cda3d3",
   "metadata": {},
   "source": [
    "#### 1. Tổng quan về dữ liệu"
   ]
  },
  {
   "cell_type": "markdown",
   "id": "edc12dbe",
   "metadata": {},
   "source": [
    "- Bảng chứa thông tin chuyển sinh các trường đại học tại TP. HCM với nhiều chuyên ngành khác nhau.\n",
    "- Mỗi hàng tương ứng với các ngành đào tạo, điểm chuẩn và phương thức xét tuyển.\n",
    "- Các cột chính trong bảng:\n",
    "    - `year_`: Năm xét tuyển\n",
    "    - `university_code`: Mã trường\n",
    "    - `specialized_major`: Chuyên ngành\n",
    "    - `major_name`: Ngành\n",
    "    - `major_code`: Mã ngành (Mỗi trường thường sẽ có mã ngành khác nhau cho từng ngành học)\n",
    "    - `subject_group_code`: Mã tổ hợp môn thi\n",
    "    - `benchmark_score`: Điểm chuẩn trúng tuyển vào ngành (có nhiều thanh điểm)\n",
    "    - `note`: Phương thức xét tuyển"
   ]
  },
  {
   "cell_type": "markdown",
   "id": "1f7ba4fc",
   "metadata": {},
   "source": [
    "---"
   ]
  },
  {
   "cell_type": "markdown",
   "id": "df0a637c",
   "metadata": {},
   "source": [
    "#### 2. Xác định vấn đề cần giải quyết"
   ]
  },
  {
   "cell_type": "markdown",
   "id": "f45048d1",
   "metadata": {},
   "source": [
    "- Thêm hệ đào tạo\n",
    "- Xử lý phương thức thi `note`\n",
    "    + Tốt nghiệp THPT\n",
    "    + Đánh giá năng lực Đại học Quốc gia TPHCM (`subject_group_code` == DGNL và `note`)\n",
    "    + Xét học bạ (dựa vào `subject_group_code` == XDHB và `note`)\n",
    "\n",
    "- Xử lý điểm `benchmark_score`\n",
    "    + Học bạ và Tốt nghiệp THPT between 1 và 30\n",
    "    + Đánh giá năng lực Đại học Quốc gia TPHCM between 550 và 1200\n",
    "\n",
    "- Xử lý tổ hợp môn thi `subject_group_code`\n",
    "    + Chuẩn hoá dữ liệu, ô chứa đa trị -> chứa 1 dữ liệu duy nhất\n",
    "\n",
    "- Drop duplicated, missing data, ...\n",
    "- Thêm mã ngành theo đúng quy chuẩn của bộ"
   ]
  },
  {
   "cell_type": "markdown",
   "id": "f71e34d0",
   "metadata": {},
   "source": [
    "---"
   ]
  },
  {
   "cell_type": "markdown",
   "id": "50575392",
   "metadata": {},
   "source": [
    "### Bước 1: Thêm hệ đào tạo (thêm thuộc tính `program_type`)"
   ]
  },
  {
   "cell_type": "code",
   "execution_count": 78,
   "id": "112ce28c",
   "metadata": {},
   "outputs": [
    {
     "data": {
      "application/vnd.microsoft.datawrangler.viewer.v0+json": {
       "columns": [
        {
         "name": "note",
         "rawType": "object",
         "type": "string"
        },
        {
         "name": "count",
         "rawType": "int64",
         "type": "integer"
        }
       ],
       "conversionMethod": "pd.DataFrame",
       "ref": "71c89589-7535-41da-a991-78bfa84f61c7",
       "rows": [
        [
         "điểm thi tn thpt",
         "1002"
        ],
        [
         "tốt nghiệp thpt",
         "748"
        ],
        [
         "học bạ",
         "561"
        ],
        [
         "đánh giá năng lực đại học quốc gia tphcm",
         "328"
        ],
        [
         "xét học bạ",
         "303"
        ],
        [
         "tn thpt",
         "282"
        ],
        [
         "điểm tn thpt",
         "159"
        ],
        [
         "xét điểm học bạ",
         "55"
        ],
        [
         "tốt nghiệp thpt; clc",
         "47"
        ],
        [
         "clc",
         "46"
        ],
        [
         "xét kết hợp điểm hợp đgnl, tn thpt, học bạ",
         "39"
        ],
        [
         "xét học bạ; điểm 3 năm học; điểm tổ hợp 3 môn",
         "35"
        ],
        [
         "xét học bạ; điểm 5 học kỳ",
         "35"
        ],
        [
         "hb cả năm lớp 12",
         "30"
        ],
        [
         "hb cả năm lớp 10, 11 & hk1 lớp 12",
         "28"
        ],
        [
         "xét học bạ\r\ntoán*2",
         "22"
        ],
        [
         "chất lượng cao\r\nđiểm thi tn thpt",
         "22"
        ],
        [
         "chất lượng cao; tốt nghiệp thpt",
         "22"
        ],
        [
         "chất lượng cao",
         "21"
        ],
        [
         "tốt nghiệp thpt; điểm thi tn thpt theo tổ hợp xét tuyển x 3",
         "20"
        ],
        [
         "học bạ, phân hiệu vĩnh long",
         "20"
        ],
        [
         "học bạ; chương trinh clc",
         "20"
        ],
        [
         "tốt nghiệp thpt; clc - tiếng việt",
         "19"
        ],
        [
         "tốt nghiệp thpt; điểm thi tn thpt theo tổ hợp xét tuyển x 3; chương trình tiên tiến",
         "19"
        ],
        [
         "đánh giá năng lực đại học quốc gia tphcm; chương trình clc",
         "19"
        ],
        [
         "ct chất lượng cao",
         "19"
        ],
        [
         "clc tiếng việt; đánh giá năng lực đại học quốc gia tphcm",
         "19"
        ],
        [
         "clc tiếng việt; học bạ",
         "19"
        ],
        [
         "điểm chuẩn = (tổng điểm trung bình 3 năm thpt của các môn trong tổ hợp đăng ký xét tuyển + tổng điểm thi thpt 2021 của các môn trong tổ hợp đăng ký xét tuyển)/2 + điểm ưu tiên (nếu có)).",
         "18"
        ],
        [
         "chương trình đại học bằng tiếng anh; tốt nghiệp thpt",
         "18"
        ],
        [
         "toán nhân đôi\r\nhọc bạ",
         "17"
        ],
        [
         "học bạ; điểm toán*2",
         "17"
        ],
        [
         "điểm thi tn thpt\r\nclc",
         "16"
        ],
        [
         "hệ đại trà",
         "15"
        ],
        [
         "18: học bạ lớp 12\r\n30: học bạ 5 học kỳ",
         "15"
        ],
        [
         "điểm môn toán nhân hệ số 2\r\nđiểm thi tn thpt",
         "15"
        ],
        [
         "học bạ\r\ntổng điểm trung bình (điểm trung bình lớp 10 + điểm trung bình lớp 11 + điểm trung bình học kỳ 1 lớp 12)/3",
         "14"
        ],
        [
         "học bạ\r\nct chất lượng cao",
         "14"
        ],
        [
         "toán*2\r\nđiểm thi tn thpt",
         "14"
        ],
        [
         "clc, điểm thi tn thpt",
         "13"
        ],
        [
         "chương trình chất lượng cao",
         "13"
        ],
        [
         "clc tiếng anh; đánh giá năng lực đại học quốc gia tphcm",
         "13"
        ],
        [
         "tốt nghiệp thpt; clc - tiếng anh",
         "13"
        ],
        [
         "clc tiếng anh; học bạ",
         "13"
        ],
        [
         "ct liên kết quốc tế 2+2 với asu",
         "12"
        ],
        [
         "chất lượng cao, điểm tn thpt",
         "12"
        ],
        [
         "clc bằng tiếng anh",
         "12"
        ],
        [
         "ct chất lượng cao\r\nđiểm thi tn thpt",
         "12"
        ],
        [
         "luật kinh tế",
         "12"
        ],
        [
         "ct đh bằng tiếng anh",
         "12"
        ]
       ],
       "shape": {
        "columns": 1,
        "rows": 984
       }
      },
      "text/html": [
       "<div>\n",
       "<style scoped>\n",
       "    .dataframe tbody tr th:only-of-type {\n",
       "        vertical-align: middle;\n",
       "    }\n",
       "\n",
       "    .dataframe tbody tr th {\n",
       "        vertical-align: top;\n",
       "    }\n",
       "\n",
       "    .dataframe thead th {\n",
       "        text-align: right;\n",
       "    }\n",
       "</style>\n",
       "<table border=\"1\" class=\"dataframe\">\n",
       "  <thead>\n",
       "    <tr style=\"text-align: right;\">\n",
       "      <th></th>\n",
       "      <th>count</th>\n",
       "    </tr>\n",
       "    <tr>\n",
       "      <th>note</th>\n",
       "      <th></th>\n",
       "    </tr>\n",
       "  </thead>\n",
       "  <tbody>\n",
       "    <tr>\n",
       "      <th>điểm thi tn thpt</th>\n",
       "      <td>1002</td>\n",
       "    </tr>\n",
       "    <tr>\n",
       "      <th>tốt nghiệp thpt</th>\n",
       "      <td>748</td>\n",
       "    </tr>\n",
       "    <tr>\n",
       "      <th>học bạ</th>\n",
       "      <td>561</td>\n",
       "    </tr>\n",
       "    <tr>\n",
       "      <th>đánh giá năng lực đại học quốc gia tphcm</th>\n",
       "      <td>328</td>\n",
       "    </tr>\n",
       "    <tr>\n",
       "      <th>xét học bạ</th>\n",
       "      <td>303</td>\n",
       "    </tr>\n",
       "    <tr>\n",
       "      <th>...</th>\n",
       "      <td>...</td>\n",
       "    </tr>\n",
       "    <tr>\n",
       "      <th>tốt nghiệp thpt; hệ thống nhúng và iot</th>\n",
       "      <td>1</td>\n",
       "    </tr>\n",
       "    <tr>\n",
       "      <th>chuyên ngành thiết kế vi mạch; đánh giá năng lực đại học quốc gia tphcm</th>\n",
       "      <td>1</td>\n",
       "    </tr>\n",
       "    <tr>\n",
       "      <th>chuyên ngành hệ thống nhúng và iot; đánh giá năng lực đại học quốc gia tphcm</th>\n",
       "      <td>1</td>\n",
       "    </tr>\n",
       "    <tr>\n",
       "      <th>tốt nghiệp thpt; chuyên ngành thiết kế vi mạch</th>\n",
       "      <td>1</td>\n",
       "    </tr>\n",
       "    <tr>\n",
       "      <th>tốt nghiệp thpt; chuyên ngành điều khiển và quản lý tàu biển</th>\n",
       "      <td>1</td>\n",
       "    </tr>\n",
       "  </tbody>\n",
       "</table>\n",
       "<p>984 rows × 1 columns</p>\n",
       "</div>"
      ],
      "text/plain": [
       "                                                    count\n",
       "note                                                     \n",
       "điểm thi tn thpt                                     1002\n",
       "tốt nghiệp thpt                                       748\n",
       "học bạ                                                561\n",
       "đánh giá năng lực đại học quốc gia tphcm              328\n",
       "xét học bạ                                            303\n",
       "...                                                   ...\n",
       "tốt nghiệp thpt; hệ thống nhúng và iot                  1\n",
       "chuyên ngành thiết kế vi mạch; đánh giá năng lự...      1\n",
       "chuyên ngành hệ thống nhúng và iot; đánh giá nă...      1\n",
       "tốt nghiệp thpt; chuyên ngành thiết kế vi mạch          1\n",
       "tốt nghiệp thpt; chuyên ngành điều khiển và quả...      1\n",
       "\n",
       "[984 rows x 1 columns]"
      ]
     },
     "execution_count": 78,
     "metadata": {},
     "output_type": "execute_result"
    }
   ],
   "source": [
    "df['note'] = df['note'].str.lower()\n",
    "\n",
    "# hiện thị các phương thức xét tuyển xuất hiện nhiều nhất\n",
    "df['note'].value_counts().to_frame()"
   ]
  },
  {
   "cell_type": "code",
   "execution_count": 79,
   "id": "71a7a29c",
   "metadata": {},
   "outputs": [
    {
     "data": {
      "application/vnd.microsoft.datawrangler.viewer.v0+json": {
       "columns": [
        {
         "name": "major_code",
         "rawType": "object",
         "type": "string"
        },
        {
         "name": "count",
         "rawType": "int64",
         "type": "integer"
        }
       ],
       "conversionMethod": "pd.DataFrame",
       "ref": "ff4f1710-f91c-4f07-8814-a8b18be417ca",
       "rows": [
        [
         "7340101",
         "172"
        ],
        [
         "7220201",
         "160"
        ],
        [
         "7480201",
         "141"
        ],
        [
         "7340301",
         "131"
        ],
        [
         "7340201",
         "116"
        ],
        [
         "7340115",
         "99"
        ],
        [
         "7810103",
         "92"
        ],
        [
         "7340120",
         "91"
        ],
        [
         "7380101",
         "84"
        ],
        [
         "7380107",
         "81"
        ],
        [
         "7220204",
         "74"
        ],
        [
         "7510605",
         "72"
        ],
        [
         "7810201",
         "66"
        ],
        [
         "7420201",
         "64"
        ],
        [
         "7340122",
         "64"
        ],
        [
         "7310401",
         "60"
        ],
        [
         "7540101",
         "56"
        ],
        [
         "7520207",
         "53"
        ],
        [
         "7580201",
         "48"
        ],
        [
         "7320104",
         "44"
        ],
        [
         "7860100",
         "43"
        ],
        [
         "7310608",
         "42"
        ],
        [
         "7320108",
         "42"
        ],
        [
         "7220209",
         "41"
        ],
        [
         "7340116",
         "40"
        ],
        [
         "7310630",
         "40"
        ],
        [
         "7210403",
         "39"
        ],
        [
         "7510406",
         "39"
        ],
        [
         "7520216",
         "39"
        ],
        [
         "7480103",
         "39"
        ],
        [
         "7510301",
         "39"
        ],
        [
         "7760101",
         "38"
        ],
        [
         "7720201",
         "37"
        ],
        [
         "7340404",
         "36"
        ],
        [
         "7340405",
         "35"
        ],
        [
         "7310101",
         "34"
        ],
        [
         "7210404",
         "34"
        ],
        [
         "7580302",
         "34"
        ],
        [
         "7580205",
         "33"
        ],
        [
         "7220210",
         "33"
        ],
        [
         "7480101",
         "32"
        ],
        [
         "7480102",
         "32"
        ],
        [
         "7580101",
         "31"
        ],
        [
         "7850101",
         "31"
        ],
        [
         "7810202",
         "30"
        ],
        [
         "7510302",
         "29"
        ],
        [
         "7310206",
         "29"
        ],
        [
         "7720301",
         "29"
        ],
        [
         "7520201",
         "28"
        ],
        [
         "7310301",
         "28"
        ]
       ],
       "shape": {
        "columns": 1,
        "rows": 829
       }
      },
      "text/html": [
       "<div>\n",
       "<style scoped>\n",
       "    .dataframe tbody tr th:only-of-type {\n",
       "        vertical-align: middle;\n",
       "    }\n",
       "\n",
       "    .dataframe tbody tr th {\n",
       "        vertical-align: top;\n",
       "    }\n",
       "\n",
       "    .dataframe thead th {\n",
       "        text-align: right;\n",
       "    }\n",
       "</style>\n",
       "<table border=\"1\" class=\"dataframe\">\n",
       "  <thead>\n",
       "    <tr style=\"text-align: right;\">\n",
       "      <th></th>\n",
       "      <th>count</th>\n",
       "    </tr>\n",
       "    <tr>\n",
       "      <th>major_code</th>\n",
       "      <th></th>\n",
       "    </tr>\n",
       "  </thead>\n",
       "  <tbody>\n",
       "    <tr>\n",
       "      <th>7340101</th>\n",
       "      <td>172</td>\n",
       "    </tr>\n",
       "    <tr>\n",
       "      <th>7220201</th>\n",
       "      <td>160</td>\n",
       "    </tr>\n",
       "    <tr>\n",
       "      <th>7480201</th>\n",
       "      <td>141</td>\n",
       "    </tr>\n",
       "    <tr>\n",
       "      <th>7340301</th>\n",
       "      <td>131</td>\n",
       "    </tr>\n",
       "    <tr>\n",
       "      <th>7340201</th>\n",
       "      <td>116</td>\n",
       "    </tr>\n",
       "    <tr>\n",
       "      <th>...</th>\n",
       "      <td>...</td>\n",
       "    </tr>\n",
       "    <tr>\n",
       "      <th>7340101QK</th>\n",
       "      <td>1</td>\n",
       "    </tr>\n",
       "    <tr>\n",
       "      <th>7340101QN</th>\n",
       "      <td>1</td>\n",
       "    </tr>\n",
       "    <tr>\n",
       "      <th>7340101QS</th>\n",
       "      <td>1</td>\n",
       "    </tr>\n",
       "    <tr>\n",
       "      <th>7340115QN</th>\n",
       "      <td>1</td>\n",
       "    </tr>\n",
       "    <tr>\n",
       "      <th>7480106_TKVM</th>\n",
       "      <td>1</td>\n",
       "    </tr>\n",
       "  </tbody>\n",
       "</table>\n",
       "<p>829 rows × 1 columns</p>\n",
       "</div>"
      ],
      "text/plain": [
       "              count\n",
       "major_code         \n",
       "7340101         172\n",
       "7220201         160\n",
       "7480201         141\n",
       "7340301         131\n",
       "7340201         116\n",
       "...             ...\n",
       "7340101QK         1\n",
       "7340101QN         1\n",
       "7340101QS         1\n",
       "7340115QN         1\n",
       "7480106_TKVM      1\n",
       "\n",
       "[829 rows x 1 columns]"
      ]
     },
     "execution_count": 79,
     "metadata": {},
     "output_type": "execute_result"
    }
   ],
   "source": [
    "df['major_code'].value_counts().to_frame()"
   ]
  },
  {
   "cell_type": "code",
   "execution_count": 80,
   "id": "b7ef1233",
   "metadata": {},
   "outputs": [],
   "source": [
    "criterion_lst = [\n",
    "    'chất lượng cao',\n",
    "    'clc',\n",
    "    'ctlk',\n",
    "    'chương trình tiên tiến',\n",
    "    'chương trình tài năng',\n",
    "    'chương trình quốc tế',\n",
    "    'liên kết',\n",
    "    'chương trình việt-pháp',\n",
    "    'chương trình đại học chính quy quốc tế cấp song bằng',\n",
    "    'chương trình đại học chính quy quốc tế song bằng',\n",
    "    'ct',\n",
    "    'tiên tiến',\n",
    "]\n",
    "\n",
    "# Gán 'CLC' và 'DT' từ cột 'note'\n",
    "df['program_type'] = df['note'].str.contains('|'.join(criterion_lst), na=False).map({True: 'CLC', False: 'DT'})\n",
    "\n",
    "# Cập nhật lại 'CLC' nếu có trong 'major_code', nhưng chỉ thay đổi những dòng có giá trị 'DT'\n",
    "df['program_type'] = np.where(df['major_code'].str.contains(r'CLC|VP', case=False, na=False) & (df['program_type'] == 'DT'), 'CLC', df['program_type'])"
   ]
  },
  {
   "cell_type": "markdown",
   "id": "e385ba20",
   "metadata": {},
   "source": [
    "---"
   ]
  },
  {
   "cell_type": "markdown",
   "id": "95034238",
   "metadata": {},
   "source": [
    "### Bước 2: Phân tách các tổ hợp môn thi thành các dòng riêng lẻ (xử lý thuộc tính đa trị)"
   ]
  },
  {
   "cell_type": "code",
   "execution_count": 81,
   "id": "fe3a6efb",
   "metadata": {},
   "outputs": [],
   "source": [
    "df['subject_group_code'] = df['subject_group_code'].str.replace(' ','') # bỏ đi các ký tự khoảng trắng\n",
    "df['subject_group_code'] = df['subject_group_code'].str.split(',')      # chia các giá trị ra thành list, cắt theo ','\n",
    "\n",
    "df = df.explode('subject_group_code').reset_index(drop=True)"
   ]
  },
  {
   "cell_type": "code",
   "execution_count": 82,
   "id": "125a215b",
   "metadata": {},
   "outputs": [
    {
     "data": {
      "application/vnd.microsoft.datawrangler.viewer.v0+json": {
       "columns": [
        {
         "name": "index",
         "rawType": "int64",
         "type": "integer"
        },
        {
         "name": "year_",
         "rawType": "int64",
         "type": "integer"
        },
        {
         "name": "university_code",
         "rawType": "object",
         "type": "string"
        },
        {
         "name": "specialized_major",
         "rawType": "object",
         "type": "unknown"
        },
        {
         "name": "major_code",
         "rawType": "object",
         "type": "string"
        },
        {
         "name": "major_name",
         "rawType": "object",
         "type": "string"
        },
        {
         "name": "subject_group_code",
         "rawType": "object",
         "type": "string"
        },
        {
         "name": "note",
         "rawType": "object",
         "type": "unknown"
        },
        {
         "name": "benchmark_score",
         "rawType": "float64",
         "type": "float"
        },
        {
         "name": "program_type",
         "rawType": "object",
         "type": "string"
        }
       ],
       "conversionMethod": "pd.DataFrame",
       "ref": "f518d2d4-796f-42f4-9803-3be0ea5100f5",
       "rows": [
        [
         "0",
         "2021",
         "HSU",
         null,
         "7510605",
         "Logistics và Quản lý chuỗi cung ứng",
         "A00",
         "điểm thi tn thpt",
         "16.0",
         "DT"
        ],
        [
         "1",
         "2021",
         "HSU",
         null,
         "7510605",
         "Logistics và Quản lý chuỗi cung ứng",
         "A01",
         "điểm thi tn thpt",
         "16.0",
         "DT"
        ],
        [
         "2",
         "2021",
         "HSU",
         null,
         "7510605",
         "Logistics và Quản lý chuỗi cung ứng",
         "D01",
         "điểm thi tn thpt",
         "16.0",
         "DT"
        ],
        [
         "3",
         "2021",
         "HSU",
         null,
         "7510605",
         "Logistics và Quản lý chuỗi cung ứng",
         "D09",
         "điểm thi tn thpt",
         "16.0",
         "DT"
        ],
        [
         "4",
         "2021",
         "HSU",
         null,
         "7510605",
         "Logistics và Quản lý chuỗi cung ứng",
         "D03",
         "điểm thi tn thpt",
         "16.0",
         "DT"
        ],
        [
         "5",
         "2021",
         "HSU",
         null,
         "7810202",
         "Quản trị nhà hàng và dịch vụ ăn uống",
         "A00",
         "điểm thi tn thpt",
         "16.0",
         "DT"
        ],
        [
         "6",
         "2021",
         "HSU",
         null,
         "7810202",
         "Quản trị nhà hàng và dịch vụ ăn uống",
         "A01",
         "điểm thi tn thpt",
         "16.0",
         "DT"
        ],
        [
         "7",
         "2021",
         "HSU",
         null,
         "7810202",
         "Quản trị nhà hàng và dịch vụ ăn uống",
         "D01",
         "điểm thi tn thpt",
         "16.0",
         "DT"
        ],
        [
         "8",
         "2021",
         "HSU",
         null,
         "7810202",
         "Quản trị nhà hàng và dịch vụ ăn uống",
         "D09",
         "điểm thi tn thpt",
         "16.0",
         "DT"
        ],
        [
         "9",
         "2021",
         "HSU",
         null,
         "7810202",
         "Quản trị nhà hàng và dịch vụ ăn uống",
         "D03",
         "điểm thi tn thpt",
         "16.0",
         "DT"
        ],
        [
         "10",
         "2021",
         "HSU",
         null,
         "7220201",
         "Ngôn ngữ Anh",
         "D01",
         "điểm thi tn thpt",
         "16.0",
         "DT"
        ],
        [
         "11",
         "2021",
         "HSU",
         null,
         "7220201",
         "Ngôn ngữ Anh",
         "D14",
         "điểm thi tn thpt",
         "16.0",
         "DT"
        ],
        [
         "12",
         "2021",
         "HSU",
         null,
         "7220201",
         "Ngôn ngữ Anh",
         "D15",
         "điểm thi tn thpt",
         "16.0",
         "DT"
        ],
        [
         "13",
         "2021",
         "HSU",
         null,
         "7220201",
         "Ngôn ngữ Anh",
         "D09",
         "điểm thi tn thpt",
         "16.0",
         "DT"
        ],
        [
         "14",
         "2021",
         "HSU",
         null,
         "7480102",
         "Mạng máy tính và Truyền thông dữ liệu",
         "A00",
         "điểm thi tn thpt",
         "16.0",
         "DT"
        ],
        [
         "15",
         "2021",
         "HSU",
         null,
         "7480102",
         "Mạng máy tính và Truyền thông dữ liệu",
         "A01",
         "điểm thi tn thpt",
         "16.0",
         "DT"
        ],
        [
         "16",
         "2021",
         "HSU",
         null,
         "7480102",
         "Mạng máy tính và Truyền thông dữ liệu",
         "D01",
         "điểm thi tn thpt",
         "16.0",
         "DT"
        ],
        [
         "17",
         "2021",
         "HSU",
         null,
         "7480102",
         "Mạng máy tính và Truyền thông dữ liệu",
         "D07",
         "điểm thi tn thpt",
         "16.0",
         "DT"
        ],
        [
         "18",
         "2021",
         "HSU",
         null,
         "7480102",
         "Mạng máy tính và Truyền thông dữ liệu",
         "D03",
         "điểm thi tn thpt",
         "16.0",
         "DT"
        ],
        [
         "19",
         "2021",
         "HSU",
         null,
         "7810103",
         "Quản trị dịch vụ du lịch và lữ hành",
         "A00",
         "điểm thi tn thpt",
         "16.0",
         "DT"
        ],
        [
         "20",
         "2021",
         "HSU",
         null,
         "7810103",
         "Quản trị dịch vụ du lịch và lữ hành",
         "A01",
         "điểm thi tn thpt",
         "16.0",
         "DT"
        ],
        [
         "21",
         "2021",
         "HSU",
         null,
         "7810103",
         "Quản trị dịch vụ du lịch và lữ hành",
         "D01",
         "điểm thi tn thpt",
         "16.0",
         "DT"
        ],
        [
         "22",
         "2021",
         "HSU",
         null,
         "7810103",
         "Quản trị dịch vụ du lịch và lữ hành",
         "D09",
         "điểm thi tn thpt",
         "16.0",
         "DT"
        ],
        [
         "23",
         "2021",
         "HSU",
         null,
         "7810103",
         "Quản trị dịch vụ du lịch và lữ hành",
         "D03",
         "điểm thi tn thpt",
         "16.0",
         "DT"
        ],
        [
         "24",
         "2021",
         "HSU",
         null,
         "7850101",
         "Quản lý tài nguyên và môi trường",
         "A00",
         "điểm thi tn thpt",
         "16.0",
         "DT"
        ],
        [
         "25",
         "2021",
         "HSU",
         null,
         "7850101",
         "Quản lý tài nguyên và môi trường",
         "B00",
         "điểm thi tn thpt",
         "16.0",
         "DT"
        ],
        [
         "26",
         "2021",
         "HSU",
         null,
         "7850101",
         "Quản lý tài nguyên và môi trường",
         "D07",
         "điểm thi tn thpt",
         "16.0",
         "DT"
        ],
        [
         "27",
         "2021",
         "HSU",
         null,
         "7850101",
         "Quản lý tài nguyên và môi trường",
         "D08",
         "điểm thi tn thpt",
         "16.0",
         "DT"
        ],
        [
         "28",
         "2021",
         "HSU",
         null,
         "7340410",
         "Quản trị công nghệ truyền thông",
         "A00",
         "điểm thi tn thpt",
         "16.0",
         "DT"
        ],
        [
         "29",
         "2021",
         "HSU",
         null,
         "7340410",
         "Quản trị công nghệ truyền thông",
         "A01",
         "điểm thi tn thpt",
         "16.0",
         "DT"
        ],
        [
         "30",
         "2021",
         "HSU",
         null,
         "7340410",
         "Quản trị công nghệ truyền thông",
         "D01",
         "điểm thi tn thpt",
         "16.0",
         "DT"
        ],
        [
         "31",
         "2021",
         "HSU",
         null,
         "7340410",
         "Quản trị công nghệ truyền thông",
         "D09",
         "điểm thi tn thpt",
         "16.0",
         "DT"
        ],
        [
         "32",
         "2021",
         "HSU",
         null,
         "7340410",
         "Quản trị công nghệ truyền thông",
         "D03",
         "điểm thi tn thpt",
         "16.0",
         "DT"
        ],
        [
         "33",
         "2021",
         "HSU",
         null,
         "7340405",
         "Hệ thống thông tin quản lý",
         "A00",
         "điểm thi tn thpt",
         "16.0",
         "DT"
        ],
        [
         "34",
         "2021",
         "HSU",
         null,
         "7340405",
         "Hệ thống thông tin quản lý",
         "A01",
         "điểm thi tn thpt",
         "16.0",
         "DT"
        ],
        [
         "35",
         "2021",
         "HSU",
         null,
         "7340405",
         "Hệ thống thông tin quản lý",
         "D01",
         "điểm thi tn thpt",
         "16.0",
         "DT"
        ],
        [
         "36",
         "2021",
         "HSU",
         null,
         "7340405",
         "Hệ thống thông tin quản lý",
         "D09",
         "điểm thi tn thpt",
         "16.0",
         "DT"
        ],
        [
         "37",
         "2021",
         "HSU",
         null,
         "7340405",
         "Hệ thống thông tin quản lý",
         "D03",
         "điểm thi tn thpt",
         "16.0",
         "DT"
        ],
        [
         "38",
         "2021",
         "HSU",
         null,
         "7340201",
         "Tài chính - Ngân hàng",
         "A00",
         "điểm thi tn thpt",
         "16.0",
         "DT"
        ],
        [
         "39",
         "2021",
         "HSU",
         null,
         "7340201",
         "Tài chính - Ngân hàng",
         "A01",
         "điểm thi tn thpt",
         "16.0",
         "DT"
        ],
        [
         "40",
         "2021",
         "HSU",
         null,
         "7340201",
         "Tài chính - Ngân hàng",
         "D01",
         "điểm thi tn thpt",
         "16.0",
         "DT"
        ],
        [
         "41",
         "2021",
         "HSU",
         null,
         "7340201",
         "Tài chính - Ngân hàng",
         "D09",
         "điểm thi tn thpt",
         "16.0",
         "DT"
        ],
        [
         "42",
         "2021",
         "HSU",
         null,
         "7340201",
         "Tài chính - Ngân hàng",
         "D03",
         "điểm thi tn thpt",
         "16.0",
         "DT"
        ],
        [
         "43",
         "2021",
         "HSU",
         null,
         "7580108",
         "Thiết kế nội thất",
         "A01",
         "điểm thi tn thpt",
         "16.0",
         "DT"
        ],
        [
         "44",
         "2021",
         "HSU",
         null,
         "7580108",
         "Thiết kế nội thất",
         "D01",
         "điểm thi tn thpt",
         "16.0",
         "DT"
        ],
        [
         "45",
         "2021",
         "HSU",
         null,
         "7580108",
         "Thiết kế nội thất",
         "D14",
         "điểm thi tn thpt",
         "16.0",
         "DT"
        ],
        [
         "46",
         "2021",
         "HSU",
         null,
         "7580108",
         "Thiết kế nội thất",
         "D09",
         "điểm thi tn thpt",
         "16.0",
         "DT"
        ],
        [
         "47",
         "2021",
         "HSU",
         null,
         "7210404",
         "Thiết kế thời trang",
         "A01",
         "điểm thi tn thpt",
         "16.0",
         "DT"
        ],
        [
         "48",
         "2021",
         "HSU",
         null,
         "7210404",
         "Thiết kế thời trang",
         "D01",
         "điểm thi tn thpt",
         "16.0",
         "DT"
        ],
        [
         "49",
         "2021",
         "HSU",
         null,
         "7210404",
         "Thiết kế thời trang",
         "D14",
         "điểm thi tn thpt",
         "16.0",
         "DT"
        ]
       ],
       "shape": {
        "columns": 9,
        "rows": 20013
       }
      },
      "text/html": [
       "<div>\n",
       "<style scoped>\n",
       "    .dataframe tbody tr th:only-of-type {\n",
       "        vertical-align: middle;\n",
       "    }\n",
       "\n",
       "    .dataframe tbody tr th {\n",
       "        vertical-align: top;\n",
       "    }\n",
       "\n",
       "    .dataframe thead th {\n",
       "        text-align: right;\n",
       "    }\n",
       "</style>\n",
       "<table border=\"1\" class=\"dataframe\">\n",
       "  <thead>\n",
       "    <tr style=\"text-align: right;\">\n",
       "      <th></th>\n",
       "      <th>year_</th>\n",
       "      <th>university_code</th>\n",
       "      <th>specialized_major</th>\n",
       "      <th>major_code</th>\n",
       "      <th>major_name</th>\n",
       "      <th>subject_group_code</th>\n",
       "      <th>note</th>\n",
       "      <th>benchmark_score</th>\n",
       "      <th>program_type</th>\n",
       "    </tr>\n",
       "  </thead>\n",
       "  <tbody>\n",
       "    <tr>\n",
       "      <th>0</th>\n",
       "      <td>2021</td>\n",
       "      <td>HSU</td>\n",
       "      <td>NaN</td>\n",
       "      <td>7510605</td>\n",
       "      <td>Logistics và Quản lý chuỗi cung ứng</td>\n",
       "      <td>A00</td>\n",
       "      <td>điểm thi tn thpt</td>\n",
       "      <td>16.0</td>\n",
       "      <td>DT</td>\n",
       "    </tr>\n",
       "    <tr>\n",
       "      <th>1</th>\n",
       "      <td>2021</td>\n",
       "      <td>HSU</td>\n",
       "      <td>NaN</td>\n",
       "      <td>7510605</td>\n",
       "      <td>Logistics và Quản lý chuỗi cung ứng</td>\n",
       "      <td>A01</td>\n",
       "      <td>điểm thi tn thpt</td>\n",
       "      <td>16.0</td>\n",
       "      <td>DT</td>\n",
       "    </tr>\n",
       "    <tr>\n",
       "      <th>2</th>\n",
       "      <td>2021</td>\n",
       "      <td>HSU</td>\n",
       "      <td>NaN</td>\n",
       "      <td>7510605</td>\n",
       "      <td>Logistics và Quản lý chuỗi cung ứng</td>\n",
       "      <td>D01</td>\n",
       "      <td>điểm thi tn thpt</td>\n",
       "      <td>16.0</td>\n",
       "      <td>DT</td>\n",
       "    </tr>\n",
       "    <tr>\n",
       "      <th>3</th>\n",
       "      <td>2021</td>\n",
       "      <td>HSU</td>\n",
       "      <td>NaN</td>\n",
       "      <td>7510605</td>\n",
       "      <td>Logistics và Quản lý chuỗi cung ứng</td>\n",
       "      <td>D09</td>\n",
       "      <td>điểm thi tn thpt</td>\n",
       "      <td>16.0</td>\n",
       "      <td>DT</td>\n",
       "    </tr>\n",
       "    <tr>\n",
       "      <th>4</th>\n",
       "      <td>2021</td>\n",
       "      <td>HSU</td>\n",
       "      <td>NaN</td>\n",
       "      <td>7510605</td>\n",
       "      <td>Logistics và Quản lý chuỗi cung ứng</td>\n",
       "      <td>D03</td>\n",
       "      <td>điểm thi tn thpt</td>\n",
       "      <td>16.0</td>\n",
       "      <td>DT</td>\n",
       "    </tr>\n",
       "    <tr>\n",
       "      <th>...</th>\n",
       "      <td>...</td>\n",
       "      <td>...</td>\n",
       "      <td>...</td>\n",
       "      <td>...</td>\n",
       "      <td>...</td>\n",
       "      <td>...</td>\n",
       "      <td>...</td>\n",
       "      <td>...</td>\n",
       "      <td>...</td>\n",
       "    </tr>\n",
       "    <tr>\n",
       "      <th>20008</th>\n",
       "      <td>2023</td>\n",
       "      <td>UMT</td>\n",
       "      <td>NaN</td>\n",
       "      <td>7510605</td>\n",
       "      <td>Logistics và Quản lý chuỗi cung ứng</td>\n",
       "      <td>A00</td>\n",
       "      <td>tốt nghiệp thpt</td>\n",
       "      <td>15.0</td>\n",
       "      <td>DT</td>\n",
       "    </tr>\n",
       "    <tr>\n",
       "      <th>20009</th>\n",
       "      <td>2023</td>\n",
       "      <td>UMT</td>\n",
       "      <td>NaN</td>\n",
       "      <td>7510605</td>\n",
       "      <td>Logistics và Quản lý chuỗi cung ứng</td>\n",
       "      <td>A01</td>\n",
       "      <td>tốt nghiệp thpt</td>\n",
       "      <td>15.0</td>\n",
       "      <td>DT</td>\n",
       "    </tr>\n",
       "    <tr>\n",
       "      <th>20010</th>\n",
       "      <td>2023</td>\n",
       "      <td>UMT</td>\n",
       "      <td>NaN</td>\n",
       "      <td>7510605</td>\n",
       "      <td>Logistics và Quản lý chuỗi cung ứng</td>\n",
       "      <td>D01</td>\n",
       "      <td>tốt nghiệp thpt</td>\n",
       "      <td>15.0</td>\n",
       "      <td>DT</td>\n",
       "    </tr>\n",
       "    <tr>\n",
       "      <th>20011</th>\n",
       "      <td>2023</td>\n",
       "      <td>UMT</td>\n",
       "      <td>NaN</td>\n",
       "      <td>7510605</td>\n",
       "      <td>Logistics và Quản lý chuỗi cung ứng</td>\n",
       "      <td>D07</td>\n",
       "      <td>tốt nghiệp thpt</td>\n",
       "      <td>15.0</td>\n",
       "      <td>DT</td>\n",
       "    </tr>\n",
       "    <tr>\n",
       "      <th>20012</th>\n",
       "      <td>2023</td>\n",
       "      <td>UMT</td>\n",
       "      <td>NaN</td>\n",
       "      <td>7510605</td>\n",
       "      <td>Logistics và Quản lý chuỗi cung ứng</td>\n",
       "      <td>D03</td>\n",
       "      <td>tốt nghiệp thpt</td>\n",
       "      <td>15.0</td>\n",
       "      <td>DT</td>\n",
       "    </tr>\n",
       "  </tbody>\n",
       "</table>\n",
       "<p>20013 rows × 9 columns</p>\n",
       "</div>"
      ],
      "text/plain": [
       "       year_ university_code specialized_major major_code  \\\n",
       "0       2021             HSU               NaN    7510605   \n",
       "1       2021             HSU               NaN    7510605   \n",
       "2       2021             HSU               NaN    7510605   \n",
       "3       2021             HSU               NaN    7510605   \n",
       "4       2021             HSU               NaN    7510605   \n",
       "...      ...             ...               ...        ...   \n",
       "20008   2023             UMT               NaN    7510605   \n",
       "20009   2023             UMT               NaN    7510605   \n",
       "20010   2023             UMT               NaN    7510605   \n",
       "20011   2023             UMT               NaN    7510605   \n",
       "20012   2023             UMT               NaN    7510605   \n",
       "\n",
       "                                major_name subject_group_code  \\\n",
       "0      Logistics và Quản lý chuỗi cung ứng                A00   \n",
       "1      Logistics và Quản lý chuỗi cung ứng                A01   \n",
       "2      Logistics và Quản lý chuỗi cung ứng                D01   \n",
       "3      Logistics và Quản lý chuỗi cung ứng                D09   \n",
       "4      Logistics và Quản lý chuỗi cung ứng                D03   \n",
       "...                                    ...                ...   \n",
       "20008  Logistics và Quản lý chuỗi cung ứng                A00   \n",
       "20009  Logistics và Quản lý chuỗi cung ứng                A01   \n",
       "20010  Logistics và Quản lý chuỗi cung ứng                D01   \n",
       "20011  Logistics và Quản lý chuỗi cung ứng                D07   \n",
       "20012  Logistics và Quản lý chuỗi cung ứng                D03   \n",
       "\n",
       "                   note  benchmark_score program_type  \n",
       "0      điểm thi tn thpt             16.0           DT  \n",
       "1      điểm thi tn thpt             16.0           DT  \n",
       "2      điểm thi tn thpt             16.0           DT  \n",
       "3      điểm thi tn thpt             16.0           DT  \n",
       "4      điểm thi tn thpt             16.0           DT  \n",
       "...                 ...              ...          ...  \n",
       "20008   tốt nghiệp thpt             15.0           DT  \n",
       "20009   tốt nghiệp thpt             15.0           DT  \n",
       "20010   tốt nghiệp thpt             15.0           DT  \n",
       "20011   tốt nghiệp thpt             15.0           DT  \n",
       "20012   tốt nghiệp thpt             15.0           DT  \n",
       "\n",
       "[20013 rows x 9 columns]"
      ]
     },
     "execution_count": 82,
     "metadata": {},
     "output_type": "execute_result"
    }
   ],
   "source": [
    "df"
   ]
  },
  {
   "cell_type": "markdown",
   "id": "b46097c3",
   "metadata": {},
   "source": [
    "---"
   ]
  },
  {
   "cell_type": "markdown",
   "id": "d1f1a7c3",
   "metadata": {},
   "source": [
    "### Bước 3: Xử lý phương thức xét tuyển (thuộc tính `note`)"
   ]
  },
  {
   "cell_type": "code",
   "execution_count": 83,
   "id": "dc0a124f",
   "metadata": {},
   "outputs": [
    {
     "data": {
      "application/vnd.microsoft.datawrangler.viewer.v0+json": {
       "columns": [
        {
         "name": "subject_group_code",
         "rawType": "object",
         "type": "string"
        },
        {
         "name": "count",
         "rawType": "int64",
         "type": "integer"
        }
       ],
       "conversionMethod": "pd.DataFrame",
       "ref": "5c20ede9-c0f7-4194-bf35-22d44130aab8",
       "rows": [
        [
         "A00",
         "3524"
        ],
        [
         "A01",
         "3355"
        ],
        [
         "D01",
         "3243"
        ],
        [
         "XDHB",
         "1691"
        ],
        [
         "DGNLHCM",
         "1172"
        ],
        [
         "D07",
         "1171"
        ],
        [
         "C00",
         "830"
        ],
        [
         "B00",
         "720"
        ],
        [
         "D90",
         "555"
        ],
        [
         "C01",
         "463"
        ],
        [
         "D14",
         "318"
        ],
        [
         "D15",
         "275"
        ],
        [
         "D96",
         "265"
        ],
        [
         "DGNL",
         "194"
        ],
        [
         "D03",
         "168"
        ],
        [
         "D08",
         "161"
        ],
        [
         "D09",
         "145"
        ],
        [
         "D10",
         "141"
        ],
        [
         "D78",
         "136"
        ],
        [
         "C04",
         "111"
        ],
        [
         "V00",
         "93"
        ],
        [
         "D06",
         "75"
        ],
        [
         "D04",
         "65"
        ],
        [
         "V01",
         "63"
        ],
        [
         "A02",
         "58"
        ],
        [
         "B08",
         "56"
        ],
        [
         "C08",
         "51"
        ],
        [
         "H01",
         "46"
        ],
        [
         "H06",
         "42"
        ],
        [
         "C14",
         "37"
        ],
        [
         "D05",
         "37"
        ],
        [
         "C03",
         "34"
        ],
        [
         "C02",
         "33"
        ],
        [
         "D83",
         "31"
        ],
        [
         "D02",
         "29"
        ],
        [
         "H03",
         "29"
        ],
        [
         "H04",
         "29"
        ],
        [
         "D66",
         "29"
        ],
        [
         "D11",
         "27"
        ],
        [
         "H05",
         "27"
        ],
        [
         "D80",
         "25"
        ],
        [
         "C19",
         "25"
        ],
        [
         "DD2",
         "23"
        ],
        [
         "N00",
         "22"
        ],
        [
         "H02",
         "21"
        ],
        [
         "D82",
         "17"
        ],
        [
         "M00",
         "17"
        ],
        [
         "D79",
         "17"
        ],
        [
         "D81",
         "17"
        ],
        [
         "H00",
         "17"
        ]
       ],
       "shape": {
        "columns": 1,
        "rows": 109
       }
      },
      "text/html": [
       "<div>\n",
       "<style scoped>\n",
       "    .dataframe tbody tr th:only-of-type {\n",
       "        vertical-align: middle;\n",
       "    }\n",
       "\n",
       "    .dataframe tbody tr th {\n",
       "        vertical-align: top;\n",
       "    }\n",
       "\n",
       "    .dataframe thead th {\n",
       "        text-align: right;\n",
       "    }\n",
       "</style>\n",
       "<table border=\"1\" class=\"dataframe\">\n",
       "  <thead>\n",
       "    <tr style=\"text-align: right;\">\n",
       "      <th></th>\n",
       "      <th>count</th>\n",
       "    </tr>\n",
       "    <tr>\n",
       "      <th>subject_group_code</th>\n",
       "      <th></th>\n",
       "    </tr>\n",
       "  </thead>\n",
       "  <tbody>\n",
       "    <tr>\n",
       "      <th>A00</th>\n",
       "      <td>3524</td>\n",
       "    </tr>\n",
       "    <tr>\n",
       "      <th>A01</th>\n",
       "      <td>3355</td>\n",
       "    </tr>\n",
       "    <tr>\n",
       "      <th>D01</th>\n",
       "      <td>3243</td>\n",
       "    </tr>\n",
       "    <tr>\n",
       "      <th>XDHB</th>\n",
       "      <td>1691</td>\n",
       "    </tr>\n",
       "    <tr>\n",
       "      <th>DGNLHCM</th>\n",
       "      <td>1172</td>\n",
       "    </tr>\n",
       "    <tr>\n",
       "      <th>...</th>\n",
       "      <td>...</td>\n",
       "    </tr>\n",
       "    <tr>\n",
       "      <th>D95</th>\n",
       "      <td>1</td>\n",
       "    </tr>\n",
       "    <tr>\n",
       "      <th>DGNLSPHN</th>\n",
       "      <td>1</td>\n",
       "    </tr>\n",
       "    <tr>\n",
       "      <th>DGNLSPHCM</th>\n",
       "      <td>1</td>\n",
       "    </tr>\n",
       "    <tr>\n",
       "      <th>V09</th>\n",
       "      <td>1</td>\n",
       "    </tr>\n",
       "    <tr>\n",
       "      <th>M09</th>\n",
       "      <td>1</td>\n",
       "    </tr>\n",
       "  </tbody>\n",
       "</table>\n",
       "<p>109 rows × 1 columns</p>\n",
       "</div>"
      ],
      "text/plain": [
       "                    count\n",
       "subject_group_code       \n",
       "A00                  3524\n",
       "A01                  3355\n",
       "D01                  3243\n",
       "XDHB                 1691\n",
       "DGNLHCM              1172\n",
       "...                   ...\n",
       "D95                     1\n",
       "DGNLSPHN                1\n",
       "DGNLSPHCM               1\n",
       "V09                     1\n",
       "M09                     1\n",
       "\n",
       "[109 rows x 1 columns]"
      ]
     },
     "execution_count": 83,
     "metadata": {},
     "output_type": "execute_result"
    }
   ],
   "source": [
    "df['subject_group_code'].value_counts().to_frame()"
   ]
  },
  {
   "cell_type": "code",
   "execution_count": 84,
   "id": "63e80c82",
   "metadata": {},
   "outputs": [],
   "source": [
    "# Trong tổ hợp có nhiều cách viết đánh giá năng lực -> chuyển về thành 1 'DGNL'. Nhất quán về dữ liệu\n",
    "df.loc[:,'subject_group_code']=df.loc[:,'subject_group_code'].str.replace(r'DGNLHCM|DGTD|DGNLQGHN','DGNL',regex=True)"
   ]
  },
  {
   "cell_type": "markdown",
   "id": "42f52d69",
   "metadata": {},
   "source": [
    "#### Dựa vào `subject_group_code` để phân loại các phương thức xét tuyển"
   ]
  },
  {
   "cell_type": "markdown",
   "id": "262823a2",
   "metadata": {},
   "source": [
    "##### Chuẩn hoá các tổ hợp môn thi trước `subject_group_code`"
   ]
  },
  {
   "cell_type": "code",
   "execution_count": 85,
   "id": "f4102027",
   "metadata": {},
   "outputs": [],
   "source": [
    "# Khuôn mẫu cho mã tổ hợp môn thi THPT\n",
    "pattern_thpt = df['subject_group_code'].str.match('^[A-Z][0-9]{2}$',na=False)\n",
    "\n",
    "# Khuông mẫu cho phương thức xét tuyển là xét học bạ và dgnl\n",
    "pattern_hocBa_dgnl = df['subject_group_code'].isin(['XDHB','DGNL'])\n",
    "final_pattern = pattern_thpt | pattern_hocBa_dgnl\n",
    "\n",
    "# Các giá trị trong `subject_group_code` không thuộc khuôn mẫu là gán là None\n",
    "df.loc[~final_pattern,'subject_group_code'] = None"
   ]
  },
  {
   "cell_type": "code",
   "execution_count": 86,
   "id": "ac367d49",
   "metadata": {},
   "outputs": [],
   "source": [
    "# Các bổ hợp có dạng vd: 'A00,A01, ...' -> đưa về thành phương thức THPT\n",
    "df.loc[df['subject_group_code'].str.match('^[A-Z][0-9]{2}$',na=False),'note'] = 'Tốt nghiệp THPT'\n",
    "df.loc[df['subject_group_code'].str.match(\"XDHB\", na=False),'note'] = 'Xét học bạ'\n",
    "df.loc[df['subject_group_code'].str.contains(\"DGNL\", na=False),'note'] = 'Đánh giá năng lực ĐHQG-HCM'"
   ]
  },
  {
   "cell_type": "code",
   "execution_count": 87,
   "id": "536cb467",
   "metadata": {},
   "outputs": [
    {
     "data": {
      "application/vnd.microsoft.datawrangler.viewer.v0+json": {
       "columns": [
        {
         "name": "subject_group_code",
         "rawType": "object",
         "type": "string"
        },
        {
         "name": "count",
         "rawType": "int64",
         "type": "integer"
        }
       ],
       "conversionMethod": "pd.DataFrame",
       "ref": "c9fb7f12-1219-434f-9e6e-e31ed01923b0",
       "rows": [
        [
         "A00",
         "3524"
        ],
        [
         "A01",
         "3355"
        ],
        [
         "D01",
         "3243"
        ],
        [
         "XDHB",
         "1691"
        ],
        [
         "DGNL",
         "1387"
        ],
        [
         "D07",
         "1171"
        ],
        [
         "C00",
         "830"
        ],
        [
         "B00",
         "720"
        ],
        [
         "D90",
         "555"
        ],
        [
         "C01",
         "463"
        ],
        [
         "D14",
         "318"
        ],
        [
         "D15",
         "275"
        ],
        [
         "D96",
         "265"
        ],
        [
         "D03",
         "168"
        ],
        [
         "D08",
         "161"
        ],
        [
         "D09",
         "145"
        ],
        [
         "D10",
         "141"
        ],
        [
         "D78",
         "136"
        ],
        [
         "C04",
         "111"
        ],
        [
         "V00",
         "93"
        ],
        [
         "D06",
         "75"
        ],
        [
         "D04",
         "65"
        ],
        [
         "V01",
         "63"
        ],
        [
         "A02",
         "58"
        ],
        [
         "B08",
         "56"
        ],
        [
         "C08",
         "51"
        ],
        [
         "H01",
         "46"
        ],
        [
         "H06",
         "42"
        ],
        [
         "C14",
         "37"
        ],
        [
         "D05",
         "37"
        ],
        [
         "C03",
         "34"
        ],
        [
         "C02",
         "33"
        ],
        [
         "D83",
         "31"
        ],
        [
         "D66",
         "29"
        ],
        [
         "H04",
         "29"
        ],
        [
         "H03",
         "29"
        ],
        [
         "D02",
         "29"
        ],
        [
         "D11",
         "27"
        ],
        [
         "H05",
         "27"
        ],
        [
         "C19",
         "25"
        ],
        [
         "D80",
         "25"
        ],
        [
         "N00",
         "22"
        ],
        [
         "H02",
         "21"
        ],
        [
         "D79",
         "17"
        ],
        [
         "H00",
         "17"
        ],
        [
         "D82",
         "17"
        ],
        [
         "M00",
         "17"
        ],
        [
         "D81",
         "17"
        ],
        [
         "B03",
         "15"
        ],
        [
         "D72",
         "15"
        ]
       ],
       "shape": {
        "columns": 1,
        "rows": 101
       }
      },
      "text/html": [
       "<div>\n",
       "<style scoped>\n",
       "    .dataframe tbody tr th:only-of-type {\n",
       "        vertical-align: middle;\n",
       "    }\n",
       "\n",
       "    .dataframe tbody tr th {\n",
       "        vertical-align: top;\n",
       "    }\n",
       "\n",
       "    .dataframe thead th {\n",
       "        text-align: right;\n",
       "    }\n",
       "</style>\n",
       "<table border=\"1\" class=\"dataframe\">\n",
       "  <thead>\n",
       "    <tr style=\"text-align: right;\">\n",
       "      <th></th>\n",
       "      <th>count</th>\n",
       "    </tr>\n",
       "    <tr>\n",
       "      <th>subject_group_code</th>\n",
       "      <th></th>\n",
       "    </tr>\n",
       "  </thead>\n",
       "  <tbody>\n",
       "    <tr>\n",
       "      <th>A00</th>\n",
       "      <td>3524</td>\n",
       "    </tr>\n",
       "    <tr>\n",
       "      <th>A01</th>\n",
       "      <td>3355</td>\n",
       "    </tr>\n",
       "    <tr>\n",
       "      <th>D01</th>\n",
       "      <td>3243</td>\n",
       "    </tr>\n",
       "    <tr>\n",
       "      <th>XDHB</th>\n",
       "      <td>1691</td>\n",
       "    </tr>\n",
       "    <tr>\n",
       "      <th>DGNL</th>\n",
       "      <td>1387</td>\n",
       "    </tr>\n",
       "    <tr>\n",
       "      <th>...</th>\n",
       "      <td>...</td>\n",
       "    </tr>\n",
       "    <tr>\n",
       "      <th>A10</th>\n",
       "      <td>1</td>\n",
       "    </tr>\n",
       "    <tr>\n",
       "      <th>M10</th>\n",
       "      <td>1</td>\n",
       "    </tr>\n",
       "    <tr>\n",
       "      <th>D95</th>\n",
       "      <td>1</td>\n",
       "    </tr>\n",
       "    <tr>\n",
       "      <th>M09</th>\n",
       "      <td>1</td>\n",
       "    </tr>\n",
       "    <tr>\n",
       "      <th>V09</th>\n",
       "      <td>1</td>\n",
       "    </tr>\n",
       "  </tbody>\n",
       "</table>\n",
       "<p>101 rows × 1 columns</p>\n",
       "</div>"
      ],
      "text/plain": [
       "                    count\n",
       "subject_group_code       \n",
       "A00                  3524\n",
       "A01                  3355\n",
       "D01                  3243\n",
       "XDHB                 1691\n",
       "DGNL                 1387\n",
       "...                   ...\n",
       "A10                     1\n",
       "M10                     1\n",
       "D95                     1\n",
       "M09                     1\n",
       "V09                     1\n",
       "\n",
       "[101 rows x 1 columns]"
      ]
     },
     "execution_count": 87,
     "metadata": {},
     "output_type": "execute_result"
    }
   ],
   "source": [
    "# test\n",
    "df['subject_group_code'].value_counts().to_frame()"
   ]
  },
  {
   "cell_type": "code",
   "execution_count": 88,
   "id": "a28c79e4",
   "metadata": {},
   "outputs": [
    {
     "data": {
      "application/vnd.microsoft.datawrangler.viewer.v0+json": {
       "columns": [
        {
         "name": "index",
         "rawType": "int64",
         "type": "integer"
        },
        {
         "name": "year_",
         "rawType": "int64",
         "type": "integer"
        },
        {
         "name": "university_code",
         "rawType": "object",
         "type": "string"
        },
        {
         "name": "specialized_major",
         "rawType": "object",
         "type": "unknown"
        },
        {
         "name": "major_code",
         "rawType": "object",
         "type": "string"
        },
        {
         "name": "major_name",
         "rawType": "object",
         "type": "string"
        },
        {
         "name": "subject_group_code",
         "rawType": "object",
         "type": "unknown"
        },
        {
         "name": "note",
         "rawType": "object",
         "type": "string"
        },
        {
         "name": "benchmark_score",
         "rawType": "float64",
         "type": "float"
        },
        {
         "name": "program_type",
         "rawType": "object",
         "type": "string"
        }
       ],
       "conversionMethod": "pd.DataFrame",
       "ref": "cd875bbb-870c-4004-a7cd-3fba2f932cb3",
       "rows": [
        [
         "0",
         "2021",
         "HSU",
         null,
         "7510605",
         "Logistics và Quản lý chuỗi cung ứng",
         "A00",
         "Tốt nghiệp THPT",
         "16.0",
         "DT"
        ],
        [
         "1",
         "2021",
         "HSU",
         null,
         "7510605",
         "Logistics và Quản lý chuỗi cung ứng",
         "A01",
         "Tốt nghiệp THPT",
         "16.0",
         "DT"
        ],
        [
         "2",
         "2021",
         "HSU",
         null,
         "7510605",
         "Logistics và Quản lý chuỗi cung ứng",
         "D01",
         "Tốt nghiệp THPT",
         "16.0",
         "DT"
        ],
        [
         "3",
         "2021",
         "HSU",
         null,
         "7510605",
         "Logistics và Quản lý chuỗi cung ứng",
         "D09",
         "Tốt nghiệp THPT",
         "16.0",
         "DT"
        ],
        [
         "4",
         "2021",
         "HSU",
         null,
         "7510605",
         "Logistics và Quản lý chuỗi cung ứng",
         "D03",
         "Tốt nghiệp THPT",
         "16.0",
         "DT"
        ],
        [
         "5",
         "2021",
         "HSU",
         null,
         "7810202",
         "Quản trị nhà hàng và dịch vụ ăn uống",
         "A00",
         "Tốt nghiệp THPT",
         "16.0",
         "DT"
        ],
        [
         "6",
         "2021",
         "HSU",
         null,
         "7810202",
         "Quản trị nhà hàng và dịch vụ ăn uống",
         "A01",
         "Tốt nghiệp THPT",
         "16.0",
         "DT"
        ],
        [
         "7",
         "2021",
         "HSU",
         null,
         "7810202",
         "Quản trị nhà hàng và dịch vụ ăn uống",
         "D01",
         "Tốt nghiệp THPT",
         "16.0",
         "DT"
        ],
        [
         "8",
         "2021",
         "HSU",
         null,
         "7810202",
         "Quản trị nhà hàng và dịch vụ ăn uống",
         "D09",
         "Tốt nghiệp THPT",
         "16.0",
         "DT"
        ],
        [
         "9",
         "2021",
         "HSU",
         null,
         "7810202",
         "Quản trị nhà hàng và dịch vụ ăn uống",
         "D03",
         "Tốt nghiệp THPT",
         "16.0",
         "DT"
        ],
        [
         "10",
         "2021",
         "HSU",
         null,
         "7220201",
         "Ngôn ngữ Anh",
         "D01",
         "Tốt nghiệp THPT",
         "16.0",
         "DT"
        ],
        [
         "11",
         "2021",
         "HSU",
         null,
         "7220201",
         "Ngôn ngữ Anh",
         "D14",
         "Tốt nghiệp THPT",
         "16.0",
         "DT"
        ],
        [
         "12",
         "2021",
         "HSU",
         null,
         "7220201",
         "Ngôn ngữ Anh",
         "D15",
         "Tốt nghiệp THPT",
         "16.0",
         "DT"
        ],
        [
         "13",
         "2021",
         "HSU",
         null,
         "7220201",
         "Ngôn ngữ Anh",
         "D09",
         "Tốt nghiệp THPT",
         "16.0",
         "DT"
        ],
        [
         "14",
         "2021",
         "HSU",
         null,
         "7480102",
         "Mạng máy tính và Truyền thông dữ liệu",
         "A00",
         "Tốt nghiệp THPT",
         "16.0",
         "DT"
        ],
        [
         "15",
         "2021",
         "HSU",
         null,
         "7480102",
         "Mạng máy tính và Truyền thông dữ liệu",
         "A01",
         "Tốt nghiệp THPT",
         "16.0",
         "DT"
        ],
        [
         "16",
         "2021",
         "HSU",
         null,
         "7480102",
         "Mạng máy tính và Truyền thông dữ liệu",
         "D01",
         "Tốt nghiệp THPT",
         "16.0",
         "DT"
        ],
        [
         "17",
         "2021",
         "HSU",
         null,
         "7480102",
         "Mạng máy tính và Truyền thông dữ liệu",
         "D07",
         "Tốt nghiệp THPT",
         "16.0",
         "DT"
        ],
        [
         "18",
         "2021",
         "HSU",
         null,
         "7480102",
         "Mạng máy tính và Truyền thông dữ liệu",
         "D03",
         "Tốt nghiệp THPT",
         "16.0",
         "DT"
        ],
        [
         "19",
         "2021",
         "HSU",
         null,
         "7810103",
         "Quản trị dịch vụ du lịch và lữ hành",
         "A00",
         "Tốt nghiệp THPT",
         "16.0",
         "DT"
        ],
        [
         "20",
         "2021",
         "HSU",
         null,
         "7810103",
         "Quản trị dịch vụ du lịch và lữ hành",
         "A01",
         "Tốt nghiệp THPT",
         "16.0",
         "DT"
        ],
        [
         "21",
         "2021",
         "HSU",
         null,
         "7810103",
         "Quản trị dịch vụ du lịch và lữ hành",
         "D01",
         "Tốt nghiệp THPT",
         "16.0",
         "DT"
        ],
        [
         "22",
         "2021",
         "HSU",
         null,
         "7810103",
         "Quản trị dịch vụ du lịch và lữ hành",
         "D09",
         "Tốt nghiệp THPT",
         "16.0",
         "DT"
        ],
        [
         "23",
         "2021",
         "HSU",
         null,
         "7810103",
         "Quản trị dịch vụ du lịch và lữ hành",
         "D03",
         "Tốt nghiệp THPT",
         "16.0",
         "DT"
        ],
        [
         "24",
         "2021",
         "HSU",
         null,
         "7850101",
         "Quản lý tài nguyên và môi trường",
         "A00",
         "Tốt nghiệp THPT",
         "16.0",
         "DT"
        ],
        [
         "25",
         "2021",
         "HSU",
         null,
         "7850101",
         "Quản lý tài nguyên và môi trường",
         "B00",
         "Tốt nghiệp THPT",
         "16.0",
         "DT"
        ],
        [
         "26",
         "2021",
         "HSU",
         null,
         "7850101",
         "Quản lý tài nguyên và môi trường",
         "D07",
         "Tốt nghiệp THPT",
         "16.0",
         "DT"
        ],
        [
         "27",
         "2021",
         "HSU",
         null,
         "7850101",
         "Quản lý tài nguyên và môi trường",
         "D08",
         "Tốt nghiệp THPT",
         "16.0",
         "DT"
        ],
        [
         "28",
         "2021",
         "HSU",
         null,
         "7340410",
         "Quản trị công nghệ truyền thông",
         "A00",
         "Tốt nghiệp THPT",
         "16.0",
         "DT"
        ],
        [
         "29",
         "2021",
         "HSU",
         null,
         "7340410",
         "Quản trị công nghệ truyền thông",
         "A01",
         "Tốt nghiệp THPT",
         "16.0",
         "DT"
        ],
        [
         "30",
         "2021",
         "HSU",
         null,
         "7340410",
         "Quản trị công nghệ truyền thông",
         "D01",
         "Tốt nghiệp THPT",
         "16.0",
         "DT"
        ],
        [
         "31",
         "2021",
         "HSU",
         null,
         "7340410",
         "Quản trị công nghệ truyền thông",
         "D09",
         "Tốt nghiệp THPT",
         "16.0",
         "DT"
        ],
        [
         "32",
         "2021",
         "HSU",
         null,
         "7340410",
         "Quản trị công nghệ truyền thông",
         "D03",
         "Tốt nghiệp THPT",
         "16.0",
         "DT"
        ],
        [
         "33",
         "2021",
         "HSU",
         null,
         "7340405",
         "Hệ thống thông tin quản lý",
         "A00",
         "Tốt nghiệp THPT",
         "16.0",
         "DT"
        ],
        [
         "34",
         "2021",
         "HSU",
         null,
         "7340405",
         "Hệ thống thông tin quản lý",
         "A01",
         "Tốt nghiệp THPT",
         "16.0",
         "DT"
        ],
        [
         "35",
         "2021",
         "HSU",
         null,
         "7340405",
         "Hệ thống thông tin quản lý",
         "D01",
         "Tốt nghiệp THPT",
         "16.0",
         "DT"
        ],
        [
         "36",
         "2021",
         "HSU",
         null,
         "7340405",
         "Hệ thống thông tin quản lý",
         "D09",
         "Tốt nghiệp THPT",
         "16.0",
         "DT"
        ],
        [
         "37",
         "2021",
         "HSU",
         null,
         "7340405",
         "Hệ thống thông tin quản lý",
         "D03",
         "Tốt nghiệp THPT",
         "16.0",
         "DT"
        ],
        [
         "38",
         "2021",
         "HSU",
         null,
         "7340201",
         "Tài chính - Ngân hàng",
         "A00",
         "Tốt nghiệp THPT",
         "16.0",
         "DT"
        ],
        [
         "39",
         "2021",
         "HSU",
         null,
         "7340201",
         "Tài chính - Ngân hàng",
         "A01",
         "Tốt nghiệp THPT",
         "16.0",
         "DT"
        ],
        [
         "40",
         "2021",
         "HSU",
         null,
         "7340201",
         "Tài chính - Ngân hàng",
         "D01",
         "Tốt nghiệp THPT",
         "16.0",
         "DT"
        ],
        [
         "41",
         "2021",
         "HSU",
         null,
         "7340201",
         "Tài chính - Ngân hàng",
         "D09",
         "Tốt nghiệp THPT",
         "16.0",
         "DT"
        ],
        [
         "42",
         "2021",
         "HSU",
         null,
         "7340201",
         "Tài chính - Ngân hàng",
         "D03",
         "Tốt nghiệp THPT",
         "16.0",
         "DT"
        ],
        [
         "43",
         "2021",
         "HSU",
         null,
         "7580108",
         "Thiết kế nội thất",
         "A01",
         "Tốt nghiệp THPT",
         "16.0",
         "DT"
        ],
        [
         "44",
         "2021",
         "HSU",
         null,
         "7580108",
         "Thiết kế nội thất",
         "D01",
         "Tốt nghiệp THPT",
         "16.0",
         "DT"
        ],
        [
         "45",
         "2021",
         "HSU",
         null,
         "7580108",
         "Thiết kế nội thất",
         "D14",
         "Tốt nghiệp THPT",
         "16.0",
         "DT"
        ],
        [
         "46",
         "2021",
         "HSU",
         null,
         "7580108",
         "Thiết kế nội thất",
         "D09",
         "Tốt nghiệp THPT",
         "16.0",
         "DT"
        ],
        [
         "47",
         "2021",
         "HSU",
         null,
         "7210404",
         "Thiết kế thời trang",
         "A01",
         "Tốt nghiệp THPT",
         "16.0",
         "DT"
        ],
        [
         "48",
         "2021",
         "HSU",
         null,
         "7210404",
         "Thiết kế thời trang",
         "D01",
         "Tốt nghiệp THPT",
         "16.0",
         "DT"
        ],
        [
         "49",
         "2021",
         "HSU",
         null,
         "7210404",
         "Thiết kế thời trang",
         "D14",
         "Tốt nghiệp THPT",
         "16.0",
         "DT"
        ]
       ],
       "shape": {
        "columns": 9,
        "rows": 20013
       }
      },
      "text/html": [
       "<div>\n",
       "<style scoped>\n",
       "    .dataframe tbody tr th:only-of-type {\n",
       "        vertical-align: middle;\n",
       "    }\n",
       "\n",
       "    .dataframe tbody tr th {\n",
       "        vertical-align: top;\n",
       "    }\n",
       "\n",
       "    .dataframe thead th {\n",
       "        text-align: right;\n",
       "    }\n",
       "</style>\n",
       "<table border=\"1\" class=\"dataframe\">\n",
       "  <thead>\n",
       "    <tr style=\"text-align: right;\">\n",
       "      <th></th>\n",
       "      <th>year_</th>\n",
       "      <th>university_code</th>\n",
       "      <th>specialized_major</th>\n",
       "      <th>major_code</th>\n",
       "      <th>major_name</th>\n",
       "      <th>subject_group_code</th>\n",
       "      <th>note</th>\n",
       "      <th>benchmark_score</th>\n",
       "      <th>program_type</th>\n",
       "    </tr>\n",
       "  </thead>\n",
       "  <tbody>\n",
       "    <tr>\n",
       "      <th>0</th>\n",
       "      <td>2021</td>\n",
       "      <td>HSU</td>\n",
       "      <td>NaN</td>\n",
       "      <td>7510605</td>\n",
       "      <td>Logistics và Quản lý chuỗi cung ứng</td>\n",
       "      <td>A00</td>\n",
       "      <td>Tốt nghiệp THPT</td>\n",
       "      <td>16.0</td>\n",
       "      <td>DT</td>\n",
       "    </tr>\n",
       "    <tr>\n",
       "      <th>1</th>\n",
       "      <td>2021</td>\n",
       "      <td>HSU</td>\n",
       "      <td>NaN</td>\n",
       "      <td>7510605</td>\n",
       "      <td>Logistics và Quản lý chuỗi cung ứng</td>\n",
       "      <td>A01</td>\n",
       "      <td>Tốt nghiệp THPT</td>\n",
       "      <td>16.0</td>\n",
       "      <td>DT</td>\n",
       "    </tr>\n",
       "    <tr>\n",
       "      <th>2</th>\n",
       "      <td>2021</td>\n",
       "      <td>HSU</td>\n",
       "      <td>NaN</td>\n",
       "      <td>7510605</td>\n",
       "      <td>Logistics và Quản lý chuỗi cung ứng</td>\n",
       "      <td>D01</td>\n",
       "      <td>Tốt nghiệp THPT</td>\n",
       "      <td>16.0</td>\n",
       "      <td>DT</td>\n",
       "    </tr>\n",
       "    <tr>\n",
       "      <th>3</th>\n",
       "      <td>2021</td>\n",
       "      <td>HSU</td>\n",
       "      <td>NaN</td>\n",
       "      <td>7510605</td>\n",
       "      <td>Logistics và Quản lý chuỗi cung ứng</td>\n",
       "      <td>D09</td>\n",
       "      <td>Tốt nghiệp THPT</td>\n",
       "      <td>16.0</td>\n",
       "      <td>DT</td>\n",
       "    </tr>\n",
       "    <tr>\n",
       "      <th>4</th>\n",
       "      <td>2021</td>\n",
       "      <td>HSU</td>\n",
       "      <td>NaN</td>\n",
       "      <td>7510605</td>\n",
       "      <td>Logistics và Quản lý chuỗi cung ứng</td>\n",
       "      <td>D03</td>\n",
       "      <td>Tốt nghiệp THPT</td>\n",
       "      <td>16.0</td>\n",
       "      <td>DT</td>\n",
       "    </tr>\n",
       "    <tr>\n",
       "      <th>...</th>\n",
       "      <td>...</td>\n",
       "      <td>...</td>\n",
       "      <td>...</td>\n",
       "      <td>...</td>\n",
       "      <td>...</td>\n",
       "      <td>...</td>\n",
       "      <td>...</td>\n",
       "      <td>...</td>\n",
       "      <td>...</td>\n",
       "    </tr>\n",
       "    <tr>\n",
       "      <th>20008</th>\n",
       "      <td>2023</td>\n",
       "      <td>UMT</td>\n",
       "      <td>NaN</td>\n",
       "      <td>7510605</td>\n",
       "      <td>Logistics và Quản lý chuỗi cung ứng</td>\n",
       "      <td>A00</td>\n",
       "      <td>Tốt nghiệp THPT</td>\n",
       "      <td>15.0</td>\n",
       "      <td>DT</td>\n",
       "    </tr>\n",
       "    <tr>\n",
       "      <th>20009</th>\n",
       "      <td>2023</td>\n",
       "      <td>UMT</td>\n",
       "      <td>NaN</td>\n",
       "      <td>7510605</td>\n",
       "      <td>Logistics và Quản lý chuỗi cung ứng</td>\n",
       "      <td>A01</td>\n",
       "      <td>Tốt nghiệp THPT</td>\n",
       "      <td>15.0</td>\n",
       "      <td>DT</td>\n",
       "    </tr>\n",
       "    <tr>\n",
       "      <th>20010</th>\n",
       "      <td>2023</td>\n",
       "      <td>UMT</td>\n",
       "      <td>NaN</td>\n",
       "      <td>7510605</td>\n",
       "      <td>Logistics và Quản lý chuỗi cung ứng</td>\n",
       "      <td>D01</td>\n",
       "      <td>Tốt nghiệp THPT</td>\n",
       "      <td>15.0</td>\n",
       "      <td>DT</td>\n",
       "    </tr>\n",
       "    <tr>\n",
       "      <th>20011</th>\n",
       "      <td>2023</td>\n",
       "      <td>UMT</td>\n",
       "      <td>NaN</td>\n",
       "      <td>7510605</td>\n",
       "      <td>Logistics và Quản lý chuỗi cung ứng</td>\n",
       "      <td>D07</td>\n",
       "      <td>Tốt nghiệp THPT</td>\n",
       "      <td>15.0</td>\n",
       "      <td>DT</td>\n",
       "    </tr>\n",
       "    <tr>\n",
       "      <th>20012</th>\n",
       "      <td>2023</td>\n",
       "      <td>UMT</td>\n",
       "      <td>NaN</td>\n",
       "      <td>7510605</td>\n",
       "      <td>Logistics và Quản lý chuỗi cung ứng</td>\n",
       "      <td>D03</td>\n",
       "      <td>Tốt nghiệp THPT</td>\n",
       "      <td>15.0</td>\n",
       "      <td>DT</td>\n",
       "    </tr>\n",
       "  </tbody>\n",
       "</table>\n",
       "<p>20013 rows × 9 columns</p>\n",
       "</div>"
      ],
      "text/plain": [
       "       year_ university_code specialized_major major_code  \\\n",
       "0       2021             HSU               NaN    7510605   \n",
       "1       2021             HSU               NaN    7510605   \n",
       "2       2021             HSU               NaN    7510605   \n",
       "3       2021             HSU               NaN    7510605   \n",
       "4       2021             HSU               NaN    7510605   \n",
       "...      ...             ...               ...        ...   \n",
       "20008   2023             UMT               NaN    7510605   \n",
       "20009   2023             UMT               NaN    7510605   \n",
       "20010   2023             UMT               NaN    7510605   \n",
       "20011   2023             UMT               NaN    7510605   \n",
       "20012   2023             UMT               NaN    7510605   \n",
       "\n",
       "                                major_name subject_group_code  \\\n",
       "0      Logistics và Quản lý chuỗi cung ứng                A00   \n",
       "1      Logistics và Quản lý chuỗi cung ứng                A01   \n",
       "2      Logistics và Quản lý chuỗi cung ứng                D01   \n",
       "3      Logistics và Quản lý chuỗi cung ứng                D09   \n",
       "4      Logistics và Quản lý chuỗi cung ứng                D03   \n",
       "...                                    ...                ...   \n",
       "20008  Logistics và Quản lý chuỗi cung ứng                A00   \n",
       "20009  Logistics và Quản lý chuỗi cung ứng                A01   \n",
       "20010  Logistics và Quản lý chuỗi cung ứng                D01   \n",
       "20011  Logistics và Quản lý chuỗi cung ứng                D07   \n",
       "20012  Logistics và Quản lý chuỗi cung ứng                D03   \n",
       "\n",
       "                  note  benchmark_score program_type  \n",
       "0      Tốt nghiệp THPT             16.0           DT  \n",
       "1      Tốt nghiệp THPT             16.0           DT  \n",
       "2      Tốt nghiệp THPT             16.0           DT  \n",
       "3      Tốt nghiệp THPT             16.0           DT  \n",
       "4      Tốt nghiệp THPT             16.0           DT  \n",
       "...                ...              ...          ...  \n",
       "20008  Tốt nghiệp THPT             15.0           DT  \n",
       "20009  Tốt nghiệp THPT             15.0           DT  \n",
       "20010  Tốt nghiệp THPT             15.0           DT  \n",
       "20011  Tốt nghiệp THPT             15.0           DT  \n",
       "20012  Tốt nghiệp THPT             15.0           DT  \n",
       "\n",
       "[20013 rows x 9 columns]"
      ]
     },
     "execution_count": 88,
     "metadata": {},
     "output_type": "execute_result"
    }
   ],
   "source": [
    "df"
   ]
  },
  {
   "cell_type": "markdown",
   "id": "2a633aee",
   "metadata": {},
   "source": [
    "Tập trung dữ liệu vào 3 phương thức xét tuyển chính"
   ]
  },
  {
   "cell_type": "code",
   "execution_count": 89,
   "id": "6687a16b",
   "metadata": {},
   "outputs": [],
   "source": [
    "lst_admission_method = ['Tốt nghiệp THPT','Xét học bạ','Đánh giá năng lực ĐHQG-HCM']\n",
    "\n",
    "correct_method = df['note'].isin(lst_admission_method)\n",
    "\n",
    "# Chuyển các phương thức không nằm trong danh sách trên về None\n",
    "df.loc[~correct_method,'note'] = None"
   ]
  },
  {
   "cell_type": "markdown",
   "id": "c325b64d",
   "metadata": {},
   "source": [
    "---"
   ]
  },
  {
   "cell_type": "markdown",
   "id": "1599af32",
   "metadata": {},
   "source": [
    "### Bước 4: Xử lý điểm chuẩn"
   ]
  },
  {
   "cell_type": "code",
   "execution_count": 90,
   "id": "18820171",
   "metadata": {},
   "outputs": [],
   "source": [
    "method_exam = df['note']\n",
    "score = df['benchmark_score']"
   ]
  },
  {
   "cell_type": "code",
   "execution_count": 91,
   "id": "a0b569ce",
   "metadata": {},
   "outputs": [],
   "source": [
    "# Điều kiện điểm chuẩn phù hợp của Thi THPT\n",
    "cond_1 = ((method_exam == 'Xét học bạ') | (method_exam == 'Tốt nghiệp THPT')) & ((score > 0.0) & (score < 30.0))\n",
    "\n",
    "# Điều kiện điểm chuẩn phù hợp của thi DGNLHCM\n",
    "cond_2 = ((method_exam == 'Đánh giá năng lực ĐHQG-HCM') & ((score >= 550.0) & (score < 1200.0)))\n",
    "\n",
    "# Điều kiện điểm chuẩn không hợp lệ của phương thức khác, đang ở thang điểm 10\n",
    "cond_3 =(( method_exam == 'Tốt nghiệp THPT') | (method_exam == 'Xét học bạ')) & (score < 10.0)\n",
    "\n",
    "# Điều kiện điểm chuẩn của phương thức đánh giá năng lực không hợp lệ\n",
    "cond_4 = ((method_exam == \"Đánh giá năng lực ĐHQG-HCM\") & (score < 30.0))\n",
    "\n",
    "# Kết hợp 2 điều kiện cho 2 phương thức khác nhau\n",
    "valid_cond = cond_1 | cond_2"
   ]
  },
  {
   "cell_type": "code",
   "execution_count": 92,
   "id": "6088f038",
   "metadata": {},
   "outputs": [
    {
     "data": {
      "application/vnd.microsoft.datawrangler.viewer.v0+json": {
       "columns": [
        {
         "name": "index",
         "rawType": "int64",
         "type": "integer"
        },
        {
         "name": "year_",
         "rawType": "int64",
         "type": "integer"
        },
        {
         "name": "university_code",
         "rawType": "object",
         "type": "string"
        },
        {
         "name": "specialized_major",
         "rawType": "object",
         "type": "unknown"
        },
        {
         "name": "major_code",
         "rawType": "object",
         "type": "string"
        },
        {
         "name": "major_name",
         "rawType": "object",
         "type": "string"
        },
        {
         "name": "subject_group_code",
         "rawType": "object",
         "type": "unknown"
        },
        {
         "name": "note",
         "rawType": "object",
         "type": "unknown"
        },
        {
         "name": "benchmark_score",
         "rawType": "float64",
         "type": "float"
        },
        {
         "name": "program_type",
         "rawType": "object",
         "type": "string"
        }
       ],
       "conversionMethod": "pd.DataFrame",
       "ref": "595f06f1-f37e-46a7-bc37-e9a3112ccf42",
       "rows": [
        [
         "0",
         "2021",
         "HSU",
         null,
         "7510605",
         "Logistics và Quản lý chuỗi cung ứng",
         "A00",
         "Tốt nghiệp THPT",
         "16.0",
         "DT"
        ],
        [
         "1",
         "2021",
         "HSU",
         null,
         "7510605",
         "Logistics và Quản lý chuỗi cung ứng",
         "A01",
         "Tốt nghiệp THPT",
         "16.0",
         "DT"
        ],
        [
         "2",
         "2021",
         "HSU",
         null,
         "7510605",
         "Logistics và Quản lý chuỗi cung ứng",
         "D01",
         "Tốt nghiệp THPT",
         "16.0",
         "DT"
        ],
        [
         "3",
         "2021",
         "HSU",
         null,
         "7510605",
         "Logistics và Quản lý chuỗi cung ứng",
         "D09",
         "Tốt nghiệp THPT",
         "16.0",
         "DT"
        ],
        [
         "4",
         "2021",
         "HSU",
         null,
         "7510605",
         "Logistics và Quản lý chuỗi cung ứng",
         "D03",
         "Tốt nghiệp THPT",
         "16.0",
         "DT"
        ],
        [
         "5",
         "2021",
         "HSU",
         null,
         "7810202",
         "Quản trị nhà hàng và dịch vụ ăn uống",
         "A00",
         "Tốt nghiệp THPT",
         "16.0",
         "DT"
        ],
        [
         "6",
         "2021",
         "HSU",
         null,
         "7810202",
         "Quản trị nhà hàng và dịch vụ ăn uống",
         "A01",
         "Tốt nghiệp THPT",
         "16.0",
         "DT"
        ],
        [
         "7",
         "2021",
         "HSU",
         null,
         "7810202",
         "Quản trị nhà hàng và dịch vụ ăn uống",
         "D01",
         "Tốt nghiệp THPT",
         "16.0",
         "DT"
        ],
        [
         "8",
         "2021",
         "HSU",
         null,
         "7810202",
         "Quản trị nhà hàng và dịch vụ ăn uống",
         "D09",
         "Tốt nghiệp THPT",
         "16.0",
         "DT"
        ],
        [
         "9",
         "2021",
         "HSU",
         null,
         "7810202",
         "Quản trị nhà hàng và dịch vụ ăn uống",
         "D03",
         "Tốt nghiệp THPT",
         "16.0",
         "DT"
        ],
        [
         "10",
         "2021",
         "HSU",
         null,
         "7220201",
         "Ngôn ngữ Anh",
         "D01",
         "Tốt nghiệp THPT",
         "16.0",
         "DT"
        ],
        [
         "11",
         "2021",
         "HSU",
         null,
         "7220201",
         "Ngôn ngữ Anh",
         "D14",
         "Tốt nghiệp THPT",
         "16.0",
         "DT"
        ],
        [
         "12",
         "2021",
         "HSU",
         null,
         "7220201",
         "Ngôn ngữ Anh",
         "D15",
         "Tốt nghiệp THPT",
         "16.0",
         "DT"
        ],
        [
         "13",
         "2021",
         "HSU",
         null,
         "7220201",
         "Ngôn ngữ Anh",
         "D09",
         "Tốt nghiệp THPT",
         "16.0",
         "DT"
        ],
        [
         "14",
         "2021",
         "HSU",
         null,
         "7480102",
         "Mạng máy tính và Truyền thông dữ liệu",
         "A00",
         "Tốt nghiệp THPT",
         "16.0",
         "DT"
        ],
        [
         "15",
         "2021",
         "HSU",
         null,
         "7480102",
         "Mạng máy tính và Truyền thông dữ liệu",
         "A01",
         "Tốt nghiệp THPT",
         "16.0",
         "DT"
        ],
        [
         "16",
         "2021",
         "HSU",
         null,
         "7480102",
         "Mạng máy tính và Truyền thông dữ liệu",
         "D01",
         "Tốt nghiệp THPT",
         "16.0",
         "DT"
        ],
        [
         "17",
         "2021",
         "HSU",
         null,
         "7480102",
         "Mạng máy tính và Truyền thông dữ liệu",
         "D07",
         "Tốt nghiệp THPT",
         "16.0",
         "DT"
        ],
        [
         "18",
         "2021",
         "HSU",
         null,
         "7480102",
         "Mạng máy tính và Truyền thông dữ liệu",
         "D03",
         "Tốt nghiệp THPT",
         "16.0",
         "DT"
        ],
        [
         "19",
         "2021",
         "HSU",
         null,
         "7810103",
         "Quản trị dịch vụ du lịch và lữ hành",
         "A00",
         "Tốt nghiệp THPT",
         "16.0",
         "DT"
        ],
        [
         "20",
         "2021",
         "HSU",
         null,
         "7810103",
         "Quản trị dịch vụ du lịch và lữ hành",
         "A01",
         "Tốt nghiệp THPT",
         "16.0",
         "DT"
        ],
        [
         "21",
         "2021",
         "HSU",
         null,
         "7810103",
         "Quản trị dịch vụ du lịch và lữ hành",
         "D01",
         "Tốt nghiệp THPT",
         "16.0",
         "DT"
        ],
        [
         "22",
         "2021",
         "HSU",
         null,
         "7810103",
         "Quản trị dịch vụ du lịch và lữ hành",
         "D09",
         "Tốt nghiệp THPT",
         "16.0",
         "DT"
        ],
        [
         "23",
         "2021",
         "HSU",
         null,
         "7810103",
         "Quản trị dịch vụ du lịch và lữ hành",
         "D03",
         "Tốt nghiệp THPT",
         "16.0",
         "DT"
        ],
        [
         "24",
         "2021",
         "HSU",
         null,
         "7850101",
         "Quản lý tài nguyên và môi trường",
         "A00",
         "Tốt nghiệp THPT",
         "16.0",
         "DT"
        ],
        [
         "25",
         "2021",
         "HSU",
         null,
         "7850101",
         "Quản lý tài nguyên và môi trường",
         "B00",
         "Tốt nghiệp THPT",
         "16.0",
         "DT"
        ],
        [
         "26",
         "2021",
         "HSU",
         null,
         "7850101",
         "Quản lý tài nguyên và môi trường",
         "D07",
         "Tốt nghiệp THPT",
         "16.0",
         "DT"
        ],
        [
         "27",
         "2021",
         "HSU",
         null,
         "7850101",
         "Quản lý tài nguyên và môi trường",
         "D08",
         "Tốt nghiệp THPT",
         "16.0",
         "DT"
        ],
        [
         "28",
         "2021",
         "HSU",
         null,
         "7340410",
         "Quản trị công nghệ truyền thông",
         "A00",
         "Tốt nghiệp THPT",
         "16.0",
         "DT"
        ],
        [
         "29",
         "2021",
         "HSU",
         null,
         "7340410",
         "Quản trị công nghệ truyền thông",
         "A01",
         "Tốt nghiệp THPT",
         "16.0",
         "DT"
        ],
        [
         "30",
         "2021",
         "HSU",
         null,
         "7340410",
         "Quản trị công nghệ truyền thông",
         "D01",
         "Tốt nghiệp THPT",
         "16.0",
         "DT"
        ],
        [
         "31",
         "2021",
         "HSU",
         null,
         "7340410",
         "Quản trị công nghệ truyền thông",
         "D09",
         "Tốt nghiệp THPT",
         "16.0",
         "DT"
        ],
        [
         "32",
         "2021",
         "HSU",
         null,
         "7340410",
         "Quản trị công nghệ truyền thông",
         "D03",
         "Tốt nghiệp THPT",
         "16.0",
         "DT"
        ],
        [
         "33",
         "2021",
         "HSU",
         null,
         "7340405",
         "Hệ thống thông tin quản lý",
         "A00",
         "Tốt nghiệp THPT",
         "16.0",
         "DT"
        ],
        [
         "34",
         "2021",
         "HSU",
         null,
         "7340405",
         "Hệ thống thông tin quản lý",
         "A01",
         "Tốt nghiệp THPT",
         "16.0",
         "DT"
        ],
        [
         "35",
         "2021",
         "HSU",
         null,
         "7340405",
         "Hệ thống thông tin quản lý",
         "D01",
         "Tốt nghiệp THPT",
         "16.0",
         "DT"
        ],
        [
         "36",
         "2021",
         "HSU",
         null,
         "7340405",
         "Hệ thống thông tin quản lý",
         "D09",
         "Tốt nghiệp THPT",
         "16.0",
         "DT"
        ],
        [
         "37",
         "2021",
         "HSU",
         null,
         "7340405",
         "Hệ thống thông tin quản lý",
         "D03",
         "Tốt nghiệp THPT",
         "16.0",
         "DT"
        ],
        [
         "38",
         "2021",
         "HSU",
         null,
         "7340201",
         "Tài chính - Ngân hàng",
         "A00",
         "Tốt nghiệp THPT",
         "16.0",
         "DT"
        ],
        [
         "39",
         "2021",
         "HSU",
         null,
         "7340201",
         "Tài chính - Ngân hàng",
         "A01",
         "Tốt nghiệp THPT",
         "16.0",
         "DT"
        ],
        [
         "40",
         "2021",
         "HSU",
         null,
         "7340201",
         "Tài chính - Ngân hàng",
         "D01",
         "Tốt nghiệp THPT",
         "16.0",
         "DT"
        ],
        [
         "41",
         "2021",
         "HSU",
         null,
         "7340201",
         "Tài chính - Ngân hàng",
         "D09",
         "Tốt nghiệp THPT",
         "16.0",
         "DT"
        ],
        [
         "42",
         "2021",
         "HSU",
         null,
         "7340201",
         "Tài chính - Ngân hàng",
         "D03",
         "Tốt nghiệp THPT",
         "16.0",
         "DT"
        ],
        [
         "43",
         "2021",
         "HSU",
         null,
         "7580108",
         "Thiết kế nội thất",
         "A01",
         "Tốt nghiệp THPT",
         "16.0",
         "DT"
        ],
        [
         "44",
         "2021",
         "HSU",
         null,
         "7580108",
         "Thiết kế nội thất",
         "D01",
         "Tốt nghiệp THPT",
         "16.0",
         "DT"
        ],
        [
         "45",
         "2021",
         "HSU",
         null,
         "7580108",
         "Thiết kế nội thất",
         "D14",
         "Tốt nghiệp THPT",
         "16.0",
         "DT"
        ],
        [
         "46",
         "2021",
         "HSU",
         null,
         "7580108",
         "Thiết kế nội thất",
         "D09",
         "Tốt nghiệp THPT",
         "16.0",
         "DT"
        ],
        [
         "47",
         "2021",
         "HSU",
         null,
         "7210404",
         "Thiết kế thời trang",
         "A01",
         "Tốt nghiệp THPT",
         "16.0",
         "DT"
        ],
        [
         "48",
         "2021",
         "HSU",
         null,
         "7210404",
         "Thiết kế thời trang",
         "D01",
         "Tốt nghiệp THPT",
         "16.0",
         "DT"
        ],
        [
         "49",
         "2021",
         "HSU",
         null,
         "7210404",
         "Thiết kế thời trang",
         "D14",
         "Tốt nghiệp THPT",
         "16.0",
         "DT"
        ]
       ],
       "shape": {
        "columns": 9,
        "rows": 20013
       }
      },
      "text/html": [
       "<div>\n",
       "<style scoped>\n",
       "    .dataframe tbody tr th:only-of-type {\n",
       "        vertical-align: middle;\n",
       "    }\n",
       "\n",
       "    .dataframe tbody tr th {\n",
       "        vertical-align: top;\n",
       "    }\n",
       "\n",
       "    .dataframe thead th {\n",
       "        text-align: right;\n",
       "    }\n",
       "</style>\n",
       "<table border=\"1\" class=\"dataframe\">\n",
       "  <thead>\n",
       "    <tr style=\"text-align: right;\">\n",
       "      <th></th>\n",
       "      <th>year_</th>\n",
       "      <th>university_code</th>\n",
       "      <th>specialized_major</th>\n",
       "      <th>major_code</th>\n",
       "      <th>major_name</th>\n",
       "      <th>subject_group_code</th>\n",
       "      <th>note</th>\n",
       "      <th>benchmark_score</th>\n",
       "      <th>program_type</th>\n",
       "    </tr>\n",
       "  </thead>\n",
       "  <tbody>\n",
       "    <tr>\n",
       "      <th>0</th>\n",
       "      <td>2021</td>\n",
       "      <td>HSU</td>\n",
       "      <td>NaN</td>\n",
       "      <td>7510605</td>\n",
       "      <td>Logistics và Quản lý chuỗi cung ứng</td>\n",
       "      <td>A00</td>\n",
       "      <td>Tốt nghiệp THPT</td>\n",
       "      <td>16.0</td>\n",
       "      <td>DT</td>\n",
       "    </tr>\n",
       "    <tr>\n",
       "      <th>1</th>\n",
       "      <td>2021</td>\n",
       "      <td>HSU</td>\n",
       "      <td>NaN</td>\n",
       "      <td>7510605</td>\n",
       "      <td>Logistics và Quản lý chuỗi cung ứng</td>\n",
       "      <td>A01</td>\n",
       "      <td>Tốt nghiệp THPT</td>\n",
       "      <td>16.0</td>\n",
       "      <td>DT</td>\n",
       "    </tr>\n",
       "    <tr>\n",
       "      <th>2</th>\n",
       "      <td>2021</td>\n",
       "      <td>HSU</td>\n",
       "      <td>NaN</td>\n",
       "      <td>7510605</td>\n",
       "      <td>Logistics và Quản lý chuỗi cung ứng</td>\n",
       "      <td>D01</td>\n",
       "      <td>Tốt nghiệp THPT</td>\n",
       "      <td>16.0</td>\n",
       "      <td>DT</td>\n",
       "    </tr>\n",
       "    <tr>\n",
       "      <th>3</th>\n",
       "      <td>2021</td>\n",
       "      <td>HSU</td>\n",
       "      <td>NaN</td>\n",
       "      <td>7510605</td>\n",
       "      <td>Logistics và Quản lý chuỗi cung ứng</td>\n",
       "      <td>D09</td>\n",
       "      <td>Tốt nghiệp THPT</td>\n",
       "      <td>16.0</td>\n",
       "      <td>DT</td>\n",
       "    </tr>\n",
       "    <tr>\n",
       "      <th>4</th>\n",
       "      <td>2021</td>\n",
       "      <td>HSU</td>\n",
       "      <td>NaN</td>\n",
       "      <td>7510605</td>\n",
       "      <td>Logistics và Quản lý chuỗi cung ứng</td>\n",
       "      <td>D03</td>\n",
       "      <td>Tốt nghiệp THPT</td>\n",
       "      <td>16.0</td>\n",
       "      <td>DT</td>\n",
       "    </tr>\n",
       "    <tr>\n",
       "      <th>...</th>\n",
       "      <td>...</td>\n",
       "      <td>...</td>\n",
       "      <td>...</td>\n",
       "      <td>...</td>\n",
       "      <td>...</td>\n",
       "      <td>...</td>\n",
       "      <td>...</td>\n",
       "      <td>...</td>\n",
       "      <td>...</td>\n",
       "    </tr>\n",
       "    <tr>\n",
       "      <th>20008</th>\n",
       "      <td>2023</td>\n",
       "      <td>UMT</td>\n",
       "      <td>NaN</td>\n",
       "      <td>7510605</td>\n",
       "      <td>Logistics và Quản lý chuỗi cung ứng</td>\n",
       "      <td>A00</td>\n",
       "      <td>Tốt nghiệp THPT</td>\n",
       "      <td>15.0</td>\n",
       "      <td>DT</td>\n",
       "    </tr>\n",
       "    <tr>\n",
       "      <th>20009</th>\n",
       "      <td>2023</td>\n",
       "      <td>UMT</td>\n",
       "      <td>NaN</td>\n",
       "      <td>7510605</td>\n",
       "      <td>Logistics và Quản lý chuỗi cung ứng</td>\n",
       "      <td>A01</td>\n",
       "      <td>Tốt nghiệp THPT</td>\n",
       "      <td>15.0</td>\n",
       "      <td>DT</td>\n",
       "    </tr>\n",
       "    <tr>\n",
       "      <th>20010</th>\n",
       "      <td>2023</td>\n",
       "      <td>UMT</td>\n",
       "      <td>NaN</td>\n",
       "      <td>7510605</td>\n",
       "      <td>Logistics và Quản lý chuỗi cung ứng</td>\n",
       "      <td>D01</td>\n",
       "      <td>Tốt nghiệp THPT</td>\n",
       "      <td>15.0</td>\n",
       "      <td>DT</td>\n",
       "    </tr>\n",
       "    <tr>\n",
       "      <th>20011</th>\n",
       "      <td>2023</td>\n",
       "      <td>UMT</td>\n",
       "      <td>NaN</td>\n",
       "      <td>7510605</td>\n",
       "      <td>Logistics và Quản lý chuỗi cung ứng</td>\n",
       "      <td>D07</td>\n",
       "      <td>Tốt nghiệp THPT</td>\n",
       "      <td>15.0</td>\n",
       "      <td>DT</td>\n",
       "    </tr>\n",
       "    <tr>\n",
       "      <th>20012</th>\n",
       "      <td>2023</td>\n",
       "      <td>UMT</td>\n",
       "      <td>NaN</td>\n",
       "      <td>7510605</td>\n",
       "      <td>Logistics và Quản lý chuỗi cung ứng</td>\n",
       "      <td>D03</td>\n",
       "      <td>Tốt nghiệp THPT</td>\n",
       "      <td>15.0</td>\n",
       "      <td>DT</td>\n",
       "    </tr>\n",
       "  </tbody>\n",
       "</table>\n",
       "<p>20013 rows × 9 columns</p>\n",
       "</div>"
      ],
      "text/plain": [
       "       year_ university_code specialized_major major_code  \\\n",
       "0       2021             HSU               NaN    7510605   \n",
       "1       2021             HSU               NaN    7510605   \n",
       "2       2021             HSU               NaN    7510605   \n",
       "3       2021             HSU               NaN    7510605   \n",
       "4       2021             HSU               NaN    7510605   \n",
       "...      ...             ...               ...        ...   \n",
       "20008   2023             UMT               NaN    7510605   \n",
       "20009   2023             UMT               NaN    7510605   \n",
       "20010   2023             UMT               NaN    7510605   \n",
       "20011   2023             UMT               NaN    7510605   \n",
       "20012   2023             UMT               NaN    7510605   \n",
       "\n",
       "                                major_name subject_group_code  \\\n",
       "0      Logistics và Quản lý chuỗi cung ứng                A00   \n",
       "1      Logistics và Quản lý chuỗi cung ứng                A01   \n",
       "2      Logistics và Quản lý chuỗi cung ứng                D01   \n",
       "3      Logistics và Quản lý chuỗi cung ứng                D09   \n",
       "4      Logistics và Quản lý chuỗi cung ứng                D03   \n",
       "...                                    ...                ...   \n",
       "20008  Logistics và Quản lý chuỗi cung ứng                A00   \n",
       "20009  Logistics và Quản lý chuỗi cung ứng                A01   \n",
       "20010  Logistics và Quản lý chuỗi cung ứng                D01   \n",
       "20011  Logistics và Quản lý chuỗi cung ứng                D07   \n",
       "20012  Logistics và Quản lý chuỗi cung ứng                D03   \n",
       "\n",
       "                  note  benchmark_score program_type  \n",
       "0      Tốt nghiệp THPT             16.0           DT  \n",
       "1      Tốt nghiệp THPT             16.0           DT  \n",
       "2      Tốt nghiệp THPT             16.0           DT  \n",
       "3      Tốt nghiệp THPT             16.0           DT  \n",
       "4      Tốt nghiệp THPT             16.0           DT  \n",
       "...                ...              ...          ...  \n",
       "20008  Tốt nghiệp THPT             15.0           DT  \n",
       "20009  Tốt nghiệp THPT             15.0           DT  \n",
       "20010  Tốt nghiệp THPT             15.0           DT  \n",
       "20011  Tốt nghiệp THPT             15.0           DT  \n",
       "20012  Tốt nghiệp THPT             15.0           DT  \n",
       "\n",
       "[20013 rows x 9 columns]"
      ]
     },
     "execution_count": 92,
     "metadata": {},
     "output_type": "execute_result"
    }
   ],
   "source": [
    "df"
   ]
  },
  {
   "cell_type": "code",
   "execution_count": 93,
   "id": "351b4341",
   "metadata": {},
   "outputs": [],
   "source": [
    "# chuyển thang điểm 30 về 1200\n",
    "df.loc[cond_4,'benchmark_score'] = df.loc[cond_4,'benchmark_score'] * 40.0\n",
    "\n",
    "# chuyển thang điểm 10 về thang điểm 30\n",
    "df.loc[cond_3, 'benchmark_score'] = df.loc[cond_3, 'benchmark_score'] * 3.0\n",
    "\n",
    "# Gán None cho các dữ liệu không đạt\n",
    "df.loc[~valid_cond,'benchmark_score'] = None"
   ]
  },
  {
   "cell_type": "code",
   "execution_count": 94,
   "id": "71c5b28f",
   "metadata": {},
   "outputs": [
    {
     "data": {
      "application/vnd.microsoft.datawrangler.viewer.v0+json": {
       "columns": [
        {
         "name": "index",
         "rawType": "int64",
         "type": "integer"
        },
        {
         "name": "year_",
         "rawType": "int64",
         "type": "integer"
        },
        {
         "name": "university_code",
         "rawType": "object",
         "type": "string"
        },
        {
         "name": "specialized_major",
         "rawType": "object",
         "type": "unknown"
        },
        {
         "name": "major_code",
         "rawType": "object",
         "type": "string"
        },
        {
         "name": "major_name",
         "rawType": "object",
         "type": "string"
        },
        {
         "name": "subject_group_code",
         "rawType": "object",
         "type": "unknown"
        },
        {
         "name": "note",
         "rawType": "object",
         "type": "unknown"
        },
        {
         "name": "benchmark_score",
         "rawType": "float64",
         "type": "float"
        },
        {
         "name": "program_type",
         "rawType": "object",
         "type": "string"
        }
       ],
       "conversionMethod": "pd.DataFrame",
       "ref": "97bda6de-0a7e-48db-9599-bd0c73c52100",
       "rows": [
        [
         "0",
         "2021",
         "HSU",
         null,
         "7510605",
         "Logistics và Quản lý chuỗi cung ứng",
         "A00",
         "Tốt nghiệp THPT",
         "16.0",
         "DT"
        ],
        [
         "1",
         "2021",
         "HSU",
         null,
         "7510605",
         "Logistics và Quản lý chuỗi cung ứng",
         "A01",
         "Tốt nghiệp THPT",
         "16.0",
         "DT"
        ],
        [
         "2",
         "2021",
         "HSU",
         null,
         "7510605",
         "Logistics và Quản lý chuỗi cung ứng",
         "D01",
         "Tốt nghiệp THPT",
         "16.0",
         "DT"
        ],
        [
         "3",
         "2021",
         "HSU",
         null,
         "7510605",
         "Logistics và Quản lý chuỗi cung ứng",
         "D09",
         "Tốt nghiệp THPT",
         "16.0",
         "DT"
        ],
        [
         "4",
         "2021",
         "HSU",
         null,
         "7510605",
         "Logistics và Quản lý chuỗi cung ứng",
         "D03",
         "Tốt nghiệp THPT",
         "16.0",
         "DT"
        ],
        [
         "5",
         "2021",
         "HSU",
         null,
         "7810202",
         "Quản trị nhà hàng và dịch vụ ăn uống",
         "A00",
         "Tốt nghiệp THPT",
         "16.0",
         "DT"
        ],
        [
         "6",
         "2021",
         "HSU",
         null,
         "7810202",
         "Quản trị nhà hàng và dịch vụ ăn uống",
         "A01",
         "Tốt nghiệp THPT",
         "16.0",
         "DT"
        ],
        [
         "7",
         "2021",
         "HSU",
         null,
         "7810202",
         "Quản trị nhà hàng và dịch vụ ăn uống",
         "D01",
         "Tốt nghiệp THPT",
         "16.0",
         "DT"
        ],
        [
         "8",
         "2021",
         "HSU",
         null,
         "7810202",
         "Quản trị nhà hàng và dịch vụ ăn uống",
         "D09",
         "Tốt nghiệp THPT",
         "16.0",
         "DT"
        ],
        [
         "9",
         "2021",
         "HSU",
         null,
         "7810202",
         "Quản trị nhà hàng và dịch vụ ăn uống",
         "D03",
         "Tốt nghiệp THPT",
         "16.0",
         "DT"
        ],
        [
         "10",
         "2021",
         "HSU",
         null,
         "7220201",
         "Ngôn ngữ Anh",
         "D01",
         "Tốt nghiệp THPT",
         "16.0",
         "DT"
        ],
        [
         "11",
         "2021",
         "HSU",
         null,
         "7220201",
         "Ngôn ngữ Anh",
         "D14",
         "Tốt nghiệp THPT",
         "16.0",
         "DT"
        ],
        [
         "12",
         "2021",
         "HSU",
         null,
         "7220201",
         "Ngôn ngữ Anh",
         "D15",
         "Tốt nghiệp THPT",
         "16.0",
         "DT"
        ],
        [
         "13",
         "2021",
         "HSU",
         null,
         "7220201",
         "Ngôn ngữ Anh",
         "D09",
         "Tốt nghiệp THPT",
         "16.0",
         "DT"
        ],
        [
         "14",
         "2021",
         "HSU",
         null,
         "7480102",
         "Mạng máy tính và Truyền thông dữ liệu",
         "A00",
         "Tốt nghiệp THPT",
         "16.0",
         "DT"
        ],
        [
         "15",
         "2021",
         "HSU",
         null,
         "7480102",
         "Mạng máy tính và Truyền thông dữ liệu",
         "A01",
         "Tốt nghiệp THPT",
         "16.0",
         "DT"
        ],
        [
         "16",
         "2021",
         "HSU",
         null,
         "7480102",
         "Mạng máy tính và Truyền thông dữ liệu",
         "D01",
         "Tốt nghiệp THPT",
         "16.0",
         "DT"
        ],
        [
         "17",
         "2021",
         "HSU",
         null,
         "7480102",
         "Mạng máy tính và Truyền thông dữ liệu",
         "D07",
         "Tốt nghiệp THPT",
         "16.0",
         "DT"
        ],
        [
         "18",
         "2021",
         "HSU",
         null,
         "7480102",
         "Mạng máy tính và Truyền thông dữ liệu",
         "D03",
         "Tốt nghiệp THPT",
         "16.0",
         "DT"
        ],
        [
         "19",
         "2021",
         "HSU",
         null,
         "7810103",
         "Quản trị dịch vụ du lịch và lữ hành",
         "A00",
         "Tốt nghiệp THPT",
         "16.0",
         "DT"
        ],
        [
         "20",
         "2021",
         "HSU",
         null,
         "7810103",
         "Quản trị dịch vụ du lịch và lữ hành",
         "A01",
         "Tốt nghiệp THPT",
         "16.0",
         "DT"
        ],
        [
         "21",
         "2021",
         "HSU",
         null,
         "7810103",
         "Quản trị dịch vụ du lịch và lữ hành",
         "D01",
         "Tốt nghiệp THPT",
         "16.0",
         "DT"
        ],
        [
         "22",
         "2021",
         "HSU",
         null,
         "7810103",
         "Quản trị dịch vụ du lịch và lữ hành",
         "D09",
         "Tốt nghiệp THPT",
         "16.0",
         "DT"
        ],
        [
         "23",
         "2021",
         "HSU",
         null,
         "7810103",
         "Quản trị dịch vụ du lịch và lữ hành",
         "D03",
         "Tốt nghiệp THPT",
         "16.0",
         "DT"
        ],
        [
         "24",
         "2021",
         "HSU",
         null,
         "7850101",
         "Quản lý tài nguyên và môi trường",
         "A00",
         "Tốt nghiệp THPT",
         "16.0",
         "DT"
        ],
        [
         "25",
         "2021",
         "HSU",
         null,
         "7850101",
         "Quản lý tài nguyên và môi trường",
         "B00",
         "Tốt nghiệp THPT",
         "16.0",
         "DT"
        ],
        [
         "26",
         "2021",
         "HSU",
         null,
         "7850101",
         "Quản lý tài nguyên và môi trường",
         "D07",
         "Tốt nghiệp THPT",
         "16.0",
         "DT"
        ],
        [
         "27",
         "2021",
         "HSU",
         null,
         "7850101",
         "Quản lý tài nguyên và môi trường",
         "D08",
         "Tốt nghiệp THPT",
         "16.0",
         "DT"
        ],
        [
         "28",
         "2021",
         "HSU",
         null,
         "7340410",
         "Quản trị công nghệ truyền thông",
         "A00",
         "Tốt nghiệp THPT",
         "16.0",
         "DT"
        ],
        [
         "29",
         "2021",
         "HSU",
         null,
         "7340410",
         "Quản trị công nghệ truyền thông",
         "A01",
         "Tốt nghiệp THPT",
         "16.0",
         "DT"
        ],
        [
         "30",
         "2021",
         "HSU",
         null,
         "7340410",
         "Quản trị công nghệ truyền thông",
         "D01",
         "Tốt nghiệp THPT",
         "16.0",
         "DT"
        ],
        [
         "31",
         "2021",
         "HSU",
         null,
         "7340410",
         "Quản trị công nghệ truyền thông",
         "D09",
         "Tốt nghiệp THPT",
         "16.0",
         "DT"
        ],
        [
         "32",
         "2021",
         "HSU",
         null,
         "7340410",
         "Quản trị công nghệ truyền thông",
         "D03",
         "Tốt nghiệp THPT",
         "16.0",
         "DT"
        ],
        [
         "33",
         "2021",
         "HSU",
         null,
         "7340405",
         "Hệ thống thông tin quản lý",
         "A00",
         "Tốt nghiệp THPT",
         "16.0",
         "DT"
        ],
        [
         "34",
         "2021",
         "HSU",
         null,
         "7340405",
         "Hệ thống thông tin quản lý",
         "A01",
         "Tốt nghiệp THPT",
         "16.0",
         "DT"
        ],
        [
         "35",
         "2021",
         "HSU",
         null,
         "7340405",
         "Hệ thống thông tin quản lý",
         "D01",
         "Tốt nghiệp THPT",
         "16.0",
         "DT"
        ],
        [
         "36",
         "2021",
         "HSU",
         null,
         "7340405",
         "Hệ thống thông tin quản lý",
         "D09",
         "Tốt nghiệp THPT",
         "16.0",
         "DT"
        ],
        [
         "37",
         "2021",
         "HSU",
         null,
         "7340405",
         "Hệ thống thông tin quản lý",
         "D03",
         "Tốt nghiệp THPT",
         "16.0",
         "DT"
        ],
        [
         "38",
         "2021",
         "HSU",
         null,
         "7340201",
         "Tài chính - Ngân hàng",
         "A00",
         "Tốt nghiệp THPT",
         "16.0",
         "DT"
        ],
        [
         "39",
         "2021",
         "HSU",
         null,
         "7340201",
         "Tài chính - Ngân hàng",
         "A01",
         "Tốt nghiệp THPT",
         "16.0",
         "DT"
        ],
        [
         "40",
         "2021",
         "HSU",
         null,
         "7340201",
         "Tài chính - Ngân hàng",
         "D01",
         "Tốt nghiệp THPT",
         "16.0",
         "DT"
        ],
        [
         "41",
         "2021",
         "HSU",
         null,
         "7340201",
         "Tài chính - Ngân hàng",
         "D09",
         "Tốt nghiệp THPT",
         "16.0",
         "DT"
        ],
        [
         "42",
         "2021",
         "HSU",
         null,
         "7340201",
         "Tài chính - Ngân hàng",
         "D03",
         "Tốt nghiệp THPT",
         "16.0",
         "DT"
        ],
        [
         "43",
         "2021",
         "HSU",
         null,
         "7580108",
         "Thiết kế nội thất",
         "A01",
         "Tốt nghiệp THPT",
         "16.0",
         "DT"
        ],
        [
         "44",
         "2021",
         "HSU",
         null,
         "7580108",
         "Thiết kế nội thất",
         "D01",
         "Tốt nghiệp THPT",
         "16.0",
         "DT"
        ],
        [
         "45",
         "2021",
         "HSU",
         null,
         "7580108",
         "Thiết kế nội thất",
         "D14",
         "Tốt nghiệp THPT",
         "16.0",
         "DT"
        ],
        [
         "46",
         "2021",
         "HSU",
         null,
         "7580108",
         "Thiết kế nội thất",
         "D09",
         "Tốt nghiệp THPT",
         "16.0",
         "DT"
        ],
        [
         "47",
         "2021",
         "HSU",
         null,
         "7210404",
         "Thiết kế thời trang",
         "A01",
         "Tốt nghiệp THPT",
         "16.0",
         "DT"
        ],
        [
         "48",
         "2021",
         "HSU",
         null,
         "7210404",
         "Thiết kế thời trang",
         "D01",
         "Tốt nghiệp THPT",
         "16.0",
         "DT"
        ],
        [
         "49",
         "2021",
         "HSU",
         null,
         "7210404",
         "Thiết kế thời trang",
         "D14",
         "Tốt nghiệp THPT",
         "16.0",
         "DT"
        ]
       ],
       "shape": {
        "columns": 9,
        "rows": 20013
       }
      },
      "text/html": [
       "<div>\n",
       "<style scoped>\n",
       "    .dataframe tbody tr th:only-of-type {\n",
       "        vertical-align: middle;\n",
       "    }\n",
       "\n",
       "    .dataframe tbody tr th {\n",
       "        vertical-align: top;\n",
       "    }\n",
       "\n",
       "    .dataframe thead th {\n",
       "        text-align: right;\n",
       "    }\n",
       "</style>\n",
       "<table border=\"1\" class=\"dataframe\">\n",
       "  <thead>\n",
       "    <tr style=\"text-align: right;\">\n",
       "      <th></th>\n",
       "      <th>year_</th>\n",
       "      <th>university_code</th>\n",
       "      <th>specialized_major</th>\n",
       "      <th>major_code</th>\n",
       "      <th>major_name</th>\n",
       "      <th>subject_group_code</th>\n",
       "      <th>note</th>\n",
       "      <th>benchmark_score</th>\n",
       "      <th>program_type</th>\n",
       "    </tr>\n",
       "  </thead>\n",
       "  <tbody>\n",
       "    <tr>\n",
       "      <th>0</th>\n",
       "      <td>2021</td>\n",
       "      <td>HSU</td>\n",
       "      <td>NaN</td>\n",
       "      <td>7510605</td>\n",
       "      <td>Logistics và Quản lý chuỗi cung ứng</td>\n",
       "      <td>A00</td>\n",
       "      <td>Tốt nghiệp THPT</td>\n",
       "      <td>16.0</td>\n",
       "      <td>DT</td>\n",
       "    </tr>\n",
       "    <tr>\n",
       "      <th>1</th>\n",
       "      <td>2021</td>\n",
       "      <td>HSU</td>\n",
       "      <td>NaN</td>\n",
       "      <td>7510605</td>\n",
       "      <td>Logistics và Quản lý chuỗi cung ứng</td>\n",
       "      <td>A01</td>\n",
       "      <td>Tốt nghiệp THPT</td>\n",
       "      <td>16.0</td>\n",
       "      <td>DT</td>\n",
       "    </tr>\n",
       "    <tr>\n",
       "      <th>2</th>\n",
       "      <td>2021</td>\n",
       "      <td>HSU</td>\n",
       "      <td>NaN</td>\n",
       "      <td>7510605</td>\n",
       "      <td>Logistics và Quản lý chuỗi cung ứng</td>\n",
       "      <td>D01</td>\n",
       "      <td>Tốt nghiệp THPT</td>\n",
       "      <td>16.0</td>\n",
       "      <td>DT</td>\n",
       "    </tr>\n",
       "    <tr>\n",
       "      <th>3</th>\n",
       "      <td>2021</td>\n",
       "      <td>HSU</td>\n",
       "      <td>NaN</td>\n",
       "      <td>7510605</td>\n",
       "      <td>Logistics và Quản lý chuỗi cung ứng</td>\n",
       "      <td>D09</td>\n",
       "      <td>Tốt nghiệp THPT</td>\n",
       "      <td>16.0</td>\n",
       "      <td>DT</td>\n",
       "    </tr>\n",
       "    <tr>\n",
       "      <th>4</th>\n",
       "      <td>2021</td>\n",
       "      <td>HSU</td>\n",
       "      <td>NaN</td>\n",
       "      <td>7510605</td>\n",
       "      <td>Logistics và Quản lý chuỗi cung ứng</td>\n",
       "      <td>D03</td>\n",
       "      <td>Tốt nghiệp THPT</td>\n",
       "      <td>16.0</td>\n",
       "      <td>DT</td>\n",
       "    </tr>\n",
       "    <tr>\n",
       "      <th>...</th>\n",
       "      <td>...</td>\n",
       "      <td>...</td>\n",
       "      <td>...</td>\n",
       "      <td>...</td>\n",
       "      <td>...</td>\n",
       "      <td>...</td>\n",
       "      <td>...</td>\n",
       "      <td>...</td>\n",
       "      <td>...</td>\n",
       "    </tr>\n",
       "    <tr>\n",
       "      <th>20008</th>\n",
       "      <td>2023</td>\n",
       "      <td>UMT</td>\n",
       "      <td>NaN</td>\n",
       "      <td>7510605</td>\n",
       "      <td>Logistics và Quản lý chuỗi cung ứng</td>\n",
       "      <td>A00</td>\n",
       "      <td>Tốt nghiệp THPT</td>\n",
       "      <td>15.0</td>\n",
       "      <td>DT</td>\n",
       "    </tr>\n",
       "    <tr>\n",
       "      <th>20009</th>\n",
       "      <td>2023</td>\n",
       "      <td>UMT</td>\n",
       "      <td>NaN</td>\n",
       "      <td>7510605</td>\n",
       "      <td>Logistics và Quản lý chuỗi cung ứng</td>\n",
       "      <td>A01</td>\n",
       "      <td>Tốt nghiệp THPT</td>\n",
       "      <td>15.0</td>\n",
       "      <td>DT</td>\n",
       "    </tr>\n",
       "    <tr>\n",
       "      <th>20010</th>\n",
       "      <td>2023</td>\n",
       "      <td>UMT</td>\n",
       "      <td>NaN</td>\n",
       "      <td>7510605</td>\n",
       "      <td>Logistics và Quản lý chuỗi cung ứng</td>\n",
       "      <td>D01</td>\n",
       "      <td>Tốt nghiệp THPT</td>\n",
       "      <td>15.0</td>\n",
       "      <td>DT</td>\n",
       "    </tr>\n",
       "    <tr>\n",
       "      <th>20011</th>\n",
       "      <td>2023</td>\n",
       "      <td>UMT</td>\n",
       "      <td>NaN</td>\n",
       "      <td>7510605</td>\n",
       "      <td>Logistics và Quản lý chuỗi cung ứng</td>\n",
       "      <td>D07</td>\n",
       "      <td>Tốt nghiệp THPT</td>\n",
       "      <td>15.0</td>\n",
       "      <td>DT</td>\n",
       "    </tr>\n",
       "    <tr>\n",
       "      <th>20012</th>\n",
       "      <td>2023</td>\n",
       "      <td>UMT</td>\n",
       "      <td>NaN</td>\n",
       "      <td>7510605</td>\n",
       "      <td>Logistics và Quản lý chuỗi cung ứng</td>\n",
       "      <td>D03</td>\n",
       "      <td>Tốt nghiệp THPT</td>\n",
       "      <td>15.0</td>\n",
       "      <td>DT</td>\n",
       "    </tr>\n",
       "  </tbody>\n",
       "</table>\n",
       "<p>20013 rows × 9 columns</p>\n",
       "</div>"
      ],
      "text/plain": [
       "       year_ university_code specialized_major major_code  \\\n",
       "0       2021             HSU               NaN    7510605   \n",
       "1       2021             HSU               NaN    7510605   \n",
       "2       2021             HSU               NaN    7510605   \n",
       "3       2021             HSU               NaN    7510605   \n",
       "4       2021             HSU               NaN    7510605   \n",
       "...      ...             ...               ...        ...   \n",
       "20008   2023             UMT               NaN    7510605   \n",
       "20009   2023             UMT               NaN    7510605   \n",
       "20010   2023             UMT               NaN    7510605   \n",
       "20011   2023             UMT               NaN    7510605   \n",
       "20012   2023             UMT               NaN    7510605   \n",
       "\n",
       "                                major_name subject_group_code  \\\n",
       "0      Logistics và Quản lý chuỗi cung ứng                A00   \n",
       "1      Logistics và Quản lý chuỗi cung ứng                A01   \n",
       "2      Logistics và Quản lý chuỗi cung ứng                D01   \n",
       "3      Logistics và Quản lý chuỗi cung ứng                D09   \n",
       "4      Logistics và Quản lý chuỗi cung ứng                D03   \n",
       "...                                    ...                ...   \n",
       "20008  Logistics và Quản lý chuỗi cung ứng                A00   \n",
       "20009  Logistics và Quản lý chuỗi cung ứng                A01   \n",
       "20010  Logistics và Quản lý chuỗi cung ứng                D01   \n",
       "20011  Logistics và Quản lý chuỗi cung ứng                D07   \n",
       "20012  Logistics và Quản lý chuỗi cung ứng                D03   \n",
       "\n",
       "                  note  benchmark_score program_type  \n",
       "0      Tốt nghiệp THPT             16.0           DT  \n",
       "1      Tốt nghiệp THPT             16.0           DT  \n",
       "2      Tốt nghiệp THPT             16.0           DT  \n",
       "3      Tốt nghiệp THPT             16.0           DT  \n",
       "4      Tốt nghiệp THPT             16.0           DT  \n",
       "...                ...              ...          ...  \n",
       "20008  Tốt nghiệp THPT             15.0           DT  \n",
       "20009  Tốt nghiệp THPT             15.0           DT  \n",
       "20010  Tốt nghiệp THPT             15.0           DT  \n",
       "20011  Tốt nghiệp THPT             15.0           DT  \n",
       "20012  Tốt nghiệp THPT             15.0           DT  \n",
       "\n",
       "[20013 rows x 9 columns]"
      ]
     },
     "execution_count": 94,
     "metadata": {},
     "output_type": "execute_result"
    }
   ],
   "source": [
    "df"
   ]
  },
  {
   "cell_type": "markdown",
   "id": "7f3a2029",
   "metadata": {},
   "source": [
    "---"
   ]
  },
  {
   "cell_type": "markdown",
   "id": "e94fecb6",
   "metadata": {},
   "source": [
    "### Bước 5: Các bước làm sạch dữ liệu khác"
   ]
  },
  {
   "cell_type": "markdown",
   "id": "36534a92",
   "metadata": {},
   "source": [
    "- dropna, fillna  \n",
    "- drop_duplicated\n",
    "- rename_columns"
   ]
  },
  {
   "cell_type": "code",
   "execution_count": 95,
   "id": "9387483d",
   "metadata": {},
   "outputs": [
    {
     "data": {
      "text/plain": [
       "<Axes: >"
      ]
     },
     "execution_count": 95,
     "metadata": {},
     "output_type": "execute_result"
    },
    {
     "data": {
      "image/png": "[encoded data removed]",
      "text/plain": [
       "<Figure size 600x800 with 1 Axes>"
      ]
     },
     "metadata": {},
     "output_type": "display_data"
    }
   ],
   "source": [
    "import seaborn as sns\n",
    "fig, ax = plt.subplots(figsize=(6, 8))\n",
    "sns.heatmap(df.isna(),\n",
    "            cbar=False,\n",
    "            yticklabels=False, \n",
    "            cmap='Blues')"
   ]
  },
  {
   "cell_type": "code",
   "execution_count": 96,
   "id": "8f43d8c9",
   "metadata": {},
   "outputs": [
    {
     "name": "stdout",
     "output_type": "stream",
     "text": [
      "Số dòng có tổ hợp môn thi là None: 28 dòng\n"
     ]
    }
   ],
   "source": [
    "print(f\"Số dòng có tổ hợp môn thi là None: {len(df[df['note'].isna()])} dòng\")"
   ]
  },
  {
   "cell_type": "markdown",
   "id": "85e476ba",
   "metadata": {},
   "source": [
    "Xoá duplicated và missing data"
   ]
  },
  {
   "cell_type": "code",
   "execution_count": 97,
   "id": "853d6385",
   "metadata": {},
   "outputs": [
    {
     "name": "stdout",
     "output_type": "stream",
     "text": [
      "Phần trăm dữ liệu bị thiếu của cột `specialized_major`: 68.031% \n",
      "Đã xóa các dòng trùng lập\n",
      "Đã xóa dữ liệu None\n"
     ]
    },
    {
     "name": "stderr",
     "output_type": "stream",
     "text": [
      "C:\\Users\\WELCOM AN\\AppData\\Local\\Temp\\ipykernel_6896\\341179522.py:8: DeprecationWarning: DataFrameGroupBy.apply operated on the grouping columns. This behavior is deprecated, and in a future version of pandas the grouping columns will be excluded from the operation. Either pass `include_groups=False` to exclude the groupings or explicitly select the grouping columns after groupby to silence this warning.\n",
      "  .apply(lambda x: x.sample(1, random_state=42))\n"
     ]
    }
   ],
   "source": [
    "# Chuyên ngành thiếu quá nhiều dữ liệu\n",
    "print(f\"Phần trăm dữ liệu bị thiếu của cột `specialized_major`: {round(df['specialized_major'].isnull().sum() / df.shape[0] * 100,3)}% \")\n",
    "df.drop(columns=['specialized_major'], inplace=True)\n",
    "\n",
    "# Xoá các dòng trùng lập với key là các thuộc tính khác 'subject_group_code'\n",
    "df = (\n",
    "    df.groupby(['year_', 'university_code', 'major_code', 'major_name', 'note', 'benchmark_score', 'program_type'])\n",
    "      .apply(lambda x: x.sample(1, random_state=42))\n",
    "      .reset_index(drop=True)\n",
    ")\n",
    "\n",
    "print(\"Đã xóa các dòng trùng lập\")\n",
    "\n",
    "# Xoá dữ liệu None\n",
    "df.dropna(inplace=True)\n",
    "print(\"Đã xóa dữ liệu None\")\n",
    "\n",
    "# reset lại index\n",
    "df.reset_index(drop=True, inplace=True) "
   ]
  },
  {
   "cell_type": "code",
   "execution_count": 98,
   "id": "2af25e45",
   "metadata": {},
   "outputs": [
    {
     "data": {
      "application/vnd.microsoft.datawrangler.viewer.v0+json": {
       "columns": [
        {
         "name": "index",
         "rawType": "int64",
         "type": "integer"
        },
        {
         "name": "year_",
         "rawType": "int64",
         "type": "integer"
        },
        {
         "name": "university_code",
         "rawType": "object",
         "type": "string"
        },
        {
         "name": "major_code",
         "rawType": "object",
         "type": "string"
        },
        {
         "name": "major_name",
         "rawType": "object",
         "type": "string"
        },
        {
         "name": "subject_group_code",
         "rawType": "object",
         "type": "string"
        },
        {
         "name": "note",
         "rawType": "object",
         "type": "string"
        },
        {
         "name": "benchmark_score",
         "rawType": "float64",
         "type": "float"
        },
        {
         "name": "program_type",
         "rawType": "object",
         "type": "string"
        }
       ],
       "conversionMethod": "pd.DataFrame",
       "ref": "8cd7c5f7-783f-47e9-a309-f4de03dbf6b1",
       "rows": [
        [
         "0",
         "2021",
         "FTU2",
         "NTS01",
         "Kinh tế",
         "D01",
         "Tốt nghiệp THPT",
         "28.55",
         "DT"
        ],
        [
         "1",
         "2021",
         "FTU2",
         "NTS02",
         "Kế toán , Tài chính - Ngân hàng",
         "D01",
         "Tốt nghiệp THPT",
         "28.4",
         "DT"
        ],
        [
         "2",
         "2021",
         "GDU",
         "7220201",
         "Ngôn ngữ Anh",
         "A01",
         "Tốt nghiệp THPT",
         "15.5",
         "DT"
        ],
        [
         "3",
         "2021",
         "GDU",
         "7220201",
         "Ngôn ngữ Anh",
         "D96",
         "Tốt nghiệp THPT",
         "16.5",
         "DT"
        ],
        [
         "4",
         "2021",
         "GDU",
         "7220201",
         "Ngôn ngữ Anh",
         "XDHB",
         "Xét học bạ",
         "16.5",
         "DT"
        ],
        [
         "5",
         "2021",
         "GDU",
         "7310608",
         "Đông phương học",
         "A01",
         "Tốt nghiệp THPT",
         "15.5",
         "DT"
        ],
        [
         "6",
         "2021",
         "GDU",
         "7310608",
         "Đông phương học",
         "D01",
         "Tốt nghiệp THPT",
         "16.5",
         "DT"
        ],
        [
         "7",
         "2021",
         "GDU",
         "7310608",
         "Đông phương học",
         "XDHB",
         "Xét học bạ",
         "16.5",
         "DT"
        ],
        [
         "8",
         "2021",
         "GDU",
         "7320104",
         "Truyền thông đa phương tiện",
         "A01",
         "Tốt nghiệp THPT",
         "15.0",
         "DT"
        ],
        [
         "9",
         "2021",
         "GDU",
         "7320104",
         "Truyền thông đa phương tiện",
         "XDHB",
         "Xét học bạ",
         "16.5",
         "DT"
        ],
        [
         "10",
         "2021",
         "GDU",
         "7340101",
         "Quản trị kinh doanh",
         "A01",
         "Tốt nghiệp THPT",
         "16.5",
         "DT"
        ],
        [
         "11",
         "2021",
         "GDU",
         "7340101",
         "Quản trị kinh doanh",
         "XDHB",
         "Xét học bạ",
         "16.5",
         "DT"
        ],
        [
         "12",
         "2021",
         "GDU",
         "7340115",
         "Marketing",
         "A01",
         "Tốt nghiệp THPT",
         "16.0",
         "DT"
        ],
        [
         "13",
         "2021",
         "GDU",
         "7340115",
         "Marketing",
         "XDHB",
         "Xét học bạ",
         "16.5",
         "DT"
        ],
        [
         "14",
         "2021",
         "GDU",
         "7340120",
         "Kinh doanh quốc tế",
         "A01",
         "Tốt nghiệp THPT",
         "15.0",
         "DT"
        ],
        [
         "15",
         "2021",
         "GDU",
         "7340120",
         "Kinh doanh quốc tế",
         "XDHB",
         "Xét học bạ",
         "16.5",
         "DT"
        ],
        [
         "16",
         "2021",
         "GDU",
         "7340201",
         "Tài chính - Ngân hàng",
         "A01",
         "Tốt nghiệp THPT",
         "15.0",
         "DT"
        ],
        [
         "17",
         "2021",
         "GDU",
         "7340201",
         "Tài chính - Ngân hàng",
         "D01",
         "Tốt nghiệp THPT",
         "16.5",
         "DT"
        ],
        [
         "18",
         "2021",
         "GDU",
         "7340301",
         "Kế toán",
         "A01",
         "Tốt nghiệp THPT",
         "15.0",
         "DT"
        ],
        [
         "19",
         "2021",
         "GDU",
         "7340301",
         "Kế toán",
         "D01",
         "Tốt nghiệp THPT",
         "16.5",
         "DT"
        ],
        [
         "20",
         "2021",
         "GDU",
         "7340301",
         "Kế toán",
         "XDHB",
         "Xét học bạ",
         "16.5",
         "DT"
        ],
        [
         "21",
         "2021",
         "GDU",
         "734115",
         "Quản trị khách sạn",
         "A01",
         "Tốt nghiệp THPT",
         "16.5",
         "DT"
        ],
        [
         "22",
         "2021",
         "GDU",
         "734115",
         "Quản trị khách sạn",
         "XDHB",
         "Xét học bạ",
         "16.5",
         "DT"
        ],
        [
         "23",
         "2021",
         "GDU",
         "7380101",
         "Luật",
         "A01",
         "Tốt nghiệp THPT",
         "15.0",
         "DT"
        ],
        [
         "24",
         "2021",
         "GDU",
         "7380101",
         "Luật",
         "XDHB",
         "Xét học bạ",
         "16.5",
         "DT"
        ],
        [
         "25",
         "2021",
         "GDU",
         "7480102",
         "Mạng máy tính và Truyền thông dữ liệu",
         "A01",
         "Tốt nghiệp THPT",
         "15.0",
         "DT"
        ],
        [
         "26",
         "2021",
         "GDU",
         "7480102",
         "Mạng máy tính và Truyền thông dữ liệu",
         "A01",
         "Tốt nghiệp THPT",
         "16.5",
         "DT"
        ],
        [
         "27",
         "2021",
         "GDU",
         "7480102",
         "Mạng máy tính và Truyền thông dữ liệu",
         "XDHB",
         "Xét học bạ",
         "16.5",
         "DT"
        ],
        [
         "28",
         "2021",
         "GDU",
         "7480103",
         "Kỹ thuật phần mềm",
         "A01",
         "Tốt nghiệp THPT",
         "15.0",
         "DT"
        ],
        [
         "29",
         "2021",
         "GDU",
         "7480103",
         "Kỹ thuật phần mềm",
         "A01",
         "Tốt nghiệp THPT",
         "16.5",
         "DT"
        ],
        [
         "30",
         "2021",
         "GDU",
         "7480103",
         "Kỹ thuật phần mềm",
         "XDHB",
         "Xét học bạ",
         "16.5",
         "DT"
        ],
        [
         "31",
         "2021",
         "GDU",
         "7480201",
         "Công nghệ thông tin",
         "A01",
         "Tốt nghiệp THPT",
         "16.0",
         "DT"
        ],
        [
         "32",
         "2021",
         "GDU",
         "7480201",
         "Công nghệ thông tin",
         "A01",
         "Tốt nghiệp THPT",
         "16.5",
         "DT"
        ],
        [
         "33",
         "2021",
         "GDU",
         "7480201",
         "Công nghệ thông tin",
         "XDHB",
         "Xét học bạ",
         "16.5",
         "DT"
        ],
        [
         "34",
         "2021",
         "GDU",
         "7510605",
         "Logistics và Quản lý chuỗi cung ứng",
         "A01",
         "Tốt nghiệp THPT",
         "15.0",
         "DT"
        ],
        [
         "35",
         "2021",
         "GDU",
         "7510605",
         "Logistics và Quản lý chuỗi cung ứng",
         "XDHB",
         "Xét học bạ",
         "16.5",
         "DT"
        ],
        [
         "36",
         "2021",
         "GDU",
         "7810201",
         "Quản trị khách sạn",
         "A01",
         "Tốt nghiệp THPT",
         "15.0",
         "DT"
        ],
        [
         "37",
         "2021",
         "HCA",
         "7310201",
         "Chính trị học",
         "C04",
         "Tốt nghiệp THPT",
         "24.5",
         "DT"
        ],
        [
         "38",
         "2021",
         "HCA",
         "7310201",
         "Chính trị học",
         "XDHB",
         "Xét học bạ",
         "24.5",
         "DT"
        ],
        [
         "39",
         "2021",
         "HCA",
         "7310202",
         "Xây dựng Đảng và chính quyền nhà nước",
         "C04",
         "Tốt nghiệp THPT",
         "25.0",
         "DT"
        ],
        [
         "40",
         "2021",
         "HCA",
         "7310202",
         "Xây dựng Đảng và chính quyền nhà nước",
         "XDHB",
         "Xét học bạ",
         "25.0",
         "DT"
        ],
        [
         "41",
         "2021",
         "HCA",
         "7310205",
         "Quản lý nhà nước",
         "A01",
         "Tốt nghiệp THPT",
         "26.25",
         "DT"
        ],
        [
         "42",
         "2021",
         "HCA",
         "7310205",
         "Quản lý nhà nước",
         "XDHB",
         "Xét học bạ",
         "26.25",
         "DT"
        ],
        [
         "43",
         "2021",
         "HCA",
         "7380101",
         "Luật",
         "A01",
         "Tốt nghiệp THPT",
         "26.35",
         "DT"
        ],
        [
         "44",
         "2021",
         "HCA",
         "7380101",
         "Luật",
         "XDHB",
         "Xét học bạ",
         "26.35",
         "DT"
        ],
        [
         "45",
         "2021",
         "HCA",
         "7760101",
         "Công tác xã hội",
         "C00",
         "Tốt nghiệp THPT",
         "23.65",
         "DT"
        ],
        [
         "46",
         "2021",
         "HCA",
         "7760101",
         "Công tác xã hội",
         "XDHB",
         "Xét học bạ",
         "23.65",
         "DT"
        ],
        [
         "47",
         "2021",
         "HCMIU",
         "7220201",
         "Ngôn ngữ Anh",
         "D01",
         "Tốt nghiệp THPT",
         "27.0",
         "DT"
        ],
        [
         "48",
         "2021",
         "HCMIU",
         "7220201",
         "Ngôn ngữ Anh",
         "XDHB",
         "Xét học bạ",
         "27.0",
         "DT"
        ],
        [
         "49",
         "2021",
         "HCMIU",
         "7340201",
         "Tài chính - Ngân hàng",
         "A00",
         "Tốt nghiệp THPT",
         "25.0",
         "DT"
        ]
       ],
       "shape": {
        "columns": 8,
        "rows": 7447
       }
      },
      "text/html": [
       "<div>\n",
       "<style scoped>\n",
       "    .dataframe tbody tr th:only-of-type {\n",
       "        vertical-align: middle;\n",
       "    }\n",
       "\n",
       "    .dataframe tbody tr th {\n",
       "        vertical-align: top;\n",
       "    }\n",
       "\n",
       "    .dataframe thead th {\n",
       "        text-align: right;\n",
       "    }\n",
       "</style>\n",
       "<table border=\"1\" class=\"dataframe\">\n",
       "  <thead>\n",
       "    <tr style=\"text-align: right;\">\n",
       "      <th></th>\n",
       "      <th>year_</th>\n",
       "      <th>university_code</th>\n",
       "      <th>major_code</th>\n",
       "      <th>major_name</th>\n",
       "      <th>subject_group_code</th>\n",
       "      <th>note</th>\n",
       "      <th>benchmark_score</th>\n",
       "      <th>program_type</th>\n",
       "    </tr>\n",
       "  </thead>\n",
       "  <tbody>\n",
       "    <tr>\n",
       "      <th>0</th>\n",
       "      <td>2021</td>\n",
       "      <td>FTU2</td>\n",
       "      <td>NTS01</td>\n",
       "      <td>Kinh tế</td>\n",
       "      <td>D01</td>\n",
       "      <td>Tốt nghiệp THPT</td>\n",
       "      <td>28.55</td>\n",
       "      <td>DT</td>\n",
       "    </tr>\n",
       "    <tr>\n",
       "      <th>1</th>\n",
       "      <td>2021</td>\n",
       "      <td>FTU2</td>\n",
       "      <td>NTS02</td>\n",
       "      <td>Kế toán , Tài chính - Ngân hàng</td>\n",
       "      <td>D01</td>\n",
       "      <td>Tốt nghiệp THPT</td>\n",
       "      <td>28.40</td>\n",
       "      <td>DT</td>\n",
       "    </tr>\n",
       "    <tr>\n",
       "      <th>2</th>\n",
       "      <td>2021</td>\n",
       "      <td>GDU</td>\n",
       "      <td>7220201</td>\n",
       "      <td>Ngôn ngữ Anh</td>\n",
       "      <td>A01</td>\n",
       "      <td>Tốt nghiệp THPT</td>\n",
       "      <td>15.50</td>\n",
       "      <td>DT</td>\n",
       "    </tr>\n",
       "    <tr>\n",
       "      <th>3</th>\n",
       "      <td>2021</td>\n",
       "      <td>GDU</td>\n",
       "      <td>7220201</td>\n",
       "      <td>Ngôn ngữ Anh</td>\n",
       "      <td>D96</td>\n",
       "      <td>Tốt nghiệp THPT</td>\n",
       "      <td>16.50</td>\n",
       "      <td>DT</td>\n",
       "    </tr>\n",
       "    <tr>\n",
       "      <th>4</th>\n",
       "      <td>2021</td>\n",
       "      <td>GDU</td>\n",
       "      <td>7220201</td>\n",
       "      <td>Ngôn ngữ Anh</td>\n",
       "      <td>XDHB</td>\n",
       "      <td>Xét học bạ</td>\n",
       "      <td>16.50</td>\n",
       "      <td>DT</td>\n",
       "    </tr>\n",
       "    <tr>\n",
       "      <th>...</th>\n",
       "      <td>...</td>\n",
       "      <td>...</td>\n",
       "      <td>...</td>\n",
       "      <td>...</td>\n",
       "      <td>...</td>\n",
       "      <td>...</td>\n",
       "      <td>...</td>\n",
       "      <td>...</td>\n",
       "    </tr>\n",
       "    <tr>\n",
       "      <th>7442</th>\n",
       "      <td>2023</td>\n",
       "      <td>VNUHCM-USSH</td>\n",
       "      <td>7810103</td>\n",
       "      <td>Quản trị dịch vụ du lịch và lữ hành</td>\n",
       "      <td>C00</td>\n",
       "      <td>Tốt nghiệp THPT</td>\n",
       "      <td>27.40</td>\n",
       "      <td>DT</td>\n",
       "    </tr>\n",
       "    <tr>\n",
       "      <th>7443</th>\n",
       "      <td>2023</td>\n",
       "      <td>VNUHCM-USSH</td>\n",
       "      <td>7810103</td>\n",
       "      <td>Quản trị dịch vụ du lịch và lữ hành</td>\n",
       "      <td>DGNL</td>\n",
       "      <td>Đánh giá năng lực ĐHQG-HCM</td>\n",
       "      <td>790.00</td>\n",
       "      <td>DT</td>\n",
       "    </tr>\n",
       "    <tr>\n",
       "      <th>7444</th>\n",
       "      <td>2023</td>\n",
       "      <td>VNUHCM-USSH</td>\n",
       "      <td>7810103_CLC</td>\n",
       "      <td>Quản trị dịch vụ du lịch và lữ hành</td>\n",
       "      <td>D01</td>\n",
       "      <td>Tốt nghiệp THPT</td>\n",
       "      <td>24.50</td>\n",
       "      <td>CLC</td>\n",
       "    </tr>\n",
       "    <tr>\n",
       "      <th>7445</th>\n",
       "      <td>2023</td>\n",
       "      <td>VNUHCM-USSH</td>\n",
       "      <td>7810103_CLC</td>\n",
       "      <td>Quản trị dịch vụ du lịch và lữ hành</td>\n",
       "      <td>C00</td>\n",
       "      <td>Tốt nghiệp THPT</td>\n",
       "      <td>25.50</td>\n",
       "      <td>CLC</td>\n",
       "    </tr>\n",
       "    <tr>\n",
       "      <th>7446</th>\n",
       "      <td>2023</td>\n",
       "      <td>VNUHCM-USSH</td>\n",
       "      <td>7810103_CLC</td>\n",
       "      <td>Quản trị dịch vụ du lịch và lữ hành</td>\n",
       "      <td>DGNL</td>\n",
       "      <td>Đánh giá năng lực ĐHQG-HCM</td>\n",
       "      <td>780.00</td>\n",
       "      <td>CLC</td>\n",
       "    </tr>\n",
       "  </tbody>\n",
       "</table>\n",
       "<p>7447 rows × 8 columns</p>\n",
       "</div>"
      ],
      "text/plain": [
       "      year_ university_code   major_code                           major_name  \\\n",
       "0      2021            FTU2        NTS01                              Kinh tế   \n",
       "1      2021            FTU2        NTS02      Kế toán , Tài chính - Ngân hàng   \n",
       "2      2021             GDU      7220201                         Ngôn ngữ Anh   \n",
       "3      2021             GDU      7220201                         Ngôn ngữ Anh   \n",
       "4      2021             GDU      7220201                         Ngôn ngữ Anh   \n",
       "...     ...             ...          ...                                  ...   \n",
       "7442   2023     VNUHCM-USSH      7810103  Quản trị dịch vụ du lịch và lữ hành   \n",
       "7443   2023     VNUHCM-USSH      7810103  Quản trị dịch vụ du lịch và lữ hành   \n",
       "7444   2023     VNUHCM-USSH  7810103_CLC  Quản trị dịch vụ du lịch và lữ hành   \n",
       "7445   2023     VNUHCM-USSH  7810103_CLC  Quản trị dịch vụ du lịch và lữ hành   \n",
       "7446   2023     VNUHCM-USSH  7810103_CLC  Quản trị dịch vụ du lịch và lữ hành   \n",
       "\n",
       "     subject_group_code                        note  benchmark_score  \\\n",
       "0                   D01             Tốt nghiệp THPT            28.55   \n",
       "1                   D01             Tốt nghiệp THPT            28.40   \n",
       "2                   A01             Tốt nghiệp THPT            15.50   \n",
       "3                   D96             Tốt nghiệp THPT            16.50   \n",
       "4                  XDHB                  Xét học bạ            16.50   \n",
       "...                 ...                         ...              ...   \n",
       "7442                C00             Tốt nghiệp THPT            27.40   \n",
       "7443               DGNL  Đánh giá năng lực ĐHQG-HCM           790.00   \n",
       "7444                D01             Tốt nghiệp THPT            24.50   \n",
       "7445                C00             Tốt nghiệp THPT            25.50   \n",
       "7446               DGNL  Đánh giá năng lực ĐHQG-HCM           780.00   \n",
       "\n",
       "     program_type  \n",
       "0              DT  \n",
       "1              DT  \n",
       "2              DT  \n",
       "3              DT  \n",
       "4              DT  \n",
       "...           ...  \n",
       "7442           DT  \n",
       "7443           DT  \n",
       "7444          CLC  \n",
       "7445          CLC  \n",
       "7446          CLC  \n",
       "\n",
       "[7447 rows x 8 columns]"
      ]
     },
     "execution_count": 98,
     "metadata": {},
     "output_type": "execute_result"
    }
   ],
   "source": [
    "df"
   ]
  },
  {
   "cell_type": "code",
   "execution_count": 99,
   "id": "9566659d",
   "metadata": {},
   "outputs": [
    {
     "data": {
      "text/plain": [
       "<Axes: >"
      ]
     },
     "execution_count": 99,
     "metadata": {},
     "output_type": "execute_result"
    },
    {
     "data": {
      "image/png": "[encoded data removed]",
      "text/plain": [
       "<Figure size 500x500 with 1 Axes>"
      ]
     },
     "metadata": {},
     "output_type": "display_data"
    }
   ],
   "source": [
    "import seaborn as sns\n",
    "fig, ax = plt.subplots(figsize=(5, 5))\n",
    "sns.heatmap(df.isna(),\n",
    "            cbar=False,\n",
    "            yticklabels=False, \n",
    "            cmap='Blues')"
   ]
  },
  {
   "cell_type": "code",
   "execution_count": 100,
   "id": "7600ab25",
   "metadata": {},
   "outputs": [
    {
     "data": {
      "application/vnd.microsoft.datawrangler.viewer.v0+json": {
       "columns": [
        {
         "name": "index",
         "rawType": "int64",
         "type": "integer"
        },
        {
         "name": "year_",
         "rawType": "int64",
         "type": "integer"
        },
        {
         "name": "university_code",
         "rawType": "object",
         "type": "string"
        },
        {
         "name": "major_code",
         "rawType": "object",
         "type": "string"
        },
        {
         "name": "major_name",
         "rawType": "object",
         "type": "string"
        },
        {
         "name": "subject_group_code",
         "rawType": "object",
         "type": "string"
        },
        {
         "name": "note",
         "rawType": "object",
         "type": "string"
        },
        {
         "name": "benchmark_score",
         "rawType": "float64",
         "type": "float"
        },
        {
         "name": "program_type",
         "rawType": "object",
         "type": "string"
        }
       ],
       "conversionMethod": "pd.DataFrame",
       "ref": "ea6dc75a-f39e-40fc-95f9-5c64859d62f5",
       "rows": [
        [
         "0",
         "2021",
         "FTU2",
         "NTS01",
         "Kinh tế",
         "D01",
         "Tốt nghiệp THPT",
         "28.55",
         "DT"
        ],
        [
         "1",
         "2021",
         "FTU2",
         "NTS02",
         "Kế toán , Tài chính - Ngân hàng",
         "D01",
         "Tốt nghiệp THPT",
         "28.4",
         "DT"
        ],
        [
         "2",
         "2021",
         "GDU",
         "7220201",
         "Ngôn ngữ Anh",
         "A01",
         "Tốt nghiệp THPT",
         "15.5",
         "DT"
        ],
        [
         "3",
         "2021",
         "GDU",
         "7220201",
         "Ngôn ngữ Anh",
         "D96",
         "Tốt nghiệp THPT",
         "16.5",
         "DT"
        ],
        [
         "4",
         "2021",
         "GDU",
         "7220201",
         "Ngôn ngữ Anh",
         "XDHB",
         "Xét học bạ",
         "16.5",
         "DT"
        ],
        [
         "5",
         "2021",
         "GDU",
         "7310608",
         "Đông phương học",
         "A01",
         "Tốt nghiệp THPT",
         "15.5",
         "DT"
        ],
        [
         "6",
         "2021",
         "GDU",
         "7310608",
         "Đông phương học",
         "D01",
         "Tốt nghiệp THPT",
         "16.5",
         "DT"
        ],
        [
         "7",
         "2021",
         "GDU",
         "7310608",
         "Đông phương học",
         "XDHB",
         "Xét học bạ",
         "16.5",
         "DT"
        ],
        [
         "8",
         "2021",
         "GDU",
         "7320104",
         "Truyền thông đa phương tiện",
         "A01",
         "Tốt nghiệp THPT",
         "15.0",
         "DT"
        ],
        [
         "9",
         "2021",
         "GDU",
         "7320104",
         "Truyền thông đa phương tiện",
         "XDHB",
         "Xét học bạ",
         "16.5",
         "DT"
        ],
        [
         "10",
         "2021",
         "GDU",
         "7340101",
         "Quản trị kinh doanh",
         "A01",
         "Tốt nghiệp THPT",
         "16.5",
         "DT"
        ],
        [
         "11",
         "2021",
         "GDU",
         "7340101",
         "Quản trị kinh doanh",
         "XDHB",
         "Xét học bạ",
         "16.5",
         "DT"
        ],
        [
         "12",
         "2021",
         "GDU",
         "7340115",
         "Marketing",
         "A01",
         "Tốt nghiệp THPT",
         "16.0",
         "DT"
        ],
        [
         "13",
         "2021",
         "GDU",
         "7340115",
         "Marketing",
         "XDHB",
         "Xét học bạ",
         "16.5",
         "DT"
        ],
        [
         "14",
         "2021",
         "GDU",
         "7340120",
         "Kinh doanh quốc tế",
         "A01",
         "Tốt nghiệp THPT",
         "15.0",
         "DT"
        ],
        [
         "15",
         "2021",
         "GDU",
         "7340120",
         "Kinh doanh quốc tế",
         "XDHB",
         "Xét học bạ",
         "16.5",
         "DT"
        ],
        [
         "16",
         "2021",
         "GDU",
         "7340201",
         "Tài chính - Ngân hàng",
         "A01",
         "Tốt nghiệp THPT",
         "15.0",
         "DT"
        ],
        [
         "17",
         "2021",
         "GDU",
         "7340201",
         "Tài chính - Ngân hàng",
         "D01",
         "Tốt nghiệp THPT",
         "16.5",
         "DT"
        ],
        [
         "18",
         "2021",
         "GDU",
         "7340301",
         "Kế toán",
         "A01",
         "Tốt nghiệp THPT",
         "15.0",
         "DT"
        ],
        [
         "19",
         "2021",
         "GDU",
         "7340301",
         "Kế toán",
         "D01",
         "Tốt nghiệp THPT",
         "16.5",
         "DT"
        ],
        [
         "20",
         "2021",
         "GDU",
         "7340301",
         "Kế toán",
         "XDHB",
         "Xét học bạ",
         "16.5",
         "DT"
        ],
        [
         "21",
         "2021",
         "GDU",
         "734115",
         "Quản trị khách sạn",
         "A01",
         "Tốt nghiệp THPT",
         "16.5",
         "DT"
        ],
        [
         "22",
         "2021",
         "GDU",
         "734115",
         "Quản trị khách sạn",
         "XDHB",
         "Xét học bạ",
         "16.5",
         "DT"
        ],
        [
         "23",
         "2021",
         "GDU",
         "7380101",
         "Luật",
         "A01",
         "Tốt nghiệp THPT",
         "15.0",
         "DT"
        ],
        [
         "24",
         "2021",
         "GDU",
         "7380101",
         "Luật",
         "XDHB",
         "Xét học bạ",
         "16.5",
         "DT"
        ],
        [
         "25",
         "2021",
         "GDU",
         "7480102",
         "Mạng máy tính và Truyền thông dữ liệu",
         "A01",
         "Tốt nghiệp THPT",
         "15.0",
         "DT"
        ],
        [
         "26",
         "2021",
         "GDU",
         "7480102",
         "Mạng máy tính và Truyền thông dữ liệu",
         "A01",
         "Tốt nghiệp THPT",
         "16.5",
         "DT"
        ],
        [
         "27",
         "2021",
         "GDU",
         "7480102",
         "Mạng máy tính và Truyền thông dữ liệu",
         "XDHB",
         "Xét học bạ",
         "16.5",
         "DT"
        ],
        [
         "28",
         "2021",
         "GDU",
         "7480103",
         "Kỹ thuật phần mềm",
         "A01",
         "Tốt nghiệp THPT",
         "15.0",
         "DT"
        ],
        [
         "29",
         "2021",
         "GDU",
         "7480103",
         "Kỹ thuật phần mềm",
         "A01",
         "Tốt nghiệp THPT",
         "16.5",
         "DT"
        ],
        [
         "30",
         "2021",
         "GDU",
         "7480103",
         "Kỹ thuật phần mềm",
         "XDHB",
         "Xét học bạ",
         "16.5",
         "DT"
        ],
        [
         "31",
         "2021",
         "GDU",
         "7480201",
         "Công nghệ thông tin",
         "A01",
         "Tốt nghiệp THPT",
         "16.0",
         "DT"
        ],
        [
         "32",
         "2021",
         "GDU",
         "7480201",
         "Công nghệ thông tin",
         "A01",
         "Tốt nghiệp THPT",
         "16.5",
         "DT"
        ],
        [
         "33",
         "2021",
         "GDU",
         "7480201",
         "Công nghệ thông tin",
         "XDHB",
         "Xét học bạ",
         "16.5",
         "DT"
        ],
        [
         "34",
         "2021",
         "GDU",
         "7510605",
         "Logistics và Quản lý chuỗi cung ứng",
         "A01",
         "Tốt nghiệp THPT",
         "15.0",
         "DT"
        ],
        [
         "35",
         "2021",
         "GDU",
         "7510605",
         "Logistics và Quản lý chuỗi cung ứng",
         "XDHB",
         "Xét học bạ",
         "16.5",
         "DT"
        ],
        [
         "36",
         "2021",
         "GDU",
         "7810201",
         "Quản trị khách sạn",
         "A01",
         "Tốt nghiệp THPT",
         "15.0",
         "DT"
        ],
        [
         "37",
         "2021",
         "HCA",
         "7310201",
         "Chính trị học",
         "C04",
         "Tốt nghiệp THPT",
         "24.5",
         "DT"
        ],
        [
         "38",
         "2021",
         "HCA",
         "7310201",
         "Chính trị học",
         "XDHB",
         "Xét học bạ",
         "24.5",
         "DT"
        ],
        [
         "39",
         "2021",
         "HCA",
         "7310202",
         "Xây dựng Đảng và chính quyền nhà nước",
         "C04",
         "Tốt nghiệp THPT",
         "25.0",
         "DT"
        ],
        [
         "40",
         "2021",
         "HCA",
         "7310202",
         "Xây dựng Đảng và chính quyền nhà nước",
         "XDHB",
         "Xét học bạ",
         "25.0",
         "DT"
        ],
        [
         "41",
         "2021",
         "HCA",
         "7310205",
         "Quản lý nhà nước",
         "A01",
         "Tốt nghiệp THPT",
         "26.25",
         "DT"
        ],
        [
         "42",
         "2021",
         "HCA",
         "7310205",
         "Quản lý nhà nước",
         "XDHB",
         "Xét học bạ",
         "26.25",
         "DT"
        ],
        [
         "43",
         "2021",
         "HCA",
         "7380101",
         "Luật",
         "A01",
         "Tốt nghiệp THPT",
         "26.35",
         "DT"
        ],
        [
         "44",
         "2021",
         "HCA",
         "7380101",
         "Luật",
         "XDHB",
         "Xét học bạ",
         "26.35",
         "DT"
        ],
        [
         "45",
         "2021",
         "HCA",
         "7760101",
         "Công tác xã hội",
         "C00",
         "Tốt nghiệp THPT",
         "23.65",
         "DT"
        ],
        [
         "46",
         "2021",
         "HCA",
         "7760101",
         "Công tác xã hội",
         "XDHB",
         "Xét học bạ",
         "23.65",
         "DT"
        ],
        [
         "47",
         "2021",
         "HCMIU",
         "7220201",
         "Ngôn ngữ Anh",
         "D01",
         "Tốt nghiệp THPT",
         "27.0",
         "DT"
        ],
        [
         "48",
         "2021",
         "HCMIU",
         "7220201",
         "Ngôn ngữ Anh",
         "XDHB",
         "Xét học bạ",
         "27.0",
         "DT"
        ],
        [
         "49",
         "2021",
         "HCMIU",
         "7340201",
         "Tài chính - Ngân hàng",
         "A00",
         "Tốt nghiệp THPT",
         "25.0",
         "DT"
        ]
       ],
       "shape": {
        "columns": 8,
        "rows": 7447
       }
      },
      "text/html": [
       "<div>\n",
       "<style scoped>\n",
       "    .dataframe tbody tr th:only-of-type {\n",
       "        vertical-align: middle;\n",
       "    }\n",
       "\n",
       "    .dataframe tbody tr th {\n",
       "        vertical-align: top;\n",
       "    }\n",
       "\n",
       "    .dataframe thead th {\n",
       "        text-align: right;\n",
       "    }\n",
       "</style>\n",
       "<table border=\"1\" class=\"dataframe\">\n",
       "  <thead>\n",
       "    <tr style=\"text-align: right;\">\n",
       "      <th></th>\n",
       "      <th>year_</th>\n",
       "      <th>university_code</th>\n",
       "      <th>major_code</th>\n",
       "      <th>major_name</th>\n",
       "      <th>subject_group_code</th>\n",
       "      <th>note</th>\n",
       "      <th>benchmark_score</th>\n",
       "      <th>program_type</th>\n",
       "    </tr>\n",
       "  </thead>\n",
       "  <tbody>\n",
       "    <tr>\n",
       "      <th>0</th>\n",
       "      <td>2021</td>\n",
       "      <td>FTU2</td>\n",
       "      <td>NTS01</td>\n",
       "      <td>Kinh tế</td>\n",
       "      <td>D01</td>\n",
       "      <td>Tốt nghiệp THPT</td>\n",
       "      <td>28.55</td>\n",
       "      <td>DT</td>\n",
       "    </tr>\n",
       "    <tr>\n",
       "      <th>1</th>\n",
       "      <td>2021</td>\n",
       "      <td>FTU2</td>\n",
       "      <td>NTS02</td>\n",
       "      <td>Kế toán , Tài chính - Ngân hàng</td>\n",
       "      <td>D01</td>\n",
       "      <td>Tốt nghiệp THPT</td>\n",
       "      <td>28.40</td>\n",
       "      <td>DT</td>\n",
       "    </tr>\n",
       "    <tr>\n",
       "      <th>2</th>\n",
       "      <td>2021</td>\n",
       "      <td>GDU</td>\n",
       "      <td>7220201</td>\n",
       "      <td>Ngôn ngữ Anh</td>\n",
       "      <td>A01</td>\n",
       "      <td>Tốt nghiệp THPT</td>\n",
       "      <td>15.50</td>\n",
       "      <td>DT</td>\n",
       "    </tr>\n",
       "    <tr>\n",
       "      <th>3</th>\n",
       "      <td>2021</td>\n",
       "      <td>GDU</td>\n",
       "      <td>7220201</td>\n",
       "      <td>Ngôn ngữ Anh</td>\n",
       "      <td>D96</td>\n",
       "      <td>Tốt nghiệp THPT</td>\n",
       "      <td>16.50</td>\n",
       "      <td>DT</td>\n",
       "    </tr>\n",
       "    <tr>\n",
       "      <th>4</th>\n",
       "      <td>2021</td>\n",
       "      <td>GDU</td>\n",
       "      <td>7220201</td>\n",
       "      <td>Ngôn ngữ Anh</td>\n",
       "      <td>XDHB</td>\n",
       "      <td>Xét học bạ</td>\n",
       "      <td>16.50</td>\n",
       "      <td>DT</td>\n",
       "    </tr>\n",
       "    <tr>\n",
       "      <th>...</th>\n",
       "      <td>...</td>\n",
       "      <td>...</td>\n",
       "      <td>...</td>\n",
       "      <td>...</td>\n",
       "      <td>...</td>\n",
       "      <td>...</td>\n",
       "      <td>...</td>\n",
       "      <td>...</td>\n",
       "    </tr>\n",
       "    <tr>\n",
       "      <th>7442</th>\n",
       "      <td>2023</td>\n",
       "      <td>VNUHCM-USSH</td>\n",
       "      <td>7810103</td>\n",
       "      <td>Quản trị dịch vụ du lịch và lữ hành</td>\n",
       "      <td>C00</td>\n",
       "      <td>Tốt nghiệp THPT</td>\n",
       "      <td>27.40</td>\n",
       "      <td>DT</td>\n",
       "    </tr>\n",
       "    <tr>\n",
       "      <th>7443</th>\n",
       "      <td>2023</td>\n",
       "      <td>VNUHCM-USSH</td>\n",
       "      <td>7810103</td>\n",
       "      <td>Quản trị dịch vụ du lịch và lữ hành</td>\n",
       "      <td>DGNL</td>\n",
       "      <td>Đánh giá năng lực ĐHQG-HCM</td>\n",
       "      <td>790.00</td>\n",
       "      <td>DT</td>\n",
       "    </tr>\n",
       "    <tr>\n",
       "      <th>7444</th>\n",
       "      <td>2023</td>\n",
       "      <td>VNUHCM-USSH</td>\n",
       "      <td>7810103_CLC</td>\n",
       "      <td>Quản trị dịch vụ du lịch và lữ hành</td>\n",
       "      <td>D01</td>\n",
       "      <td>Tốt nghiệp THPT</td>\n",
       "      <td>24.50</td>\n",
       "      <td>CLC</td>\n",
       "    </tr>\n",
       "    <tr>\n",
       "      <th>7445</th>\n",
       "      <td>2023</td>\n",
       "      <td>VNUHCM-USSH</td>\n",
       "      <td>7810103_CLC</td>\n",
       "      <td>Quản trị dịch vụ du lịch và lữ hành</td>\n",
       "      <td>C00</td>\n",
       "      <td>Tốt nghiệp THPT</td>\n",
       "      <td>25.50</td>\n",
       "      <td>CLC</td>\n",
       "    </tr>\n",
       "    <tr>\n",
       "      <th>7446</th>\n",
       "      <td>2023</td>\n",
       "      <td>VNUHCM-USSH</td>\n",
       "      <td>7810103_CLC</td>\n",
       "      <td>Quản trị dịch vụ du lịch và lữ hành</td>\n",
       "      <td>DGNL</td>\n",
       "      <td>Đánh giá năng lực ĐHQG-HCM</td>\n",
       "      <td>780.00</td>\n",
       "      <td>CLC</td>\n",
       "    </tr>\n",
       "  </tbody>\n",
       "</table>\n",
       "<p>7447 rows × 8 columns</p>\n",
       "</div>"
      ],
      "text/plain": [
       "      year_ university_code   major_code                           major_name  \\\n",
       "0      2021            FTU2        NTS01                              Kinh tế   \n",
       "1      2021            FTU2        NTS02      Kế toán , Tài chính - Ngân hàng   \n",
       "2      2021             GDU      7220201                         Ngôn ngữ Anh   \n",
       "3      2021             GDU      7220201                         Ngôn ngữ Anh   \n",
       "4      2021             GDU      7220201                         Ngôn ngữ Anh   \n",
       "...     ...             ...          ...                                  ...   \n",
       "7442   2023     VNUHCM-USSH      7810103  Quản trị dịch vụ du lịch và lữ hành   \n",
       "7443   2023     VNUHCM-USSH      7810103  Quản trị dịch vụ du lịch và lữ hành   \n",
       "7444   2023     VNUHCM-USSH  7810103_CLC  Quản trị dịch vụ du lịch và lữ hành   \n",
       "7445   2023     VNUHCM-USSH  7810103_CLC  Quản trị dịch vụ du lịch và lữ hành   \n",
       "7446   2023     VNUHCM-USSH  7810103_CLC  Quản trị dịch vụ du lịch và lữ hành   \n",
       "\n",
       "     subject_group_code                        note  benchmark_score  \\\n",
       "0                   D01             Tốt nghiệp THPT            28.55   \n",
       "1                   D01             Tốt nghiệp THPT            28.40   \n",
       "2                   A01             Tốt nghiệp THPT            15.50   \n",
       "3                   D96             Tốt nghiệp THPT            16.50   \n",
       "4                  XDHB                  Xét học bạ            16.50   \n",
       "...                 ...                         ...              ...   \n",
       "7442                C00             Tốt nghiệp THPT            27.40   \n",
       "7443               DGNL  Đánh giá năng lực ĐHQG-HCM           790.00   \n",
       "7444                D01             Tốt nghiệp THPT            24.50   \n",
       "7445                C00             Tốt nghiệp THPT            25.50   \n",
       "7446               DGNL  Đánh giá năng lực ĐHQG-HCM           780.00   \n",
       "\n",
       "     program_type  \n",
       "0              DT  \n",
       "1              DT  \n",
       "2              DT  \n",
       "3              DT  \n",
       "4              DT  \n",
       "...           ...  \n",
       "7442           DT  \n",
       "7443           DT  \n",
       "7444          CLC  \n",
       "7445          CLC  \n",
       "7446          CLC  \n",
       "\n",
       "[7447 rows x 8 columns]"
      ]
     },
     "execution_count": 100,
     "metadata": {},
     "output_type": "execute_result"
    }
   ],
   "source": [
    "df"
   ]
  },
  {
   "cell_type": "code",
   "execution_count": 101,
   "id": "57344c9a",
   "metadata": {},
   "outputs": [
    {
     "name": "stdout",
     "output_type": "stream",
     "text": [
      "Số dòng có tổ hợp môn thi là None: 0 dòng\n"
     ]
    }
   ],
   "source": [
    "print(f\"Số dòng có tổ hợp môn thi là None: {len(df[df['note'].isna()])} dòng\")"
   ]
  },
  {
   "cell_type": "markdown",
   "id": "f03454f0",
   "metadata": {},
   "source": [
    "Chuẩn hóa các cột `major_name` và `university_code`"
   ]
  },
  {
   "cell_type": "code",
   "execution_count": 102,
   "id": "476e99e6",
   "metadata": {},
   "outputs": [],
   "source": [
    "# Loại bỏ khoảng trắng thừa và chuẩn hóa chữ thường\n",
    "df['major_name'] = df['major_name'].str.replace(r'\\s+,', ',', regex=True).str.strip()\n",
    "df['university_code'] = df['university_code'].str.strip().str.upper()"
   ]
  },
  {
   "cell_type": "markdown",
   "id": "bbf8218e",
   "metadata": {},
   "source": [
    "Thêm cột thang điểm để rõ ràng hơn `score_scale`"
   ]
  },
  {
   "cell_type": "code",
   "execution_count": 103,
   "id": "b7916e87",
   "metadata": {},
   "outputs": [],
   "source": [
    "score_scale = {\n",
    "    'Tốt nghiệp THPT': 30,\n",
    "    'Xét học bạ': 30,\n",
    "    'Đánh giá năng lực ĐHQG-HCM': 1200\n",
    "}\n",
    "\n",
    "# Thêm cột điểm chuẩn tương ứng với từng phương thức\n",
    "df['score_scale'] = df['note'].map(score_scale)"
   ]
  },
  {
   "cell_type": "markdown",
   "id": "6f246b8e",
   "metadata": {},
   "source": [
    "rename:   \n",
    "    `note` -> `admission_method`,   \n",
    "    `year_` -> `year`,   \n",
    "    `major_code` -> `uni_major_code`"
   ]
  },
  {
   "cell_type": "code",
   "execution_count": 104,
   "id": "39ec2e07",
   "metadata": {},
   "outputs": [
    {
     "data": {
      "application/vnd.microsoft.datawrangler.viewer.v0+json": {
       "columns": [
        {
         "name": "index",
         "rawType": "int64",
         "type": "integer"
        },
        {
         "name": "year",
         "rawType": "int64",
         "type": "integer"
        },
        {
         "name": "university_code",
         "rawType": "object",
         "type": "string"
        },
        {
         "name": "uni_major_code",
         "rawType": "object",
         "type": "string"
        },
        {
         "name": "major_name",
         "rawType": "object",
         "type": "string"
        },
        {
         "name": "subject_group_code",
         "rawType": "object",
         "type": "string"
        },
        {
         "name": "admission_method",
         "rawType": "object",
         "type": "string"
        },
        {
         "name": "benchmark_score",
         "rawType": "float64",
         "type": "float"
        },
        {
         "name": "program_type",
         "rawType": "object",
         "type": "string"
        },
        {
         "name": "score_scale",
         "rawType": "int64",
         "type": "integer"
        }
       ],
       "conversionMethod": "pd.DataFrame",
       "ref": "eab06eca-4d49-410a-808f-cb36e8c70af6",
       "rows": [
        [
         "0",
         "2021",
         "FTU2",
         "NTS01",
         "Kinh tế",
         "D01",
         "Tốt nghiệp THPT",
         "28.55",
         "DT",
         "30"
        ],
        [
         "1",
         "2021",
         "FTU2",
         "NTS02",
         "Kế toán, Tài chính - Ngân hàng",
         "D01",
         "Tốt nghiệp THPT",
         "28.4",
         "DT",
         "30"
        ],
        [
         "2",
         "2021",
         "GDU",
         "7220201",
         "Ngôn ngữ Anh",
         "A01",
         "Tốt nghiệp THPT",
         "15.5",
         "DT",
         "30"
        ],
        [
         "3",
         "2021",
         "GDU",
         "7220201",
         "Ngôn ngữ Anh",
         "D96",
         "Tốt nghiệp THPT",
         "16.5",
         "DT",
         "30"
        ],
        [
         "4",
         "2021",
         "GDU",
         "7220201",
         "Ngôn ngữ Anh",
         "XDHB",
         "Xét học bạ",
         "16.5",
         "DT",
         "30"
        ],
        [
         "5",
         "2021",
         "GDU",
         "7310608",
         "Đông phương học",
         "A01",
         "Tốt nghiệp THPT",
         "15.5",
         "DT",
         "30"
        ],
        [
         "6",
         "2021",
         "GDU",
         "7310608",
         "Đông phương học",
         "D01",
         "Tốt nghiệp THPT",
         "16.5",
         "DT",
         "30"
        ],
        [
         "7",
         "2021",
         "GDU",
         "7310608",
         "Đông phương học",
         "XDHB",
         "Xét học bạ",
         "16.5",
         "DT",
         "30"
        ],
        [
         "8",
         "2021",
         "GDU",
         "7320104",
         "Truyền thông đa phương tiện",
         "A01",
         "Tốt nghiệp THPT",
         "15.0",
         "DT",
         "30"
        ],
        [
         "9",
         "2021",
         "GDU",
         "7320104",
         "Truyền thông đa phương tiện",
         "XDHB",
         "Xét học bạ",
         "16.5",
         "DT",
         "30"
        ],
        [
         "10",
         "2021",
         "GDU",
         "7340101",
         "Quản trị kinh doanh",
         "A01",
         "Tốt nghiệp THPT",
         "16.5",
         "DT",
         "30"
        ],
        [
         "11",
         "2021",
         "GDU",
         "7340101",
         "Quản trị kinh doanh",
         "XDHB",
         "Xét học bạ",
         "16.5",
         "DT",
         "30"
        ],
        [
         "12",
         "2021",
         "GDU",
         "7340115",
         "Marketing",
         "A01",
         "Tốt nghiệp THPT",
         "16.0",
         "DT",
         "30"
        ],
        [
         "13",
         "2021",
         "GDU",
         "7340115",
         "Marketing",
         "XDHB",
         "Xét học bạ",
         "16.5",
         "DT",
         "30"
        ],
        [
         "14",
         "2021",
         "GDU",
         "7340120",
         "Kinh doanh quốc tế",
         "A01",
         "Tốt nghiệp THPT",
         "15.0",
         "DT",
         "30"
        ],
        [
         "15",
         "2021",
         "GDU",
         "7340120",
         "Kinh doanh quốc tế",
         "XDHB",
         "Xét học bạ",
         "16.5",
         "DT",
         "30"
        ],
        [
         "16",
         "2021",
         "GDU",
         "7340201",
         "Tài chính - Ngân hàng",
         "A01",
         "Tốt nghiệp THPT",
         "15.0",
         "DT",
         "30"
        ],
        [
         "17",
         "2021",
         "GDU",
         "7340201",
         "Tài chính - Ngân hàng",
         "D01",
         "Tốt nghiệp THPT",
         "16.5",
         "DT",
         "30"
        ],
        [
         "18",
         "2021",
         "GDU",
         "7340301",
         "Kế toán",
         "A01",
         "Tốt nghiệp THPT",
         "15.0",
         "DT",
         "30"
        ],
        [
         "19",
         "2021",
         "GDU",
         "7340301",
         "Kế toán",
         "D01",
         "Tốt nghiệp THPT",
         "16.5",
         "DT",
         "30"
        ],
        [
         "20",
         "2021",
         "GDU",
         "7340301",
         "Kế toán",
         "XDHB",
         "Xét học bạ",
         "16.5",
         "DT",
         "30"
        ],
        [
         "21",
         "2021",
         "GDU",
         "734115",
         "Quản trị khách sạn",
         "A01",
         "Tốt nghiệp THPT",
         "16.5",
         "DT",
         "30"
        ],
        [
         "22",
         "2021",
         "GDU",
         "734115",
         "Quản trị khách sạn",
         "XDHB",
         "Xét học bạ",
         "16.5",
         "DT",
         "30"
        ],
        [
         "23",
         "2021",
         "GDU",
         "7380101",
         "Luật",
         "A01",
         "Tốt nghiệp THPT",
         "15.0",
         "DT",
         "30"
        ],
        [
         "24",
         "2021",
         "GDU",
         "7380101",
         "Luật",
         "XDHB",
         "Xét học bạ",
         "16.5",
         "DT",
         "30"
        ],
        [
         "25",
         "2021",
         "GDU",
         "7480102",
         "Mạng máy tính và Truyền thông dữ liệu",
         "A01",
         "Tốt nghiệp THPT",
         "15.0",
         "DT",
         "30"
        ],
        [
         "26",
         "2021",
         "GDU",
         "7480102",
         "Mạng máy tính và Truyền thông dữ liệu",
         "A01",
         "Tốt nghiệp THPT",
         "16.5",
         "DT",
         "30"
        ],
        [
         "27",
         "2021",
         "GDU",
         "7480102",
         "Mạng máy tính và Truyền thông dữ liệu",
         "XDHB",
         "Xét học bạ",
         "16.5",
         "DT",
         "30"
        ],
        [
         "28",
         "2021",
         "GDU",
         "7480103",
         "Kỹ thuật phần mềm",
         "A01",
         "Tốt nghiệp THPT",
         "15.0",
         "DT",
         "30"
        ],
        [
         "29",
         "2021",
         "GDU",
         "7480103",
         "Kỹ thuật phần mềm",
         "A01",
         "Tốt nghiệp THPT",
         "16.5",
         "DT",
         "30"
        ],
        [
         "30",
         "2021",
         "GDU",
         "7480103",
         "Kỹ thuật phần mềm",
         "XDHB",
         "Xét học bạ",
         "16.5",
         "DT",
         "30"
        ],
        [
         "31",
         "2021",
         "GDU",
         "7480201",
         "Công nghệ thông tin",
         "A01",
         "Tốt nghiệp THPT",
         "16.0",
         "DT",
         "30"
        ],
        [
         "32",
         "2021",
         "GDU",
         "7480201",
         "Công nghệ thông tin",
         "A01",
         "Tốt nghiệp THPT",
         "16.5",
         "DT",
         "30"
        ],
        [
         "33",
         "2021",
         "GDU",
         "7480201",
         "Công nghệ thông tin",
         "XDHB",
         "Xét học bạ",
         "16.5",
         "DT",
         "30"
        ],
        [
         "34",
         "2021",
         "GDU",
         "7510605",
         "Logistics và Quản lý chuỗi cung ứng",
         "A01",
         "Tốt nghiệp THPT",
         "15.0",
         "DT",
         "30"
        ],
        [
         "35",
         "2021",
         "GDU",
         "7510605",
         "Logistics và Quản lý chuỗi cung ứng",
         "XDHB",
         "Xét học bạ",
         "16.5",
         "DT",
         "30"
        ],
        [
         "36",
         "2021",
         "GDU",
         "7810201",
         "Quản trị khách sạn",
         "A01",
         "Tốt nghiệp THPT",
         "15.0",
         "DT",
         "30"
        ],
        [
         "37",
         "2021",
         "HCA",
         "7310201",
         "Chính trị học",
         "C04",
         "Tốt nghiệp THPT",
         "24.5",
         "DT",
         "30"
        ],
        [
         "38",
         "2021",
         "HCA",
         "7310201",
         "Chính trị học",
         "XDHB",
         "Xét học bạ",
         "24.5",
         "DT",
         "30"
        ],
        [
         "39",
         "2021",
         "HCA",
         "7310202",
         "Xây dựng Đảng và chính quyền nhà nước",
         "C04",
         "Tốt nghiệp THPT",
         "25.0",
         "DT",
         "30"
        ],
        [
         "40",
         "2021",
         "HCA",
         "7310202",
         "Xây dựng Đảng và chính quyền nhà nước",
         "XDHB",
         "Xét học bạ",
         "25.0",
         "DT",
         "30"
        ],
        [
         "41",
         "2021",
         "HCA",
         "7310205",
         "Quản lý nhà nước",
         "A01",
         "Tốt nghiệp THPT",
         "26.25",
         "DT",
         "30"
        ],
        [
         "42",
         "2021",
         "HCA",
         "7310205",
         "Quản lý nhà nước",
         "XDHB",
         "Xét học bạ",
         "26.25",
         "DT",
         "30"
        ],
        [
         "43",
         "2021",
         "HCA",
         "7380101",
         "Luật",
         "A01",
         "Tốt nghiệp THPT",
         "26.35",
         "DT",
         "30"
        ],
        [
         "44",
         "2021",
         "HCA",
         "7380101",
         "Luật",
         "XDHB",
         "Xét học bạ",
         "26.35",
         "DT",
         "30"
        ],
        [
         "45",
         "2021",
         "HCA",
         "7760101",
         "Công tác xã hội",
         "C00",
         "Tốt nghiệp THPT",
         "23.65",
         "DT",
         "30"
        ],
        [
         "46",
         "2021",
         "HCA",
         "7760101",
         "Công tác xã hội",
         "XDHB",
         "Xét học bạ",
         "23.65",
         "DT",
         "30"
        ],
        [
         "47",
         "2021",
         "HCMIU",
         "7220201",
         "Ngôn ngữ Anh",
         "D01",
         "Tốt nghiệp THPT",
         "27.0",
         "DT",
         "30"
        ],
        [
         "48",
         "2021",
         "HCMIU",
         "7220201",
         "Ngôn ngữ Anh",
         "XDHB",
         "Xét học bạ",
         "27.0",
         "DT",
         "30"
        ],
        [
         "49",
         "2021",
         "HCMIU",
         "7340201",
         "Tài chính - Ngân hàng",
         "A00",
         "Tốt nghiệp THPT",
         "25.0",
         "DT",
         "30"
        ]
       ],
       "shape": {
        "columns": 9,
        "rows": 7447
       }
      },
      "text/html": [
       "<div>\n",
       "<style scoped>\n",
       "    .dataframe tbody tr th:only-of-type {\n",
       "        vertical-align: middle;\n",
       "    }\n",
       "\n",
       "    .dataframe tbody tr th {\n",
       "        vertical-align: top;\n",
       "    }\n",
       "\n",
       "    .dataframe thead th {\n",
       "        text-align: right;\n",
       "    }\n",
       "</style>\n",
       "<table border=\"1\" class=\"dataframe\">\n",
       "  <thead>\n",
       "    <tr style=\"text-align: right;\">\n",
       "      <th></th>\n",
       "      <th>year</th>\n",
       "      <th>university_code</th>\n",
       "      <th>uni_major_code</th>\n",
       "      <th>major_name</th>\n",
       "      <th>subject_group_code</th>\n",
       "      <th>admission_method</th>\n",
       "      <th>benchmark_score</th>\n",
       "      <th>program_type</th>\n",
       "      <th>score_scale</th>\n",
       "    </tr>\n",
       "  </thead>\n",
       "  <tbody>\n",
       "    <tr>\n",
       "      <th>0</th>\n",
       "      <td>2021</td>\n",
       "      <td>FTU2</td>\n",
       "      <td>NTS01</td>\n",
       "      <td>Kinh tế</td>\n",
       "      <td>D01</td>\n",
       "      <td>Tốt nghiệp THPT</td>\n",
       "      <td>28.55</td>\n",
       "      <td>DT</td>\n",
       "      <td>30</td>\n",
       "    </tr>\n",
       "    <tr>\n",
       "      <th>1</th>\n",
       "      <td>2021</td>\n",
       "      <td>FTU2</td>\n",
       "      <td>NTS02</td>\n",
       "      <td>Kế toán, Tài chính - Ngân hàng</td>\n",
       "      <td>D01</td>\n",
       "      <td>Tốt nghiệp THPT</td>\n",
       "      <td>28.40</td>\n",
       "      <td>DT</td>\n",
       "      <td>30</td>\n",
       "    </tr>\n",
       "    <tr>\n",
       "      <th>2</th>\n",
       "      <td>2021</td>\n",
       "      <td>GDU</td>\n",
       "      <td>7220201</td>\n",
       "      <td>Ngôn ngữ Anh</td>\n",
       "      <td>A01</td>\n",
       "      <td>Tốt nghiệp THPT</td>\n",
       "      <td>15.50</td>\n",
       "      <td>DT</td>\n",
       "      <td>30</td>\n",
       "    </tr>\n",
       "    <tr>\n",
       "      <th>3</th>\n",
       "      <td>2021</td>\n",
       "      <td>GDU</td>\n",
       "      <td>7220201</td>\n",
       "      <td>Ngôn ngữ Anh</td>\n",
       "      <td>D96</td>\n",
       "      <td>Tốt nghiệp THPT</td>\n",
       "      <td>16.50</td>\n",
       "      <td>DT</td>\n",
       "      <td>30</td>\n",
       "    </tr>\n",
       "    <tr>\n",
       "      <th>4</th>\n",
       "      <td>2021</td>\n",
       "      <td>GDU</td>\n",
       "      <td>7220201</td>\n",
       "      <td>Ngôn ngữ Anh</td>\n",
       "      <td>XDHB</td>\n",
       "      <td>Xét học bạ</td>\n",
       "      <td>16.50</td>\n",
       "      <td>DT</td>\n",
       "      <td>30</td>\n",
       "    </tr>\n",
       "    <tr>\n",
       "      <th>...</th>\n",
       "      <td>...</td>\n",
       "      <td>...</td>\n",
       "      <td>...</td>\n",
       "      <td>...</td>\n",
       "      <td>...</td>\n",
       "      <td>...</td>\n",
       "      <td>...</td>\n",
       "      <td>...</td>\n",
       "      <td>...</td>\n",
       "    </tr>\n",
       "    <tr>\n",
       "      <th>7442</th>\n",
       "      <td>2023</td>\n",
       "      <td>VNUHCM-USSH</td>\n",
       "      <td>7810103</td>\n",
       "      <td>Quản trị dịch vụ du lịch và lữ hành</td>\n",
       "      <td>C00</td>\n",
       "      <td>Tốt nghiệp THPT</td>\n",
       "      <td>27.40</td>\n",
       "      <td>DT</td>\n",
       "      <td>30</td>\n",
       "    </tr>\n",
       "    <tr>\n",
       "      <th>7443</th>\n",
       "      <td>2023</td>\n",
       "      <td>VNUHCM-USSH</td>\n",
       "      <td>7810103</td>\n",
       "      <td>Quản trị dịch vụ du lịch và lữ hành</td>\n",
       "      <td>DGNL</td>\n",
       "      <td>Đánh giá năng lực ĐHQG-HCM</td>\n",
       "      <td>790.00</td>\n",
       "      <td>DT</td>\n",
       "      <td>1200</td>\n",
       "    </tr>\n",
       "    <tr>\n",
       "      <th>7444</th>\n",
       "      <td>2023</td>\n",
       "      <td>VNUHCM-USSH</td>\n",
       "      <td>7810103_CLC</td>\n",
       "      <td>Quản trị dịch vụ du lịch và lữ hành</td>\n",
       "      <td>D01</td>\n",
       "      <td>Tốt nghiệp THPT</td>\n",
       "      <td>24.50</td>\n",
       "      <td>CLC</td>\n",
       "      <td>30</td>\n",
       "    </tr>\n",
       "    <tr>\n",
       "      <th>7445</th>\n",
       "      <td>2023</td>\n",
       "      <td>VNUHCM-USSH</td>\n",
       "      <td>7810103_CLC</td>\n",
       "      <td>Quản trị dịch vụ du lịch và lữ hành</td>\n",
       "      <td>C00</td>\n",
       "      <td>Tốt nghiệp THPT</td>\n",
       "      <td>25.50</td>\n",
       "      <td>CLC</td>\n",
       "      <td>30</td>\n",
       "    </tr>\n",
       "    <tr>\n",
       "      <th>7446</th>\n",
       "      <td>2023</td>\n",
       "      <td>VNUHCM-USSH</td>\n",
       "      <td>7810103_CLC</td>\n",
       "      <td>Quản trị dịch vụ du lịch và lữ hành</td>\n",
       "      <td>DGNL</td>\n",
       "      <td>Đánh giá năng lực ĐHQG-HCM</td>\n",
       "      <td>780.00</td>\n",
       "      <td>CLC</td>\n",
       "      <td>1200</td>\n",
       "    </tr>\n",
       "  </tbody>\n",
       "</table>\n",
       "<p>7447 rows × 9 columns</p>\n",
       "</div>"
      ],
      "text/plain": [
       "      year university_code uni_major_code  \\\n",
       "0     2021            FTU2          NTS01   \n",
       "1     2021            FTU2          NTS02   \n",
       "2     2021             GDU        7220201   \n",
       "3     2021             GDU        7220201   \n",
       "4     2021             GDU        7220201   \n",
       "...    ...             ...            ...   \n",
       "7442  2023     VNUHCM-USSH        7810103   \n",
       "7443  2023     VNUHCM-USSH        7810103   \n",
       "7444  2023     VNUHCM-USSH    7810103_CLC   \n",
       "7445  2023     VNUHCM-USSH    7810103_CLC   \n",
       "7446  2023     VNUHCM-USSH    7810103_CLC   \n",
       "\n",
       "                               major_name subject_group_code  \\\n",
       "0                                 Kinh tế                D01   \n",
       "1          Kế toán, Tài chính - Ngân hàng                D01   \n",
       "2                            Ngôn ngữ Anh                A01   \n",
       "3                            Ngôn ngữ Anh                D96   \n",
       "4                            Ngôn ngữ Anh               XDHB   \n",
       "...                                   ...                ...   \n",
       "7442  Quản trị dịch vụ du lịch và lữ hành                C00   \n",
       "7443  Quản trị dịch vụ du lịch và lữ hành               DGNL   \n",
       "7444  Quản trị dịch vụ du lịch và lữ hành                D01   \n",
       "7445  Quản trị dịch vụ du lịch và lữ hành                C00   \n",
       "7446  Quản trị dịch vụ du lịch và lữ hành               DGNL   \n",
       "\n",
       "                admission_method  benchmark_score program_type  score_scale  \n",
       "0                Tốt nghiệp THPT            28.55           DT           30  \n",
       "1                Tốt nghiệp THPT            28.40           DT           30  \n",
       "2                Tốt nghiệp THPT            15.50           DT           30  \n",
       "3                Tốt nghiệp THPT            16.50           DT           30  \n",
       "4                     Xét học bạ            16.50           DT           30  \n",
       "...                          ...              ...          ...          ...  \n",
       "7442             Tốt nghiệp THPT            27.40           DT           30  \n",
       "7443  Đánh giá năng lực ĐHQG-HCM           790.00           DT         1200  \n",
       "7444             Tốt nghiệp THPT            24.50          CLC           30  \n",
       "7445             Tốt nghiệp THPT            25.50          CLC           30  \n",
       "7446  Đánh giá năng lực ĐHQG-HCM           780.00          CLC         1200  \n",
       "\n",
       "[7447 rows x 9 columns]"
      ]
     },
     "execution_count": 104,
     "metadata": {},
     "output_type": "execute_result"
    }
   ],
   "source": [
    "df.rename(columns={'note':'admission_method',\\\n",
    "                   'year_':'year',\\\n",
    "                    'major_code':'uni_major_code'}, inplace=True)\n",
    "df"
   ]
  },
  {
   "cell_type": "markdown",
   "id": "3b98ba06",
   "metadata": {},
   "source": [
    "---"
   ]
  },
  {
   "cell_type": "markdown",
   "id": "6c1a1cda",
   "metadata": {},
   "source": [
    "### Bước 6: Thêm cột `major_code` theo bộ đã đề ra"
   ]
  },
  {
   "cell_type": "code",
   "execution_count": 105,
   "id": "88e11cb3",
   "metadata": {},
   "outputs": [],
   "source": [
    "majors = pd.read_csv('../data/processed/majors.csv')\n",
    "\n",
    "# join lại theo tên ngành\n",
    "df = pd.merge(df,majors,on='major_name',how='inner')"
   ]
  },
  {
   "cell_type": "code",
   "execution_count": 106,
   "id": "e8f4ef99",
   "metadata": {},
   "outputs": [],
   "source": [
    "df = df[['year','university_code','program_type','uni_major_code','major_code','major_name','subject_group_code','admission_method','score_scale','benchmark_score']]\n",
    "df.sort_values(by=['year','university_code','program_type','major_code'], inplace=True)\n",
    "df.reset_index(drop=True, inplace=True)"
   ]
  },
  {
   "cell_type": "code",
   "execution_count": 109,
   "id": "fa17909e",
   "metadata": {},
   "outputs": [
    {
     "data": {
      "application/vnd.microsoft.datawrangler.viewer.v0+json": {
       "columns": [
        {
         "name": "index",
         "rawType": "int64",
         "type": "integer"
        },
        {
         "name": "year",
         "rawType": "int64",
         "type": "integer"
        },
        {
         "name": "university_code",
         "rawType": "object",
         "type": "string"
        },
        {
         "name": "program_type",
         "rawType": "object",
         "type": "string"
        },
        {
         "name": "uni_major_code",
         "rawType": "object",
         "type": "string"
        },
        {
         "name": "major_code",
         "rawType": "int64",
         "type": "integer"
        },
        {
         "name": "major_name",
         "rawType": "object",
         "type": "string"
        },
        {
         "name": "subject_group_code",
         "rawType": "object",
         "type": "string"
        },
        {
         "name": "admission_method",
         "rawType": "object",
         "type": "string"
        },
        {
         "name": "score_scale",
         "rawType": "int64",
         "type": "integer"
        },
        {
         "name": "benchmark_score",
         "rawType": "float64",
         "type": "float"
        }
       ],
       "conversionMethod": "pd.DataFrame",
       "ref": "387c3b4f-1af3-498f-8ce8-cfd8c5a62d80",
       "rows": [
        [
         "0",
         "2021",
         "FTU2",
         "DT",
         "NTS01",
         "7310101",
         "Kinh tế",
         "D01",
         "Tốt nghiệp THPT",
         "30",
         "28.55"
        ],
        [
         "1",
         "2021",
         "GDU",
         "DT",
         "7380101",
         "73801",
         "Luật",
         "A01",
         "Tốt nghiệp THPT",
         "30",
         "15.0"
        ],
        [
         "2",
         "2021",
         "GDU",
         "DT",
         "7380101",
         "73801",
         "Luật",
         "XDHB",
         "Xét học bạ",
         "30",
         "16.5"
        ],
        [
         "3",
         "2021",
         "GDU",
         "DT",
         "7480201",
         "74802",
         "Công nghệ thông tin",
         "A01",
         "Tốt nghiệp THPT",
         "30",
         "16.0"
        ],
        [
         "4",
         "2021",
         "GDU",
         "DT",
         "7480201",
         "74802",
         "Công nghệ thông tin",
         "A01",
         "Tốt nghiệp THPT",
         "30",
         "16.5"
        ],
        [
         "5",
         "2021",
         "GDU",
         "DT",
         "7480201",
         "74802",
         "Công nghệ thông tin",
         "XDHB",
         "Xét học bạ",
         "30",
         "16.5"
        ],
        [
         "6",
         "2021",
         "GDU",
         "DT",
         "7220201",
         "7220201",
         "Ngôn ngữ Anh",
         "A01",
         "Tốt nghiệp THPT",
         "30",
         "15.5"
        ],
        [
         "7",
         "2021",
         "GDU",
         "DT",
         "7220201",
         "7220201",
         "Ngôn ngữ Anh",
         "D96",
         "Tốt nghiệp THPT",
         "30",
         "16.5"
        ],
        [
         "8",
         "2021",
         "GDU",
         "DT",
         "7220201",
         "7220201",
         "Ngôn ngữ Anh",
         "XDHB",
         "Xét học bạ",
         "30",
         "16.5"
        ],
        [
         "9",
         "2021",
         "GDU",
         "DT",
         "7310608",
         "7310608",
         "Đông phương học",
         "A01",
         "Tốt nghiệp THPT",
         "30",
         "15.5"
        ],
        [
         "10",
         "2021",
         "GDU",
         "DT",
         "7310608",
         "7310608",
         "Đông phương học",
         "D01",
         "Tốt nghiệp THPT",
         "30",
         "16.5"
        ],
        [
         "11",
         "2021",
         "GDU",
         "DT",
         "7310608",
         "7310608",
         "Đông phương học",
         "XDHB",
         "Xét học bạ",
         "30",
         "16.5"
        ],
        [
         "12",
         "2021",
         "GDU",
         "DT",
         "7320104",
         "7320104",
         "Truyền thông đa phương tiện",
         "A01",
         "Tốt nghiệp THPT",
         "30",
         "15.0"
        ],
        [
         "13",
         "2021",
         "GDU",
         "DT",
         "7320104",
         "7320104",
         "Truyền thông đa phương tiện",
         "XDHB",
         "Xét học bạ",
         "30",
         "16.5"
        ],
        [
         "14",
         "2021",
         "GDU",
         "DT",
         "7340101",
         "7340101",
         "Quản trị kinh doanh",
         "A01",
         "Tốt nghiệp THPT",
         "30",
         "16.5"
        ],
        [
         "15",
         "2021",
         "GDU",
         "DT",
         "7340101",
         "7340101",
         "Quản trị kinh doanh",
         "XDHB",
         "Xét học bạ",
         "30",
         "16.5"
        ],
        [
         "16",
         "2021",
         "GDU",
         "DT",
         "7340115",
         "7340115",
         "Marketing",
         "A01",
         "Tốt nghiệp THPT",
         "30",
         "16.0"
        ],
        [
         "17",
         "2021",
         "GDU",
         "DT",
         "7340115",
         "7340115",
         "Marketing",
         "XDHB",
         "Xét học bạ",
         "30",
         "16.5"
        ],
        [
         "18",
         "2021",
         "GDU",
         "DT",
         "7340120",
         "7340120",
         "Kinh doanh quốc tế",
         "A01",
         "Tốt nghiệp THPT",
         "30",
         "15.0"
        ],
        [
         "19",
         "2021",
         "GDU",
         "DT",
         "7340120",
         "7340120",
         "Kinh doanh quốc tế",
         "XDHB",
         "Xét học bạ",
         "30",
         "16.5"
        ],
        [
         "20",
         "2021",
         "GDU",
         "DT",
         "7340201",
         "7340201",
         "Tài chính - Ngân hàng",
         "A01",
         "Tốt nghiệp THPT",
         "30",
         "15.0"
        ],
        [
         "21",
         "2021",
         "GDU",
         "DT",
         "7340201",
         "7340201",
         "Tài chính - Ngân hàng",
         "D01",
         "Tốt nghiệp THPT",
         "30",
         "16.5"
        ],
        [
         "22",
         "2021",
         "GDU",
         "DT",
         "7340301",
         "7340301",
         "Kế toán",
         "A01",
         "Tốt nghiệp THPT",
         "30",
         "15.0"
        ],
        [
         "23",
         "2021",
         "GDU",
         "DT",
         "7340301",
         "7340301",
         "Kế toán",
         "D01",
         "Tốt nghiệp THPT",
         "30",
         "16.5"
        ],
        [
         "24",
         "2021",
         "GDU",
         "DT",
         "7340301",
         "7340301",
         "Kế toán",
         "XDHB",
         "Xét học bạ",
         "30",
         "16.5"
        ],
        [
         "25",
         "2021",
         "GDU",
         "DT",
         "7380101",
         "7380101",
         "Luật",
         "A01",
         "Tốt nghiệp THPT",
         "30",
         "15.0"
        ],
        [
         "26",
         "2021",
         "GDU",
         "DT",
         "7380101",
         "7380101",
         "Luật",
         "XDHB",
         "Xét học bạ",
         "30",
         "16.5"
        ],
        [
         "27",
         "2021",
         "GDU",
         "DT",
         "7480103",
         "7480103",
         "Kỹ thuật phần mềm",
         "A01",
         "Tốt nghiệp THPT",
         "30",
         "15.0"
        ],
        [
         "28",
         "2021",
         "GDU",
         "DT",
         "7480103",
         "7480103",
         "Kỹ thuật phần mềm",
         "A01",
         "Tốt nghiệp THPT",
         "30",
         "16.5"
        ],
        [
         "29",
         "2021",
         "GDU",
         "DT",
         "7480103",
         "7480103",
         "Kỹ thuật phần mềm",
         "XDHB",
         "Xét học bạ",
         "30",
         "16.5"
        ],
        [
         "30",
         "2021",
         "GDU",
         "DT",
         "7480201",
         "7480201",
         "Công nghệ thông tin",
         "A01",
         "Tốt nghiệp THPT",
         "30",
         "16.0"
        ],
        [
         "31",
         "2021",
         "GDU",
         "DT",
         "7480201",
         "7480201",
         "Công nghệ thông tin",
         "A01",
         "Tốt nghiệp THPT",
         "30",
         "16.5"
        ],
        [
         "32",
         "2021",
         "GDU",
         "DT",
         "7480201",
         "7480201",
         "Công nghệ thông tin",
         "XDHB",
         "Xét học bạ",
         "30",
         "16.5"
        ],
        [
         "33",
         "2021",
         "GDU",
         "DT",
         "7510605",
         "7510605",
         "Logistics và Quản lý chuỗi cung ứng",
         "A01",
         "Tốt nghiệp THPT",
         "30",
         "15.0"
        ],
        [
         "34",
         "2021",
         "GDU",
         "DT",
         "7510605",
         "7510605",
         "Logistics và Quản lý chuỗi cung ứng",
         "XDHB",
         "Xét học bạ",
         "30",
         "16.5"
        ],
        [
         "35",
         "2021",
         "GDU",
         "DT",
         "734115",
         "7810201",
         "Quản trị khách sạn",
         "A01",
         "Tốt nghiệp THPT",
         "30",
         "16.5"
        ],
        [
         "36",
         "2021",
         "GDU",
         "DT",
         "734115",
         "7810201",
         "Quản trị khách sạn",
         "XDHB",
         "Xét học bạ",
         "30",
         "16.5"
        ],
        [
         "37",
         "2021",
         "GDU",
         "DT",
         "7810201",
         "7810201",
         "Quản trị khách sạn",
         "A01",
         "Tốt nghiệp THPT",
         "30",
         "15.0"
        ],
        [
         "38",
         "2021",
         "HCA",
         "DT",
         "7380101",
         "73801",
         "Luật",
         "A01",
         "Tốt nghiệp THPT",
         "30",
         "26.35"
        ],
        [
         "39",
         "2021",
         "HCA",
         "DT",
         "7380101",
         "73801",
         "Luật",
         "XDHB",
         "Xét học bạ",
         "30",
         "26.35"
        ],
        [
         "40",
         "2021",
         "HCA",
         "DT",
         "7760101",
         "77601",
         "Công tác xã hội",
         "C00",
         "Tốt nghiệp THPT",
         "30",
         "23.65"
        ],
        [
         "41",
         "2021",
         "HCA",
         "DT",
         "7760101",
         "77601",
         "Công tác xã hội",
         "XDHB",
         "Xét học bạ",
         "30",
         "23.65"
        ],
        [
         "42",
         "2021",
         "HCA",
         "DT",
         "7310201",
         "7310201",
         "Chính trị học",
         "C04",
         "Tốt nghiệp THPT",
         "30",
         "24.5"
        ],
        [
         "43",
         "2021",
         "HCA",
         "DT",
         "7310201",
         "7310201",
         "Chính trị học",
         "XDHB",
         "Xét học bạ",
         "30",
         "24.5"
        ],
        [
         "44",
         "2021",
         "HCA",
         "DT",
         "7310202",
         "7310202",
         "Xây dựng Đảng và chính quyền nhà nước",
         "C04",
         "Tốt nghiệp THPT",
         "30",
         "25.0"
        ],
        [
         "45",
         "2021",
         "HCA",
         "DT",
         "7310202",
         "7310202",
         "Xây dựng Đảng và chính quyền nhà nước",
         "XDHB",
         "Xét học bạ",
         "30",
         "25.0"
        ],
        [
         "46",
         "2021",
         "HCA",
         "DT",
         "7310205",
         "7310205",
         "Quản lý nhà nước",
         "A01",
         "Tốt nghiệp THPT",
         "30",
         "26.25"
        ],
        [
         "47",
         "2021",
         "HCA",
         "DT",
         "7310205",
         "7310205",
         "Quản lý nhà nước",
         "XDHB",
         "Xét học bạ",
         "30",
         "26.25"
        ],
        [
         "48",
         "2021",
         "HCA",
         "DT",
         "7380101",
         "7380101",
         "Luật",
         "A01",
         "Tốt nghiệp THPT",
         "30",
         "26.35"
        ],
        [
         "49",
         "2021",
         "HCA",
         "DT",
         "7380101",
         "7380101",
         "Luật",
         "XDHB",
         "Xét học bạ",
         "30",
         "26.35"
        ]
       ],
       "shape": {
        "columns": 10,
        "rows": 7712
       }
      },
      "text/html": [
       "<div>\n",
       "<style scoped>\n",
       "    .dataframe tbody tr th:only-of-type {\n",
       "        vertical-align: middle;\n",
       "    }\n",
       "\n",
       "    .dataframe tbody tr th {\n",
       "        vertical-align: top;\n",
       "    }\n",
       "\n",
       "    .dataframe thead th {\n",
       "        text-align: right;\n",
       "    }\n",
       "</style>\n",
       "<table border=\"1\" class=\"dataframe\">\n",
       "  <thead>\n",
       "    <tr style=\"text-align: right;\">\n",
       "      <th></th>\n",
       "      <th>year</th>\n",
       "      <th>university_code</th>\n",
       "      <th>program_type</th>\n",
       "      <th>uni_major_code</th>\n",
       "      <th>major_code</th>\n",
       "      <th>major_name</th>\n",
       "      <th>subject_group_code</th>\n",
       "      <th>admission_method</th>\n",
       "      <th>score_scale</th>\n",
       "      <th>benchmark_score</th>\n",
       "    </tr>\n",
       "  </thead>\n",
       "  <tbody>\n",
       "    <tr>\n",
       "      <th>0</th>\n",
       "      <td>2021</td>\n",
       "      <td>FTU2</td>\n",
       "      <td>DT</td>\n",
       "      <td>NTS01</td>\n",
       "      <td>7310101</td>\n",
       "      <td>Kinh tế</td>\n",
       "      <td>D01</td>\n",
       "      <td>Tốt nghiệp THPT</td>\n",
       "      <td>30</td>\n",
       "      <td>28.55</td>\n",
       "    </tr>\n",
       "    <tr>\n",
       "      <th>1</th>\n",
       "      <td>2021</td>\n",
       "      <td>GDU</td>\n",
       "      <td>DT</td>\n",
       "      <td>7380101</td>\n",
       "      <td>73801</td>\n",
       "      <td>Luật</td>\n",
       "      <td>A01</td>\n",
       "      <td>Tốt nghiệp THPT</td>\n",
       "      <td>30</td>\n",
       "      <td>15.00</td>\n",
       "    </tr>\n",
       "    <tr>\n",
       "      <th>2</th>\n",
       "      <td>2021</td>\n",
       "      <td>GDU</td>\n",
       "      <td>DT</td>\n",
       "      <td>7380101</td>\n",
       "      <td>73801</td>\n",
       "      <td>Luật</td>\n",
       "      <td>XDHB</td>\n",
       "      <td>Xét học bạ</td>\n",
       "      <td>30</td>\n",
       "      <td>16.50</td>\n",
       "    </tr>\n",
       "    <tr>\n",
       "      <th>3</th>\n",
       "      <td>2021</td>\n",
       "      <td>GDU</td>\n",
       "      <td>DT</td>\n",
       "      <td>7480201</td>\n",
       "      <td>74802</td>\n",
       "      <td>Công nghệ thông tin</td>\n",
       "      <td>A01</td>\n",
       "      <td>Tốt nghiệp THPT</td>\n",
       "      <td>30</td>\n",
       "      <td>16.00</td>\n",
       "    </tr>\n",
       "    <tr>\n",
       "      <th>4</th>\n",
       "      <td>2021</td>\n",
       "      <td>GDU</td>\n",
       "      <td>DT</td>\n",
       "      <td>7480201</td>\n",
       "      <td>74802</td>\n",
       "      <td>Công nghệ thông tin</td>\n",
       "      <td>A01</td>\n",
       "      <td>Tốt nghiệp THPT</td>\n",
       "      <td>30</td>\n",
       "      <td>16.50</td>\n",
       "    </tr>\n",
       "    <tr>\n",
       "      <th>...</th>\n",
       "      <td>...</td>\n",
       "      <td>...</td>\n",
       "      <td>...</td>\n",
       "      <td>...</td>\n",
       "      <td>...</td>\n",
       "      <td>...</td>\n",
       "      <td>...</td>\n",
       "      <td>...</td>\n",
       "      <td>...</td>\n",
       "      <td>...</td>\n",
       "    </tr>\n",
       "    <tr>\n",
       "      <th>7707</th>\n",
       "      <td>2023</td>\n",
       "      <td>VNUHCM-USSH</td>\n",
       "      <td>DT</td>\n",
       "      <td>7760101</td>\n",
       "      <td>7760101</td>\n",
       "      <td>Công tác xã hội</td>\n",
       "      <td>C00</td>\n",
       "      <td>Tốt nghiệp THPT</td>\n",
       "      <td>30</td>\n",
       "      <td>24.70</td>\n",
       "    </tr>\n",
       "    <tr>\n",
       "      <th>7708</th>\n",
       "      <td>2023</td>\n",
       "      <td>VNUHCM-USSH</td>\n",
       "      <td>DT</td>\n",
       "      <td>7760101</td>\n",
       "      <td>7760101</td>\n",
       "      <td>Công tác xã hội</td>\n",
       "      <td>DGNL</td>\n",
       "      <td>Đánh giá năng lực ĐHQG-HCM</td>\n",
       "      <td>1200</td>\n",
       "      <td>670.00</td>\n",
       "    </tr>\n",
       "    <tr>\n",
       "      <th>7709</th>\n",
       "      <td>2023</td>\n",
       "      <td>VNUHCM-USSH</td>\n",
       "      <td>DT</td>\n",
       "      <td>7810103</td>\n",
       "      <td>7810103</td>\n",
       "      <td>Quản trị dịch vụ du lịch và lữ hành</td>\n",
       "      <td>D01</td>\n",
       "      <td>Tốt nghiệp THPT</td>\n",
       "      <td>30</td>\n",
       "      <td>25.80</td>\n",
       "    </tr>\n",
       "    <tr>\n",
       "      <th>7710</th>\n",
       "      <td>2023</td>\n",
       "      <td>VNUHCM-USSH</td>\n",
       "      <td>DT</td>\n",
       "      <td>7810103</td>\n",
       "      <td>7810103</td>\n",
       "      <td>Quản trị dịch vụ du lịch và lữ hành</td>\n",
       "      <td>C00</td>\n",
       "      <td>Tốt nghiệp THPT</td>\n",
       "      <td>30</td>\n",
       "      <td>27.40</td>\n",
       "    </tr>\n",
       "    <tr>\n",
       "      <th>7711</th>\n",
       "      <td>2023</td>\n",
       "      <td>VNUHCM-USSH</td>\n",
       "      <td>DT</td>\n",
       "      <td>7810103</td>\n",
       "      <td>7810103</td>\n",
       "      <td>Quản trị dịch vụ du lịch và lữ hành</td>\n",
       "      <td>DGNL</td>\n",
       "      <td>Đánh giá năng lực ĐHQG-HCM</td>\n",
       "      <td>1200</td>\n",
       "      <td>790.00</td>\n",
       "    </tr>\n",
       "  </tbody>\n",
       "</table>\n",
       "<p>7712 rows × 10 columns</p>\n",
       "</div>"
      ],
      "text/plain": [
       "      year university_code program_type uni_major_code  major_code  \\\n",
       "0     2021            FTU2           DT          NTS01     7310101   \n",
       "1     2021             GDU           DT        7380101       73801   \n",
       "2     2021             GDU           DT        7380101       73801   \n",
       "3     2021             GDU           DT        7480201       74802   \n",
       "4     2021             GDU           DT        7480201       74802   \n",
       "...    ...             ...          ...            ...         ...   \n",
       "7707  2023     VNUHCM-USSH           DT        7760101     7760101   \n",
       "7708  2023     VNUHCM-USSH           DT        7760101     7760101   \n",
       "7709  2023     VNUHCM-USSH           DT        7810103     7810103   \n",
       "7710  2023     VNUHCM-USSH           DT        7810103     7810103   \n",
       "7711  2023     VNUHCM-USSH           DT        7810103     7810103   \n",
       "\n",
       "                               major_name subject_group_code  \\\n",
       "0                                 Kinh tế                D01   \n",
       "1                                    Luật                A01   \n",
       "2                                    Luật               XDHB   \n",
       "3                     Công nghệ thông tin                A01   \n",
       "4                     Công nghệ thông tin                A01   \n",
       "...                                   ...                ...   \n",
       "7707                      Công tác xã hội                C00   \n",
       "7708                      Công tác xã hội               DGNL   \n",
       "7709  Quản trị dịch vụ du lịch và lữ hành                D01   \n",
       "7710  Quản trị dịch vụ du lịch và lữ hành                C00   \n",
       "7711  Quản trị dịch vụ du lịch và lữ hành               DGNL   \n",
       "\n",
       "                admission_method  score_scale  benchmark_score  \n",
       "0                Tốt nghiệp THPT           30            28.55  \n",
       "1                Tốt nghiệp THPT           30            15.00  \n",
       "2                     Xét học bạ           30            16.50  \n",
       "3                Tốt nghiệp THPT           30            16.00  \n",
       "4                Tốt nghiệp THPT           30            16.50  \n",
       "...                          ...          ...              ...  \n",
       "7707             Tốt nghiệp THPT           30            24.70  \n",
       "7708  Đánh giá năng lực ĐHQG-HCM         1200           670.00  \n",
       "7709             Tốt nghiệp THPT           30            25.80  \n",
       "7710             Tốt nghiệp THPT           30            27.40  \n",
       "7711  Đánh giá năng lực ĐHQG-HCM         1200           790.00  \n",
       "\n",
       "[7712 rows x 10 columns]"
      ]
     },
     "execution_count": 109,
     "metadata": {},
     "output_type": "execute_result"
    }
   ],
   "source": [
    "df"
   ]
  },
  {
   "cell_type": "markdown",
   "id": "3420bf7f",
   "metadata": {},
   "source": [
    "xuất ra file csv để tiếp tục trực quan và nghiên cứu ML"
   ]
  },
  {
   "cell_type": "code",
   "execution_count": 108,
   "id": "ec886b3d",
   "metadata": {},
   "outputs": [],
   "source": [
    "# df.to_csv('benchmark_scores_2021_2023_cleaned.csv', index=False)"
   ]
  }
 ],
 "metadata": {
  "kernelspec": {
   "display_name": "Python 3",
   "language": "python",
   "name": "python3"
  },
  "language_info": {
   "codemirror_mode": {
    "name": "ipython",
    "version": 3
   },
   "file_extension": ".py",
   "mimetype": "text/x-python",
   "name": "python",
   "nbconvert_exporter": "python",
   "pygments_lexer": "ipython3",
   "version": "3.10.2"
  }
 },
 "nbformat": 4,
 "nbformat_minor": 5
}
