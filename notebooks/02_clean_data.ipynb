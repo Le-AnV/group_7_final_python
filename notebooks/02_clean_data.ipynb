{
 "cells": [
  {
   "cell_type": "markdown",
   "id": "c90afb14",
   "metadata": {},
   "source": [
    "## Clean data set"
   ]
  },
  {
   "cell_type": "code",
   "execution_count": 353,
   "id": "ac7fc747",
   "metadata": {},
   "outputs": [],
   "source": [
    "import pandas as pd \n",
    "import matplotlib.pyplot as plt\n",
    "import seaborn as sns"
   ]
  },
  {
   "cell_type": "markdown",
   "id": "6987c524",
   "metadata": {},
   "source": [
    "---"
   ]
  },
  {
   "cell_type": "markdown",
   "id": "11927e38",
   "metadata": {},
   "source": [
    "#### Gộp dữ liệu năm 21,22,23 lại thành 1 DataFrame"
   ]
  },
  {
   "cell_type": "code",
   "execution_count": 354,
   "id": "29f59e7c",
   "metadata": {},
   "outputs": [],
   "source": [
    "uni_21 = pd.read_csv('../data/raw/raw_benchmark_scores_hcm_2021.csv')\n",
    "uni_22 = pd.read_csv('../data/raw/raw_benchmark_scores_hcm_2022.csv')\n",
    "uni_23 = pd.read_csv('../data/raw/raw_benchmark_scores_hcm_2023.csv')"
   ]
  },
  {
   "cell_type": "code",
   "execution_count": 355,
   "id": "1884a3b9",
   "metadata": {},
   "outputs": [],
   "source": [
    "# Thêm vào các năm tương ứng với từng dataset\n",
    "uni_21['year_'] = 2021\n",
    "uni_22['year_'] = 2022\n",
    "uni_23['year_'] = 2023"
   ]
  },
  {
   "cell_type": "code",
   "execution_count": 356,
   "id": "0cdf9d66",
   "metadata": {},
   "outputs": [],
   "source": [
    "# Ghép các dataframe lại với nhau\n",
    "df = pd.concat([uni_21,uni_22,uni_23],ignore_index=True)"
   ]
  },
  {
   "cell_type": "code",
   "execution_count": 357,
   "id": "40df0255",
   "metadata": {},
   "outputs": [],
   "source": [
    "df = df[['year_','university_code','specialized_major','major_code','major_name','subject_group_code','note','benchmark_score']]"
   ]
  },
  {
   "cell_type": "code",
   "execution_count": 358,
   "id": "4e973dd5",
   "metadata": {},
   "outputs": [
    {
     "name": "stdout",
     "output_type": "stream",
     "text": [
      "<class 'pandas.core.frame.DataFrame'>\n",
      "RangeIndex: 6759 entries, 0 to 6758\n",
      "Data columns (total 8 columns):\n",
      " #   Column              Non-Null Count  Dtype  \n",
      "---  ------              --------------  -----  \n",
      " 0   year_               6759 non-null   int64  \n",
      " 1   university_code     6759 non-null   object \n",
      " 2   specialized_major   2227 non-null   object \n",
      " 3   major_code          6759 non-null   object \n",
      " 4   major_name          6759 non-null   object \n",
      " 5   subject_group_code  6759 non-null   object \n",
      " 6   note                5888 non-null   object \n",
      " 7   benchmark_score     6759 non-null   float64\n",
      "dtypes: float64(1), int64(1), object(6)\n",
      "memory usage: 422.6+ KB\n"
     ]
    }
   ],
   "source": [
    "df.info()"
   ]
  },
  {
   "cell_type": "markdown",
   "id": "c4623434",
   "metadata": {},
   "source": [
    "---"
   ]
  },
  {
   "cell_type": "markdown",
   "id": "f2a8afba",
   "metadata": {},
   "source": [
    "#### Tổng quan về dữ liệu"
   ]
  },
  {
   "cell_type": "markdown",
   "id": "edc12dbe",
   "metadata": {},
   "source": [
    "- Bảng chứa thông tin chuyển sinh các trường đại học tại TP. HCM với nhiều chuyên ngành khác nhau.\n",
    "- Mỗi hàng tương ứng với các ngành đào tạo, điểm chuẩn và phương thức xét tuyển.\n",
    "- Các cột chính trong bảng:\n",
    "    - `year_`: Năm xét tuyển\n",
    "    - `university_code`: Mã trường\n",
    "    - `specialized_major`: Chuyên ngành\n",
    "    - `major_name`: Ngành\n",
    "    - `major_code`: Mã ngành (Mỗi trường thường sẽ có mã ngành khác nhau cho từng ngành học)\n",
    "    - `subject_group_code`: Mã tổ hợp môn thi\n",
    "    - `benchmark_score`: Điểm chuẩn trúng tuyển vào ngành (có nhiều thanh điểm)\n",
    "    - `note`: Phương thức xét tuyển"
   ]
  },
  {
   "cell_type": "markdown",
   "id": "1f7ba4fc",
   "metadata": {},
   "source": [
    "---"
   ]
  },
  {
   "cell_type": "markdown",
   "id": "df0a637c",
   "metadata": {},
   "source": [
    "#### Xác định vấn đề cần giải quyết"
   ]
  },
  {
   "cell_type": "markdown",
   "id": "f45048d1",
   "metadata": {},
   "source": [
    "- Thêm hệ đào tạo\n",
    "- Xử lý phương thức thi `note`\n",
    "    + Tốt nghiệp THPT\n",
    "    + Đánh giá năng lực Đại học Quốc gia TPHCM (`subject_group_code` == DGNL và `note`)\n",
    "    + Xét học bạ (dựa vào `subject_group_code` == XDHB và `note`)\n",
    "\n",
    "- Xử lý điểm `benchmark_score`\n",
    "    + Học bạ và Tốt nghiệp THPT between 1 và 30\n",
    "    + Đánh giá năng lực Đại học Quốc gia TPHCM between 550 và 1200\n",
    "\n",
    "- Xử lý tổ hợp môn thi `subject_group_code`\n",
    "    + Chuẩn hoá dữ liệu, ô chứa đa trị -> chứa 1 dữ liệu duy nhất\n",
    "\n",
    "- Drop duplicated, missing data, ...\n",
    "- Thêm mã ngành theo đúng quy chuẩn của bộ"
   ]
  },
  {
   "cell_type": "markdown",
   "id": "f71e34d0",
   "metadata": {},
   "source": [
    "---"
   ]
  },
  {
   "cell_type": "markdown",
   "id": "50575392",
   "metadata": {},
   "source": [
    "#### Bước 1: thêm hệ đào tạo"
   ]
  },
  {
   "cell_type": "code",
   "execution_count": 359,
   "id": "548e312a",
   "metadata": {},
   "outputs": [],
   "source": [
    "df['note'] = df['note'].str.lower()"
   ]
  },
  {
   "cell_type": "code",
   "execution_count": 360,
   "id": "112ce28c",
   "metadata": {},
   "outputs": [
    {
     "data": {
      "application/vnd.microsoft.datawrangler.viewer.v0+json": {
       "columns": [
        {
         "name": "note",
         "rawType": "object",
         "type": "string"
        },
        {
         "name": "count",
         "rawType": "int64",
         "type": "integer"
        }
       ],
       "conversionMethod": "pd.DataFrame",
       "ref": "90dfb4f6-ec17-436e-a9be-e8b8487ffcdc",
       "rows": [
        [
         "điểm thi tn thpt",
         "1002"
        ],
        [
         "tốt nghiệp thpt",
         "748"
        ],
        [
         "học bạ",
         "561"
        ],
        [
         "đánh giá năng lực đại học quốc gia tphcm",
         "328"
        ],
        [
         "xét học bạ",
         "303"
        ],
        [
         "tn thpt",
         "282"
        ],
        [
         "điểm tn thpt",
         "159"
        ],
        [
         "xét điểm học bạ",
         "55"
        ],
        [
         "tốt nghiệp thpt; clc",
         "47"
        ],
        [
         "clc",
         "46"
        ],
        [
         "xét kết hợp điểm hợp đgnl, tn thpt, học bạ",
         "39"
        ],
        [
         "xét học bạ; điểm 3 năm học; điểm tổ hợp 3 môn",
         "35"
        ],
        [
         "xét học bạ; điểm 5 học kỳ",
         "35"
        ],
        [
         "hb cả năm lớp 12",
         "30"
        ],
        [
         "hb cả năm lớp 10, 11 & hk1 lớp 12",
         "28"
        ],
        [
         "xét học bạ\r\ntoán*2",
         "22"
        ],
        [
         "chất lượng cao\r\nđiểm thi tn thpt",
         "22"
        ],
        [
         "chất lượng cao; tốt nghiệp thpt",
         "22"
        ],
        [
         "chất lượng cao",
         "21"
        ],
        [
         "tốt nghiệp thpt; điểm thi tn thpt theo tổ hợp xét tuyển x 3",
         "20"
        ],
        [
         "học bạ, phân hiệu vĩnh long",
         "20"
        ],
        [
         "học bạ; chương trinh clc",
         "20"
        ],
        [
         "tốt nghiệp thpt; clc - tiếng việt",
         "19"
        ],
        [
         "tốt nghiệp thpt; điểm thi tn thpt theo tổ hợp xét tuyển x 3; chương trình tiên tiến",
         "19"
        ],
        [
         "đánh giá năng lực đại học quốc gia tphcm; chương trình clc",
         "19"
        ],
        [
         "ct chất lượng cao",
         "19"
        ],
        [
         "clc tiếng việt; đánh giá năng lực đại học quốc gia tphcm",
         "19"
        ],
        [
         "clc tiếng việt; học bạ",
         "19"
        ],
        [
         "điểm chuẩn = (tổng điểm trung bình 3 năm thpt của các môn trong tổ hợp đăng ký xét tuyển + tổng điểm thi thpt 2021 của các môn trong tổ hợp đăng ký xét tuyển)/2 + điểm ưu tiên (nếu có)).",
         "18"
        ],
        [
         "chương trình đại học bằng tiếng anh; tốt nghiệp thpt",
         "18"
        ],
        [
         "toán nhân đôi\r\nhọc bạ",
         "17"
        ],
        [
         "học bạ; điểm toán*2",
         "17"
        ],
        [
         "điểm thi tn thpt\r\nclc",
         "16"
        ],
        [
         "hệ đại trà",
         "15"
        ],
        [
         "18: học bạ lớp 12\r\n30: học bạ 5 học kỳ",
         "15"
        ],
        [
         "điểm môn toán nhân hệ số 2\r\nđiểm thi tn thpt",
         "15"
        ],
        [
         "học bạ\r\ntổng điểm trung bình (điểm trung bình lớp 10 + điểm trung bình lớp 11 + điểm trung bình học kỳ 1 lớp 12)/3",
         "14"
        ],
        [
         "học bạ\r\nct chất lượng cao",
         "14"
        ],
        [
         "toán*2\r\nđiểm thi tn thpt",
         "14"
        ],
        [
         "clc, điểm thi tn thpt",
         "13"
        ],
        [
         "chương trình chất lượng cao",
         "13"
        ],
        [
         "clc tiếng anh; đánh giá năng lực đại học quốc gia tphcm",
         "13"
        ],
        [
         "tốt nghiệp thpt; clc - tiếng anh",
         "13"
        ],
        [
         "clc tiếng anh; học bạ",
         "13"
        ],
        [
         "ct liên kết quốc tế 2+2 với asu",
         "12"
        ],
        [
         "chất lượng cao, điểm tn thpt",
         "12"
        ],
        [
         "clc bằng tiếng anh",
         "12"
        ],
        [
         "ct chất lượng cao\r\nđiểm thi tn thpt",
         "12"
        ],
        [
         "luật kinh tế",
         "12"
        ],
        [
         "ct đh bằng tiếng anh",
         "12"
        ]
       ],
       "shape": {
        "columns": 1,
        "rows": 984
       }
      },
      "text/html": [
       "<div>\n",
       "<style scoped>\n",
       "    .dataframe tbody tr th:only-of-type {\n",
       "        vertical-align: middle;\n",
       "    }\n",
       "\n",
       "    .dataframe tbody tr th {\n",
       "        vertical-align: top;\n",
       "    }\n",
       "\n",
       "    .dataframe thead th {\n",
       "        text-align: right;\n",
       "    }\n",
       "</style>\n",
       "<table border=\"1\" class=\"dataframe\">\n",
       "  <thead>\n",
       "    <tr style=\"text-align: right;\">\n",
       "      <th></th>\n",
       "      <th>count</th>\n",
       "    </tr>\n",
       "    <tr>\n",
       "      <th>note</th>\n",
       "      <th></th>\n",
       "    </tr>\n",
       "  </thead>\n",
       "  <tbody>\n",
       "    <tr>\n",
       "      <th>điểm thi tn thpt</th>\n",
       "      <td>1002</td>\n",
       "    </tr>\n",
       "    <tr>\n",
       "      <th>tốt nghiệp thpt</th>\n",
       "      <td>748</td>\n",
       "    </tr>\n",
       "    <tr>\n",
       "      <th>học bạ</th>\n",
       "      <td>561</td>\n",
       "    </tr>\n",
       "    <tr>\n",
       "      <th>đánh giá năng lực đại học quốc gia tphcm</th>\n",
       "      <td>328</td>\n",
       "    </tr>\n",
       "    <tr>\n",
       "      <th>xét học bạ</th>\n",
       "      <td>303</td>\n",
       "    </tr>\n",
       "    <tr>\n",
       "      <th>...</th>\n",
       "      <td>...</td>\n",
       "    </tr>\n",
       "    <tr>\n",
       "      <th>tốt nghiệp thpt; hệ thống nhúng và iot</th>\n",
       "      <td>1</td>\n",
       "    </tr>\n",
       "    <tr>\n",
       "      <th>chuyên ngành thiết kế vi mạch; đánh giá năng lực đại học quốc gia tphcm</th>\n",
       "      <td>1</td>\n",
       "    </tr>\n",
       "    <tr>\n",
       "      <th>chuyên ngành hệ thống nhúng và iot; đánh giá năng lực đại học quốc gia tphcm</th>\n",
       "      <td>1</td>\n",
       "    </tr>\n",
       "    <tr>\n",
       "      <th>tốt nghiệp thpt; chuyên ngành thiết kế vi mạch</th>\n",
       "      <td>1</td>\n",
       "    </tr>\n",
       "    <tr>\n",
       "      <th>tốt nghiệp thpt; chuyên ngành điều khiển và quản lý tàu biển</th>\n",
       "      <td>1</td>\n",
       "    </tr>\n",
       "  </tbody>\n",
       "</table>\n",
       "<p>984 rows × 1 columns</p>\n",
       "</div>"
      ],
      "text/plain": [
       "                                                    count\n",
       "note                                                     \n",
       "điểm thi tn thpt                                     1002\n",
       "tốt nghiệp thpt                                       748\n",
       "học bạ                                                561\n",
       "đánh giá năng lực đại học quốc gia tphcm              328\n",
       "xét học bạ                                            303\n",
       "...                                                   ...\n",
       "tốt nghiệp thpt; hệ thống nhúng và iot                  1\n",
       "chuyên ngành thiết kế vi mạch; đánh giá năng lự...      1\n",
       "chuyên ngành hệ thống nhúng và iot; đánh giá nă...      1\n",
       "tốt nghiệp thpt; chuyên ngành thiết kế vi mạch          1\n",
       "tốt nghiệp thpt; chuyên ngành điều khiển và quả...      1\n",
       "\n",
       "[984 rows x 1 columns]"
      ]
     },
     "execution_count": 360,
     "metadata": {},
     "output_type": "execute_result"
    }
   ],
   "source": [
    "df['note'].value_counts().to_frame()"
   ]
  },
  {
   "cell_type": "code",
   "execution_count": 361,
   "id": "b7ef1233",
   "metadata": {},
   "outputs": [],
   "source": [
    "criterion_lst = [\n",
    "    'chất lượng cao',\n",
    "    'clc',\n",
    "    'ctlk',\n",
    "    'chương trình tiên tiến',\n",
    "    'chương trình tài năng',\n",
    "    'chương trình quốc tế',\n",
    "    'chương trình liên kết quốc tế',\n",
    "    'chất lượng cao tiếng anh',\n",
    "    'clc tiếng anh',\n",
    "    'clc tiếng việt',\n",
    "    'chất lượng cao tiếng việt',\n",
    "    'chất lượng cao định hướng nhật',\n",
    "    'chất lượng cao việt nhật',\n",
    "    'chương trình việt-pháp',\n",
    "    'chương trình đại học chính quy quốc tế cấp song bằng',\n",
    "    'chương trình đại học chính quy quốc tế song bằng',\n",
    "    'ct liên kết quốc tế 2+2'\n",
    "]"
   ]
  },
  {
   "cell_type": "code",
   "execution_count": 362,
   "id": "481f6870",
   "metadata": {},
   "outputs": [],
   "source": [
    "df['program_type'] = df['note'].str.contains('|'.join(criterion_lst), case=False, na=False).map({True: 'CLC', False: 'DT'})"
   ]
  },
  {
   "cell_type": "markdown",
   "id": "e385ba20",
   "metadata": {},
   "source": [
    "---"
   ]
  },
  {
   "cell_type": "markdown",
   "id": "d1f1a7c3",
   "metadata": {},
   "source": [
    "#### Bước 2: Xử lý phương thức xét tuyển"
   ]
  },
  {
   "cell_type": "markdown",
   "id": "3cb8146d",
   "metadata": {},
   "source": [
    "Dựa vào `note` để phân loại chính nó, các phương thức xét tuyển"
   ]
  },
  {
   "cell_type": "code",
   "execution_count": 363,
   "id": "f611d2c7",
   "metadata": {},
   "outputs": [],
   "source": [
    "# Lọc các phương thức có 'thpt' -> Tốt nghiệp THPT \n",
    "mask_thpt = df['note'].str.contains('thpt',na=False)\n",
    "df.loc[mask_thpt,'note'] = 'Tốt nghiệp THPT'\n",
    "\n",
    "# Lọc các phương thức có 'học bạ' -> Xét học bạ\n",
    "mask_hocBa = df['note'].str.contains('học bạ',na=False)\n",
    "df.loc[mask_hocBa,'note'] = 'Xét học bạ'\n",
    "\n",
    "# Lọc các phương thức có 'đánh giá' -> Đánh giá năng lực ĐHQG-HCM\n",
    "mask_danhGiaNangLuc = df['note'].str.contains('đánh giá',na=False)\n",
    "df.loc[mask_danhGiaNangLuc,'note'] = 'Đánh giá năng lực ĐHQG-HCM'"
   ]
  },
  {
   "cell_type": "markdown",
   "id": "42f52d69",
   "metadata": {},
   "source": [
    "Dựa vào `subject_group_code` để phân loại các phương thức xét tuyển"
   ]
  },
  {
   "cell_type": "code",
   "execution_count": 364,
   "id": "b266b012",
   "metadata": {},
   "outputs": [
    {
     "data": {
      "application/vnd.microsoft.datawrangler.viewer.v0+json": {
       "columns": [
        {
         "name": "subject_group_code",
         "rawType": "object",
         "type": "string"
        },
        {
         "name": "count",
         "rawType": "int64",
         "type": "integer"
        }
       ],
       "conversionMethod": "pd.DataFrame",
       "ref": "ee1e856c-77ff-4b05-9758-d10b5d07c342",
       "rows": [
        [
         "DGNLHCM",
         "1162"
        ],
        [
         "A00, A01, D01, D07",
         "383"
        ],
        [
         "A00, A01",
         "236"
        ],
        [
         "A00, A01, D01",
         "231"
        ],
        [
         "A00",
         "192"
        ],
        [
         "DGNL",
         "191"
        ],
        [
         "A00, A01, D01, C00",
         "190"
        ],
        [
         "A00, A01, D01, D07, XDHB",
         "166"
        ],
        [
         "A00, A01, D01, D90",
         "157"
        ],
        [
         "XDHB",
         "147"
        ],
        [
         "D01",
         "120"
        ],
        [
         "A00, A01, D01, C01",
         "118"
        ],
        [
         "A00, A01, D01, C00, XDHB",
         "116"
        ],
        [
         "B00",
         "100"
        ],
        [
         "A01",
         "83"
        ],
        [
         "A00, A01, D01, C01, XDHB",
         "79"
        ],
        [
         "C00",
         "78"
        ],
        [
         "A00, A01, XDHB",
         "73"
        ],
        [
         "A00, A01, D01, D90, XDHB",
         "73"
        ],
        [
         "A00, B00, A01, D07",
         "72"
        ],
        [
         "A00, A01, D01, D96",
         "69"
        ],
        [
         "D01, XDHB",
         "68"
        ],
        [
         "A00, B00, D90, D07",
         "60"
        ],
        [
         "A00, A01, D01, D96, XDHB",
         "56"
        ],
        [
         "A00, B00, D07, D08",
         "50"
        ],
        [
         "A00, A01, D01, XDHB",
         "47"
        ],
        [
         "A00, A01, D90, C01",
         "45"
        ],
        [
         "A00, A01, D90, C01, XDHB",
         "44"
        ],
        [
         "A01, D01, D90",
         "43"
        ],
        [
         "A01, XDHB",
         "42"
        ],
        [
         "A00, A01, D07",
         "42"
        ],
        [
         "A00, A01, D01, D10",
         "41"
        ],
        [
         "A00, B00, A01, D07, XDHB",
         "40"
        ],
        [
         "A01, D01, D14, D15",
         "40"
        ],
        [
         "A00, B00, D90, D07, XDHB",
         "36"
        ],
        [
         "A00, A01, D01, D10, XDHB",
         "35"
        ],
        [
         "V00, V01",
         "34"
        ],
        [
         "D01, D14",
         "30"
        ],
        [
         "A01, D01, D14, D15, XDHB",
         "26"
        ],
        [
         "A00, A01, D01, C04",
         "25"
        ],
        [
         "D14",
         "24"
        ],
        [
         "A00, A01, C01, D01",
         "23"
        ],
        [
         "A00, A01, C00, D01",
         "22"
        ],
        [
         "A00, A01, D01, D09, D03",
         "22"
        ],
        [
         "A00, B00, D07",
         "22"
        ],
        [
         "A00, A01, D01, D03, D09, XDHB",
         "21"
        ],
        [
         "A01, D01, D96, C01",
         "21"
        ],
        [
         "D14, XDHB",
         "21"
        ],
        [
         "A00, A01, D01, C04, XDHB",
         "21"
        ],
        [
         "A00, A01, D01, D03, D09",
         "21"
        ]
       ],
       "shape": {
        "columns": 1,
        "rows": 511
       }
      },
      "text/html": [
       "<div>\n",
       "<style scoped>\n",
       "    .dataframe tbody tr th:only-of-type {\n",
       "        vertical-align: middle;\n",
       "    }\n",
       "\n",
       "    .dataframe tbody tr th {\n",
       "        vertical-align: top;\n",
       "    }\n",
       "\n",
       "    .dataframe thead th {\n",
       "        text-align: right;\n",
       "    }\n",
       "</style>\n",
       "<table border=\"1\" class=\"dataframe\">\n",
       "  <thead>\n",
       "    <tr style=\"text-align: right;\">\n",
       "      <th></th>\n",
       "      <th>count</th>\n",
       "    </tr>\n",
       "    <tr>\n",
       "      <th>subject_group_code</th>\n",
       "      <th></th>\n",
       "    </tr>\n",
       "  </thead>\n",
       "  <tbody>\n",
       "    <tr>\n",
       "      <th>DGNLHCM</th>\n",
       "      <td>1162</td>\n",
       "    </tr>\n",
       "    <tr>\n",
       "      <th>A00, A01, D01, D07</th>\n",
       "      <td>383</td>\n",
       "    </tr>\n",
       "    <tr>\n",
       "      <th>A00, A01</th>\n",
       "      <td>236</td>\n",
       "    </tr>\n",
       "    <tr>\n",
       "      <th>A00, A01, D01</th>\n",
       "      <td>231</td>\n",
       "    </tr>\n",
       "    <tr>\n",
       "      <th>A00</th>\n",
       "      <td>192</td>\n",
       "    </tr>\n",
       "    <tr>\n",
       "      <th>...</th>\n",
       "      <td>...</td>\n",
       "    </tr>\n",
       "    <tr>\n",
       "      <th>B00, B08</th>\n",
       "      <td>1</td>\n",
       "    </tr>\n",
       "    <tr>\n",
       "      <th>D15</th>\n",
       "      <td>1</td>\n",
       "    </tr>\n",
       "    <tr>\n",
       "      <th>B08, A01, D01, B04, D03</th>\n",
       "      <td>1</td>\n",
       "    </tr>\n",
       "    <tr>\n",
       "      <th>A00, A01, D01, D07, D03, XDHB</th>\n",
       "      <td>1</td>\n",
       "    </tr>\n",
       "    <tr>\n",
       "      <th>B08, A01, D01, B04, D03, XDHB</th>\n",
       "      <td>1</td>\n",
       "    </tr>\n",
       "  </tbody>\n",
       "</table>\n",
       "<p>511 rows × 1 columns</p>\n",
       "</div>"
      ],
      "text/plain": [
       "                               count\n",
       "subject_group_code                  \n",
       "DGNLHCM                         1162\n",
       "A00, A01, D01, D07               383\n",
       "A00, A01                         236\n",
       "A00, A01, D01                    231\n",
       "A00                              192\n",
       "...                              ...\n",
       "B00, B08                           1\n",
       "D15                                1\n",
       "B08, A01, D01, B04, D03            1\n",
       "A00, A01, D01, D07, D03, XDHB      1\n",
       "B08, A01, D01, B04, D03, XDHB      1\n",
       "\n",
       "[511 rows x 1 columns]"
      ]
     },
     "execution_count": 364,
     "metadata": {},
     "output_type": "execute_result"
    }
   ],
   "source": [
    "df.loc[:,'subject_group_code'].value_counts().to_frame()"
   ]
  },
  {
   "cell_type": "code",
   "execution_count": 365,
   "id": "ba31ee13",
   "metadata": {},
   "outputs": [],
   "source": [
    "# Trong tổ hợp có 2 cách viết đánh giá năng lực -> chuyển về thành 1 'DGNL'. Nhất quán về dữ liệu\n",
    "df.loc[:,'subject_group_code']=df.loc[:,'subject_group_code'].str.replace('DGNLHCM','DGNL')"
   ]
  },
  {
   "cell_type": "code",
   "execution_count": 366,
   "id": "8389c98a",
   "metadata": {},
   "outputs": [],
   "source": [
    "# subject_group_code == XDHB -> Xét học bạ\n",
    "df.loc[df['subject_group_code'].str.contains('XDHB', na=False), 'note'] = 'Xét học bạ'\n",
    "\n",
    "# subject_group_code == DGNL -> Đánh giá năng lực ĐHQG-HCM\n",
    "df.loc[df['subject_group_code'].str.contains('DGNL', na=False), 'note'] = 'Đánh giá năng lực ĐHQG-HCM'"
   ]
  },
  {
   "cell_type": "markdown",
   "id": "2a633aee",
   "metadata": {},
   "source": [
    "Tập trung dữ liệu vào 3 phương thức xét tuyển chính"
   ]
  },
  {
   "cell_type": "code",
   "execution_count": 367,
   "id": "6687a16b",
   "metadata": {},
   "outputs": [],
   "source": [
    "lst_admission_method = ['Tốt nghiệp THPT','Xét học bạ','Đánh giá năng lực ĐHQG-HCM']\n",
    "\n",
    "correct_method = df['note'].isin(lst_admission_method)\n",
    "\n",
    "# Chuyển các phương thức không nằm trong danh sách trên về None\n",
    "df.loc[~correct_method,'note'] = None"
   ]
  },
  {
   "cell_type": "code",
   "execution_count": 368,
   "id": "9e4cfd79",
   "metadata": {},
   "outputs": [
    {
     "data": {
      "text/plain": [
       "note\n",
       "Tốt nghiệp THPT               3203\n",
       "Xét học bạ                    1762\n",
       "Đánh giá năng lực ĐHQG-HCM    1371\n",
       "Name: count, dtype: int64"
      ]
     },
     "execution_count": 368,
     "metadata": {},
     "output_type": "execute_result"
    }
   ],
   "source": [
    "df['note'].value_counts()"
   ]
  },
  {
   "cell_type": "markdown",
   "id": "c325b64d",
   "metadata": {},
   "source": [
    "---"
   ]
  },
  {
   "cell_type": "markdown",
   "id": "1599af32",
   "metadata": {},
   "source": [
    "#### Bước 3: Xử lý điểm chuẩn"
   ]
  },
  {
   "cell_type": "code",
   "execution_count": 369,
   "id": "18820171",
   "metadata": {},
   "outputs": [],
   "source": [
    "method_exam = df['note']\n",
    "score = df['benchmark_score']"
   ]
  },
  {
   "cell_type": "code",
   "execution_count": 370,
   "id": "a0b569ce",
   "metadata": {},
   "outputs": [],
   "source": [
    "# Điều kiện điểm chuẩn phù hợp của Thi THPT\n",
    "cond_1 = ((method_exam == 'Xét học bạ') | (method_exam == 'Tốt nghiệp THPT')) & ((score > 0.0) & (score <= 30.0))\n",
    "\n",
    "# Điều kiện điểm chuẩn phù hợp của thi DGNLHCM\n",
    "cond_2 = ((method_exam == 'Đánh giá năng lực ĐHQG-HCM') & ((score >= 550.0) & (score <= 1200.0)))\n",
    "\n",
    "# Điều kiện điểm chuẩn không hợp lệ của phương thức khác, đang ở thang điểm 10\n",
    "cond_3 =(( method_exam == 'Tốt nghiệp THPT') | (method_exam == 'Xét học bạ')) & (score < 10.0)\n",
    "\n",
    "# Kết hợp 2 điều kiện cho 2 phương thức khác nhau\n",
    "valid_cond = cond_1 | cond_2"
   ]
  },
  {
   "cell_type": "code",
   "execution_count": 371,
   "id": "351b4341",
   "metadata": {},
   "outputs": [],
   "source": [
    "# Gán None cho các dữ liệu không đạt\n",
    "df.loc[~valid_cond,'benchmark_score'] = None"
   ]
  },
  {
   "cell_type": "code",
   "execution_count": 372,
   "id": "a5c6616d",
   "metadata": {},
   "outputs": [],
   "source": [
    "df.loc[cond_3, 'benchmark_score'] = df.loc[cond_3, 'benchmark_score'] * 3.0"
   ]
  },
  {
   "cell_type": "markdown",
   "id": "c62fc997",
   "metadata": {},
   "source": [
    "---"
   ]
  },
  {
   "cell_type": "markdown",
   "id": "17313798",
   "metadata": {},
   "source": [
    "#### Bước 4: Xử lý, chuẩn hoá tổ hợp môn thi"
   ]
  },
  {
   "cell_type": "markdown",
   "id": "17742e50",
   "metadata": {},
   "source": [
    "Xử lý các dòng chứa đa trị"
   ]
  },
  {
   "cell_type": "code",
   "execution_count": 373,
   "id": "74ceff90",
   "metadata": {},
   "outputs": [],
   "source": [
    "df['subject_group_code'] = df['subject_group_code'].str.replace(' ','') # bỏ đi các ký tự khoảng trắng\n",
    "df['subject_group_code'] = df['subject_group_code'].str.split(',')      # chia các giá trị ra thành list, cắt theo ','\n",
    "df = df.explode('subject_group_code').reset_index(drop=True)           "
   ]
  },
  {
   "cell_type": "markdown",
   "id": "76363afe",
   "metadata": {},
   "source": [
    "Cập nhật lại phương thức đúng sau khi split và trước đó dùng contains để xác định cho `note`"
   ]
  },
  {
   "cell_type": "code",
   "execution_count": 374,
   "id": "30aca7bf",
   "metadata": {},
   "outputs": [],
   "source": [
    "# Các bổ hợp có dạng vd: 'A00,A01, ...'|'DD2' -> đưa về thành phương thức THPT\n",
    "df.loc[df['subject_group_code'].str.contains(r\"^[A-Z][0-9]{2}$|^[A-Z]{2}[0-9]\", na=False),'note'] = 'Tốt nghiệp THPT'"
   ]
  },
  {
   "cell_type": "code",
   "execution_count": 375,
   "id": "c36d4c23",
   "metadata": {},
   "outputs": [
    {
     "data": {
      "text/plain": [
       "note\n",
       "Tốt nghiệp THPT               16933\n",
       "Xét học bạ                     1689\n",
       "Đánh giá năng lực ĐHQG-HCM     1391\n",
       "Name: count, dtype: int64"
      ]
     },
     "execution_count": 375,
     "metadata": {},
     "output_type": "execute_result"
    }
   ],
   "source": [
    "df['note'].value_counts()"
   ]
  },
  {
   "cell_type": "markdown",
   "id": "7f3a2029",
   "metadata": {},
   "source": [
    "---"
   ]
  },
  {
   "cell_type": "markdown",
   "id": "e94fecb6",
   "metadata": {},
   "source": [
    "#### Bước 5: Các bước làm sạch dữ liệu khác"
   ]
  },
  {
   "cell_type": "code",
   "execution_count": 376,
   "id": "9387483d",
   "metadata": {},
   "outputs": [
    {
     "data": {
      "image/png": "[encoded data removed]",
      "text/plain": [
       "<Figure size 1000x500 with 1 Axes>"
      ]
     },
     "metadata": {},
     "output_type": "display_data"
    }
   ],
   "source": [
    "plt.figure(figsize=(10, 5))\n",
    "sns.heatmap(df.isnull(), cbar=False, cmap='YlGnBu') \n",
    "plt.title('Heatmap kiểm tra missing values')\n",
    "plt.show()"
   ]
  },
  {
   "cell_type": "markdown",
   "id": "85e476ba",
   "metadata": {},
   "source": [
    "Xoá None data, duplicated"
   ]
  },
  {
   "cell_type": "code",
   "execution_count": 377,
   "id": "853d6385",
   "metadata": {},
   "outputs": [
    {
     "name": "stdout",
     "output_type": "stream",
     "text": [
      "Phần trăm dữ liệu bị thiếu 68.031% \n",
      "Đã xóa chuyên ngành vì thiếu quá nhiều dữ liệu\n",
      "Đã xóa dữ liệu None\n",
      "Đã xóa các dòng trùng lập\n"
     ]
    }
   ],
   "source": [
    "# Chuyên ngành thiếu quá nhiều dữ liệu\n",
    "print(f\"Phần trăm dữ liệu bị thiếu {round(df['specialized_major'].isnull().sum() / df.shape[0] * 100,3)}% \")\n",
    "df.drop(columns=['specialized_major'], inplace=True)\n",
    "print(\"Đã xóa chuyên ngành vì thiếu quá nhiều dữ liệu\")\n",
    "\n",
    "# Xoá dữ liệu None\n",
    "df.dropna(subset=['benchmark_score'], inplace=True) # Xoá các dòng mà benchmark_score == None\n",
    "print(\"Đã xóa dữ liệu None\")\n",
    "\n",
    "# Xoá các dòng trùng lập\n",
    "df.drop_duplicates(inplace=True)# Xoá các dòng trùng lập\n",
    "print(\"Đã xóa các dòng trùng lập\")\n",
    "df.reset_index(drop=True, inplace=True) # reset lại index"
   ]
  },
  {
   "cell_type": "code",
   "execution_count": 378,
   "id": "9566659d",
   "metadata": {},
   "outputs": [
    {
     "data": {
      "image/png": "[encoded data removed]",
      "text/plain": [
       "<Figure size 1000x500 with 1 Axes>"
      ]
     },
     "metadata": {},
     "output_type": "display_data"
    }
   ],
   "source": [
    "plt.figure(figsize=(10, 5))\n",
    "sns.heatmap(df.isnull(), cbar=False, cmap='YlGnBu')\n",
    "plt.title('Heatmap kiểm tra missing values')\n",
    "plt.show()"
   ]
  },
  {
   "cell_type": "markdown",
   "id": "f03454f0",
   "metadata": {},
   "source": [
    "Chuẩn hóa các cột `major_name` và `university_code`"
   ]
  },
  {
   "cell_type": "code",
   "execution_count": 379,
   "id": "476e99e6",
   "metadata": {},
   "outputs": [],
   "source": [
    "# Loại bỏ khoảng trắng thừa và chuẩn hóa chữ thường\n",
    "df['major_name'] = df['major_name'].str.replace(r'\\s+,', ',', regex=True).str.strip()\n",
    "df['university_code'] = df['university_code'].str.strip().str.upper()"
   ]
  },
  {
   "cell_type": "markdown",
   "id": "bbf8218e",
   "metadata": {},
   "source": [
    "Thêm cột thang điểm để rõ ràng hơn `score_scale`"
   ]
  },
  {
   "cell_type": "code",
   "execution_count": 380,
   "id": "b7916e87",
   "metadata": {},
   "outputs": [],
   "source": [
    "score_scale = {\n",
    "    'Tốt nghiệp THPT': 30,\n",
    "    'Xét học bạ': 30,\n",
    "    'Đánh giá năng lực ĐHQG-HCM': 1200\n",
    "}\n",
    "\n",
    " # Thêm cột điểm chuẩn tương ứng với từng phương thức\n",
    "df['score_scale'] = df['note'].map(score_scale)"
   ]
  },
  {
   "cell_type": "markdown",
   "id": "e00b9f3c",
   "metadata": {},
   "source": [
    "##### Phân tích dữ liệu trước khi cân bằng"
   ]
  },
  {
   "cell_type": "code",
   "execution_count": 381,
   "id": "a23aace7",
   "metadata": {},
   "outputs": [
    {
     "data": {
      "image/png": "[encoded data removed]",
      "text/plain": [
       "<Figure size 800x500 with 1 Axes>"
      ]
     },
     "metadata": {},
     "output_type": "display_data"
    }
   ],
   "source": [
    "# Biểu đồ ngang phân phối dữ liệu theo 'note'\n",
    "df['note'].value_counts().plot(\n",
    "    kind='barh',\n",
    "    figsize=(8, 5),\n",
    "    title='Phân phối dữ liệu theo phương thức xét tuyển',\n",
    "    colormap='viridis' \n",
    ")\n",
    "plt.xlabel('Số lượng')\n",
    "plt.ylabel('Phương thức xét tuyển')\n",
    "plt.tight_layout()\n",
    "plt.show()\n"
   ]
  },
  {
   "cell_type": "markdown",
   "id": "242f319c",
   "metadata": {},
   "source": [
    "---"
   ]
  },
  {
   "cell_type": "markdown",
   "id": "e4526bc9",
   "metadata": {},
   "source": [
    "#### Bước 6: Cân bằng dữ liệu"
   ]
  },
  {
   "cell_type": "code",
   "execution_count": 382,
   "id": "a4715684",
   "metadata": {},
   "outputs": [
    {
     "name": "stdout",
     "output_type": "stream",
     "text": [
      "note\n",
      "Tốt nghiệp THPT               1510\n",
      "Xét học bạ                    1510\n",
      "Đánh giá năng lực ĐHQG-HCM    1232\n",
      "Name: count, dtype: int64\n"
     ]
    }
   ],
   "source": [
    "# Số dòng bạn muốn lấy từ nhóm 'Tốt nghiệp THPT', ví dụ bằng số dòng nhóm lớn nhất\n",
    "target_n = max(\n",
    "    df['note'].value_counts()['Xét học bạ'],\n",
    "    df['note'].value_counts()['Đánh giá năng lực ĐHQG-HCM']\n",
    ")\n",
    "\n",
    "# 1. Lấy random N dòng từ nhóm 'Tốt nghiệp THPT'\n",
    "df_thpt_sampled = df[df['note'] == 'Tốt nghiệp THPT'].sample(n=target_n, random_state=42)\n",
    "\n",
    "# 2. Lấy toàn bộ các nhóm còn lại\n",
    "df_others = df[df['note'] != 'Tốt nghiệp THPT']\n",
    "\n",
    "# 3. Ghép lại thành dataset đã được cân bằng\n",
    "df_balanced = pd.concat([df_thpt_sampled, df_others], ignore_index=True)\n",
    "\n",
    "# 4. Shuffle cho ngẫu nhiên\n",
    "df_balanced = df_balanced.sample(frac=1, random_state=42).reset_index(drop=True)\n",
    "\n",
    "#Kiểm tra lại phân phối\n",
    "print(df_balanced['note'].value_counts())\n"
   ]
  },
  {
   "cell_type": "markdown",
   "id": "a5bd3b7f",
   "metadata": {},
   "source": [
    "Vẽ boxplot"
   ]
  },
  {
   "cell_type": "code",
   "execution_count": 383,
   "id": "ac5f1c8b",
   "metadata": {},
   "outputs": [
    {
     "data": {
      "image/png": "[encoded data removed]",
      "text/plain": [
       "<Figure size 1800x600 with 3 Axes>"
      ]
     },
     "metadata": {},
     "output_type": "display_data"
    }
   ],
   "source": [
    "# Tạo 3 dataframe riêng\n",
    "df_thpt = df_balanced[df_balanced['note'] == \"Tốt nghiệp THPT\"]\n",
    "df_hocba = df_balanced[df_balanced['note'] == \"Xét học bạ\"]\n",
    "df_dgnl = df_balanced[df_balanced['note'] == \"Đánh giá năng lực ĐHQG-HCM\"]\n",
    "\n",
    "\n",
    "# Vẽ từng biểu đồ riêng\n",
    "fig, axs = plt.subplots(1, 3, figsize=(18, 6))\n",
    "sns.boxplot(data=df_thpt, y='benchmark_score', ax=axs[0])\n",
    "axs[0].set_title('THPT - Thang 30')\n",
    "\n",
    "sns.boxplot(data=df_hocba, y='benchmark_score', ax=axs[1])\n",
    "axs[1].set_title('Xét học bạ - Thang 30')\n",
    "\n",
    "sns.boxplot(data=df_dgnl, y='benchmark_score', ax=axs[2])\n",
    "axs[2].set_title('ĐGNL - Thang 1200')\n",
    "\n",
    "plt.tight_layout()\n",
    "plt.show()"
   ]
  },
  {
   "cell_type": "code",
   "execution_count": 384,
   "id": "d237a57c",
   "metadata": {},
   "outputs": [],
   "source": [
    "# sắp xếp lại theo thứ tự\n",
    "df_balanced.sort_values(by=['year_','university_code','major_code','subject_group_code'], inplace=True)\n",
    "\n",
    "# reset lại index\n",
    "df_balanced.reset_index(drop=True, inplace=True) "
   ]
  },
  {
   "cell_type": "markdown",
   "id": "6f246b8e",
   "metadata": {},
   "source": [
    "rename: `note` -> `admission_method`, `year_` -> `year`"
   ]
  },
  {
   "cell_type": "code",
   "execution_count": 385,
   "id": "39ec2e07",
   "metadata": {},
   "outputs": [],
   "source": [
    "df_balanced.rename(columns={'note':'admission_method','year_':'year','major_code':'uni_major_code'}, inplace=True)"
   ]
  },
  {
   "cell_type": "code",
   "execution_count": 386,
   "id": "e2aabe82",
   "metadata": {},
   "outputs": [],
   "source": [
    "df_balanced = df_balanced[['year','university_code','program_type','uni_major_code','major_name','subject_group_code','admission_method','score_scale','benchmark_score']]"
   ]
  },
  {
   "cell_type": "markdown",
   "id": "3b98ba06",
   "metadata": {},
   "source": [
    "---"
   ]
  },
  {
   "cell_type": "markdown",
   "id": "6c1a1cda",
   "metadata": {},
   "source": [
    "#### Bước 7: Thêm cột `major_code` theo bộ đã đề ra"
   ]
  },
  {
   "cell_type": "code",
   "execution_count": 387,
   "id": "88e11cb3",
   "metadata": {},
   "outputs": [],
   "source": [
    "majors = pd.read_csv('../data/processed/majors.csv')\n",
    "\n",
    "# join lại theo tên ngành\n",
    "df = pd.merge(df_balanced,majors,on='major_name',how='inner')"
   ]
  },
  {
   "cell_type": "code",
   "execution_count": 388,
   "id": "e8f4ef99",
   "metadata": {},
   "outputs": [],
   "source": [
    "df = df[['year','university_code','program_type','uni_major_code','major_code','major_name','subject_group_code','admission_method','score_scale','benchmark_score']]\n",
    "df.sort_values(by=['year','university_code','program_type'], inplace=True)"
   ]
  },
  {
   "cell_type": "code",
   "execution_count": 389,
   "id": "0c185381",
   "metadata": {},
   "outputs": [
    {
     "name": "stdout",
     "output_type": "stream",
     "text": [
      "<class 'pandas.core.frame.DataFrame'>\n",
      "Index: 4462 entries, 0 to 4460\n",
      "Data columns (total 10 columns):\n",
      " #   Column              Non-Null Count  Dtype  \n",
      "---  ------              --------------  -----  \n",
      " 0   year                4462 non-null   int64  \n",
      " 1   university_code     4462 non-null   object \n",
      " 2   program_type        4462 non-null   object \n",
      " 3   uni_major_code      4462 non-null   object \n",
      " 4   major_code          4462 non-null   int64  \n",
      " 5   major_name          4462 non-null   object \n",
      " 6   subject_group_code  4462 non-null   object \n",
      " 7   admission_method    4462 non-null   object \n",
      " 8   score_scale         4462 non-null   int64  \n",
      " 9   benchmark_score     4462 non-null   float64\n",
      "dtypes: float64(1), int64(3), object(6)\n",
      "memory usage: 383.5+ KB\n"
     ]
    }
   ],
   "source": [
    "df.info()"
   ]
  },
  {
   "cell_type": "markdown",
   "id": "3420bf7f",
   "metadata": {},
   "source": [
    "xuất ra file csv để tiếp tục trực quan và nghiên cứu ML"
   ]
  },
  {
   "cell_type": "code",
   "execution_count": null,
   "id": "ec886b3d",
   "metadata": {},
   "outputs": [],
   "source": [
    "# df.to_csv('benchmark_scores_2021_2023_cleaned.csv', index=False)"
   ]
  }
 ],
 "metadata": {
  "kernelspec": {
   "display_name": "Python 3",
   "language": "python",
   "name": "python3"
  },
  "language_info": {
   "codemirror_mode": {
    "name": "ipython",
    "version": 3
   },
   "file_extension": ".py",
   "mimetype": "text/x-python",
   "name": "python",
   "nbconvert_exporter": "python",
   "pygments_lexer": "ipython3",
   "version": "3.10.2"
  }
 },
 "nbformat": 4,
 "nbformat_minor": 5
}
