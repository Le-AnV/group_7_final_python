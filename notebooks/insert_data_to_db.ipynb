{
 "cells": [
  {
   "cell_type": "code",
   "execution_count": 16,
   "id": "f2c40f72",
   "metadata": {},
   "outputs": [],
   "source": [
    "import psycopg2\n",
    "from psycopg2.extras import execute_values\n",
    "import pandas as pd"
   ]
  },
  {
   "cell_type": "markdown",
   "id": "2a4d9443",
   "metadata": {},
   "source": [
    "config database"
   ]
  },
  {
   "cell_type": "code",
   "execution_count": 17,
   "id": "a0a4c281",
   "metadata": {},
   "outputs": [],
   "source": [
    "username = 'postgres'  \n",
    "password = '2785'\n",
    "host = 'localhost'\n",
    "port = '5432'             \n",
    "database = 'university_database'"
   ]
  },
  {
   "cell_type": "markdown",
   "id": "7f63e94e",
   "metadata": {},
   "source": [
    "Kết nối đến db"
   ]
  },
  {
   "cell_type": "code",
   "execution_count": 18,
   "id": "8b95dab2",
   "metadata": {},
   "outputs": [],
   "source": [
    "conn = psycopg2.connect(user = username, password = password, host = host, port = port, database = database)\n",
    "cur = conn.cursor()"
   ]
  },
  {
   "cell_type": "markdown",
   "id": "196638ed",
   "metadata": {},
   "source": [
    "Đọc dữ liệu"
   ]
  },
  {
   "cell_type": "code",
   "execution_count": 19,
   "id": "30c8b75a",
   "metadata": {},
   "outputs": [],
   "source": [
    "universities = pd.read_csv('../data/processed/university_hcm.csv')\n",
    "benchmark_scores = pd.read_csv('../data/processed/benchmark_scores_2021_2023_cleaned.csv')\n",
    "subject_groups = pd.read_csv('../data/processed/subject_groups.csv')\n",
    "majors = pd.read_csv('../data/processed/majors.csv')"
   ]
  },
  {
   "cell_type": "code",
   "execution_count": 20,
   "id": "9454f038",
   "metadata": {},
   "outputs": [],
   "source": [
    "# Danh sách các trường đại học\n",
    "data_universities = universities.values.tolist()\n",
    "query_universities = \"\"\"\n",
    "    INSERT INTO universities (university_code, university_name, university_url)\n",
    "    VALUES %s\n",
    "\"\"\"\n",
    "\n",
    "# Điểm chuẩn\n",
    "data_benchmark_scores = benchmark_scores.values.tolist()\n",
    "query_benchmark_scores = \"\"\"\n",
    "    INSERT INTO benchmark_scores (year, university_code,program_type,uni_major_code,major_code,major_name,subject_group_code,admission_method,score_scale,benchmark_score)\n",
    "    VALUES %s\n",
    "\"\"\"\n",
    "\n",
    "# Các môn tổ hợp đầy đủ\n",
    "data_subject_groups = subject_groups.values.tolist()\n",
    "query_subject_groups = \"\"\"\n",
    "    INSERT INTO subject_groups (subject_group_code,subject_1,subject_2,subject_3)\n",
    "    VALUES %s\n",
    "\"\"\"\n",
    "\n",
    "# Mã ngành\n",
    "data_majors = majors.values.tolist()\n",
    "query_majors = \"\"\"\n",
    "    INSERT INTO majors (major_code,major_name)\n",
    "    VALUES %s\n",
    "\"\"\""
   ]
  },
  {
   "cell_type": "markdown",
   "id": "95896ce1",
   "metadata": {},
   "source": [
    "Thực hiên INSERT"
   ]
  },
  {
   "cell_type": "code",
   "execution_count": 21,
   "id": "ce9a47be",
   "metadata": {},
   "outputs": [],
   "source": [
    "# trường đại học\n",
    "execute_values(cur, query_universities,data_universities )\n",
    "conn.commit()\n",
    "\n",
    "# tổ hợp môn\n",
    "execute_values(cur, query_subject_groups,data_subject_groups)\n",
    "conn.commit()\n",
    "\n",
    "# mã ngành\n",
    "execute_values(cur, query_majors,data_majors)\n",
    "conn.commit()\n",
    "\n",
    "\n",
    "valid_subject_groups = set(subject_groups['subject_group_code'].unique())\n",
    "valid_majors = set(majors['major_code'].unique())\n",
    "\n",
    "# Giữ lại những dòng có subject_group_code và mã ngành hợp lệ\n",
    "df_benchmark_scores = benchmark_scores[\n",
    "    (benchmark_scores['subject_group_code'].isin(valid_subject_groups)) &( benchmark_scores['major_code'].isin(valid_majors))\n",
    "]\n",
    "\n",
    "data_benchmark_scores = df_benchmark_scores.values.tolist()\n",
    "\n",
    "# điểm chuẩn\n",
    "execute_values(cur, query_benchmark_scores, data_benchmark_scores)\n",
    "conn.commit()"
   ]
  },
  {
   "cell_type": "code",
   "execution_count": 22,
   "id": "21669fdf",
   "metadata": {},
   "outputs": [],
   "source": [
    "cur.close()\n",
    "conn.close()"
   ]
  }
 ],
 "metadata": {
  "kernelspec": {
   "display_name": "Python 3",
   "language": "python",
   "name": "python3"
  },
  "language_info": {
   "codemirror_mode": {
    "name": "ipython",
    "version": 3
   },
   "file_extension": ".py",
   "mimetype": "text/x-python",
   "name": "python",
   "nbconvert_exporter": "python",
   "pygments_lexer": "ipython3",
   "version": "3.10.2"
  }
 },
 "nbformat": 4,
 "nbformat_minor": 5
}
