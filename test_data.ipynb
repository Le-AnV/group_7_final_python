{
 "cells": [
  {
   "cell_type": "code",
   "execution_count": 154,
   "id": "6c7c51fd",
   "metadata": {},
   "outputs": [],
   "source": [
    "import pandas as pd\n",
    "import requests\n",
    "from bs4 import BeautifulSoup"
   ]
  },
  {
   "cell_type": "code",
   "execution_count": 155,
   "id": "095614d5",
   "metadata": {},
   "outputs": [],
   "source": [
    "majors = pd.read_csv('./data/processed/majors.csv')\n",
    "benchmarks = pd.read_csv('./data/processed/benchmark_scores_2021_2023_cleaned.csv')"
   ]
  },
  {
   "cell_type": "code",
   "execution_count": 156,
   "id": "7062407a",
   "metadata": {},
   "outputs": [],
   "source": [
    "majors.drop_duplicates(subset='major_name',keep='last',inplace=True)"
   ]
  },
  {
   "cell_type": "code",
   "execution_count": 157,
   "id": "58e7fcff",
   "metadata": {},
   "outputs": [
    {
     "data": {
      "application/vnd.microsoft.datawrangler.viewer.v0+json": {
       "columns": [
        {
         "name": "index",
         "rawType": "int64",
         "type": "integer"
        },
        {
         "name": "major_code",
         "rawType": "int64",
         "type": "integer"
        },
        {
         "name": "major_name",
         "rawType": "object",
         "type": "string"
        }
       ],
       "conversionMethod": "pd.DataFrame",
       "ref": "ee6eee08-9390-4446-8779-70cfae8a901f",
       "rows": [
        [
         "0",
         "714",
         "Khoa học giáo dục và đào tạo giáo viên"
        ],
        [
         "1",
         "721",
         "Nghệ thuật"
        ],
        [
         "2",
         "722",
         "Nhân văn"
        ],
        [
         "3",
         "731",
         "Khoa học xã hội và hành vi"
        ],
        [
         "4",
         "732",
         "Báo chí và thông tin"
        ],
        [
         "5",
         "734",
         "Kinh doanh và quản lý"
        ],
        [
         "6",
         "738",
         "Pháp luật"
        ],
        [
         "7",
         "742",
         "Khoa học sự sống"
        ],
        [
         "8",
         "744",
         "Khoa học tự nhiên"
        ],
        [
         "9",
         "746",
         "Toán và thống kê"
        ],
        [
         "10",
         "748",
         "Máy tính và công nghệ thông tin"
        ],
        [
         "11",
         "751",
         "Công nghệ kỹ thuật"
        ],
        [
         "12",
         "752",
         "Kỹ thuật"
        ],
        [
         "13",
         "754",
         "Sản xuất và chế biến"
        ],
        [
         "14",
         "758",
         "Kiến trúc và xây dựng"
        ],
        [
         "15",
         "762",
         "Nông, lâm nghiệp và thủy sản"
        ],
        [
         "17",
         "772",
         "Sức khỏe"
        ],
        [
         "18",
         "776",
         "Dịch vụ xã hội"
        ],
        [
         "19",
         "781",
         "Du lịch, khách sạn, thể thao và dịch vụ cá nhân"
        ],
        [
         "20",
         "784",
         "Dịch vụ vận tải"
        ],
        [
         "21",
         "785",
         "Môi trường và bảo vệ môi trường"
        ],
        [
         "22",
         "786",
         "An ninh, Quốc phòng"
        ],
        [
         "23",
         "71401",
         "Khoa học giáo dục"
        ],
        [
         "24",
         "71402",
         "Đào tạo giáo viên"
        ],
        [
         "25",
         "72101",
         "Mỹ thuật"
        ],
        [
         "26",
         "72102",
         "Nghệ thuật trình diễn"
        ],
        [
         "27",
         "72103",
         "Nghệ thuật nghe nhìn"
        ],
        [
         "28",
         "72104",
         "Mỹ thuật ứng dụng"
        ],
        [
         "29",
         "72201",
         "Ngôn ngữ, văn học và văn hóa Việt Nam"
        ],
        [
         "30",
         "72202",
         "Ngôn ngữ, văn học và văn hóa nước ngoài"
        ],
        [
         "31",
         "73101",
         "Kinh tế học"
        ],
        [
         "32",
         "73102",
         "Khoa học chính trị"
        ],
        [
         "33",
         "73103",
         "Xã hội học và Nhân học"
        ],
        [
         "36",
         "73106",
         "Khu vực học"
        ],
        [
         "37",
         "73201",
         "Báo chí và truyền thông"
        ],
        [
         "39",
         "73203",
         "Văn thư - Lưu trữ - Bảo tàng"
        ],
        [
         "40",
         "73204",
         "Xuất bản - Phát hành"
        ],
        [
         "41",
         "73401",
         "Kinh doanh"
        ],
        [
         "42",
         "73402",
         "Tài chính - Ngân hàng - Bảo hiểm"
        ],
        [
         "43",
         "73403",
         "Kế toán - Kiểm toán"
        ],
        [
         "44",
         "73404",
         "Quản trị - Quản lý"
        ],
        [
         "48",
         "74401",
         "Khoa học vật chất"
        ],
        [
         "49",
         "74402",
         "Khoa học trái đất"
        ],
        [
         "53",
         "74801",
         "Máy tính"
        ],
        [
         "55",
         "75101",
         "Công nghệ kỹ thuật kiến trúc và công trình xây dựng"
        ],
        [
         "57",
         "75103",
         "Công nghệ kỹ thuật điện, điện tử và viễn thông"
        ],
        [
         "58",
         "75104",
         "Công nghệ hóa học, vật liệu, luyện kim và môi trường"
        ],
        [
         "60",
         "75107",
         "Công nghệ dầu khí và khai thác"
        ],
        [
         "62",
         "75201",
         "Kỹ thuật cơ khí và cơ kỹ thuật"
        ],
        [
         "63",
         "75202",
         "Kỹ thuật điện, điện tử và viễn thông"
        ]
       ],
       "shape": {
        "columns": 2,
        "rows": 442
       }
      },
      "text/html": [
       "<div>\n",
       "<style scoped>\n",
       "    .dataframe tbody tr th:only-of-type {\n",
       "        vertical-align: middle;\n",
       "    }\n",
       "\n",
       "    .dataframe tbody tr th {\n",
       "        vertical-align: top;\n",
       "    }\n",
       "\n",
       "    .dataframe thead th {\n",
       "        text-align: right;\n",
       "    }\n",
       "</style>\n",
       "<table border=\"1\" class=\"dataframe\">\n",
       "  <thead>\n",
       "    <tr style=\"text-align: right;\">\n",
       "      <th></th>\n",
       "      <th>major_code</th>\n",
       "      <th>major_name</th>\n",
       "    </tr>\n",
       "  </thead>\n",
       "  <tbody>\n",
       "    <tr>\n",
       "      <th>0</th>\n",
       "      <td>714</td>\n",
       "      <td>Khoa học giáo dục và đào tạo giáo viên</td>\n",
       "    </tr>\n",
       "    <tr>\n",
       "      <th>1</th>\n",
       "      <td>721</td>\n",
       "      <td>Nghệ thuật</td>\n",
       "    </tr>\n",
       "    <tr>\n",
       "      <th>2</th>\n",
       "      <td>722</td>\n",
       "      <td>Nhân văn</td>\n",
       "    </tr>\n",
       "    <tr>\n",
       "      <th>3</th>\n",
       "      <td>731</td>\n",
       "      <td>Khoa học xã hội và hành vi</td>\n",
       "    </tr>\n",
       "    <tr>\n",
       "      <th>4</th>\n",
       "      <td>732</td>\n",
       "      <td>Báo chí và thông tin</td>\n",
       "    </tr>\n",
       "    <tr>\n",
       "      <th>...</th>\n",
       "      <td>...</td>\n",
       "      <td>...</td>\n",
       "    </tr>\n",
       "    <tr>\n",
       "      <th>466</th>\n",
       "      <td>7860228</td>\n",
       "      <td>Chỉ huy kỹ thuật công binh</td>\n",
       "    </tr>\n",
       "    <tr>\n",
       "      <th>467</th>\n",
       "      <td>7860229</td>\n",
       "      <td>Chỉ huy kỹ thuật hóa học</td>\n",
       "    </tr>\n",
       "    <tr>\n",
       "      <th>468</th>\n",
       "      <td>7860231</td>\n",
       "      <td>Trinh sát kỹ thuật</td>\n",
       "    </tr>\n",
       "    <tr>\n",
       "      <th>469</th>\n",
       "      <td>7860232</td>\n",
       "      <td>Chỉ huy kỹ thuật hải quân</td>\n",
       "    </tr>\n",
       "    <tr>\n",
       "      <th>470</th>\n",
       "      <td>7860233</td>\n",
       "      <td>Chỉ huy kỹ thuật tác chiến điện tử</td>\n",
       "    </tr>\n",
       "  </tbody>\n",
       "</table>\n",
       "<p>442 rows × 2 columns</p>\n",
       "</div>"
      ],
      "text/plain": [
       "     major_code                              major_name\n",
       "0           714  Khoa học giáo dục và đào tạo giáo viên\n",
       "1           721                              Nghệ thuật\n",
       "2           722                                Nhân văn\n",
       "3           731              Khoa học xã hội và hành vi\n",
       "4           732                    Báo chí và thông tin\n",
       "..          ...                                     ...\n",
       "466     7860228              Chỉ huy kỹ thuật công binh\n",
       "467     7860229                Chỉ huy kỹ thuật hóa học\n",
       "468     7860231                      Trinh sát kỹ thuật\n",
       "469     7860232               Chỉ huy kỹ thuật hải quân\n",
       "470     7860233      Chỉ huy kỹ thuật tác chiến điện tử\n",
       "\n",
       "[442 rows x 2 columns]"
      ]
     },
     "execution_count": 157,
     "metadata": {},
     "output_type": "execute_result"
    }
   ],
   "source": [
    "majors"
   ]
  },
  {
   "cell_type": "code",
   "execution_count": 160,
   "id": "0804f69e",
   "metadata": {},
   "outputs": [
    {
     "data": {
      "application/vnd.microsoft.datawrangler.viewer.v0+json": {
       "columns": [
        {
         "name": "index",
         "rawType": "int64",
         "type": "integer"
        },
        {
         "name": "year_",
         "rawType": "int64",
         "type": "integer"
        },
        {
         "name": "university_code",
         "rawType": "object",
         "type": "string"
        },
        {
         "name": "major_code",
         "rawType": "object",
         "type": "string"
        },
        {
         "name": "major_name",
         "rawType": "object",
         "type": "string"
        },
        {
         "name": "subject_group_code",
         "rawType": "object",
         "type": "string"
        },
        {
         "name": "admission_method",
         "rawType": "object",
         "type": "string"
        },
        {
         "name": "score_scale",
         "rawType": "int64",
         "type": "integer"
        },
        {
         "name": "benchmark_score",
         "rawType": "float64",
         "type": "float"
        }
       ],
       "conversionMethod": "pd.DataFrame",
       "ref": "15cafd40-09e1-4b06-9da4-c24b1b64f88c",
       "rows": [
        [
         "0",
         "2021",
         "FTU2",
         "NTS02",
         "Kế toán, Tài chính - Ngân hàng",
         "D07",
         "Tốt nghiệp THPT",
         "30",
         "28.4"
        ],
        [
         "1",
         "2021",
         "GDU",
         "7220201",
         "Ngôn ngữ Anh",
         "D01",
         "Tốt nghiệp THPT",
         "30",
         "16.5"
        ],
        [
         "2",
         "2021",
         "GDU",
         "7220201",
         "Ngôn ngữ Anh",
         "D15",
         "Tốt nghiệp THPT",
         "30",
         "16.5"
        ],
        [
         "3",
         "2021",
         "GDU",
         "7220201",
         "Ngôn ngữ Anh",
         "XDHB",
         "Xét học bạ",
         "30",
         "16.5"
        ],
        [
         "4",
         "2021",
         "GDU",
         "7310608",
         "Đông phương học",
         "D01",
         "Tốt nghiệp THPT",
         "30",
         "16.5"
        ],
        [
         "5",
         "2021",
         "GDU",
         "7310608",
         "Đông phương học",
         "XDHB",
         "Xét học bạ",
         "30",
         "16.5"
        ],
        [
         "6",
         "2021",
         "GDU",
         "7320104",
         "Truyền thông đa phương tiện",
         "XDHB",
         "Xét học bạ",
         "30",
         "16.5"
        ],
        [
         "7",
         "2021",
         "GDU",
         "7340101",
         "Quản trị kinh doanh",
         "XDHB",
         "Xét học bạ",
         "30",
         "16.5"
        ],
        [
         "8",
         "2021",
         "GDU",
         "7340115",
         "Marketing",
         "XDHB",
         "Xét học bạ",
         "30",
         "16.5"
        ],
        [
         "9",
         "2021",
         "GDU",
         "7340120",
         "Kinh doanh quốc tế",
         "XDHB",
         "Xét học bạ",
         "30",
         "16.5"
        ],
        [
         "10",
         "2021",
         "GDU",
         "7340201",
         "Tài chính - Ngân hàng",
         "D01",
         "Tốt nghiệp THPT",
         "30",
         "15.0"
        ],
        [
         "11",
         "2021",
         "GDU",
         "7340301",
         "Kế toán",
         "A00",
         "Tốt nghiệp THPT",
         "30",
         "16.5"
        ],
        [
         "12",
         "2021",
         "GDU",
         "7340301",
         "Kế toán",
         "XDHB",
         "Xét học bạ",
         "30",
         "16.5"
        ],
        [
         "13",
         "2021",
         "GDU",
         "734115",
         "Quản trị khách sạn",
         "XDHB",
         "Xét học bạ",
         "30",
         "16.5"
        ],
        [
         "14",
         "2021",
         "GDU",
         "7380101",
         "Luật",
         "A00",
         "Tốt nghiệp THPT",
         "30",
         "15.0"
        ],
        [
         "15",
         "2021",
         "GDU",
         "7380101",
         "Luật",
         "XDHB",
         "Xét học bạ",
         "30",
         "16.5"
        ],
        [
         "16",
         "2021",
         "GDU",
         "7480102",
         "Mạng máy tính và Truyền thông dữ liệu",
         "D01",
         "Tốt nghiệp THPT",
         "30",
         "15.0"
        ],
        [
         "17",
         "2021",
         "GDU",
         "7480102",
         "Mạng máy tính và Truyền thông dữ liệu",
         "XDHB",
         "Xét học bạ",
         "30",
         "16.5"
        ],
        [
         "18",
         "2021",
         "GDU",
         "7480103",
         "Kỹ thuật phần mềm",
         "XDHB",
         "Xét học bạ",
         "30",
         "16.5"
        ],
        [
         "19",
         "2021",
         "GDU",
         "7480201",
         "Công nghệ thông tin",
         "C01",
         "Tốt nghiệp THPT",
         "30",
         "16.5"
        ],
        [
         "20",
         "2021",
         "GDU",
         "7480201",
         "Công nghệ thông tin",
         "XDHB",
         "Xét học bạ",
         "30",
         "16.5"
        ],
        [
         "21",
         "2021",
         "GDU",
         "7510605",
         "Logistics và Quản lý chuỗi cung ứng",
         "XDHB",
         "Xét học bạ",
         "30",
         "16.5"
        ],
        [
         "22",
         "2021",
         "HCA",
         "7310201",
         "Chính trị học",
         "C14",
         "Tốt nghiệp THPT",
         "30",
         "24.5"
        ],
        [
         "23",
         "2021",
         "HCA",
         "7310201",
         "Chính trị học",
         "XDHB",
         "Xét học bạ",
         "30",
         "24.5"
        ],
        [
         "24",
         "2021",
         "HCA",
         "7310202",
         "Xây dựng Đảng và chính quyền nhà nước",
         "XDHB",
         "Xét học bạ",
         "30",
         "25.0"
        ],
        [
         "25",
         "2021",
         "HCA",
         "7310205",
         "Quản lý nhà nước",
         "XDHB",
         "Xét học bạ",
         "30",
         "26.25"
        ],
        [
         "26",
         "2021",
         "HCA",
         "7380101",
         "Luật",
         "C00",
         "Tốt nghiệp THPT",
         "30",
         "26.35"
        ],
        [
         "27",
         "2021",
         "HCA",
         "7380101",
         "Luật",
         "XDHB",
         "Xét học bạ",
         "30",
         "26.35"
        ],
        [
         "28",
         "2021",
         "HCA",
         "7760101",
         "Công tác xã hội",
         "XDHB",
         "Xét học bạ",
         "30",
         "23.65"
        ],
        [
         "29",
         "2021",
         "HCMIU",
         "7220201",
         "Ngôn ngữ Anh",
         "XDHB",
         "Xét học bạ",
         "30",
         "27.0"
        ],
        [
         "30",
         "2021",
         "HCMIU",
         "7340201",
         "Tài chính - Ngân hàng",
         "A01",
         "Tốt nghiệp THPT",
         "30",
         "25.0"
        ],
        [
         "31",
         "2021",
         "HCMIU",
         "7340201",
         "Tài chính - Ngân hàng",
         "XDHB",
         "Xét học bạ",
         "30",
         "25.0"
        ],
        [
         "32",
         "2021",
         "HCMIU",
         "7440112",
         "Hoá học",
         "A01",
         "Tốt nghiệp THPT",
         "30",
         "22.0"
        ],
        [
         "33",
         "2021",
         "HCMIU",
         "7440112",
         "Hoá học",
         "XDHB",
         "Xét học bạ",
         "30",
         "22.0"
        ],
        [
         "34",
         "2021",
         "HCMIU",
         "7460112",
         "Toán ứng dụng",
         "XDHB",
         "Xét học bạ",
         "30",
         "22.5"
        ],
        [
         "35",
         "2021",
         "HCMIU",
         "7480109",
         "Khoa học dữ liệu",
         "XDHB",
         "Xét học bạ",
         "30",
         "24.0"
        ],
        [
         "36",
         "2021",
         "HCMIU",
         "7480201",
         "Công nghệ thông tin",
         "XDHB",
         "Xét học bạ",
         "30",
         "25.5"
        ],
        [
         "37",
         "2021",
         "HCMIU",
         "7510605",
         "Logistics và Quản lý chuỗi cung ứng",
         "XDHB",
         "Xét học bạ",
         "30",
         "26.5"
        ],
        [
         "38",
         "2021",
         "HCMIU",
         "7520118",
         "Kỹ thuật hệ thống công nghiệp",
         "A00",
         "Tốt nghiệp THPT",
         "30",
         "23.0"
        ],
        [
         "39",
         "2021",
         "HCMIU",
         "7520118",
         "Kỹ thuật hệ thống công nghiệp",
         "XDHB",
         "Xét học bạ",
         "30",
         "23.0"
        ],
        [
         "40",
         "2021",
         "HCMIU",
         "7520121",
         "Kỹ thuật không gian",
         "XDHB",
         "Xét học bạ",
         "30",
         "23.0"
        ],
        [
         "41",
         "2021",
         "HCMIU",
         "7520207",
         "Kỹ thuật điện tử - viễn thông",
         "XDHB",
         "Xét học bạ",
         "30",
         "24.0"
        ],
        [
         "42",
         "2021",
         "HCMIU",
         "7520212",
         "Kỹ thuật y sinh",
         "A01",
         "Tốt nghiệp THPT",
         "30",
         "24.0"
        ],
        [
         "43",
         "2021",
         "HCMIU",
         "7520212",
         "Kỹ thuật y sinh",
         "B00",
         "Tốt nghiệp THPT",
         "30",
         "24.0"
        ],
        [
         "44",
         "2021",
         "HCMIU",
         "7520212",
         "Kỹ thuật y sinh",
         "XDHB",
         "Xét học bạ",
         "30",
         "24.0"
        ],
        [
         "45",
         "2021",
         "HCMIU",
         "7520216",
         "Kỹ thuật điều khiển và tự động hoá",
         "XDHB",
         "Xét học bạ",
         "30",
         "25.0"
        ],
        [
         "46",
         "2021",
         "HCMIU",
         "7520301",
         "Kỹ thuật hoá học",
         "XDHB",
         "Xét học bạ",
         "30",
         "23.0"
        ],
        [
         "47",
         "2021",
         "HCMIU",
         "7520320",
         "Kỹ thuật môi trường",
         "XDHB",
         "Xét học bạ",
         "30",
         "22.0"
        ],
        [
         "48",
         "2021",
         "HCMIU",
         "7540101",
         "Công nghệ thực phẩm",
         "B00",
         "Tốt nghiệp THPT",
         "30",
         "22.0"
        ],
        [
         "49",
         "2021",
         "HCMIU",
         "7540101",
         "Công nghệ thực phẩm",
         "XDHB",
         "Xét học bạ",
         "30",
         "22.0"
        ]
       ],
       "shape": {
        "columns": 8,
        "rows": 4252
       }
      },
      "text/html": [
       "<div>\n",
       "<style scoped>\n",
       "    .dataframe tbody tr th:only-of-type {\n",
       "        vertical-align: middle;\n",
       "    }\n",
       "\n",
       "    .dataframe tbody tr th {\n",
       "        vertical-align: top;\n",
       "    }\n",
       "\n",
       "    .dataframe thead th {\n",
       "        text-align: right;\n",
       "    }\n",
       "</style>\n",
       "<table border=\"1\" class=\"dataframe\">\n",
       "  <thead>\n",
       "    <tr style=\"text-align: right;\">\n",
       "      <th></th>\n",
       "      <th>year_</th>\n",
       "      <th>university_code</th>\n",
       "      <th>major_code</th>\n",
       "      <th>major_name</th>\n",
       "      <th>subject_group_code</th>\n",
       "      <th>admission_method</th>\n",
       "      <th>score_scale</th>\n",
       "      <th>benchmark_score</th>\n",
       "    </tr>\n",
       "  </thead>\n",
       "  <tbody>\n",
       "    <tr>\n",
       "      <th>0</th>\n",
       "      <td>2021</td>\n",
       "      <td>FTU2</td>\n",
       "      <td>NTS02</td>\n",
       "      <td>Kế toán, Tài chính - Ngân hàng</td>\n",
       "      <td>D07</td>\n",
       "      <td>Tốt nghiệp THPT</td>\n",
       "      <td>30</td>\n",
       "      <td>28.4</td>\n",
       "    </tr>\n",
       "    <tr>\n",
       "      <th>1</th>\n",
       "      <td>2021</td>\n",
       "      <td>GDU</td>\n",
       "      <td>7220201</td>\n",
       "      <td>Ngôn ngữ Anh</td>\n",
       "      <td>D01</td>\n",
       "      <td>Tốt nghiệp THPT</td>\n",
       "      <td>30</td>\n",
       "      <td>16.5</td>\n",
       "    </tr>\n",
       "    <tr>\n",
       "      <th>2</th>\n",
       "      <td>2021</td>\n",
       "      <td>GDU</td>\n",
       "      <td>7220201</td>\n",
       "      <td>Ngôn ngữ Anh</td>\n",
       "      <td>D15</td>\n",
       "      <td>Tốt nghiệp THPT</td>\n",
       "      <td>30</td>\n",
       "      <td>16.5</td>\n",
       "    </tr>\n",
       "    <tr>\n",
       "      <th>3</th>\n",
       "      <td>2021</td>\n",
       "      <td>GDU</td>\n",
       "      <td>7220201</td>\n",
       "      <td>Ngôn ngữ Anh</td>\n",
       "      <td>XDHB</td>\n",
       "      <td>Xét học bạ</td>\n",
       "      <td>30</td>\n",
       "      <td>16.5</td>\n",
       "    </tr>\n",
       "    <tr>\n",
       "      <th>4</th>\n",
       "      <td>2021</td>\n",
       "      <td>GDU</td>\n",
       "      <td>7310608</td>\n",
       "      <td>Đông phương học</td>\n",
       "      <td>D01</td>\n",
       "      <td>Tốt nghiệp THPT</td>\n",
       "      <td>30</td>\n",
       "      <td>16.5</td>\n",
       "    </tr>\n",
       "    <tr>\n",
       "      <th>...</th>\n",
       "      <td>...</td>\n",
       "      <td>...</td>\n",
       "      <td>...</td>\n",
       "      <td>...</td>\n",
       "      <td>...</td>\n",
       "      <td>...</td>\n",
       "      <td>...</td>\n",
       "      <td>...</td>\n",
       "    </tr>\n",
       "    <tr>\n",
       "      <th>4247</th>\n",
       "      <td>2023</td>\n",
       "      <td>VNUHCM-USSH</td>\n",
       "      <td>7340406</td>\n",
       "      <td>Quản trị văn phòng</td>\n",
       "      <td>DGNL</td>\n",
       "      <td>Đánh giá năng lực ĐHQG-HCM</td>\n",
       "      <td>1200</td>\n",
       "      <td>735.0</td>\n",
       "    </tr>\n",
       "    <tr>\n",
       "      <th>4248</th>\n",
       "      <td>2023</td>\n",
       "      <td>VNUHCM-USSH</td>\n",
       "      <td>7580112</td>\n",
       "      <td>Đô thị học</td>\n",
       "      <td>DGNL</td>\n",
       "      <td>Đánh giá năng lực ĐHQG-HCM</td>\n",
       "      <td>1200</td>\n",
       "      <td>620.0</td>\n",
       "    </tr>\n",
       "    <tr>\n",
       "      <th>4249</th>\n",
       "      <td>2023</td>\n",
       "      <td>VNUHCM-USSH</td>\n",
       "      <td>7760101</td>\n",
       "      <td>Công tác xã hội</td>\n",
       "      <td>DGNL</td>\n",
       "      <td>Đánh giá năng lực ĐHQG-HCM</td>\n",
       "      <td>1200</td>\n",
       "      <td>670.0</td>\n",
       "    </tr>\n",
       "    <tr>\n",
       "      <th>4250</th>\n",
       "      <td>2023</td>\n",
       "      <td>VNUHCM-USSH</td>\n",
       "      <td>7810103</td>\n",
       "      <td>Quản trị dịch vụ du lịch và lữ hành</td>\n",
       "      <td>DGNL</td>\n",
       "      <td>Đánh giá năng lực ĐHQG-HCM</td>\n",
       "      <td>1200</td>\n",
       "      <td>790.0</td>\n",
       "    </tr>\n",
       "    <tr>\n",
       "      <th>4251</th>\n",
       "      <td>2023</td>\n",
       "      <td>VNUHCM-USSH</td>\n",
       "      <td>7810103_CLC</td>\n",
       "      <td>Quản trị dịch vụ du lịch và lữ hành</td>\n",
       "      <td>DGNL</td>\n",
       "      <td>Đánh giá năng lực ĐHQG-HCM</td>\n",
       "      <td>1200</td>\n",
       "      <td>780.0</td>\n",
       "    </tr>\n",
       "  </tbody>\n",
       "</table>\n",
       "<p>4252 rows × 8 columns</p>\n",
       "</div>"
      ],
      "text/plain": [
       "      year_ university_code   major_code                           major_name  \\\n",
       "0      2021            FTU2        NTS02       Kế toán, Tài chính - Ngân hàng   \n",
       "1      2021             GDU      7220201                         Ngôn ngữ Anh   \n",
       "2      2021             GDU      7220201                         Ngôn ngữ Anh   \n",
       "3      2021             GDU      7220201                         Ngôn ngữ Anh   \n",
       "4      2021             GDU      7310608                      Đông phương học   \n",
       "...     ...             ...          ...                                  ...   \n",
       "4247   2023     VNUHCM-USSH      7340406                   Quản trị văn phòng   \n",
       "4248   2023     VNUHCM-USSH      7580112                           Đô thị học   \n",
       "4249   2023     VNUHCM-USSH      7760101                      Công tác xã hội   \n",
       "4250   2023     VNUHCM-USSH      7810103  Quản trị dịch vụ du lịch và lữ hành   \n",
       "4251   2023     VNUHCM-USSH  7810103_CLC  Quản trị dịch vụ du lịch và lữ hành   \n",
       "\n",
       "     subject_group_code            admission_method  score_scale  \\\n",
       "0                   D07             Tốt nghiệp THPT           30   \n",
       "1                   D01             Tốt nghiệp THPT           30   \n",
       "2                   D15             Tốt nghiệp THPT           30   \n",
       "3                  XDHB                  Xét học bạ           30   \n",
       "4                   D01             Tốt nghiệp THPT           30   \n",
       "...                 ...                         ...          ...   \n",
       "4247               DGNL  Đánh giá năng lực ĐHQG-HCM         1200   \n",
       "4248               DGNL  Đánh giá năng lực ĐHQG-HCM         1200   \n",
       "4249               DGNL  Đánh giá năng lực ĐHQG-HCM         1200   \n",
       "4250               DGNL  Đánh giá năng lực ĐHQG-HCM         1200   \n",
       "4251               DGNL  Đánh giá năng lực ĐHQG-HCM         1200   \n",
       "\n",
       "      benchmark_score  \n",
       "0                28.4  \n",
       "1                16.5  \n",
       "2                16.5  \n",
       "3                16.5  \n",
       "4                16.5  \n",
       "...               ...  \n",
       "4247            735.0  \n",
       "4248            620.0  \n",
       "4249            670.0  \n",
       "4250            790.0  \n",
       "4251            780.0  \n",
       "\n",
       "[4252 rows x 8 columns]"
      ]
     },
     "execution_count": 160,
     "metadata": {},
     "output_type": "execute_result"
    }
   ],
   "source": [
    "benchmarks"
   ]
  },
  {
   "cell_type": "code",
   "execution_count": 162,
   "id": "71e36449",
   "metadata": {},
   "outputs": [],
   "source": [
    "df = pd.merge(benchmarks, majors, on='major_name',how='inner')"
   ]
  },
  {
   "cell_type": "code",
   "execution_count": 164,
   "id": "7ac53b2d",
   "metadata": {},
   "outputs": [
    {
     "data": {
      "application/vnd.microsoft.datawrangler.viewer.v0+json": {
       "columns": [
        {
         "name": "index",
         "rawType": "int64",
         "type": "integer"
        },
        {
         "name": "year_",
         "rawType": "int64",
         "type": "integer"
        },
        {
         "name": "university_code",
         "rawType": "object",
         "type": "string"
        },
        {
         "name": "major_code_x",
         "rawType": "object",
         "type": "string"
        },
        {
         "name": "major_name",
         "rawType": "object",
         "type": "string"
        },
        {
         "name": "subject_group_code",
         "rawType": "object",
         "type": "string"
        },
        {
         "name": "admission_method",
         "rawType": "object",
         "type": "string"
        },
        {
         "name": "score_scale",
         "rawType": "int64",
         "type": "integer"
        },
        {
         "name": "benchmark_score",
         "rawType": "float64",
         "type": "float"
        },
        {
         "name": "major_code_y",
         "rawType": "int64",
         "type": "integer"
        }
       ],
       "conversionMethod": "pd.DataFrame",
       "ref": "18e27b46-f909-4c46-9fc9-8d6763e60e41",
       "rows": [
        [
         "277",
         "2021",
         "IUH",
         "7340301",
         "Kế toán - Kiểm toán",
         "XDHB",
         "Xét học bạ",
         "30",
         "21.5",
         "73403"
        ],
        [
         "278",
         "2021",
         "IUH",
         "7340301C",
         "Kế toán - Kiểm toán",
         "XDHB",
         "Xét học bạ",
         "30",
         "19.0",
         "73403"
        ],
        [
         "3777",
         "2023",
         "VNUHCM-USSH",
         "7140101",
         "Giáo dục học",
         "D01",
         "Tốt nghiệp THPT",
         "30",
         "23.0",
         "7140101"
        ],
        [
         "3778",
         "2023",
         "VNUHCM-USSH",
         "7140101",
         "Giáo dục học",
         "DGNL",
         "Đánh giá năng lực ĐHQG-HCM",
         "1200",
         "670.0",
         "7140101"
        ],
        [
         "2208",
         "2022",
         "VNUHCM-USSH",
         "7140101",
         "Giáo dục học",
         "DGNL",
         "Đánh giá năng lực ĐHQG-HCM",
         "1200",
         "685.0",
         "7140101"
        ],
        [
         "933",
         "2022",
         "HCMUE",
         "7140101",
         "Giáo dục học",
         "B00",
         "Tốt nghiệp THPT",
         "30",
         "25.32",
         "7140101"
        ],
        [
         "934",
         "2022",
         "HCMUE",
         "7140101",
         "Giáo dục học",
         "XDHB",
         "Xét học bạ",
         "30",
         "25.32",
         "7140101"
        ],
        [
         "2207",
         "2022",
         "VNUHCM-USSH",
         "7140101",
         "Giáo dục học",
         "B00",
         "Tốt nghiệp THPT",
         "30",
         "22.8",
         "7140101"
        ],
        [
         "45",
         "2021",
         "HCMUE",
         "7140101",
         "Giáo dục học",
         "XDHB",
         "Xét học bạ",
         "30",
         "24.0",
         "7140101"
        ],
        [
         "800",
         "2021",
         "VNUHCM-USSH",
         "7140101",
         "Giáo dục học",
         "C00",
         "Tốt nghiệp THPT",
         "30",
         "23.2",
         "7140101"
        ],
        [
         "2359",
         "2023",
         "HCMUE",
         "7140101",
         "Giáo dục học",
         "A00",
         "Tốt nghiệp THPT",
         "30",
         "23.5",
         "7140101"
        ],
        [
         "44",
         "2021",
         "HCMUE",
         "7140101",
         "Giáo dục học",
         "D01",
         "Tốt nghiệp THPT",
         "30",
         "19.5",
         "7140101"
        ],
        [
         "2360",
         "2023",
         "HCMUE",
         "7140101",
         "Giáo dục học",
         "C00",
         "Tốt nghiệp THPT",
         "30",
         "27.05",
         "7140101"
        ],
        [
         "2361",
         "2023",
         "HCMUE",
         "7140101",
         "Giáo dục học",
         "XDHB",
         "Xét học bạ",
         "30",
         "27.05",
         "7140101"
        ],
        [
         "3779",
         "2023",
         "VNUHCM-USSH",
         "7140114",
         "Quản lý giáo dục",
         "D01",
         "Tốt nghiệp THPT",
         "30",
         "23.5",
         "7140114"
        ],
        [
         "3780",
         "2023",
         "VNUHCM-USSH",
         "7140114",
         "Quản lý giáo dục",
         "DGNL",
         "Đánh giá năng lực ĐHQG-HCM",
         "1200",
         "705.0",
         "7140114"
        ],
        [
         "109",
         "2021",
         "HIU",
         "7140114",
         "Quản lý giáo dục",
         "C00",
         "Tốt nghiệp THPT",
         "30",
         "15.0",
         "7140114"
        ],
        [
         "2209",
         "2022",
         "VNUHCM-USSH",
         "7140114",
         "Quản lý giáo dục",
         "DGNL",
         "Đánh giá năng lực ĐHQG-HCM",
         "1200",
         "700.0",
         "7140114"
        ],
        [
         "2362",
         "2023",
         "HCMUE",
         "7140114",
         "Quản lý giáo dục",
         "XDHB",
         "Xét học bạ",
         "30",
         "27.84",
         "7140114"
        ],
        [
         "2518",
         "2023",
         "HIU",
         "7140114",
         "Quản lý giáo dục",
         "XDHB",
         "Xét học bạ",
         "30",
         "30.0",
         "7140114"
        ],
        [
         "1588",
         "2022",
         "SGU",
         "7140114",
         "Quản lý giáo dục",
         "DGNL",
         "Đánh giá năng lực ĐHQG-HCM",
         "1200",
         "762.0",
         "7140114"
        ],
        [
         "46",
         "2021",
         "HCMUE",
         "7140114",
         "Quản lý giáo dục",
         "XDHB",
         "Xét học bạ",
         "30",
         "27.5",
         "7140114"
        ],
        [
         "2519",
         "2023",
         "HIU",
         "7140114",
         "Quản lý giáo dục",
         "XDHB",
         "Xét học bạ",
         "30",
         "18.0",
         "7140114"
        ],
        [
         "2521",
         "2023",
         "HIU",
         "7140201",
         "Giáo dục Mầm non",
         "XDHB",
         "Xét học bạ",
         "30",
         "24.0",
         "7140201"
        ],
        [
         "935",
         "2022",
         "HCMUE",
         "7140201",
         "Giáo dục Mầm non",
         "XDHB",
         "Xét học bạ",
         "30",
         "24.48",
         "7140201"
        ],
        [
         "3095",
         "2023",
         "SGU",
         "7140201",
         "Giáo dục Mầm non",
         "M01",
         "Tốt nghiệp THPT",
         "30",
         "20.8",
         "7140201"
        ],
        [
         "2520",
         "2023",
         "HIU",
         "7140201",
         "Giáo dục Mầm non",
         "M11",
         "Tốt nghiệp THPT",
         "30",
         "24.0",
         "7140201"
        ],
        [
         "2363",
         "2023",
         "HCMUE",
         "7140201",
         "Giáo dục Mầm non",
         "XDHB",
         "Xét học bạ",
         "30",
         "24.24",
         "7140201"
        ],
        [
         "2364",
         "2023",
         "HCMUE",
         "7140202",
         "Giáo dục Tiểu học",
         "A01",
         "Tốt nghiệp THPT",
         "30",
         "28.65",
         "7140202"
        ],
        [
         "996",
         "2022",
         "HIU",
         "7140202",
         "Giáo dục Tiểu học",
         "M00",
         "Tốt nghiệp THPT",
         "30",
         "19.0",
         "7140202"
        ],
        [
         "936",
         "2022",
         "HCMUE",
         "7140202",
         "Giáo dục Tiểu học",
         "XDHB",
         "Xét học bạ",
         "30",
         "28.3",
         "7140202"
        ],
        [
         "2365",
         "2023",
         "HCMUE",
         "7140202",
         "Giáo dục Tiểu học",
         "XDHB",
         "Xét học bạ",
         "30",
         "28.65",
         "7140202"
        ],
        [
         "419",
         "2021",
         "SGU",
         "7140202",
         "Giáo dục Tiểu học",
         "D01",
         "Tốt nghiệp THPT",
         "30",
         "24.65",
         "7140202"
        ],
        [
         "2522",
         "2023",
         "HIU",
         "7140202",
         "Giáo dục Tiểu học",
         "XDHB",
         "Xét học bạ",
         "30",
         "24.0",
         "7140202"
        ],
        [
         "47",
         "2021",
         "HCMUE",
         "7140202",
         "Giáo dục Tiểu học",
         "XDHB",
         "Xét học bạ",
         "30",
         "18.18",
         "7140202"
        ],
        [
         "2366",
         "2023",
         "HCMUE",
         "7140203",
         "Giáo dục Đặc biệt",
         "XDHB",
         "Xét học bạ",
         "30",
         "27.45",
         "7140203"
        ],
        [
         "48",
         "2021",
         "HCMUE",
         "7140203",
         "Giáo dục Đặc biệt",
         "XDHB",
         "Xét học bạ",
         "30",
         "25.7",
         "7140203"
        ],
        [
         "937",
         "2022",
         "HCMUE",
         "7140203",
         "Giáo dục Đặc biệt",
         "XDHB",
         "Xét học bạ",
         "30",
         "26.8",
         "7140203"
        ],
        [
         "2367",
         "2023",
         "HCMUE",
         "7140204",
         "Giáo dục Công dân",
         "XDHB",
         "Xét học bạ",
         "30",
         "28.25",
         "7140204"
        ],
        [
         "50",
         "2021",
         "HCMUE",
         "7140205",
         "Giáo dục Chính trị",
         "XDHB",
         "Xét học bạ",
         "30",
         "27.9",
         "7140205"
        ],
        [
         "2368",
         "2023",
         "HCMUE",
         "7140205",
         "Giáo dục Chính trị",
         "XDHB",
         "Xét học bạ",
         "30",
         "28.0",
         "7140205"
        ],
        [
         "49",
         "2021",
         "HCMUE",
         "7140205",
         "Giáo dục Chính trị",
         "C19",
         "Tốt nghiệp THPT",
         "30",
         "27.9",
         "7140205"
        ],
        [
         "938",
         "2022",
         "HCMUE",
         "7140206",
         "Giáo dục Thể chất",
         "XDHB",
         "Xét học bạ",
         "30",
         "27.03",
         "7140206"
        ],
        [
         "2369",
         "2023",
         "HCMUE",
         "7140206",
         "Giáo dục Thể chất",
         "XDHB",
         "Xét học bạ",
         "30",
         "25.23",
         "7140206"
        ],
        [
         "2370",
         "2023",
         "HCMUE",
         "7140208",
         "Giáo dục Quốc phòng - An ninh",
         "XDHB",
         "Xét học bạ",
         "30",
         "27.83",
         "7140208"
        ],
        [
         "51",
         "2021",
         "HCMUE",
         "7140208",
         "Giáo dục Quốc phòng - An ninh",
         "C19",
         "Tốt nghiệp THPT",
         "30",
         "24.4",
         "7140208"
        ],
        [
         "940",
         "2022",
         "HCMUE",
         "7140208",
         "Giáo dục Quốc phòng - An ninh",
         "XDHB",
         "Xét học bạ",
         "30",
         "26.1",
         "7140208"
        ],
        [
         "52",
         "2021",
         "HCMUE",
         "7140208",
         "Giáo dục Quốc phòng - An ninh",
         "XDHB",
         "Xét học bạ",
         "30",
         "25.48",
         "7140208"
        ],
        [
         "939",
         "2022",
         "HCMUE",
         "7140208",
         "Giáo dục Quốc phòng - An ninh",
         "A08",
         "Tốt nghiệp THPT",
         "30",
         "24.05",
         "7140208"
        ],
        [
         "2371",
         "2023",
         "HCMUE",
         "7140209",
         "Sư phạm Toán học",
         "XDHB",
         "Xét học bạ",
         "30",
         "29.5",
         "7140209"
        ]
       ],
       "shape": {
        "columns": 9,
        "rows": 3832
       }
      },
      "text/html": [
       "<div>\n",
       "<style scoped>\n",
       "    .dataframe tbody tr th:only-of-type {\n",
       "        vertical-align: middle;\n",
       "    }\n",
       "\n",
       "    .dataframe tbody tr th {\n",
       "        vertical-align: top;\n",
       "    }\n",
       "\n",
       "    .dataframe thead th {\n",
       "        text-align: right;\n",
       "    }\n",
       "</style>\n",
       "<table border=\"1\" class=\"dataframe\">\n",
       "  <thead>\n",
       "    <tr style=\"text-align: right;\">\n",
       "      <th></th>\n",
       "      <th>year_</th>\n",
       "      <th>university_code</th>\n",
       "      <th>major_code_x</th>\n",
       "      <th>major_name</th>\n",
       "      <th>subject_group_code</th>\n",
       "      <th>admission_method</th>\n",
       "      <th>score_scale</th>\n",
       "      <th>benchmark_score</th>\n",
       "      <th>major_code_y</th>\n",
       "    </tr>\n",
       "  </thead>\n",
       "  <tbody>\n",
       "    <tr>\n",
       "      <th>277</th>\n",
       "      <td>2021</td>\n",
       "      <td>IUH</td>\n",
       "      <td>7340301</td>\n",
       "      <td>Kế toán - Kiểm toán</td>\n",
       "      <td>XDHB</td>\n",
       "      <td>Xét học bạ</td>\n",
       "      <td>30</td>\n",
       "      <td>21.5</td>\n",
       "      <td>73403</td>\n",
       "    </tr>\n",
       "    <tr>\n",
       "      <th>278</th>\n",
       "      <td>2021</td>\n",
       "      <td>IUH</td>\n",
       "      <td>7340301C</td>\n",
       "      <td>Kế toán - Kiểm toán</td>\n",
       "      <td>XDHB</td>\n",
       "      <td>Xét học bạ</td>\n",
       "      <td>30</td>\n",
       "      <td>19.0</td>\n",
       "      <td>73403</td>\n",
       "    </tr>\n",
       "    <tr>\n",
       "      <th>3777</th>\n",
       "      <td>2023</td>\n",
       "      <td>VNUHCM-USSH</td>\n",
       "      <td>7140101</td>\n",
       "      <td>Giáo dục học</td>\n",
       "      <td>D01</td>\n",
       "      <td>Tốt nghiệp THPT</td>\n",
       "      <td>30</td>\n",
       "      <td>23.0</td>\n",
       "      <td>7140101</td>\n",
       "    </tr>\n",
       "    <tr>\n",
       "      <th>3778</th>\n",
       "      <td>2023</td>\n",
       "      <td>VNUHCM-USSH</td>\n",
       "      <td>7140101</td>\n",
       "      <td>Giáo dục học</td>\n",
       "      <td>DGNL</td>\n",
       "      <td>Đánh giá năng lực ĐHQG-HCM</td>\n",
       "      <td>1200</td>\n",
       "      <td>670.0</td>\n",
       "      <td>7140101</td>\n",
       "    </tr>\n",
       "    <tr>\n",
       "      <th>2208</th>\n",
       "      <td>2022</td>\n",
       "      <td>VNUHCM-USSH</td>\n",
       "      <td>7140101</td>\n",
       "      <td>Giáo dục học</td>\n",
       "      <td>DGNL</td>\n",
       "      <td>Đánh giá năng lực ĐHQG-HCM</td>\n",
       "      <td>1200</td>\n",
       "      <td>685.0</td>\n",
       "      <td>7140101</td>\n",
       "    </tr>\n",
       "    <tr>\n",
       "      <th>...</th>\n",
       "      <td>...</td>\n",
       "      <td>...</td>\n",
       "      <td>...</td>\n",
       "      <td>...</td>\n",
       "      <td>...</td>\n",
       "      <td>...</td>\n",
       "      <td>...</td>\n",
       "      <td>...</td>\n",
       "      <td>...</td>\n",
       "    </tr>\n",
       "    <tr>\n",
       "      <th>2108</th>\n",
       "      <td>2022</td>\n",
       "      <td>VLU</td>\n",
       "      <td>7850201</td>\n",
       "      <td>Bảo hộ lao động</td>\n",
       "      <td>A01</td>\n",
       "      <td>Tốt nghiệp THPT</td>\n",
       "      <td>30</td>\n",
       "      <td>16.0</td>\n",
       "      <td>7850201</td>\n",
       "    </tr>\n",
       "    <tr>\n",
       "      <th>447</th>\n",
       "      <td>2021</td>\n",
       "      <td>TDTU</td>\n",
       "      <td>7850201</td>\n",
       "      <td>Bảo hộ lao động</td>\n",
       "      <td>XDHB</td>\n",
       "      <td>Xét học bạ</td>\n",
       "      <td>30</td>\n",
       "      <td>27.0</td>\n",
       "      <td>7850201</td>\n",
       "    </tr>\n",
       "    <tr>\n",
       "      <th>3693</th>\n",
       "      <td>2023</td>\n",
       "      <td>VLU</td>\n",
       "      <td>7850201</td>\n",
       "      <td>Bảo hộ lao động</td>\n",
       "      <td>A00</td>\n",
       "      <td>Tốt nghiệp THPT</td>\n",
       "      <td>30</td>\n",
       "      <td>18.0</td>\n",
       "      <td>7850201</td>\n",
       "    </tr>\n",
       "    <tr>\n",
       "      <th>3169</th>\n",
       "      <td>2023</td>\n",
       "      <td>TDTU</td>\n",
       "      <td>7850201</td>\n",
       "      <td>Bảo hộ lao động</td>\n",
       "      <td>XDHB</td>\n",
       "      <td>Xét học bạ</td>\n",
       "      <td>30</td>\n",
       "      <td>26.0</td>\n",
       "      <td>7850201</td>\n",
       "    </tr>\n",
       "    <tr>\n",
       "      <th>1686</th>\n",
       "      <td>2022</td>\n",
       "      <td>TDTU</td>\n",
       "      <td>7850201</td>\n",
       "      <td>Bảo hộ lao động</td>\n",
       "      <td>DGNL</td>\n",
       "      <td>Đánh giá năng lực ĐHQG-HCM</td>\n",
       "      <td>1200</td>\n",
       "      <td>650.0</td>\n",
       "      <td>7850201</td>\n",
       "    </tr>\n",
       "  </tbody>\n",
       "</table>\n",
       "<p>3832 rows × 9 columns</p>\n",
       "</div>"
      ],
      "text/plain": [
       "      year_ university_code major_code_x           major_name  \\\n",
       "277    2021             IUH      7340301  Kế toán - Kiểm toán   \n",
       "278    2021             IUH     7340301C  Kế toán - Kiểm toán   \n",
       "3777   2023     VNUHCM-USSH      7140101         Giáo dục học   \n",
       "3778   2023     VNUHCM-USSH      7140101         Giáo dục học   \n",
       "2208   2022     VNUHCM-USSH      7140101         Giáo dục học   \n",
       "...     ...             ...          ...                  ...   \n",
       "2108   2022             VLU      7850201      Bảo hộ lao động   \n",
       "447    2021            TDTU      7850201      Bảo hộ lao động   \n",
       "3693   2023             VLU      7850201      Bảo hộ lao động   \n",
       "3169   2023            TDTU      7850201      Bảo hộ lao động   \n",
       "1686   2022            TDTU      7850201      Bảo hộ lao động   \n",
       "\n",
       "     subject_group_code            admission_method  score_scale  \\\n",
       "277                XDHB                  Xét học bạ           30   \n",
       "278                XDHB                  Xét học bạ           30   \n",
       "3777                D01             Tốt nghiệp THPT           30   \n",
       "3778               DGNL  Đánh giá năng lực ĐHQG-HCM         1200   \n",
       "2208               DGNL  Đánh giá năng lực ĐHQG-HCM         1200   \n",
       "...                 ...                         ...          ...   \n",
       "2108                A01             Tốt nghiệp THPT           30   \n",
       "447                XDHB                  Xét học bạ           30   \n",
       "3693                A00             Tốt nghiệp THPT           30   \n",
       "3169               XDHB                  Xét học bạ           30   \n",
       "1686               DGNL  Đánh giá năng lực ĐHQG-HCM         1200   \n",
       "\n",
       "      benchmark_score  major_code_y  \n",
       "277              21.5         73403  \n",
       "278              19.0         73403  \n",
       "3777             23.0       7140101  \n",
       "3778            670.0       7140101  \n",
       "2208            685.0       7140101  \n",
       "...               ...           ...  \n",
       "2108             16.0       7850201  \n",
       "447              27.0       7850201  \n",
       "3693             18.0       7850201  \n",
       "3169             26.0       7850201  \n",
       "1686            650.0       7850201  \n",
       "\n",
       "[3832 rows x 9 columns]"
      ]
     },
     "execution_count": 164,
     "metadata": {},
     "output_type": "execute_result"
    }
   ],
   "source": [
    "df.sort_values('major_code_y')"
   ]
  }
 ],
 "metadata": {
  "kernelspec": {
   "display_name": "Python 3",
   "language": "python",
   "name": "python3"
  },
  "language_info": {
   "codemirror_mode": {
    "name": "ipython",
    "version": 3
   },
   "file_extension": ".py",
   "mimetype": "text/x-python",
   "name": "python",
   "nbconvert_exporter": "python",
   "pygments_lexer": "ipython3",
   "version": "3.10.2"
  }
 },
 "nbformat": 4,
 "nbformat_minor": 5
}
